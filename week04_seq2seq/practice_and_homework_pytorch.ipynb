{
 "cells": [
  {
   "cell_type": "markdown",
   "metadata": {
    "colab_type": "text",
    "id": "HmsFABwClrsS"
   },
   "source": [
    "## Seminar and homework (10 points total)\n",
    "\n",
    "Today we shall compose encoder-decoder neural networks and apply them to the task of machine translation.\n",
    "\n",
    "![img](https://esciencegroup.files.wordpress.com/2016/03/seq2seq.jpg)\n",
    "_(img: esciencegroup.files.wordpress.com)_\n",
    "\n",
    "\n",
    "Encoder-decoder architectures are about converting anything to anything, including\n",
    " * Machine translation and spoken dialogue systems\n",
    " * [Image captioning](http://mscoco.org/dataset/#captions-challenge2015) and [image2latex](https://openai.com/requests-for-research/#im2latex) (convolutional encoder, recurrent decoder)\n",
    " * Generating [images by captions](https://arxiv.org/abs/1511.02793) (recurrent encoder, convolutional decoder)\n",
    " * Grapheme2phoneme - convert words to transcripts"
   ]
  },
  {
   "cell_type": "markdown",
   "metadata": {
    "colab_type": "text",
    "id": "R4N9AD2dlrsU"
   },
   "source": [
    "## Our task: machine translation\n",
    "\n",
    "We gonna try our encoder-decoder models on russian to english machine translation problem. More specifically, we'll translate hotel and hostel descriptions. This task shows the scale of machine translation while not requiring you to train your model for weeks if you don't use GPU.\n",
    "\n",
    "Before we get to the architecture, there's some preprocessing to be done. ~~Go tokenize~~ Alright, this time we've done preprocessing for you. As usual, the data will be tokenized with WordPunctTokenizer.\n",
    "\n",
    "However, there's one more thing to do. Our data lines contain unique rare words. If we operate on a word level, we will have to deal with large vocabulary size. If instead we use character-level models, it would take lots of iterations to process a sequence. This time we're gonna pick something inbetween.\n",
    "\n",
    "One popular approach is called [Byte Pair Encoding](https://github.com/rsennrich/subword-nmt) aka __BPE__. The algorithm starts with a character-level tokenization and then iteratively merges most frequent pairs for N iterations. This results in frequent words being merged into a single token and rare words split into syllables or even characters.\n",
    "\n"
   ]
  },
  {
   "cell_type": "code",
   "execution_count": null,
   "metadata": {
    "colab": {},
    "colab_type": "code",
    "id": "CfvojjHQlrsU"
   },
   "outputs": [],
   "source": [
    "!pip3 install torch>=1.3.0\n",
    "!wget https://www.dropbox.com/s/yy2zqh34dyhv07i/data.txt?dl=1 -O data.txt\n",
    "!wget https://raw.githubusercontent.com/yandexdataschool/nlp_course/2020/week04_seq2seq/vocab.py -O vocab.py\n",
    "# thanks to tilda and deephack teams for the data, Dmitry Emelyanenko for the code :)"
   ]
  },
  {
   "cell_type": "code",
   "execution_count": 1,
   "metadata": {
    "execution": {
     "iopub.execute_input": "2024-10-14T12:51:51.063557Z",
     "iopub.status.busy": "2024-10-14T12:51:51.062701Z",
     "iopub.status.idle": "2024-10-14T12:51:54.403766Z",
     "shell.execute_reply": "2024-10-14T12:51:54.402910Z",
     "shell.execute_reply.started": "2024-10-14T12:51:51.063511Z"
    }
   },
   "outputs": [
    {
     "name": "stderr",
     "output_type": "stream",
     "text": [
      "--2024-10-14 12:51:51--  https://www.dropbox.com/s/yy2zqh34dyhv07i/data.txt?dl=1\n",
      "Resolving www.dropbox.com (www.dropbox.com)... 162.125.66.18, 2620:100:6027:18::a27d:4812\n",
      "Connecting to www.dropbox.com (www.dropbox.com)|162.125.66.18|:443... connected.\n",
      "HTTP request sent, awaiting response... 302 Found\n",
      "Location: https://www.dropbox.com/scl/fi/mw8tdyetqboqwkn5ma886/data.txt?rlkey=t9fmsizx27ikh0vak0ir265a6&dl=1 [following]\n",
      "--2024-10-14 12:51:51--  https://www.dropbox.com/scl/fi/mw8tdyetqboqwkn5ma886/data.txt?rlkey=t9fmsizx27ikh0vak0ir265a6&dl=1\n",
      "Reusing existing connection to www.dropbox.com:443.\n",
      "HTTP request sent, awaiting response... 302 Found\n",
      "Location: https://uc4796ac6cf5451c5058dcd47e83.dl.dropboxusercontent.com/cd/0/inline/CcazC5XcoJmUqBjDT_3403C441yErmj8z9mD4YXGqOBSXx9uzg5SiDi0idtsZAZY3uLZl7o168MHPniL8zWMWeb3UAyQHbUemdDMnE6lKGBsD6aaCcwCrkv6UsC1InfVjPk/file?dl=1# [following]\n",
      "--2024-10-14 12:51:52--  https://uc4796ac6cf5451c5058dcd47e83.dl.dropboxusercontent.com/cd/0/inline/CcazC5XcoJmUqBjDT_3403C441yErmj8z9mD4YXGqOBSXx9uzg5SiDi0idtsZAZY3uLZl7o168MHPniL8zWMWeb3UAyQHbUemdDMnE6lKGBsD6aaCcwCrkv6UsC1InfVjPk/file?dl=1\n",
      "Resolving uc4796ac6cf5451c5058dcd47e83.dl.dropboxusercontent.com (uc4796ac6cf5451c5058dcd47e83.dl.dropboxusercontent.com)... 162.125.66.15, 2620:100:6022:15::a27d:420f\n",
      "Connecting to uc4796ac6cf5451c5058dcd47e83.dl.dropboxusercontent.com (uc4796ac6cf5451c5058dcd47e83.dl.dropboxusercontent.com)|162.125.66.15|:443... connected.\n",
      "HTTP request sent, awaiting response... 200 OK\n",
      "Length: 12905335 (12M) [application/binary]\n",
      "Saving to: ‘data.txt’\n",
      "\n",
      "     0K .......... .......... .......... .......... ..........  0%  662K 19s\n",
      "    50K .......... .......... .......... .......... ..........  0% 1.61M 13s\n",
      "   100K .......... .......... .......... .......... ..........  1% 2.59M 10s\n",
      "   150K .......... .......... .......... .......... ..........  1% 3.43M 9s\n",
      "   200K .......... .......... .......... .......... ..........  1% 3.88M 7s\n",
      "   250K .......... .......... .......... .......... ..........  2% 4.94M 7s\n",
      "   300K .......... .......... .......... .......... ..........  2% 5.72M 6s\n",
      "   350K .......... .......... .......... .......... ..........  3% 7.70M 5s\n",
      "   400K .......... .......... .......... .......... ..........  3% 6.14M 5s\n",
      "   450K .......... .......... .......... .......... ..........  3% 9.70M 5s\n",
      "   500K .......... .......... .......... .......... ..........  4% 9.89M 4s\n",
      "   550K .......... .......... .......... .......... ..........  4% 10.4M 4s\n",
      "   600K .......... .......... .......... .......... ..........  5% 9.99M 4s\n",
      "   650K .......... .......... .......... .......... ..........  5% 12.5M 4s\n",
      "   700K .......... .......... .......... .......... ..........  5% 15.7M 3s\n",
      "   750K .......... .......... .......... .......... ..........  6% 12.5M 3s\n",
      "   800K .......... .......... .......... .......... ..........  6% 10.1M 3s\n",
      "   850K .......... .......... .......... .......... ..........  7% 22.5M 3s\n",
      "   900K .......... .......... .......... .......... ..........  7% 16.7M 3s\n",
      "   950K .......... .......... .......... .......... ..........  7% 18.5M 3s\n",
      "  1000K .......... .......... .......... .......... ..........  8% 16.8M 3s\n",
      "  1050K .......... .......... .......... .......... ..........  8% 21.1M 2s\n",
      "  1100K .......... .......... .......... .......... ..........  9% 20.0M 2s\n",
      "  1150K .......... .......... .......... .......... ..........  9% 25.9M 2s\n",
      "  1200K .......... .......... .......... .......... ..........  9% 17.4M 2s\n",
      "  1250K .......... .......... .......... .......... .......... 10% 26.1M 2s\n",
      "  1300K .......... .......... .......... .......... .......... 10% 26.2M 2s\n",
      "  1350K .......... .......... .......... .......... .......... 11% 21.2M 2s\n",
      "  1400K .......... .......... .......... .......... .......... 11% 28.0M 2s\n",
      "  1450K .......... .......... .......... .......... .......... 11% 26.7M 2s\n",
      "  1500K .......... .......... .......... .......... .......... 12% 30.2M 2s\n",
      "  1550K .......... .......... .......... .......... .......... 12% 24.8M 2s\n",
      "  1600K .......... .......... .......... .......... .......... 13% 24.7M 2s\n",
      "  1650K .......... .......... .......... .......... .......... 13% 35.6M 2s\n",
      "  1700K .......... .......... .......... .......... .......... 13% 25.4M 2s\n",
      "  1750K .......... .......... .......... .......... .......... 14% 46.2M 2s\n",
      "  1800K .......... .......... .......... .......... .......... 14% 29.6M 2s\n",
      "  1850K .......... .......... .......... .......... .......... 15% 43.1M 1s\n",
      "  1900K .......... .......... .......... .......... .......... 15% 27.0M 1s\n",
      "  1950K .......... .......... .......... .......... .......... 15% 52.3M 1s\n",
      "  2000K .......... .......... .......... .......... .......... 16% 27.1M 1s\n",
      "  2050K .......... .......... .......... .......... .......... 16% 67.1M 1s\n",
      "  2100K .......... .......... .......... .......... .......... 17% 20.8M 1s\n",
      "  2150K .......... .......... .......... .......... .......... 17% 47.7M 1s\n",
      "  2200K .......... .......... .......... .......... .......... 17% 44.0M 1s\n",
      "  2250K .......... .......... .......... .......... .......... 18% 47.3M 1s\n",
      "  2300K .......... .......... .......... .......... .......... 18% 51.2M 1s\n",
      "  2350K .......... .......... .......... .......... .......... 19% 28.2M 1s\n",
      "  2400K .......... .......... .......... .......... .......... 19% 43.8M 1s\n",
      "  2450K .......... .......... .......... .......... .......... 19% 52.5M 1s\n",
      "  2500K .......... .......... .......... .......... .......... 20% 81.6M 1s\n",
      "  2550K .......... .......... .......... .......... .......... 20% 33.4M 1s\n",
      "  2600K .......... .......... .......... .......... .......... 21% 30.5M 1s\n",
      "  2650K .......... .......... .......... .......... .......... 21%  191M 1s\n",
      "  2700K .......... .......... .......... .......... .......... 21% 55.8M 1s\n",
      "  2750K .......... .......... .......... .......... .......... 22% 37.3M 1s\n",
      "  2800K .......... .......... .......... .......... .......... 22% 37.9M 1s\n",
      "  2850K .......... .......... .......... .......... .......... 23% 62.7M 1s\n",
      "  2900K .......... .......... .......... .......... .......... 23% 59.2M 1s\n",
      "  2950K .......... .......... .......... .......... .......... 23% 69.8M 1s\n",
      "  3000K .......... .......... .......... .......... .......... 24% 33.6M 1s\n",
      "  3050K .......... .......... .......... .......... .......... 24% 57.3M 1s\n",
      "  3100K .......... .......... .......... .......... .......... 24%  107M 1s\n",
      "  3150K .......... .......... .......... .......... .......... 25% 86.2M 1s\n",
      "  3200K .......... .......... .......... .......... .......... 25% 42.3M 1s\n",
      "  3250K .......... .......... .......... .......... .......... 26% 39.4M 1s\n",
      "  3300K .......... .......... .......... .......... .......... 26% 63.8M 1s\n",
      "  3350K .......... .......... .......... .......... .......... 26%  438M 1s\n",
      "  3400K .......... .......... .......... .......... .......... 27% 74.2M 1s\n",
      "  3450K .......... .......... .......... .......... .......... 27% 33.0M 1s\n",
      "  3500K .......... .......... .......... .......... .......... 28% 60.0M 1s\n",
      "  3550K .......... .......... .......... .......... .......... 28%  536M 1s\n",
      "  3600K .......... .......... .......... .......... .......... 28% 72.2M 1s\n",
      "  3650K .......... .......... .......... .......... .......... 29% 63.4M 1s\n",
      "  3700K .......... .......... .......... .......... .......... 29% 56.1M 1s\n",
      "  3750K .......... .......... .......... .......... .......... 30% 75.2M 1s\n",
      "  3800K .......... .......... .......... .......... .......... 30% 61.7M 1s\n",
      "  3850K .......... .......... .......... .......... .......... 30%  116M 1s\n",
      "  3900K .......... .......... .......... .......... .......... 31% 63.7M 1s\n",
      "  3950K .......... .......... .......... .......... .......... 31% 54.9M 1s\n",
      "  4000K .......... .......... .......... .......... .......... 32% 54.1M 1s\n",
      "  4050K .......... .......... .......... .......... .......... 32% 88.9M 1s\n",
      "  4100K .......... .......... .......... .......... .......... 32%  138M 1s\n",
      "  4150K .......... .......... .......... .......... .......... 33% 92.1M 1s\n",
      "  4200K .......... .......... .......... .......... .......... 33% 40.0M 1s\n",
      "  4250K .......... .......... .......... .......... .......... 34% 73.1M 1s\n",
      "  4300K .......... .......... .......... .......... .......... 34%  141M 1s\n",
      "  4350K .......... .......... .......... .......... .......... 34% 75.5M 1s\n",
      "  4400K .......... .......... .......... .......... .......... 35% 96.3M 1s\n",
      "  4450K .......... .......... .......... .......... .......... 35% 53.0M 1s\n",
      "  4500K .......... .......... .......... .......... .......... 36% 46.2M 1s\n",
      "  4550K .......... .......... .......... .......... .......... 36%  187M 1s\n",
      "  4600K .......... .......... .......... .......... .......... 36%  176M 1s\n",
      "  4650K .......... .......... .......... .......... .......... 37% 78.4M 1s\n",
      "  4700K .......... .......... .......... .......... .......... 37% 61.4M 1s\n",
      "  4750K .......... .......... .......... .......... .......... 38%  528M 1s\n",
      "  4800K .......... .......... .......... .......... .......... 38% 63.0M 1s\n",
      "  4850K .......... .......... .......... .......... .......... 38% 56.2M 0s\n",
      "  4900K .......... .......... .......... .......... .......... 39%  225M 0s\n",
      "  4950K .......... .......... .......... .......... .......... 39% 61.5M 0s\n",
      "  5000K .......... .......... .......... .......... .......... 40%  309M 0s\n",
      "  5050K .......... .......... .......... .......... .......... 40% 47.4M 0s\n",
      "  5100K .......... .......... .......... .......... .......... 40%  285M 0s\n",
      "  5150K .......... .......... .......... .......... .......... 41% 59.1M 0s\n",
      "  5200K .......... .......... .......... .......... .......... 41% 66.4M 0s\n",
      "  5250K .......... .......... .......... .......... .......... 42%  471M 0s\n",
      "  5300K .......... .......... .......... .......... .......... 42% 37.3M 0s\n",
      "  5350K .......... .......... .......... .......... .......... 42%  416M 0s\n",
      "  5400K .......... .......... .......... .......... .......... 43%  225M 0s\n",
      "  5450K .......... .......... .......... .......... .......... 43%  159M 0s\n",
      "  5500K .......... .......... .......... .......... .......... 44% 42.8M 0s\n",
      "  5550K .......... .......... .......... .......... .......... 44%  251M 0s\n",
      "  5600K .......... .......... .......... .......... .......... 44%  102M 0s\n",
      "  5650K .......... .......... .......... .......... .......... 45% 64.2M 0s\n",
      "  5700K .......... .......... .......... .......... .......... 45%  352M 0s\n",
      "  5750K .......... .......... .......... .......... .......... 46%  166M 0s\n",
      "  5800K .......... .......... .......... .......... .......... 46% 42.8M 0s\n",
      "  5850K .......... .......... .......... .......... .......... 46% 79.8M 0s\n",
      "  5900K .......... .......... .......... .......... .......... 47%  369M 0s\n",
      "  5950K .......... .......... .......... .......... .......... 47%  395M 0s\n",
      "  6000K .......... .......... .......... .......... .......... 48% 51.0M 0s\n",
      "  6050K .......... .......... .......... .......... .......... 48%  125M 0s\n",
      "  6100K .......... .......... .......... .......... .......... 48% 65.6M 0s\n",
      "  6150K .......... .......... .......... .......... .......... 49% 38.2M 0s\n",
      "  6200K .......... .......... .......... .......... .......... 49% 59.8M 0s\n",
      "  6250K .......... .......... .......... .......... .......... 49%  411M 0s\n",
      "  6300K .......... .......... .......... .......... .......... 50% 32.4M 0s\n",
      "  6350K .......... .......... .......... .......... .......... 50%  118M 0s\n",
      "  6400K .......... .......... .......... .......... .......... 51% 25.2M 0s\n",
      "  6450K .......... .......... .......... .......... .......... 51%  247M 0s\n",
      "  6500K .......... .......... .......... .......... .......... 51%  105M 0s\n",
      "  6550K .......... .......... .......... .......... .......... 52%  151M 0s\n",
      "  6600K .......... .......... .......... .......... .......... 52% 68.0M 0s\n",
      "  6650K .......... .......... .......... .......... .......... 53% 52.2M 0s\n",
      "  6700K .......... .......... .......... .......... .......... 53%  277M 0s\n",
      "  6750K .......... .......... .......... .......... .......... 53% 42.5M 0s\n",
      "  6800K .......... .......... .......... .......... .......... 54% 54.0M 0s\n",
      "  6850K .......... .......... .......... .......... .......... 54% 79.9M 0s\n",
      "  6900K .......... .......... .......... .......... .......... 55%  122M 0s\n",
      "  6950K .......... .......... .......... .......... .......... 55%  168M 0s\n",
      "  7000K .......... .......... .......... .......... .......... 55% 45.0M 0s\n",
      "  7050K .......... .......... .......... .......... .......... 56% 45.1M 0s\n",
      "  7100K .......... .......... .......... .......... .......... 56% 97.7M 0s\n",
      "  7150K .......... .......... .......... .......... .......... 57%  257M 0s\n",
      "  7200K .......... .......... .......... .......... .......... 57%  104M 0s\n",
      "  7250K .......... .......... .......... .......... .......... 57% 35.6M 0s\n",
      "  7300K .......... .......... .......... .......... .......... 58% 55.8M 0s\n",
      "  7350K .......... .......... .......... .......... .......... 58% 95.1M 0s\n",
      "  7400K .......... .......... .......... .......... .......... 59%  240M 0s\n",
      "  7450K .......... .......... .......... .......... .......... 59% 59.5M 0s\n",
      "  7500K .......... .......... .......... .......... .......... 59%  157M 0s\n",
      "  7550K .......... .......... .......... .......... .......... 60% 35.0M 0s\n",
      "  7600K .......... .......... .......... .......... .......... 60% 98.8M 0s\n",
      "  7650K .......... .......... .......... .......... .......... 61%  125M 0s\n",
      "  7700K .......... .......... .......... .......... .......... 61% 80.2M 0s\n",
      "  7750K .......... .......... .......... .......... .......... 61%  175M 0s\n",
      "  7800K .......... .......... .......... .......... .......... 62% 35.5M 0s\n",
      "  7850K .......... .......... .......... .......... .......... 62%  239M 0s\n",
      "  7900K .......... .......... .......... .......... .......... 63% 97.4M 0s\n",
      "  7950K .......... .......... .......... .......... .......... 63%  804K 0s\n",
      "  8000K .......... .......... .......... .......... .......... 63%  241M 0s\n",
      "  8050K .......... .......... .......... .......... .......... 64%  277M 0s\n",
      "  8100K .......... .......... .......... .......... .......... 64%  158M 0s\n",
      "  8150K .......... .......... .......... .......... .......... 65%  236M 0s\n",
      "  8200K .......... .......... .......... .......... .......... 65%  111M 0s\n",
      "  8250K .......... .......... .......... .......... .......... 65% 95.3M 0s\n",
      "  8300K .......... .......... .......... .......... .......... 66%  367M 0s\n",
      "  8350K .......... .......... .......... .......... .......... 66% 74.1M 0s\n",
      "  8400K .......... .......... .......... .......... .......... 67%  126M 0s\n",
      "  8450K .......... .......... .......... .......... .......... 67%  102M 0s\n",
      "  8500K .......... .......... .......... .......... .......... 67%  284M 0s\n",
      "  8550K .......... .......... .......... .......... .......... 68%  124M 0s\n",
      "  8600K .......... .......... .......... .......... .......... 68% 90.6M 0s\n",
      "  8650K .......... .......... .......... .......... .......... 69%  111M 0s\n",
      "  8700K .......... .......... .......... .......... .......... 69%  261M 0s\n",
      "  8750K .......... .......... .......... .......... .......... 69% 64.1M 0s\n",
      "  8800K .......... .......... .......... .......... .......... 70% 80.8M 0s\n",
      "  8850K .......... .......... .......... .......... .......... 70%  196M 0s\n",
      "  8900K .......... .......... .......... .......... .......... 71%  211M 0s\n",
      "  8950K .......... .......... .......... .......... .......... 71% 94.4M 0s\n",
      "  9000K .......... .......... .......... .......... .......... 71%  182M 0s\n",
      "  9050K .......... .......... .......... .......... .......... 72% 98.7M 0s\n",
      "  9100K .......... .......... .......... .......... .......... 72% 94.9M 0s\n",
      "  9150K .......... .......... .......... .......... .......... 72% 78.6M 0s\n",
      "  9200K .......... .......... .......... .......... .......... 73%  125M 0s\n",
      "  9250K .......... .......... .......... .......... .......... 73%  144M 0s\n",
      "  9300K .......... .......... .......... .......... .......... 74%  188M 0s\n",
      "  9350K .......... .......... .......... .......... .......... 74%  138M 0s\n",
      "  9400K .......... .......... .......... .......... .......... 74% 83.6M 0s\n",
      "  9450K .......... .......... .......... .......... .......... 75%  350M 0s\n",
      "  9500K .......... .......... .......... .......... .......... 75% 88.2M 0s\n",
      "  9550K .......... .......... .......... .......... .......... 76% 58.7M 0s\n",
      "  9600K .......... .......... .......... .......... .......... 76%  368M 0s\n",
      "  9650K .......... .......... .......... .......... .......... 76% 95.2M 0s\n",
      "  9700K .......... .......... .......... .......... .......... 77% 67.7M 0s\n",
      "  9750K .......... .......... .......... .......... .......... 77%  154M 0s\n",
      "  9800K .......... .......... .......... .......... .......... 78%  399M 0s\n",
      "  9850K .......... .......... .......... .......... .......... 78%  197M 0s\n",
      "  9900K .......... .......... .......... .......... .......... 78%  144M 0s\n",
      "  9950K .......... .......... .......... .......... .......... 79% 56.6M 0s\n",
      " 10000K .......... .......... .......... .......... .......... 79%  279M 0s\n",
      " 10050K .......... .......... .......... .......... .......... 80%  137M 0s\n",
      " 10100K .......... .......... .......... .......... .......... 80% 82.2M 0s\n",
      " 10150K .......... .......... .......... .......... .......... 80%  129M 0s\n",
      " 10200K .......... .......... .......... .......... .......... 81%  361M 0s\n",
      " 10250K .......... .......... .......... .......... .......... 81% 40.8M 0s\n",
      " 10300K .......... .......... .......... .......... .......... 82%  177M 0s\n",
      " 10350K .......... .......... .......... .......... .......... 82% 74.3M 0s\n",
      " 10400K .......... .......... .......... .......... .......... 82%  194M 0s\n",
      " 10450K .......... .......... .......... .......... .......... 83%  162M 0s\n",
      " 10500K .......... .......... .......... .......... .......... 83%  311M 0s\n",
      " 10550K .......... .......... .......... .......... .......... 84%  267M 0s\n",
      " 10600K .......... .......... .......... .......... .......... 84%  108M 0s\n",
      " 10650K .......... .......... .......... .......... .......... 84%  197M 0s\n",
      " 10700K .......... .......... .......... .......... .......... 85%  160M 0s\n",
      " 10750K .......... .......... .......... .......... .......... 85%  115M 0s\n",
      " 10800K .......... .......... .......... .......... .......... 86%  101M 0s\n",
      " 10850K .......... .......... .......... .......... .......... 86% 90.7M 0s\n",
      " 10900K .......... .......... .......... .......... .......... 86%  101M 0s\n",
      " 10950K .......... .......... .......... .......... .......... 87% 46.1M 0s\n",
      " 11000K .......... .......... .......... .......... .......... 87% 3.83M 0s\n",
      " 11050K .......... .......... .......... .......... .......... 88% 86.9M 0s\n",
      " 11100K .......... .......... .......... .......... .......... 88%  507M 0s\n",
      " 11150K .......... .......... .......... .......... .......... 88%  135M 0s\n",
      " 11200K .......... .......... .......... .......... .......... 89%  106M 0s\n",
      " 11250K .......... .......... .......... .......... .......... 89%  133M 0s\n",
      " 11300K .......... .......... .......... .......... .......... 90%  226M 0s\n",
      " 11350K .......... .......... .......... .......... .......... 90%  218M 0s\n",
      " 11400K .......... .......... .......... .......... .......... 90% 79.4M 0s\n",
      " 11450K .......... .......... .......... .......... .......... 91%  183M 0s\n",
      " 11500K .......... .......... .......... .......... .......... 91% 93.6M 0s\n",
      " 11550K .......... .......... .......... .......... .......... 92% 81.6M 0s\n",
      " 11600K .......... .......... .......... .......... .......... 92%  269M 0s\n",
      " 11650K .......... .......... .......... .......... .......... 92% 47.9M 0s\n",
      " 11700K .......... .......... .......... .......... .......... 93%  154M 0s\n",
      " 11750K .......... .......... .......... .......... .......... 93%  206M 0s\n",
      " 11800K .......... .......... .......... .......... .......... 94%  206M 0s\n",
      " 11850K .......... .......... .......... .......... .......... 94% 61.0M 0s\n",
      " 11900K .......... .......... .......... .......... .......... 94%  344M 0s\n",
      " 11950K .......... .......... .......... .......... .......... 95%  102M 0s\n",
      " 12000K .......... .......... .......... .......... .......... 95%  494M 0s\n",
      " 12050K .......... .......... .......... .......... .......... 96%  686K 0s\n",
      " 12100K .......... .......... .......... .......... .......... 96%  238M 0s\n",
      " 12150K .......... .......... .......... .......... .......... 96%  288M 0s\n",
      " 12200K .......... .......... .......... .......... .......... 97%  303M 0s\n",
      " 12250K .......... .......... .......... .......... .......... 97%  313M 0s\n",
      " 12300K .......... .......... .......... .......... .......... 97%  331M 0s\n",
      " 12350K .......... .......... .......... .......... .......... 98%  208M 0s\n",
      " 12400K .......... .......... .......... .......... .......... 98%  199M 0s\n",
      " 12450K .......... .......... .......... .......... .......... 99%  308M 0s\n",
      " 12500K .......... .......... .......... .......... .......... 99%  346M 0s\n",
      " 12550K .......... .......... .......... .......... .......... 99%  376M 0s\n",
      " 12600K ..                                                    100% 5.34T=0.5s\n",
      "\n",
      "2024-10-14 12:51:53 (23.0 MB/s) - ‘data.txt’ saved [12905335/12905335]\n",
      "\n",
      "--2024-10-14 12:51:54--  https://raw.githubusercontent.com/yandexdataschool/nlp_course/2020/week04_seq2seq/vocab.py\n",
      "Resolving raw.githubusercontent.com (raw.githubusercontent.com)... 185.199.110.133, 185.199.111.133, 185.199.108.133, ...\n",
      "Connecting to raw.githubusercontent.com (raw.githubusercontent.com)|185.199.110.133|:443... connected.\n",
      "HTTP request sent, awaiting response... 200 OK\n",
      "Length: 2879 (2.8K) [text/plain]\n",
      "Saving to: ‘vocab.py’\n",
      "\n",
      "     0K ..                                                    100% 55.7M=0s\n",
      "\n",
      "2024-10-14 12:51:54 (55.7 MB/s) - ‘vocab.py’ saved [2879/2879]\n",
      "\n"
     ]
    }
   ],
   "source": [
    "!wget https://www.dropbox.com/s/yy2zqh34dyhv07i/data.txt?dl=1 -O data.txt\n",
    "!wget https://raw.githubusercontent.com/yandexdataschool/nlp_course/2020/week04_seq2seq/vocab.py -O vocab.py"
   ]
  },
  {
   "cell_type": "code",
   "execution_count": 8,
   "metadata": {
    "execution": {
     "iopub.execute_input": "2024-10-14T12:57:51.163360Z",
     "iopub.status.busy": "2024-10-14T12:57:51.162004Z",
     "iopub.status.idle": "2024-10-14T12:57:55.562671Z",
     "shell.execute_reply": "2024-10-14T12:57:55.561751Z",
     "shell.execute_reply.started": "2024-10-14T12:57:51.163307Z"
    },
    "tags": []
   },
   "outputs": [
    {
     "name": "stdout",
     "output_type": "stream",
     "text": [
      "Defaulting to user installation because normal site-packages is not writeable\n",
      "Collecting subword-nmt\n",
      "  Using cached subword_nmt-0.3.8-py3-none-any.whl.metadata (9.2 kB)\n",
      "Collecting mock (from subword-nmt)\n",
      "  Downloading mock-5.1.0-py3-none-any.whl.metadata (3.0 kB)\n",
      "Requirement already satisfied: tqdm in /usr/local/lib/python3.10/dist-packages (from subword-nmt) (4.65.0)\n",
      "Downloading subword_nmt-0.3.8-py3-none-any.whl (27 kB)\n",
      "Downloading mock-5.1.0-py3-none-any.whl (30 kB)\n",
      "Installing collected packages: mock, subword-nmt\n",
      "\u001b[33m  WARNING: The script subword-nmt is installed in '/home/jupyter/.local/bin' which is not on PATH.\n",
      "  Consider adding this directory to PATH or, if you prefer to suppress this warning, use --no-warn-script-location.\u001b[0m\u001b[33m\n",
      "\u001b[0mSuccessfully installed mock-5.1.0 subword-nmt-0.3.8\n",
      "\n",
      "\u001b[1m[\u001b[0m\u001b[34;49mnotice\u001b[0m\u001b[1;39;49m]\u001b[0m\u001b[39;49m A new release of pip is available: \u001b[0m\u001b[31;49m23.0.1\u001b[0m\u001b[39;49m -> \u001b[0m\u001b[32;49m24.2\u001b[0m\n",
      "\u001b[1m[\u001b[0m\u001b[34;49mnotice\u001b[0m\u001b[1;39;49m]\u001b[0m\u001b[39;49m To update, run: \u001b[0m\u001b[32;49mpython3 -m pip install --upgrade pip\u001b[0m\n"
     ]
    }
   ],
   "source": [
    "%pip install subword-nmt\n"
   ]
  },
  {
   "cell_type": "code",
   "execution_count": 1,
   "metadata": {
    "colab": {},
    "colab_type": "code",
    "execution": {
     "iopub.execute_input": "2024-10-15T15:12:40.941932Z",
     "iopub.status.busy": "2024-10-15T15:12:40.940584Z",
     "iopub.status.idle": "2024-10-15T15:13:07.382926Z",
     "shell.execute_reply": "2024-10-15T15:13:07.382051Z",
     "shell.execute_reply.started": "2024-10-15T15:12:40.941884Z"
    },
    "id": "g9kP0SdxlrsY",
    "tags": []
   },
   "outputs": [
    {
     "name": "stderr",
     "output_type": "stream",
     "text": [
      "100%|██████████| 8000/8000 [00:08<00:00, 963.58it/s] \n",
      "100%|██████████| 8000/8000 [00:08<00:00, 946.85it/s] \n"
     ]
    }
   ],
   "source": [
    "from nltk.tokenize import WordPunctTokenizer\n",
    "from subword_nmt.learn_bpe import learn_bpe\n",
    "from subword_nmt.apply_bpe import BPE\n",
    "tokenizer = WordPunctTokenizer()\n",
    "def tokenize(x):\n",
    "    return ' '.join(tokenizer.tokenize(x.lower()))\n",
    "\n",
    "# split and tokenize the data\n",
    "with open('train.en', 'w') as f_src,  open('train.ru', 'w') as f_dst:\n",
    "    for line in open('data.txt'):\n",
    "        src_line, dst_line = line.strip().split('\\t')\n",
    "        f_src.write(tokenize(src_line) + '\\n')\n",
    "        f_dst.write(tokenize(dst_line) + '\\n')\n",
    "\n",
    "# build and apply bpe vocs\n",
    "bpe = {}\n",
    "for lang in ['en', 'ru']:\n",
    "    learn_bpe(open('./train.' + lang), open('bpe_rules.' + lang, 'w'), num_symbols=8000)\n",
    "    bpe[lang] = BPE(open('./bpe_rules.' + lang))\n",
    "    \n",
    "    with open('train.bpe.' + lang, 'w') as f_out:\n",
    "        for line in open('train.' + lang):\n",
    "            f_out.write(bpe[lang].process_line(line.strip()) + '\\n')"
   ]
  },
  {
   "cell_type": "markdown",
   "metadata": {
    "colab_type": "text",
    "id": "0UPW3sV8lrsb"
   },
   "source": [
    "### Building vocabularies\n",
    "\n",
    "We now need to build vocabularies that map strings to token ids and vice versa. We're gonna need these fellas when we feed training data into model or convert output matrices into words."
   ]
  },
  {
   "cell_type": "code",
   "execution_count": 2,
   "metadata": {
    "colab": {},
    "colab_type": "code",
    "execution": {
     "iopub.execute_input": "2024-10-15T15:13:07.385451Z",
     "iopub.status.busy": "2024-10-15T15:13:07.384545Z",
     "iopub.status.idle": "2024-10-15T15:13:07.413121Z",
     "shell.execute_reply": "2024-10-15T15:13:07.412177Z",
     "shell.execute_reply.started": "2024-10-15T15:13:07.385412Z"
    },
    "id": "CmTy_m_olrsb",
    "tags": []
   },
   "outputs": [],
   "source": [
    "import numpy as np\n",
    "import matplotlib.pyplot as plt\n",
    "%matplotlib inline"
   ]
  },
  {
   "cell_type": "code",
   "execution_count": 3,
   "metadata": {
    "colab": {},
    "colab_type": "code",
    "execution": {
     "iopub.execute_input": "2024-10-15T15:13:07.414906Z",
     "iopub.status.busy": "2024-10-15T15:13:07.414362Z",
     "iopub.status.idle": "2024-10-15T15:13:07.740816Z",
     "shell.execute_reply": "2024-10-15T15:13:07.739933Z",
     "shell.execute_reply.started": "2024-10-15T15:13:07.414870Z"
    },
    "id": "8PskgBSxlrsd",
    "tags": []
   },
   "outputs": [
    {
     "name": "stdout",
     "output_type": "stream",
     "text": [
      "inp: на территории обустроена бесплатная частная парковка .\n",
      "out: free private parking is available on site .\n",
      "\n",
      "inp: кроме того , в 5 минутах ходьбы работают многочисленные бары и рестораны .\n",
      "out: guests can find many bars and restaurants within a 5 - minute walk .\n",
      "\n",
      "inp: отель san mi@@ gu@@ el расположен в центре мор@@ ели@@ и , в 750 метрах от главной площади города и кафедрального собора .\n",
      "out: hotel san miguel is located in central more@@ lia , 750 metres from the city ’ s main square and cathedral .\n",
      "\n"
     ]
    }
   ],
   "source": [
    "data_inp = np.array(open('./train.bpe.ru').read().split('\\n'))\n",
    "data_out = np.array(open('./train.bpe.en').read().split('\\n'))\n",
    "\n",
    "from sklearn.model_selection import train_test_split\n",
    "train_inp, dev_inp, train_out, dev_out = train_test_split(data_inp, data_out, test_size=3000,\n",
    "                                                          random_state=42)\n",
    "for i in range(3):\n",
    "    print('inp:', train_inp[i])\n",
    "    print('out:', train_out[i], end='\\n\\n')"
   ]
  },
  {
   "cell_type": "code",
   "execution_count": 4,
   "metadata": {
    "colab": {},
    "colab_type": "code",
    "execution": {
     "iopub.execute_input": "2024-10-15T15:13:07.743141Z",
     "iopub.status.busy": "2024-10-15T15:13:07.742628Z",
     "iopub.status.idle": "2024-10-15T15:13:17.829669Z",
     "shell.execute_reply": "2024-10-15T15:13:17.828806Z",
     "shell.execute_reply.started": "2024-10-15T15:13:07.743104Z"
    },
    "id": "vipg4O61lrsg",
    "tags": []
   },
   "outputs": [],
   "source": [
    "from vocab import Vocab\n",
    "inp_voc = Vocab.from_lines(train_inp)\n",
    "out_voc = Vocab.from_lines(train_out)"
   ]
  },
  {
   "cell_type": "code",
   "execution_count": 5,
   "metadata": {
    "colab": {},
    "colab_type": "code",
    "execution": {
     "iopub.execute_input": "2024-10-15T15:13:17.832618Z",
     "iopub.status.busy": "2024-10-15T15:13:17.830707Z",
     "iopub.status.idle": "2024-10-15T15:13:18.107589Z",
     "shell.execute_reply": "2024-10-15T15:13:18.106675Z",
     "shell.execute_reply.started": "2024-10-15T15:13:17.832574Z"
    },
    "id": "cwOoHfuhlrsi",
    "tags": []
   },
   "outputs": [
    {
     "name": "stdout",
     "output_type": "stream",
     "text": [
      "lines\n",
      "['гостевой дом r .', 'до афин — 20 км .', 'работает боулинг .', 'оборудован балкон .', 'подключен wi - fi .']\n",
      "\n",
      "words to ids (0 = bos, 1 = eos):\n",
      "tensor([[   0, 2688, 2943, 1108,   29,    1,    1,    1],\n",
      "        [   0, 2922, 1834, 8035,   59, 3800,   29,    1],\n",
      "        [   0, 6030, 2083,   29,    1,    1,    1,    1],\n",
      "        [   0, 4927, 1870,   29,    1,    1,    1,    1],\n",
      "        [   0, 5549, 1453,   27,  592,   29,    1,    1]])\n",
      "\n",
      "back to words\n",
      "['гостевой дом r .', 'до афин — 20 км .', 'работает боулинг .', 'оборудован балкон .', 'подключен wi - fi .']\n"
     ]
    }
   ],
   "source": [
    "# Here's how you cast lines into ids and backwards.\n",
    "batch_lines = sorted(train_inp, key=len)[5:10]\n",
    "batch_ids = inp_voc.to_matrix(batch_lines)\n",
    "batch_lines_restored = inp_voc.to_lines(batch_ids)\n",
    "\n",
    "print(\"lines\")\n",
    "print(batch_lines)\n",
    "print(\"\\nwords to ids (0 = bos, 1 = eos):\")\n",
    "print(batch_ids)\n",
    "print(\"\\nback to words\")\n",
    "print(batch_lines_restored)"
   ]
  },
  {
   "cell_type": "markdown",
   "metadata": {
    "colab_type": "text",
    "id": "gSYu-MkElrsk"
   },
   "source": [
    "Draw source and translation length distributions to estimate the scope of the task."
   ]
  },
  {
   "cell_type": "code",
   "execution_count": 6,
   "metadata": {
    "colab": {},
    "colab_type": "code",
    "execution": {
     "iopub.execute_input": "2024-10-14T13:06:22.006191Z",
     "iopub.status.busy": "2024-10-14T13:06:22.005172Z",
     "iopub.status.idle": "2024-10-14T13:06:23.110726Z",
     "shell.execute_reply": "2024-10-14T13:06:23.109763Z",
     "shell.execute_reply.started": "2024-10-14T13:06:22.006144Z"
    },
    "id": "TLLl9cSNlrsl"
   },
   "outputs": [
    {
     "data": {
      "image/png": "[encoded data removed]",
      "text/plain": [
       "<Figure size 800x400 with 2 Axes>"
      ]
     },
     "metadata": {},
     "output_type": "display_data"
    }
   ],
   "source": [
    "plt.figure(figsize=[8, 4])\n",
    "plt.subplot(1, 2, 1)\n",
    "plt.title(\"source length\")\n",
    "plt.hist(list(map(len, map(str.split, train_inp))), bins=20);\n",
    "\n",
    "plt.subplot(1, 2, 2)\n",
    "plt.title(\"translation length\")\n",
    "plt.hist(list(map(len, map(str.split, train_out))), bins=20);"
   ]
  },
  {
   "cell_type": "markdown",
   "metadata": {
    "colab_type": "text",
    "id": "BHWgx34flrsn"
   },
   "source": [
    "### Encoder-decoder model\n",
    "\n",
    "The code below contains a template for a simple encoder-decoder model: single GRU encoder/decoder, no attention or anything. This model is implemented for you as a reference and a baseline for your homework assignment."
   ]
  },
  {
   "cell_type": "code",
   "execution_count": 6,
   "metadata": {
    "colab": {},
    "colab_type": "code",
    "execution": {
     "iopub.execute_input": "2024-10-15T15:13:18.109726Z",
     "iopub.status.busy": "2024-10-15T15:13:18.108587Z",
     "iopub.status.idle": "2024-10-15T15:13:18.253335Z",
     "shell.execute_reply": "2024-10-15T15:13:18.252384Z",
     "shell.execute_reply.started": "2024-10-15T15:13:18.109683Z"
    },
    "id": "pd_rDRm9lrso",
    "tags": []
   },
   "outputs": [],
   "source": [
    "import torch\n",
    "import torch.nn as nn\n",
    "import torch.nn.functional as F\n",
    "device = 'cuda' if torch.cuda.is_available() else 'cpu'"
   ]
  },
  {
   "cell_type": "code",
   "execution_count": 7,
   "metadata": {
    "colab": {},
    "colab_type": "code",
    "execution": {
     "iopub.execute_input": "2024-10-15T15:13:18.255371Z",
     "iopub.status.busy": "2024-10-15T15:13:18.254613Z",
     "iopub.status.idle": "2024-10-15T15:13:18.296486Z",
     "shell.execute_reply": "2024-10-15T15:13:18.295679Z",
     "shell.execute_reply.started": "2024-10-15T15:13:18.255331Z"
    },
    "id": "wgfN5-F7lrst",
    "tags": []
   },
   "outputs": [],
   "source": [
    "class BasicModel(nn.Module):\n",
    "    def __init__(self, inp_voc, out_voc, emb_size=64, hid_size=128):\n",
    "        \"\"\"\n",
    "        A simple encoder-decoder seq2seq model\n",
    "        \"\"\"\n",
    "        super().__init__() # initialize base class to track sub-layers, parameters, etc.\n",
    "\n",
    "        self.inp_voc, self.out_voc = inp_voc, out_voc\n",
    "        self.hid_size = hid_size\n",
    "        \n",
    "        self.emb_inp = nn.Embedding(len(inp_voc), emb_size)\n",
    "        self.emb_out = nn.Embedding(len(out_voc), emb_size)\n",
    "        self.enc0 = nn.GRU(emb_size, hid_size, batch_first=True)\n",
    "\n",
    "        self.dec_start = nn.Linear(hid_size, hid_size)\n",
    "        self.dec0 = nn.GRUCell(emb_size, hid_size)\n",
    "        self.logits = nn.Linear(hid_size, len(out_voc))\n",
    "        \n",
    "    def forward(self, inp, out):\n",
    "        \"\"\" Apply model in training mode \"\"\"\n",
    "        initial_state = self.encode(inp)\n",
    "        return self.decode(initial_state, out)\n",
    "\n",
    "\n",
    "    def encode(self, inp, **flags):\n",
    "        \"\"\"\n",
    "        Takes symbolic input sequence, computes initial state\n",
    "        :param inp: matrix of input tokens [batch, time]\n",
    "        :returns: initial decoder state tensors, one or many\n",
    "        \"\"\"\n",
    "        inp_emb = self.emb_inp(inp)\n",
    "        batch_size = inp.shape[0]\n",
    "        \n",
    "        enc_seq, [last_state_but_not_really] = self.enc0(inp_emb)\n",
    "        # enc_seq: [batch, time, hid_size], last_state: [batch, hid_size]\n",
    "        \n",
    "        # note: last_state is not _actually_ last because of padding, let's find the real last_state\n",
    "        lengths = (inp != self.inp_voc.eos_ix).to(torch.int64).sum(dim=1).clamp_max(inp.shape[1] - 1)\n",
    "        last_state = enc_seq[torch.arange(len(enc_seq)), lengths]\n",
    "        # ^-- shape: [batch_size, hid_size]\n",
    "        \n",
    "        dec_start = self.dec_start(last_state)\n",
    "        return [dec_start]\n",
    "\n",
    "    def decode_step(self, prev_state, prev_tokens, **flags):\n",
    "        \"\"\"\n",
    "        Takes previous decoder state and tokens, returns new state and logits for next tokens\n",
    "        :param prev_state: a list of previous decoder state tensors, same as returned by encode(...)\n",
    "        :param prev_tokens: previous output tokens, an int vector of [batch_size]\n",
    "        :return: a list of next decoder state tensors, a tensor of logits [batch, len(out_voc)]\n",
    "        \"\"\"\n",
    "        prev_gru0_state = prev_state[0]\n",
    "        \n",
    "        out_emb = self.emb_out(prev_tokens)\n",
    "        new_dec_state = self.dec0(out_emb, prev_gru0_state)\n",
    "        output_logits = self.logits(new_dec_state)\n",
    "        \n",
    "        return [new_dec_state], output_logits\n",
    "\n",
    "    def decode(self, initial_state, out_tokens, **flags):\n",
    "        \"\"\" Iterate over reference tokens (out_tokens) with decode_step \"\"\"\n",
    "        batch_size = out_tokens.shape[0]\n",
    "        state = initial_state\n",
    "        \n",
    "        # initial logits: always predict BOS\n",
    "        onehot_bos = F.one_hot(torch.full([batch_size], self.out_voc.bos_ix, dtype=torch.int64),\n",
    "                               num_classes=len(self.out_voc)).to(device=out_tokens.device)\n",
    "        first_logits = torch.log(onehot_bos.to(torch.float32) + 1e-9)\n",
    "        \n",
    "        logits_sequence = [first_logits]\n",
    "        for i in range(out_tokens.shape[1] - 1):\n",
    "            state, logits = self.decode_step(state, out_tokens[:, i])\n",
    "            logits_sequence.append(logits)\n",
    "        return torch.stack(logits_sequence, dim=1)\n",
    "\n",
    "    def decode_inference(self, initial_state, max_len=100, **flags):\n",
    "        \"\"\" Generate translations from model (greedy version) \"\"\"\n",
    "        batch_size, device = len(initial_state[0]), initial_state[0].device\n",
    "        state = initial_state\n",
    "        outputs = [torch.full([batch_size], self.out_voc.bos_ix, dtype=torch.int64, \n",
    "                              device=device)]\n",
    "        all_states = [initial_state]\n",
    "\n",
    "        for i in range(max_len):\n",
    "            state, logits = self.decode_step(state, outputs[-1])\n",
    "            outputs.append(logits.argmax(dim=-1))\n",
    "            all_states.append(state)\n",
    "        \n",
    "        return torch.stack(outputs, dim=1), all_states\n",
    "\n",
    "    def translate_lines(self, inp_lines, **kwargs):\n",
    "        inp = self.inp_voc.to_matrix(inp_lines).to(device)\n",
    "        initial_state = self.encode(inp)\n",
    "        out_ids, states = self.decode_inference(initial_state, **kwargs)\n",
    "        return self.out_voc.to_lines(out_ids.cpu().numpy()), states\n"
   ]
  },
  {
   "cell_type": "code",
   "execution_count": 13,
   "metadata": {
    "execution": {
     "iopub.execute_input": "2024-10-14T14:51:14.491238Z",
     "iopub.status.busy": "2024-10-14T14:51:14.489972Z",
     "iopub.status.idle": "2024-10-14T14:51:15.677467Z",
     "shell.execute_reply": "2024-10-14T14:51:15.676550Z",
     "shell.execute_reply.started": "2024-10-14T14:51:14.491191Z"
    },
    "tags": []
   },
   "outputs": [],
   "source": [
    "# debugging area\n",
    "model = BasicModel(inp_voc, out_voc).to(device)\n",
    "\n",
    "dummy_inp_tokens = inp_voc.to_matrix(sorted(train_inp, key=len)[5:10]).to(device)\n",
    "dummy_out_tokens = out_voc.to_matrix(sorted(train_out, key=len)[5:10]).to(device)\n",
    "\n",
    "h0 = model.encode(dummy_inp_tokens)\n",
    "h1, logits1 = model.decode_step(h0, torch.arange(len(dummy_inp_tokens), device=device))\n",
    "\n",
    "assert isinstance(h1, list) and len(h1) == len(h0)\n",
    "assert h1[0].shape == h0[0].shape and not torch.allclose(h1[0], h0[0])\n",
    "assert logits1.shape == (len(dummy_inp_tokens), len(out_voc))\n",
    "\n",
    "logits_seq = model.decode(h0, dummy_out_tokens)\n",
    "assert logits_seq.shape == (dummy_out_tokens.shape[0], dummy_out_tokens.shape[1], len(out_voc))\n",
    "\n",
    "# full forward\n",
    "logits_seq2 = model(dummy_inp_tokens, dummy_out_tokens)\n",
    "assert logits_seq2.shape == logits_seq.shape"
   ]
  },
  {
   "cell_type": "code",
   "execution_count": 14,
   "metadata": {
    "execution": {
     "iopub.execute_input": "2024-10-14T14:51:17.533749Z",
     "iopub.status.busy": "2024-10-14T14:51:17.532629Z",
     "iopub.status.idle": "2024-10-14T14:51:17.664896Z",
     "shell.execute_reply": "2024-10-14T14:51:17.664110Z",
     "shell.execute_reply.started": "2024-10-14T14:51:17.533704Z"
    }
   },
   "outputs": [
    {
     "name": "stdout",
     "output_type": "stream",
     "text": [
      "Translations without training:\n",
      "dr@@ temporary sigi@@ zi@@ reservoir richmond isab@@ angan lement ottoman chen@@ region region 9 mountain swim +@@ bu il diamon@@ ading ete oy@@ goda pond\n",
      "dr@@ temporary sigi@@ stella bedrooms kitchenware asian endorf zesz@@ lux@@ poli@@ és kil@@ against polis rez 5@@ seplein nix ven ß@@ bergamo uzh@@ fitness ě@@\n",
      "dr@@ temporary sigi@@ stella bedrooms kitchenware asian endorf zesz@@ lux@@ poli@@ és kil@@ against polis rez 5@@ seplein nix ven ß@@ bergamo uzh@@ fitness ě@@\n"
     ]
    }
   ],
   "source": [
    "dummy_translations, dummy_states = model.translate_lines(train_inp[:3], max_len=25)\n",
    "print(\"Translations without training:\")\n",
    "print('\\n'.join([line for line in dummy_translations]))"
   ]
  },
  {
   "cell_type": "markdown",
   "metadata": {
    "colab_type": "text",
    "id": "_wuv1-aVlrs0"
   },
   "source": [
    "### Training loss (2 points)\n",
    "\n",
    "Our training objective is almost the same as it was for neural language models:\n",
    "$$ L = {\\frac1{|D|}} \\sum_{X, Y \\in D} \\sum_{y_t \\in Y} - \\log p(y_t \\mid y_1, \\dots, y_{t-1}, X, \\theta) $$\n",
    "\n",
    "where $|D|$ is the __total length of all sequences__, including BOS and first EOS, but excluding PAD."
   ]
  },
  {
   "cell_type": "code",
   "execution_count": 8,
   "metadata": {
    "colab": {},
    "colab_type": "code",
    "execution": {
     "iopub.execute_input": "2024-10-15T15:13:18.298686Z",
     "iopub.status.busy": "2024-10-15T15:13:18.297664Z",
     "iopub.status.idle": "2024-10-15T15:13:18.320170Z",
     "shell.execute_reply": "2024-10-15T15:13:18.319306Z",
     "shell.execute_reply.started": "2024-10-15T15:13:18.298648Z"
    },
    "id": "c8XPV8sWlrs5",
    "scrolled": true,
    "tags": []
   },
   "outputs": [],
   "source": [
    "\n",
    "def compute_loss(model, inp, out, **flags):\n",
    "    \"\"\"\n",
    "    Compute loss (float32 scalar) as in the formula above\n",
    "    :param inp: input tokens matrix, int32[batch, time]\n",
    "    :param out: reference tokens matrix, int32[batch, time]\n",
    "    \n",
    "    In order to pass the tests, your function should\n",
    "    * include loss at first EOS but not the subsequent ones\n",
    "    * divide sum of losses by a sum of input lengths (use voc.compute_mask)\n",
    "    \"\"\"\n",
    "    mask = model.out_voc.compute_mask(out) # [batch_size, out_len]\n",
    "    targets_1hot = F.one_hot(out, len(model.out_voc)).to(torch.float32)\n",
    "    \n",
    "    # outputs of the model, [batch_size, out_len, num_tokens]\n",
    "    logits_seq = model(inp, out)\n",
    "\n",
    "    # log-probabilities of all tokens at all steps, [batch_size, out_len, num_tokens]\n",
    "    logprobs_seq = F.log_softmax(logits_seq, dim=-1)\n",
    "   \n",
    "    # log-probabilities of correct outputs, [batch_size, out_len]\n",
    "    logp_out = (logprobs_seq * targets_1hot).sum(dim=-1)\n",
    "    # ^-- this will select the probability of the actual next token.\n",
    "    # Note: you can compute loss more efficiently using using F.cross_entropy\n",
    "\n",
    "    # average cross-entropy over tokens where mask == True\n",
    "    return -1 * (logp_out * mask).sum() / mask.sum() # average loss, scalar"
   ]
  },
  {
   "cell_type": "code",
   "execution_count": 22,
   "metadata": {
    "colab": {},
    "colab_type": "code",
    "execution": {
     "iopub.execute_input": "2024-10-14T15:07:29.005313Z",
     "iopub.status.busy": "2024-10-14T15:07:29.004520Z",
     "iopub.status.idle": "2024-10-14T15:07:30.162987Z",
     "shell.execute_reply": "2024-10-14T15:07:30.162135Z",
     "shell.execute_reply.started": "2024-10-14T15:07:29.005273Z"
    },
    "id": "ME_LWUeklrs7",
    "tags": []
   },
   "outputs": [
    {
     "name": "stdout",
     "output_type": "stream",
     "text": [
      "Loss: tensor(7.5283, device='cuda:0', grad_fn=<DivBackward0>)\n"
     ]
    }
   ],
   "source": [
    "dummy_loss = compute_loss(model, dummy_inp_tokens, dummy_out_tokens)\n",
    "print(\"Loss:\", dummy_loss)\n",
    "assert np.allclose(dummy_loss.item(), 7.5, rtol=0.1, atol=0.1), \"We're sorry for your loss\"\n",
    "\n",
    "# test autograd\n",
    "dummy_loss.backward()\n",
    "for name, param in model.named_parameters():\n",
    "    assert param.grad is not None and abs(param.grad.max()) != 0, f\"Param {name} received no gradients\""
   ]
  },
  {
   "cell_type": "markdown",
   "metadata": {
    "colab_type": "text",
    "id": "HpbaBpW7lrs-"
   },
   "source": [
    "### Evaluation: BLEU\n",
    "\n",
    "Machine translation is commonly evaluated with [BLEU](https://en.wikipedia.org/wiki/BLEU) score. This metric simply computes which fraction of predicted n-grams is actually present in the reference translation. It does so for n=1,2,3 and 4 and computes the geometric average with penalty if translation is shorter than reference.\n",
    "\n",
    "While BLEU [has many drawbacks](https://www.cis.upenn.edu/~ccb/publications/re-evaluating-the-role-of-bleu-in-mt-research.pdf), it still remains the most commonly used metric and one of the simplest to compute."
   ]
  },
  {
   "cell_type": "code",
   "execution_count": 9,
   "metadata": {
    "colab": {},
    "colab_type": "code",
    "execution": {
     "iopub.execute_input": "2024-10-15T15:13:18.322647Z",
     "iopub.status.busy": "2024-10-15T15:13:18.321322Z",
     "iopub.status.idle": "2024-10-15T15:13:18.337708Z",
     "shell.execute_reply": "2024-10-15T15:13:18.336706Z",
     "shell.execute_reply.started": "2024-10-15T15:13:18.322607Z"
    },
    "id": "Gb1-PhKIlrs-",
    "tags": []
   },
   "outputs": [],
   "source": [
    "from nltk.translate.bleu_score import corpus_bleu\n",
    "def compute_bleu(model, inp_lines, out_lines, bpe_sep='@@ ', **flags):\n",
    "    \"\"\"\n",
    "    Estimates corpora-level BLEU score of model's translations given inp and reference out\n",
    "    Note: if you're serious about reporting your results, use https://pypi.org/project/sacrebleu\n",
    "    \"\"\"\n",
    "    with torch.no_grad():\n",
    "        translations, _ = model.translate_lines(inp_lines, **flags)\n",
    "        translations = [line.replace(bpe_sep, '') for line in translations]\n",
    "        actual = [line.replace(bpe_sep, '') for line in out_lines]\n",
    "        return corpus_bleu(\n",
    "            [[ref.split()] for ref in actual],\n",
    "            [trans.split() for trans in translations],\n",
    "            smoothing_function=lambda precisions, **kw: [p + 1.0 / p.denominator for p in precisions]\n",
    "            ) * 100"
   ]
  },
  {
   "cell_type": "code",
   "execution_count": 24,
   "metadata": {
    "colab": {},
    "colab_type": "code",
    "execution": {
     "iopub.execute_input": "2024-10-14T15:08:38.987108Z",
     "iopub.status.busy": "2024-10-14T15:08:38.986071Z",
     "iopub.status.idle": "2024-10-14T15:08:40.183274Z",
     "shell.execute_reply": "2024-10-14T15:08:40.182327Z",
     "shell.execute_reply.started": "2024-10-14T15:08:38.987061Z"
    },
    "id": "gZvfid1RlrtA"
   },
   "outputs": [
    {
     "data": {
      "text/plain": [
       "0.001976950439722082"
      ]
     },
     "execution_count": 24,
     "metadata": {},
     "output_type": "execute_result"
    }
   ],
   "source": [
    "compute_bleu(model, dev_inp, dev_out)"
   ]
  },
  {
   "cell_type": "markdown",
   "metadata": {
    "colab_type": "text",
    "id": "nQDhGwg4lrtC"
   },
   "source": [
    "### Training loop\n",
    "\n",
    "Training encoder-decoder models isn't that different from any other models: sample batches, compute loss, backprop and update"
   ]
  },
  {
   "cell_type": "code",
   "execution_count": 25,
   "metadata": {
    "colab": {},
    "colab_type": "code",
    "execution": {
     "iopub.execute_input": "2024-10-14T15:08:53.862624Z",
     "iopub.status.busy": "2024-10-14T15:08:53.861552Z",
     "iopub.status.idle": "2024-10-14T15:08:53.959335Z",
     "shell.execute_reply": "2024-10-14T15:08:53.958499Z",
     "shell.execute_reply.started": "2024-10-14T15:08:53.862582Z"
    },
    "id": "yfwIaixHlrtI"
   },
   "outputs": [],
   "source": [
    "from IPython.display import clear_output\n",
    "from tqdm import tqdm, trange\n",
    "metrics = {'train_loss': [], 'dev_bleu': [] }\n",
    "\n",
    "model = BasicModel(inp_voc, out_voc).to(device)\n",
    "opt = torch.optim.Adam(model.parameters(), lr=1e-3)\n",
    "batch_size = 32"
   ]
  },
  {
   "cell_type": "code",
   "execution_count": 26,
   "metadata": {
    "colab": {},
    "colab_type": "code",
    "execution": {
     "iopub.execute_input": "2024-10-14T15:41:10.270429Z",
     "iopub.status.busy": "2024-10-14T15:41:10.269873Z",
     "iopub.status.idle": "2024-10-14T15:55:47.915138Z",
     "shell.execute_reply": "2024-10-14T15:55:47.914280Z",
     "shell.execute_reply.started": "2024-10-14T15:41:10.270390Z"
    },
    "id": "LlDT6eDUlrtL",
    "scrolled": true
   },
   "outputs": [
    {
     "data": {
      "image/png": "[encoded data removed]",
      "text/plain": [
       "<Figure size 1200x400 with 2 Axes>"
      ]
     },
     "metadata": {},
     "output_type": "display_data"
    },
    {
     "name": "stdout",
     "output_type": "stream",
     "text": [
      "Mean loss=1.845\n"
     ]
    },
    {
     "name": "stderr",
     "output_type": "stream",
     "text": [
      "100%|██████████| 25000/25000 [14:37<00:00, 28.49it/s]\n"
     ]
    }
   ],
   "source": [
    "for _ in trange(25000):\n",
    "    step = len(metrics['train_loss']) + 1\n",
    "    batch_ix = np.random.randint(len(train_inp), size=batch_size)\n",
    "    batch_inp = inp_voc.to_matrix(train_inp[batch_ix]).to(device)\n",
    "    batch_out = out_voc.to_matrix(train_out[batch_ix]).to(device)\n",
    "    \n",
    "    loss_t = compute_loss(model, batch_inp, batch_out)\n",
    "    \n",
    "    opt.zero_grad()\n",
    "    loss_t.backward()\n",
    "    opt.step()\n",
    "    \n",
    "    \n",
    "    metrics['train_loss'].append((step, loss_t.item()))\n",
    "    \n",
    "    if step % 100 == 0:\n",
    "        metrics['dev_bleu'].append((step, compute_bleu(model, dev_inp, dev_out)))\n",
    "        \n",
    "        clear_output(True)\n",
    "        plt.figure(figsize=(12,4))\n",
    "        for i, (name, history) in enumerate(sorted(metrics.items())):\n",
    "            plt.subplot(1, len(metrics), i + 1)\n",
    "            plt.title(name)\n",
    "            plt.plot(*zip(*history))\n",
    "            plt.grid()\n",
    "        plt.show()\n",
    "        print(\"Mean loss=%.3f\" % np.mean(metrics['train_loss'][-10:], axis=0)[1], flush=True)\n",
    "        \n",
    "# Note: it's okay if bleu oscillates up and down as long as it gets better on average over long term (e.g. 5k batches)"
   ]
  },
  {
   "cell_type": "code",
   "execution_count": 27,
   "metadata": {
    "colab": {},
    "colab_type": "code",
    "execution": {
     "iopub.execute_input": "2024-10-14T15:57:13.883709Z",
     "iopub.status.busy": "2024-10-14T15:57:13.882769Z",
     "iopub.status.idle": "2024-10-14T15:57:13.935122Z",
     "shell.execute_reply": "2024-10-14T15:57:13.934333Z",
     "shell.execute_reply.started": "2024-10-14T15:57:13.883673Z"
    },
    "id": "2ahuhKVhlrtP"
   },
   "outputs": [],
   "source": [
    "assert np.mean(metrics['dev_bleu'][-10:], axis=0)[1] > 15, \"We kind of need a higher bleu BLEU from you. Kind of right now.\""
   ]
  },
  {
   "cell_type": "code",
   "execution_count": 28,
   "metadata": {
    "colab": {},
    "colab_type": "code",
    "execution": {
     "iopub.execute_input": "2024-10-14T15:57:16.290636Z",
     "iopub.status.busy": "2024-10-14T15:57:16.289499Z",
     "iopub.status.idle": "2024-10-14T15:57:16.347656Z",
     "shell.execute_reply": "2024-10-14T15:57:16.346854Z",
     "shell.execute_reply.started": "2024-10-14T15:57:16.290590Z"
    },
    "id": "KyaHOpealrtS"
   },
   "outputs": [
    {
     "name": "stdout",
     "output_type": "stream",
     "text": [
      "в распоряжении гостей общая кухня и общая гостиная .\n",
      "there is a shared kitchen at the property and a shared kitchen .\n",
      "\n",
      "кроме того , предоставляется прокат велосипедов , услуги трансфера и бесплатная парковка .\n",
      "the property also offers free parking .\n",
      "\n",
      "расстояние до города ки@@ сси@@ м@@ ми составляет 26 км .\n",
      "rimini thermal springs is 15 km from the property .\n",
      "\n",
      "апартаменты в пент@@ хаусе с общим открытым бассейном , садом , кондиционером и террасой для загара расположены в 5 минутах ходьбы от пляжа на курорте ка@@ бо - рой .\n",
      "located in a quiet area of the garden , villa bali offers self - catering accommodation with a terrace and garden . the property boasts views of the garden and is a 15 - minute walk from the beach .\n",
      "\n",
      "апартаменты mo@@ s@@ co@@ w point - loft red square находятся в москве , в 200 метрах от большого театра .\n",
      "apartament la stige - house is located in the centre of saint petersburg , 200 metres from the centre of cannes .\n",
      "\n",
      "в вашем распоряжении собственная ванная комната с душем и полотенцами .\n",
      "featuring a shower , private bathrooms also come with towels .\n",
      "\n"
     ]
    }
   ],
   "source": [
    "for inp_line, trans_line in zip(dev_inp[::500], model.translate_lines(dev_inp[::500])[0]):\n",
    "    print(inp_line)\n",
    "    print(trans_line)\n",
    "    print()"
   ]
  },
  {
   "cell_type": "markdown",
   "metadata": {
    "colab_type": "text",
    "id": "edk_oVg0lrtW"
   },
   "source": [
    "### Your Attention Required\n",
    "\n",
    "In this section we want you to improve over the basic model by implementing a simple attention mechanism.\n",
    "\n",
    "This is gonna be a two-parter: building the __attention layer__ and using it for an __attentive seq2seq model__."
   ]
  },
  {
   "cell_type": "markdown",
   "metadata": {
    "colab_type": "text",
    "id": "Qz9aROAIlrtX"
   },
   "source": [
    "### Attention layer (3 points)\n",
    "\n",
    "Here you will have to implement a layer that computes a simple additive attention:\n",
    "\n",
    "Given encoder sequence $ h^e_0, h^e_1, h^e_2, ..., h^e_T$ and a single decoder state $h^d$,\n",
    "\n",
    "* Compute logits with a 2-layer neural network\n",
    "$$a_t = linear_{out}(tanh(linear_{e}(h^e_t) + linear_{d}(h_d)))$$\n",
    "* Get probabilities from logits, \n",
    "$$ p_t = {{e ^ {a_t}} \\over { \\sum_\\tau e^{a_\\tau} }} $$\n",
    "\n",
    "* Add up encoder states with probabilities to get __attention response__\n",
    "$$ attn = \\sum_t p_t \\cdot h^e_t $$\n",
    "\n",
    "You can learn more about attention layers in the lecture slides or [from this post](https://distill.pub/2016/augmented-rnns/)."
   ]
  },
  {
   "cell_type": "code",
   "execution_count": 10,
   "metadata": {
    "execution": {
     "iopub.execute_input": "2024-10-15T15:13:18.341360Z",
     "iopub.status.busy": "2024-10-15T15:13:18.340824Z",
     "iopub.status.idle": "2024-10-15T15:13:18.360734Z",
     "shell.execute_reply": "2024-10-15T15:13:18.359922Z",
     "shell.execute_reply.started": "2024-10-15T15:13:18.341322Z"
    },
    "tags": []
   },
   "outputs": [],
   "source": [
    "import math\n",
    "\n",
    "class AttentionLayer(nn.Module):\n",
    "    def __init__(self, name, enc_size, dec_size, hid_size, activ=torch.tanh):\n",
    "        \"\"\" A layer that computes additive attention response and weights \"\"\"\n",
    "        super().__init__()\n",
    "        self.name = name\n",
    "        self.enc_size = enc_size # num units in encoder state\n",
    "        self.dec_size = dec_size # num units in decoder state\n",
    "        self.hid_size = hid_size # attention layer hidden units\n",
    "        self.activ = activ       # attention layer hidden nonlinearity\n",
    "        \n",
    "        # create trainable paramteres like this:\n",
    "        # self.<PARAMETER_NAME> = nn.Parameter(<INITIAL_VALUES>, requires_grad=True)\n",
    "        # you will need a couple of these\n",
    "        \n",
    "        self.enc_lin = nn.Parameter((torch.rand(hid_size, enc_size) - 0.5) \\\n",
    "                                    * 2 / math.sqrt(hid_size), requires_grad=True, )\n",
    "        self.dec_lin = nn.Parameter((torch.rand(dec_size, hid_size) - 0.5) \\\n",
    "                                    * 2 / math.sqrt(hid_size), requires_grad=True)\n",
    "        \n",
    "        self.fin_lin = nn.Parameter((torch.rand(hid_size, 1) - 0.5) \\\n",
    "                                    * 2 / math.sqrt(1), requires_grad=True)\n",
    "        \n",
    "    def forward(self, enc, dec, inp_mask):\n",
    "        \"\"\"\n",
    "        Computes attention response and weights\n",
    "        :param enc: encoder activation sequence, float32[batch_size, ninp, enc_size]\n",
    "        :param dec: single decoder state used as \"query\", float32[batch_size, dec_size]\n",
    "        :param inp_mask: mask on enc activatons (0 after first eos), float32 [batch_size, ninp]\n",
    "        :returns: attn[batch_size, enc_size], probs[batch_size, ninp]\n",
    "            - attn - attention response vector (weighted sum of enc)\n",
    "            - probs - attention weights after softmax\n",
    "        \"\"\"\n",
    "\n",
    "        # Compute logits\n",
    "        enc1 = torch.matmul(enc, self.enc_lin) # float32[batch_size, ninp, hid_size]\n",
    "        dec1 = torch.matmul(dec, self.dec_lin) # float32[batch_size, hid_size]\n",
    "\n",
    "        pre_fin = self.activ(enc1 + dec1.unsqueeze(1))      # float32[batch_size, ninp, hid_size]\n",
    "\n",
    "        logits = torch.matmul(pre_fin, self.fin_lin).squeeze(-1)   # float32[batch_size, ninp]\n",
    "\n",
    "        # Apply mask - if mask is 0, logits should be -inf or -1e9\n",
    "        # You may need torch.where\n",
    "        fixed_logits = torch.where(inp_mask != 0, logits, -1e9)\n",
    "\n",
    "        # Compute attention probabilities (softmax)\n",
    "        probs = F.softmax(fixed_logits, dim=-1)\n",
    "\n",
    "        # Compute attention response using enc and probs\n",
    "        # print(probs.unsqueeze(1).shape, enc.shape)\n",
    "        attn = torch.matmul(probs.unsqueeze(1), enc)\n",
    "        # print(attn.shape)\n",
    "        return attn.squeeze(1), probs"
   ]
  },
  {
   "cell_type": "markdown",
   "metadata": {
    "colab_type": "text",
    "id": "IalfpdAelrtb"
   },
   "source": [
    "### Seq2seq model with attention (3 points)\n",
    "\n",
    "You can now use the attention layer to build a network. The simplest way to implement attention is to use it in decoder phase:\n",
    "![img](https://i.imgur.com/6fKHlHb.png)\n",
    "_image from distill.pub [article](https://distill.pub/2016/augmented-rnns/)_\n",
    "\n",
    "On every step, use __previous__ decoder state to obtain attention response. Then feed concat this response to the inputs of next attention layer.\n",
    "\n",
    "The key implementation detail here is __model state__. Put simply, you can add any tensor into the list of `encode` outputs. You will then have access to them at each `decode` step. This may include:\n",
    "* Last RNN hidden states (as in basic model)\n",
    "* The whole sequence of encoder outputs (to attend to) and mask\n",
    "* Attention probabilities (to visualize)\n",
    "\n",
    "_There are, of course, alternative ways to wire attention into your network and different kinds of attention. Take a look at [this](https://arxiv.org/abs/1609.08144), [this](https://arxiv.org/abs/1706.03762) and [this](https://arxiv.org/abs/1808.03867) for ideas. And for image captioning/im2latex there's [visual attention](https://arxiv.org/abs/1502.03044)_"
   ]
  },
  {
   "cell_type": "code",
   "execution_count": 11,
   "metadata": {
    "colab": {},
    "colab_type": "code",
    "execution": {
     "iopub.execute_input": "2024-10-15T15:14:19.046576Z",
     "iopub.status.busy": "2024-10-15T15:14:19.045336Z",
     "iopub.status.idle": "2024-10-15T15:14:19.074689Z",
     "shell.execute_reply": "2024-10-15T15:14:19.073776Z",
     "shell.execute_reply.started": "2024-10-15T15:14:19.046524Z"
    },
    "id": "NCKPB5JmcE6j",
    "tags": []
   },
   "outputs": [],
   "source": [
    "class AttentiveModel(BasicModel):\n",
    "    def __init__(self, name, inp_voc, out_voc,\n",
    "                 emb_size=64, hid_size=128, attn_size=128, init_dec_zeroes=True):\n",
    "        \"\"\" Translation model that uses attention. See instructions above. \"\"\"\n",
    "        nn.Module.__init__(self)  # initialize base class to track sub-layers, trainable variables, etc.\n",
    "        self.inp_voc, self.out_voc = inp_voc, out_voc\n",
    "        self.emb_size = emb_size\n",
    "        self.hid_size = hid_size\n",
    "        self.attn_size = attn_size        \n",
    "        self.init_dec_zeroes = init_dec_zeroes\n",
    "        self.emb_inp = nn.Embedding(len(inp_voc), emb_size)\n",
    "        self.emb_out = nn.Embedding(len(out_voc), emb_size)\n",
    "        self.enc0 = nn.GRU(emb_size, hid_size, batch_first=True)\n",
    "\n",
    "        self.dec_start = nn.Linear(hid_size, hid_size)\n",
    "        self.dec0 = nn.GRUCell(emb_size + hid_size, hid_size)\n",
    "        self.logits = nn.Linear(hid_size, len(out_voc))\n",
    "        \n",
    "        self.attn = AttentionLayer('crossattn', hid_size, hid_size + emb_size, attn_size, activ=torch.tanh)\n",
    "\n",
    "    def encode(self, inp, **flags):\n",
    "        \"\"\"\n",
    "        Takes symbolic input sequence, computes initial state\n",
    "        :param inp: matrix of input tokens [batch, time]\n",
    "        :return: a list of initial decoder state tensors\n",
    "        \"\"\"\n",
    "        \n",
    "        # encode input sequence, create initial decoder states\n",
    "        \n",
    "        inp_emb = self.emb_inp(inp)\n",
    "        batch_size = inp.shape[0]\n",
    "        \n",
    "        enc_seq, [last_state_but_not_really] = self.enc0(inp_emb)\n",
    "        # enc_seq: [batch, time, hid_size], last_state: [batch, hid_size]\n",
    "        \n",
    "        # note: last_state is not _actually_ last because of padding, let's find the real last_state\n",
    "        lengths = (inp != self.inp_voc.eos_ix).to(torch.int64).sum(dim=1).clamp_max(inp.shape[1] - 1)\n",
    "        last_state = enc_seq[torch.arange(len(enc_seq)), lengths]\n",
    "        # ^-- shape: [batch_size, hid_size]\n",
    "        \n",
    "        dec_start = self.dec_start(last_state) if not self.init_dec_zeroes else torch.zeros(size=(batch_size, self.hid_size), device=device)\n",
    "        \n",
    "        mask = self.inp_voc.compute_mask(inp)\n",
    "        # apply attention layer from initial decoder hidden state\n",
    "        \n",
    "        _, first_attn_probas = self.attn(enc_seq, torch.cat((dec_start, torch.zeros(batch_size, self.emb_size).to(device)), dim=-1), mask) \n",
    "        \n",
    "        # Build first state: include\n",
    "        # * initial states for decoder recurrent layers\n",
    "        # * encoder sequence and encoder attn mask (for attention)\n",
    "        # * make sure that last state item is attention probabilities tensor\n",
    "        \n",
    "        first_state = [dec_start, enc_seq, mask, first_attn_probas]\n",
    "        return first_state\n",
    "   \n",
    "    def decode_step(self, prev_state, prev_tokens, **flags):\n",
    "        \"\"\"\n",
    "        Takes previous decoder state and tokens, returns new state and logits for next tokens\n",
    "        :param prev_state: a list of previous decoder state tensors\n",
    "        :param prev_tokens: previous output tokens, an int vector of [batch_size]\n",
    "        :return: a list of next decoder state tensors, a tensor of logits [batch, n_tokens]\n",
    "        \"\"\"\n",
    "        \n",
    "        out_embs = self.emb_out(prev_tokens)\n",
    "        # print(prev_state[0])\n",
    "        attn_inp = torch.cat((prev_state[0], out_embs), dim=-1)\n",
    "        attn_out, new_probas = self.attn(prev_state[1], attn_inp, prev_state[2])\n",
    "        # print(attn_out.shape, out_embs.shape)\n",
    "\n",
    "        gru_inp = torch.cat((attn_out, out_embs), dim=-1)\n",
    "        \n",
    "        new_hid = self.dec0(gru_inp, prev_state[0])\n",
    "        output_logits = self.logits(new_hid)\n",
    "        \n",
    "        new_dec_state = [new_hid, prev_state[1], prev_state[2], new_probas]\n",
    "        \n",
    "        return [new_dec_state, output_logits]\n"
   ]
  },
  {
   "cell_type": "markdown",
   "metadata": {
    "colab_type": "text",
    "id": "ryZCOTEslrtf"
   },
   "source": [
    "### Training attentive model\n",
    "\n",
    "Please reuse the infrastructure you've built for the regular model. I hope you didn't hard-code anything :)"
   ]
  },
  {
   "cell_type": "code",
   "execution_count": 141,
   "metadata": {
    "execution": {
     "iopub.execute_input": "2024-10-14T19:46:19.836520Z",
     "iopub.status.busy": "2024-10-14T19:46:19.835461Z",
     "iopub.status.idle": "2024-10-14T19:46:19.869623Z",
     "shell.execute_reply": "2024-10-14T19:46:19.868795Z",
     "shell.execute_reply.started": "2024-10-14T19:46:19.836476Z"
    },
    "tags": []
   },
   "outputs": [],
   "source": [
    "from IPython.display import clear_output\n",
    "from tqdm import tqdm, trange\n",
    "metrics = {'train_loss': [], 'dev_bleu': [] }\n",
    "\n",
    "model = AttentiveModel('try1', inp_voc, out_voc).to(device)\n",
    "opt = torch.optim.Adam(model.parameters(), lr=1e-3)\n",
    "batch_size = 32"
   ]
  },
  {
   "cell_type": "code",
   "execution_count": 142,
   "metadata": {
    "execution": {
     "iopub.execute_input": "2024-10-14T19:46:20.436212Z",
     "iopub.status.busy": "2024-10-14T19:46:20.434946Z",
     "iopub.status.idle": "2024-10-14T20:18:20.817591Z",
     "shell.execute_reply": "2024-10-14T20:18:20.816695Z",
     "shell.execute_reply.started": "2024-10-14T19:46:20.436166Z"
    },
    "tags": []
   },
   "outputs": [
    {
     "data": {
      "image/png": "[encoded data removed]",
      "text/plain": [
       "<Figure size 1200x400 with 2 Axes>"
      ]
     },
     "metadata": {},
     "output_type": "display_data"
    },
    {
     "name": "stdout",
     "output_type": "stream",
     "text": [
      "Mean loss=1.459\n"
     ]
    },
    {
     "name": "stderr",
     "output_type": "stream",
     "text": [
      "100%|██████████| 25000/25000 [32:00<00:00, 13.02it/s]\n"
     ]
    }
   ],
   "source": [
    "for _ in trange(25000):\n",
    "    step = len(metrics['train_loss']) + 1\n",
    "    batch_ix = np.random.randint(len(train_inp), size=batch_size)\n",
    "    batch_inp = inp_voc.to_matrix(train_inp[batch_ix]).to(device)\n",
    "    batch_out = out_voc.to_matrix(train_out[batch_ix]).to(device)\n",
    "    \n",
    "    loss_t = compute_loss(model, batch_inp, batch_out)\n",
    "    \n",
    "    opt.zero_grad()\n",
    "    loss_t.backward()\n",
    "    opt.step()\n",
    "    \n",
    "    \n",
    "    metrics['train_loss'].append((step, loss_t.item()))\n",
    "    \n",
    "    if step % 100 == 0:\n",
    "        metrics['dev_bleu'].append((step, compute_bleu(model, dev_inp, dev_out)))\n",
    "        \n",
    "        clear_output(True)\n",
    "        plt.figure(figsize=(12,4))\n",
    "        for i, (name, history) in enumerate(sorted(metrics.items())):\n",
    "            plt.subplot(1, len(metrics), i + 1)\n",
    "            plt.title(name)\n",
    "            plt.plot(*zip(*history))\n",
    "            plt.grid()\n",
    "        plt.show()\n",
    "        print(\"Mean loss=%.3f\" % np.mean(metrics['train_loss'][-10:], axis=0)[1], flush=True)\n",
    "        \n",
    "# Note: it's okay if bleu oscillates up and down as long as it gets better on average over long term (e.g. 5k batches)"
   ]
  },
  {
   "cell_type": "code",
   "execution_count": 143,
   "metadata": {
    "colab": {},
    "colab_type": "code",
    "execution": {
     "iopub.execute_input": "2024-10-14T20:19:42.285557Z",
     "iopub.status.busy": "2024-10-14T20:19:42.284435Z",
     "iopub.status.idle": "2024-10-14T20:19:42.558466Z",
     "shell.execute_reply": "2024-10-14T20:19:42.557603Z",
     "shell.execute_reply.started": "2024-10-14T20:19:42.285518Z"
    },
    "id": "-YMHPgZxcFaQ",
    "tags": []
   },
   "outputs": [
    {
     "name": "stdout",
     "output_type": "stream",
     "text": [
      "в распоряжении гостей общая кухня и общая гостиная .\n",
      "the shared kitchen facilities include a shared kitchen and a shared kitchen .\n",
      "\n",
      "кроме того , предоставляется прокат велосипедов , услуги трансфера и бесплатная парковка .\n",
      "the property offers bicycle rentals , a shuttle service and free parking .\n",
      "\n",
      "расстояние до города ки@@ сси@@ м@@ ми составляет 26 км .\n",
      "the town of al ga@@ is 26 km away .\n",
      "\n",
      "апартаменты в пент@@ хаусе с общим открытым бассейном , садом , кондиционером и террасой для загара расположены в 5 минутах ходьбы от пляжа на курорте ка@@ бо - рой .\n",
      "offering an outdoor pool , terrace and a sun terrace , apartments sun@@ y offers accommodation in mam@@ aia . the apartment is a 5 - minute walk from the beach .\n",
      "\n",
      "апартаменты mo@@ s@@ co@@ w point - loft red square находятся в москве , в 200 метрах от большого театра .\n",
      "a hi - fi in moscow , mini - la - bal@@ lo@@ a is located in moscow , 200 metres from the apartment .\n",
      "\n",
      "в вашем распоряжении собственная ванная комната с душем и полотенцами .\n",
      "featuring a shower , private bathrooms also come with towels .\n",
      "\n"
     ]
    }
   ],
   "source": [
    "model.eval()\n",
    "\n",
    "for inp_line, trans_line in zip(dev_inp[::500], model.translate_lines(dev_inp[::500])[0]):\n",
    "    print(inp_line)\n",
    "    print(trans_line)\n",
    "    print()"
   ]
  },
  {
   "cell_type": "code",
   "execution_count": 144,
   "metadata": {
    "execution": {
     "iopub.execute_input": "2024-10-14T20:21:07.830430Z",
     "iopub.status.busy": "2024-10-14T20:21:07.829061Z",
     "iopub.status.idle": "2024-10-14T20:21:09.331369Z",
     "shell.execute_reply": "2024-10-14T20:21:09.330513Z",
     "shell.execute_reply.started": "2024-10-14T20:21:07.830386Z"
    }
   },
   "outputs": [
    {
     "data": {
      "text/plain": [
       "24.546306156187356"
      ]
     },
     "execution_count": 144,
     "metadata": {},
     "output_type": "execute_result"
    }
   ],
   "source": [
    "compute_bleu(model, dev_inp, dev_out)"
   ]
  },
  {
   "cell_type": "markdown",
   "metadata": {},
   "source": [
    "## Here I train Attention Model with zero init decoder state to obtain interpretable weight maps"
   ]
  },
  {
   "cell_type": "code",
   "execution_count": 12,
   "metadata": {
    "execution": {
     "iopub.execute_input": "2024-10-15T15:15:13.312537Z",
     "iopub.status.busy": "2024-10-15T15:15:13.311665Z",
     "iopub.status.idle": "2024-10-15T15:15:14.139059Z",
     "shell.execute_reply": "2024-10-15T15:15:14.138204Z",
     "shell.execute_reply.started": "2024-10-15T15:15:13.312491Z"
    }
   },
   "outputs": [],
   "source": [
    "from IPython.display import clear_output\n",
    "from tqdm import tqdm, trange\n",
    "metrics = {'train_loss': [], 'dev_bleu': [] }\n",
    "\n",
    "model = AttentiveModel('try1', inp_voc, out_voc).to(device)\n",
    "opt = torch.optim.Adam(model.parameters(), lr=1e-3)\n",
    "batch_size = 32"
   ]
  },
  {
   "cell_type": "code",
   "execution_count": 13,
   "metadata": {
    "execution": {
     "iopub.execute_input": "2024-10-15T15:15:17.478858Z",
     "iopub.status.busy": "2024-10-15T15:15:17.477403Z",
     "iopub.status.idle": "2024-10-15T15:47:51.616968Z",
     "shell.execute_reply": "2024-10-15T15:47:51.616109Z",
     "shell.execute_reply.started": "2024-10-15T15:15:17.478810Z"
    }
   },
   "outputs": [
    {
     "data": {
      "image/png": "[encoded data removed]",
      "text/plain": [
       "<Figure size 1200x400 with 2 Axes>"
      ]
     },
     "metadata": {},
     "output_type": "display_data"
    },
    {
     "name": "stdout",
     "output_type": "stream",
     "text": [
      "Mean loss=1.565\n"
     ]
    },
    {
     "name": "stderr",
     "output_type": "stream",
     "text": [
      "100%|██████████| 25000/25000 [32:34<00:00, 12.79it/s]\n"
     ]
    }
   ],
   "source": [
    "for _ in trange(25000):\n",
    "    step = len(metrics['train_loss']) + 1\n",
    "    batch_ix = np.random.randint(len(train_inp), size=batch_size)\n",
    "    batch_inp = inp_voc.to_matrix(train_inp[batch_ix]).to(device)\n",
    "    batch_out = out_voc.to_matrix(train_out[batch_ix]).to(device)\n",
    "    \n",
    "    loss_t = compute_loss(model, batch_inp, batch_out)\n",
    "    \n",
    "    opt.zero_grad()\n",
    "    loss_t.backward()\n",
    "    opt.step()\n",
    "    \n",
    "    \n",
    "    metrics['train_loss'].append((step, loss_t.item()))\n",
    "    \n",
    "    if step % 100 == 0:\n",
    "        metrics['dev_bleu'].append((step, compute_bleu(model, dev_inp, dev_out)))\n",
    "        \n",
    "        clear_output(True)\n",
    "        plt.figure(figsize=(12,4))\n",
    "        for i, (name, history) in enumerate(sorted(metrics.items())):\n",
    "            plt.subplot(1, len(metrics), i + 1)\n",
    "            plt.title(name)\n",
    "            plt.plot(*zip(*history))\n",
    "            plt.grid()\n",
    "        plt.show()\n",
    "        print(\"Mean loss=%.3f\" % np.mean(metrics['train_loss'][-10:], axis=0)[1], flush=True)\n",
    "        \n",
    "# Note: it's okay if bleu oscillates up and down as long as it gets better on average over long term (e.g. 5k batches)"
   ]
  },
  {
   "cell_type": "code",
   "execution_count": 14,
   "metadata": {
    "execution": {
     "iopub.execute_input": "2024-10-15T15:48:09.418793Z",
     "iopub.status.busy": "2024-10-15T15:48:09.417693Z",
     "iopub.status.idle": "2024-10-15T15:48:09.607442Z",
     "shell.execute_reply": "2024-10-15T15:48:09.606462Z",
     "shell.execute_reply.started": "2024-10-15T15:48:09.418744Z"
    }
   },
   "outputs": [
    {
     "name": "stdout",
     "output_type": "stream",
     "text": [
      "в распоряжении гостей общая кухня и общая гостиная .\n",
      "there is a shared kitchen and a common kitchen at the property .\n",
      "\n",
      "кроме того , предоставляется прокат велосипедов , услуги трансфера и бесплатная парковка .\n",
      "the property offers bike hire , free shuttle service and free parking .\n",
      "\n",
      "расстояние до города ки@@ сси@@ м@@ ми составляет 26 км .\n",
      "the town of the town is 26 km from the property .\n",
      "\n",
      "апартаменты в пент@@ хаусе с общим открытым бассейном , садом , кондиционером и террасой для загара расположены в 5 минутах ходьбы от пляжа на курорте ка@@ бо - рой .\n",
      "located a 5 - minute walk from the beach in har@@ man@@ a , a 5 - minute walk from the beach in porto , it features a garden , garden and a sun terrace .\n",
      "\n",
      "апартаменты mo@@ s@@ co@@ w point - loft red square находятся в москве , в 200 метрах от большого театра .\n",
      "apartment sam@@ u@@ ador is located in rome , 200 metres from the old town square .\n",
      "\n",
      "в вашем распоряжении собственная ванная комната с душем и полотенцами .\n",
      "the private bathroom includes a shower and towels .\n",
      "\n"
     ]
    }
   ],
   "source": [
    "model.eval()\n",
    "\n",
    "for inp_line, trans_line in zip(dev_inp[::500], model.translate_lines(dev_inp[::500])[0]):\n",
    "    print(inp_line)\n",
    "    print(trans_line)\n",
    "    print()"
   ]
  },
  {
   "cell_type": "code",
   "execution_count": 15,
   "metadata": {
    "execution": {
     "iopub.execute_input": "2024-10-15T15:49:29.834489Z",
     "iopub.status.busy": "2024-10-15T15:49:29.833235Z",
     "iopub.status.idle": "2024-10-15T15:49:31.393652Z",
     "shell.execute_reply": "2024-10-15T15:49:31.392737Z",
     "shell.execute_reply.started": "2024-10-15T15:49:29.834451Z"
    }
   },
   "outputs": [
    {
     "data": {
      "text/plain": [
       "23.985572507860596"
      ]
     },
     "execution_count": 15,
     "metadata": {},
     "output_type": "execute_result"
    }
   ],
   "source": [
    "compute_bleu(model, dev_inp, dev_out)"
   ]
  },
  {
   "cell_type": "markdown",
   "metadata": {},
   "source": [
    "### Visualizing model attention (2 points)\n",
    "\n",
    "After training the attentive translation model, you can check it's sanity by visualizing its attention weights.\n",
    "\n",
    "We provided you with a function that draws attention maps using [`Bokeh`](https://bokeh.pydata.org/en/latest/index.html). Once you managed to produce something better than random noise, please save at least 3 attention maps and __submit them to anytask__ alongside this notebook to get the max grade. Saving bokeh figures as __cell outputs is not enough!__ (TAs can't see saved bokeh figures in anytask). You can save bokeh images as screenshots or using this button:\n",
    "\n",
    "![bokeh_panel](https://github.com/yandexdataschool/nlp_course/raw/2019/resources/bokeh_panel.png)\n",
    "\n",
    "__Note:__ you're not locked into using bokeh. If you prefer a different visualization method, feel free to use that instead of bokeh."
   ]
  },
  {
   "cell_type": "code",
   "execution_count": 16,
   "metadata": {
    "execution": {
     "iopub.execute_input": "2024-10-15T15:49:40.225982Z",
     "iopub.status.busy": "2024-10-15T15:49:40.225133Z",
     "iopub.status.idle": "2024-10-15T15:49:41.277995Z",
     "shell.execute_reply": "2024-10-15T15:49:41.277151Z",
     "shell.execute_reply.started": "2024-10-15T15:49:40.225941Z"
    },
    "tags": []
   },
   "outputs": [
    {
     "data": {
      "text/html": [
       "<style>\n",
       "        .bk-notebook-logo {\n",
       "            display: block;\n",
       "            width: 20px;\n",
       "            height: 20px;\n",
       "            background-image: url(data:image/png;base64,iVBORw0KGgoAAAANSUhEUgAAABQAAAAUCAYAAACNiR0NAAAABHNCSVQICAgIfAhkiAAAAAlwSFlzAAALEgAACxIB0t1+/AAAABx0RVh0U29mdHdhcmUAQWRvYmUgRmlyZXdvcmtzIENTNui8sowAAAOkSURBVDiNjZRtaJVlGMd/1/08zzln5zjP1LWcU9N0NkN8m2CYjpgQYQXqSs0I84OLIC0hkEKoPtiH3gmKoiJDU7QpLgoLjLIQCpEsNJ1vqUOdO7ppbuec5+V+rj4ctwzd8IIbbi6u+8f1539dt3A78eXC7QizUF7gyV1fD1Yqg4JWz84yffhm0qkFqBogB9rM8tZdtwVsPUhWhGcFJngGeWrPzHm5oaMmkfEg1usvLFyc8jLRqDOMru7AyC8saQr7GG7f5fvDeH7Ej8CM66nIF+8yngt6HWaKh7k49Soy9nXurCi1o3qUbS3zWfrYeQDTB/Qj6kX6Ybhw4B+bOYoLKCC9H3Nu/leUTZ1JdRWkkn2ldcCamzrcf47KKXdAJllSlxAOkRgyHsGC/zRday5Qld9DyoM4/q/rUoy/CXh3jzOu3bHUVZeU+DEn8FInkPBFlu3+nW3Nw0mk6vCDiWg8CeJaxEwuHS3+z5RgY+YBR6V1Z1nxSOfoaPa4LASWxxdNp+VWTk7+4vzaou8v8PN+xo+KY2xsw6une2frhw05CTYOmQvsEhjhWjn0bmXPjpE1+kplmmkP3suftwTubK9Vq22qKmrBhpY4jvd5afdRA3wGjFAgcnTK2s4hY0/GPNIb0nErGMCRxWOOX64Z8RAC4oCXdklmEvcL8o0BfkNK4lUg9HTl+oPlQxdNo3Mg4Nv175e/1LDGzZen30MEjRUtmXSfiTVu1kK8W4txyV6BMKlbgk3lMwYCiusNy9fVfvvwMxv8Ynl6vxoByANLTWplvuj/nF9m2+PDtt1eiHPBr1oIfhCChQMBw6Aw0UulqTKZdfVvfG7VcfIqLG9bcldL/+pdWTLxLUy8Qq38heUIjh4XlzZxzQm19lLFlr8vdQ97rjZVOLf8nclzckbcD4wxXMidpX30sFd37Fv/GtwwhzhxGVAprjbg0gCAEeIgwCZyTV2Z1REEW8O4py0wsjeloKoMr6iCY6dP92H6Vw/oTyICIthibxjm/DfN9lVz8IqtqKYLUXfoKVMVQVVJOElGjrnnUt9T9wbgp8AyYKaGlqingHZU/uG2NTZSVqwHQTWkx9hxjkpWDaCg6Ckj5qebgBVbT3V3NNXMSiWSDdGV3hrtzla7J+duwPOToIg42ChPQOQjspnSlp1V+Gjdged7+8UN5CRAV7a5EdFNwCjEaBR27b3W890TE7g24NAP/mMDXRWrGoFPQI9ls/MWO2dWFAar/xcOIImbbpA3zgAAAABJRU5ErkJggg==);\n",
       "        }\n",
       "    </style>\n",
       "    <div>\n",
       "        <a href=\"https://bokeh.org\" target=\"_blank\" class=\"bk-notebook-logo\"></a>\n",
       "        <span id=\"a4a1053d-56af-465f-a7e0-9ee44c323122\">Loading BokehJS ...</span>\n",
       "    </div>\n"
      ]
     },
     "metadata": {},
     "output_type": "display_data"
    },
    {
     "data": {
      "application/javascript": [
       "(function(root) {\n",
       "  function now() {\n",
       "    return new Date();\n",
       "  }\n",
       "\n",
       "  const force = true;\n",
       "\n",
       "  if (typeof root._bokeh_onload_callbacks === \"undefined\" || force === true) {\n",
       "    root._bokeh_onload_callbacks = [];\n",
       "    root._bokeh_is_loading = undefined;\n",
       "  }\n",
       "\n",
       "const JS_MIME_TYPE = 'application/javascript';\n",
       "  const HTML_MIME_TYPE = 'text/html';\n",
       "  const EXEC_MIME_TYPE = 'application/vnd.bokehjs_exec.v0+json';\n",
       "  const CLASS_NAME = 'output_bokeh rendered_html';\n",
       "\n",
       "  /**\n",
       "   * Render data to the DOM node\n",
       "   */\n",
       "  function render(props, node) {\n",
       "    const script = document.createElement(\"script\");\n",
       "    node.appendChild(script);\n",
       "  }\n",
       "\n",
       "  /**\n",
       "   * Handle when an output is cleared or removed\n",
       "   */\n",
       "  function handleClearOutput(event, handle) {\n",
       "    const cell = handle.cell;\n",
       "\n",
       "    const id = cell.output_area._bokeh_element_id;\n",
       "    const server_id = cell.output_area._bokeh_server_id;\n",
       "    // Clean up Bokeh references\n",
       "    if (id != null && id in Bokeh.index) {\n",
       "      Bokeh.index[id].model.document.clear();\n",
       "      delete Bokeh.index[id];\n",
       "    }\n",
       "\n",
       "    if (server_id !== undefined) {\n",
       "      // Clean up Bokeh references\n",
       "      const cmd_clean = \"from bokeh.io.state import curstate; print(curstate().uuid_to_server['\" + server_id + \"'].get_sessions()[0].document.roots[0]._id)\";\n",
       "      cell.notebook.kernel.execute(cmd_clean, {\n",
       "        iopub: {\n",
       "          output: function(msg) {\n",
       "            const id = msg.content.text.trim();\n",
       "            if (id in Bokeh.index) {\n",
       "              Bokeh.index[id].model.document.clear();\n",
       "              delete Bokeh.index[id];\n",
       "            }\n",
       "          }\n",
       "        }\n",
       "      });\n",
       "      // Destroy server and session\n",
       "      const cmd_destroy = \"import bokeh.io.notebook as ion; ion.destroy_server('\" + server_id + \"')\";\n",
       "      cell.notebook.kernel.execute(cmd_destroy);\n",
       "    }\n",
       "  }\n",
       "\n",
       "  /**\n",
       "   * Handle when a new output is added\n",
       "   */\n",
       "  function handleAddOutput(event, handle) {\n",
       "    const output_area = handle.output_area;\n",
       "    const output = handle.output;\n",
       "\n",
       "    // limit handleAddOutput to display_data with EXEC_MIME_TYPE content only\n",
       "    if ((output.output_type != \"display_data\") || (!Object.prototype.hasOwnProperty.call(output.data, EXEC_MIME_TYPE))) {\n",
       "      return\n",
       "    }\n",
       "\n",
       "    const toinsert = output_area.element.find(\".\" + CLASS_NAME.split(' ')[0]);\n",
       "\n",
       "    if (output.metadata[EXEC_MIME_TYPE][\"id\"] !== undefined) {\n",
       "      toinsert[toinsert.length - 1].firstChild.textContent = output.data[JS_MIME_TYPE];\n",
       "      // store reference to embed id on output_area\n",
       "      output_area._bokeh_element_id = output.metadata[EXEC_MIME_TYPE][\"id\"];\n",
       "    }\n",
       "    if (output.metadata[EXEC_MIME_TYPE][\"server_id\"] !== undefined) {\n",
       "      const bk_div = document.createElement(\"div\");\n",
       "      bk_div.innerHTML = output.data[HTML_MIME_TYPE];\n",
       "      const script_attrs = bk_div.children[0].attributes;\n",
       "      for (let i = 0; i < script_attrs.length; i++) {\n",
       "        toinsert[toinsert.length - 1].firstChild.setAttribute(script_attrs[i].name, script_attrs[i].value);\n",
       "        toinsert[toinsert.length - 1].firstChild.textContent = bk_div.children[0].textContent\n",
       "      }\n",
       "      // store reference to server id on output_area\n",
       "      output_area._bokeh_server_id = output.metadata[EXEC_MIME_TYPE][\"server_id\"];\n",
       "    }\n",
       "  }\n",
       "\n",
       "  function register_renderer(events, OutputArea) {\n",
       "\n",
       "    function append_mime(data, metadata, element) {\n",
       "      // create a DOM node to render to\n",
       "      const toinsert = this.create_output_subarea(\n",
       "        metadata,\n",
       "        CLASS_NAME,\n",
       "        EXEC_MIME_TYPE\n",
       "      );\n",
       "      this.keyboard_manager.register_events(toinsert);\n",
       "      // Render to node\n",
       "      const props = {data: data, metadata: metadata[EXEC_MIME_TYPE]};\n",
       "      render(props, toinsert[toinsert.length - 1]);\n",
       "      element.append(toinsert);\n",
       "      return toinsert\n",
       "    }\n",
       "\n",
       "    /* Handle when an output is cleared or removed */\n",
       "    events.on('clear_output.CodeCell', handleClearOutput);\n",
       "    events.on('delete.Cell', handleClearOutput);\n",
       "\n",
       "    /* Handle when a new output is added */\n",
       "    events.on('output_added.OutputArea', handleAddOutput);\n",
       "\n",
       "    /**\n",
       "     * Register the mime type and append_mime function with output_area\n",
       "     */\n",
       "    OutputArea.prototype.register_mime_type(EXEC_MIME_TYPE, append_mime, {\n",
       "      /* Is output safe? */\n",
       "      safe: true,\n",
       "      /* Index of renderer in `output_area.display_order` */\n",
       "      index: 0\n",
       "    });\n",
       "  }\n",
       "\n",
       "  // register the mime type if in Jupyter Notebook environment and previously unregistered\n",
       "  if (root.Jupyter !== undefined) {\n",
       "    const events = require('base/js/events');\n",
       "    const OutputArea = require('notebook/js/outputarea').OutputArea;\n",
       "\n",
       "    if (OutputArea.prototype.mime_types().indexOf(EXEC_MIME_TYPE) == -1) {\n",
       "      register_renderer(events, OutputArea);\n",
       "    }\n",
       "  }\n",
       "  if (typeof (root._bokeh_timeout) === \"undefined\" || force === true) {\n",
       "    root._bokeh_timeout = Date.now() + 5000;\n",
       "    root._bokeh_failed_load = false;\n",
       "  }\n",
       "\n",
       "  const NB_LOAD_WARNING = {'data': {'text/html':\n",
       "     \"<div style='background-color: #fdd'>\\n\"+\n",
       "     \"<p>\\n\"+\n",
       "     \"BokehJS does not appear to have successfully loaded. If loading BokehJS from CDN, this \\n\"+\n",
       "     \"may be due to a slow or bad network connection. Possible fixes:\\n\"+\n",
       "     \"</p>\\n\"+\n",
       "     \"<ul>\\n\"+\n",
       "     \"<li>re-rerun `output_notebook()` to attempt to load from CDN again, or</li>\\n\"+\n",
       "     \"<li>use INLINE resources instead, as so:</li>\\n\"+\n",
       "     \"</ul>\\n\"+\n",
       "     \"<code>\\n\"+\n",
       "     \"from bokeh.resources import INLINE\\n\"+\n",
       "     \"output_notebook(resources=INLINE)\\n\"+\n",
       "     \"</code>\\n\"+\n",
       "     \"</div>\"}};\n",
       "\n",
       "  function display_loaded() {\n",
       "    const el = document.getElementById(\"a4a1053d-56af-465f-a7e0-9ee44c323122\");\n",
       "    if (el != null) {\n",
       "      el.textContent = \"BokehJS is loading...\";\n",
       "    }\n",
       "    if (root.Bokeh !== undefined) {\n",
       "      if (el != null) {\n",
       "        el.textContent = \"BokehJS \" + root.Bokeh.version + \" successfully loaded.\";\n",
       "      }\n",
       "    } else if (Date.now() < root._bokeh_timeout) {\n",
       "      setTimeout(display_loaded, 100)\n",
       "    }\n",
       "  }\n",
       "\n",
       "  function run_callbacks() {\n",
       "    try {\n",
       "      root._bokeh_onload_callbacks.forEach(function(callback) {\n",
       "        if (callback != null)\n",
       "          callback();\n",
       "      });\n",
       "    } finally {\n",
       "      delete root._bokeh_onload_callbacks\n",
       "    }\n",
       "    console.debug(\"Bokeh: all callbacks have finished\");\n",
       "  }\n",
       "\n",
       "  function load_libs(css_urls, js_urls, callback) {\n",
       "    if (css_urls == null) css_urls = [];\n",
       "    if (js_urls == null) js_urls = [];\n",
       "\n",
       "    root._bokeh_onload_callbacks.push(callback);\n",
       "    if (root._bokeh_is_loading > 0) {\n",
       "      console.debug(\"Bokeh: BokehJS is being loaded, scheduling callback at\", now());\n",
       "      return null;\n",
       "    }\n",
       "    if (js_urls == null || js_urls.length === 0) {\n",
       "      run_callbacks();\n",
       "      return null;\n",
       "    }\n",
       "    console.debug(\"Bokeh: BokehJS not loaded, scheduling load and callback at\", now());\n",
       "    root._bokeh_is_loading = css_urls.length + js_urls.length;\n",
       "\n",
       "    function on_load() {\n",
       "      root._bokeh_is_loading--;\n",
       "      if (root._bokeh_is_loading === 0) {\n",
       "        console.debug(\"Bokeh: all BokehJS libraries/stylesheets loaded\");\n",
       "        run_callbacks()\n",
       "      }\n",
       "    }\n",
       "\n",
       "    function on_error(url) {\n",
       "      console.error(\"failed to load \" + url);\n",
       "    }\n",
       "\n",
       "    for (let i = 0; i < css_urls.length; i++) {\n",
       "      const url = css_urls[i];\n",
       "      const element = document.createElement(\"link\");\n",
       "      element.onload = on_load;\n",
       "      element.onerror = on_error.bind(null, url);\n",
       "      element.rel = \"stylesheet\";\n",
       "      element.type = \"text/css\";\n",
       "      element.href = url;\n",
       "      console.debug(\"Bokeh: injecting link tag for BokehJS stylesheet: \", url);\n",
       "      document.body.appendChild(element);\n",
       "    }\n",
       "\n",
       "    for (let i = 0; i < js_urls.length; i++) {\n",
       "      const url = js_urls[i];\n",
       "      const element = document.createElement('script');\n",
       "      element.onload = on_load;\n",
       "      element.onerror = on_error.bind(null, url);\n",
       "      element.async = false;\n",
       "      element.src = url;\n",
       "      console.debug(\"Bokeh: injecting script tag for BokehJS library: \", url);\n",
       "      document.head.appendChild(element);\n",
       "    }\n",
       "  };\n",
       "\n",
       "  function inject_raw_css(css) {\n",
       "    const element = document.createElement(\"style\");\n",
       "    element.appendChild(document.createTextNode(css));\n",
       "    document.body.appendChild(element);\n",
       "  }\n",
       "\n",
       "  const js_urls = [\"https://cdn.bokeh.org/bokeh/release/bokeh-3.1.1.min.js\", \"https://cdn.bokeh.org/bokeh/release/bokeh-gl-3.1.1.min.js\", \"https://cdn.bokeh.org/bokeh/release/bokeh-widgets-3.1.1.min.js\", \"https://cdn.bokeh.org/bokeh/release/bokeh-tables-3.1.1.min.js\", \"https://cdn.bokeh.org/bokeh/release/bokeh-mathjax-3.1.1.min.js\"];\n",
       "  const css_urls = [];\n",
       "\n",
       "  const inline_js = [    function(Bokeh) {\n",
       "      Bokeh.set_log_level(\"info\");\n",
       "    },\n",
       "function(Bokeh) {\n",
       "    }\n",
       "  ];\n",
       "\n",
       "  function run_inline_js() {\n",
       "    if (root.Bokeh !== undefined || force === true) {\n",
       "          for (let i = 0; i < inline_js.length; i++) {\n",
       "      inline_js[i].call(root, root.Bokeh);\n",
       "    }\n",
       "if (force === true) {\n",
       "        display_loaded();\n",
       "      }} else if (Date.now() < root._bokeh_timeout) {\n",
       "      setTimeout(run_inline_js, 100);\n",
       "    } else if (!root._bokeh_failed_load) {\n",
       "      console.log(\"Bokeh: BokehJS failed to load within specified timeout.\");\n",
       "      root._bokeh_failed_load = true;\n",
       "    } else if (force !== true) {\n",
       "      const cell = $(document.getElementById(\"a4a1053d-56af-465f-a7e0-9ee44c323122\")).parents('.cell').data().cell;\n",
       "      cell.output_area.append_execute_result(NB_LOAD_WARNING)\n",
       "    }\n",
       "  }\n",
       "\n",
       "  if (root._bokeh_is_loading === 0) {\n",
       "    console.debug(\"Bokeh: BokehJS loaded, going straight to plotting\");\n",
       "    run_inline_js();\n",
       "  } else {\n",
       "    load_libs(css_urls, js_urls, function() {\n",
       "      console.debug(\"Bokeh: BokehJS plotting callback run at\", now());\n",
       "      run_inline_js();\n",
       "    });\n",
       "  }\n",
       "}(window));"
      ],
      "application/vnd.bokehjs_load.v0+json": "(function(root) {\n  function now() {\n    return new Date();\n  }\n\n  const force = true;\n\n  if (typeof root._bokeh_onload_callbacks === \"undefined\" || force === true) {\n    root._bokeh_onload_callbacks = [];\n    root._bokeh_is_loading = undefined;\n  }\n\n\n  if (typeof (root._bokeh_timeout) === \"undefined\" || force === true) {\n    root._bokeh_timeout = Date.now() + 5000;\n    root._bokeh_failed_load = false;\n  }\n\n  const NB_LOAD_WARNING = {'data': {'text/html':\n     \"<div style='background-color: #fdd'>\\n\"+\n     \"<p>\\n\"+\n     \"BokehJS does not appear to have successfully loaded. If loading BokehJS from CDN, this \\n\"+\n     \"may be due to a slow or bad network connection. Possible fixes:\\n\"+\n     \"</p>\\n\"+\n     \"<ul>\\n\"+\n     \"<li>re-rerun `output_notebook()` to attempt to load from CDN again, or</li>\\n\"+\n     \"<li>use INLINE resources instead, as so:</li>\\n\"+\n     \"</ul>\\n\"+\n     \"<code>\\n\"+\n     \"from bokeh.resources import INLINE\\n\"+\n     \"output_notebook(resources=INLINE)\\n\"+\n     \"</code>\\n\"+\n     \"</div>\"}};\n\n  function display_loaded() {\n    const el = document.getElementById(\"a4a1053d-56af-465f-a7e0-9ee44c323122\");\n    if (el != null) {\n      el.textContent = \"BokehJS is loading...\";\n    }\n    if (root.Bokeh !== undefined) {\n      if (el != null) {\n        el.textContent = \"BokehJS \" + root.Bokeh.version + \" successfully loaded.\";\n      }\n    } else if (Date.now() < root._bokeh_timeout) {\n      setTimeout(display_loaded, 100)\n    }\n  }\n\n  function run_callbacks() {\n    try {\n      root._bokeh_onload_callbacks.forEach(function(callback) {\n        if (callback != null)\n          callback();\n      });\n    } finally {\n      delete root._bokeh_onload_callbacks\n    }\n    console.debug(\"Bokeh: all callbacks have finished\");\n  }\n\n  function load_libs(css_urls, js_urls, callback) {\n    if (css_urls == null) css_urls = [];\n    if (js_urls == null) js_urls = [];\n\n    root._bokeh_onload_callbacks.push(callback);\n    if (root._bokeh_is_loading > 0) {\n      console.debug(\"Bokeh: BokehJS is being loaded, scheduling callback at\", now());\n      return null;\n    }\n    if (js_urls == null || js_urls.length === 0) {\n      run_callbacks();\n      return null;\n    }\n    console.debug(\"Bokeh: BokehJS not loaded, scheduling load and callback at\", now());\n    root._bokeh_is_loading = css_urls.length + js_urls.length;\n\n    function on_load() {\n      root._bokeh_is_loading--;\n      if (root._bokeh_is_loading === 0) {\n        console.debug(\"Bokeh: all BokehJS libraries/stylesheets loaded\");\n        run_callbacks()\n      }\n    }\n\n    function on_error(url) {\n      console.error(\"failed to load \" + url);\n    }\n\n    for (let i = 0; i < css_urls.length; i++) {\n      const url = css_urls[i];\n      const element = document.createElement(\"link\");\n      element.onload = on_load;\n      element.onerror = on_error.bind(null, url);\n      element.rel = \"stylesheet\";\n      element.type = \"text/css\";\n      element.href = url;\n      console.debug(\"Bokeh: injecting link tag for BokehJS stylesheet: \", url);\n      document.body.appendChild(element);\n    }\n\n    for (let i = 0; i < js_urls.length; i++) {\n      const url = js_urls[i];\n      const element = document.createElement('script');\n      element.onload = on_load;\n      element.onerror = on_error.bind(null, url);\n      element.async = false;\n      element.src = url;\n      console.debug(\"Bokeh: injecting script tag for BokehJS library: \", url);\n      document.head.appendChild(element);\n    }\n  };\n\n  function inject_raw_css(css) {\n    const element = document.createElement(\"style\");\n    element.appendChild(document.createTextNode(css));\n    document.body.appendChild(element);\n  }\n\n  const js_urls = [\"https://cdn.bokeh.org/bokeh/release/bokeh-3.1.1.min.js\", \"https://cdn.bokeh.org/bokeh/release/bokeh-gl-3.1.1.min.js\", \"https://cdn.bokeh.org/bokeh/release/bokeh-widgets-3.1.1.min.js\", \"https://cdn.bokeh.org/bokeh/release/bokeh-tables-3.1.1.min.js\", \"https://cdn.bokeh.org/bokeh/release/bokeh-mathjax-3.1.1.min.js\"];\n  const css_urls = [];\n\n  const inline_js = [    function(Bokeh) {\n      Bokeh.set_log_level(\"info\");\n    },\nfunction(Bokeh) {\n    }\n  ];\n\n  function run_inline_js() {\n    if (root.Bokeh !== undefined || force === true) {\n          for (let i = 0; i < inline_js.length; i++) {\n      inline_js[i].call(root, root.Bokeh);\n    }\nif (force === true) {\n        display_loaded();\n      }} else if (Date.now() < root._bokeh_timeout) {\n      setTimeout(run_inline_js, 100);\n    } else if (!root._bokeh_failed_load) {\n      console.log(\"Bokeh: BokehJS failed to load within specified timeout.\");\n      root._bokeh_failed_load = true;\n    } else if (force !== true) {\n      const cell = $(document.getElementById(\"a4a1053d-56af-465f-a7e0-9ee44c323122\")).parents('.cell').data().cell;\n      cell.output_area.append_execute_result(NB_LOAD_WARNING)\n    }\n  }\n\n  if (root._bokeh_is_loading === 0) {\n    console.debug(\"Bokeh: BokehJS loaded, going straight to plotting\");\n    run_inline_js();\n  } else {\n    load_libs(css_urls, js_urls, function() {\n      console.debug(\"Bokeh: BokehJS plotting callback run at\", now());\n      run_inline_js();\n    });\n  }\n}(window));"
     },
     "metadata": {},
     "output_type": "display_data"
    }
   ],
   "source": [
    "import bokeh.plotting as pl\n",
    "import bokeh.models as bm\n",
    "from bokeh.io import output_notebook, show\n",
    "output_notebook()\n",
    "\n",
    "def draw_attention(inp_line, translation, probs):\n",
    "    \"\"\" An intentionally ambiguous function to visualize attention weights \"\"\"\n",
    "    inp_tokens = inp_voc.tokenize(inp_line)\n",
    "    trans_tokens = out_voc.tokenize(translation)\n",
    "    probs = probs[:len(trans_tokens), :len(inp_tokens)]\n",
    "    \n",
    "    fig = pl.figure(x_range=(0, len(inp_tokens)), y_range=(0, len(trans_tokens)),\n",
    "                    x_axis_type=None, y_axis_type=None, tools=[])\n",
    "    fig.image([probs[::-1]], 0, 0, len(inp_tokens), len(trans_tokens))\n",
    "\n",
    "    fig.add_layout(bm.LinearAxis(axis_label='source tokens'), 'above')\n",
    "    fig.xaxis.ticker = np.arange(len(inp_tokens)) + 0.5\n",
    "    fig.xaxis.major_label_overrides = dict(zip(np.arange(len(inp_tokens)) + 0.5, inp_tokens))\n",
    "    fig.xaxis.major_label_orientation = 45\n",
    "\n",
    "    fig.add_layout(bm.LinearAxis(axis_label='translation tokens'), 'left')\n",
    "    fig.yaxis.ticker = np.arange(len(trans_tokens)) + 0.5\n",
    "    fig.yaxis.major_label_overrides = dict(zip(np.arange(len(trans_tokens)) + 0.5, trans_tokens[::-1]))\n",
    "\n",
    "    show(fig)"
   ]
  },
  {
   "cell_type": "code",
   "execution_count": 146,
   "metadata": {
    "execution": {
     "iopub.execute_input": "2024-10-14T20:24:53.010833Z",
     "iopub.status.busy": "2024-10-14T20:24:53.009334Z",
     "iopub.status.idle": "2024-10-14T20:24:53.122322Z",
     "shell.execute_reply": "2024-10-14T20:24:53.121451Z",
     "shell.execute_reply.started": "2024-10-14T20:24:53.010788Z"
    }
   },
   "outputs": [],
   "source": [
    "inp = dev_inp[::500]\n",
    "\n",
    "trans, states = model.translate_lines(inp)\n",
    "\n",
    "# select attention probs from model state (you may need to change this for your custom model)\n",
    "# attention_probs below must have shape [batch_size, translation_length, input_length], extracted from states\n",
    "# e.g. if attention probs are at the end of each state, use np.stack([state[-1] for state in states], axis=1)\n"
   ]
  },
  {
   "cell_type": "code",
   "execution_count": 185,
   "metadata": {
    "execution": {
     "iopub.execute_input": "2024-10-14T20:42:29.012730Z",
     "iopub.status.busy": "2024-10-14T20:42:29.011417Z",
     "iopub.status.idle": "2024-10-14T20:42:29.061300Z",
     "shell.execute_reply": "2024-10-14T20:42:29.060421Z",
     "shell.execute_reply.started": "2024-10-14T20:42:29.012687Z"
    },
    "tags": []
   },
   "outputs": [],
   "source": [
    "attention_probs = np.stack([state[-1].cpu().detach().numpy() for state in states], axis=1)"
   ]
  },
  {
   "cell_type": "code",
   "execution_count": 186,
   "metadata": {
    "execution": {
     "iopub.execute_input": "2024-10-14T20:42:32.114368Z",
     "iopub.status.busy": "2024-10-14T20:42:32.113322Z",
     "iopub.status.idle": "2024-10-14T20:42:32.158591Z",
     "shell.execute_reply": "2024-10-14T20:42:32.157552Z",
     "shell.execute_reply.started": "2024-10-14T20:42:32.114325Z"
    },
    "tags": []
   },
   "outputs": [
    {
     "data": {
      "text/plain": [
       "(6, 101, 32)"
      ]
     },
     "execution_count": 186,
     "metadata": {},
     "output_type": "execute_result"
    }
   ],
   "source": [
    "attention_probs.shape"
   ]
  },
  {
   "cell_type": "markdown",
   "metadata": {
    "tags": []
   },
   "source": [
    "## Attention maps for non-zero init decoder state model (I'll send screens, seems bad lol)"
   ]
  },
  {
   "cell_type": "code",
   "execution_count": 187,
   "metadata": {
    "execution": {
     "iopub.execute_input": "2024-10-14T20:42:37.108909Z",
     "iopub.status.busy": "2024-10-14T20:42:37.107785Z",
     "iopub.status.idle": "2024-10-14T20:42:37.446280Z",
     "shell.execute_reply": "2024-10-14T20:42:37.445334Z",
     "shell.execute_reply.started": "2024-10-14T20:42:37.108866Z"
    }
   },
   "outputs": [
    {
     "data": {
      "text/html": [
       "\n",
       "  <div id=\"fcbd1a12-34ef-42fe-8a17-2f1e36173282\" data-root-id=\"p1001\" style=\"display: contents;\"></div>\n"
      ]
     },
     "metadata": {},
     "output_type": "display_data"
    },
    {
     "data": {
      "application/javascript": [
       "(function(root) {\n",
       "  function embed_document(root) {\n",
       "  const docs_json = {\"eb5044c2-d738-453f-8620-1648c0202fbf\":{\"version\":\"3.1.1\",\"title\":\"Bokeh Application\",\"defs\":[],\"roots\":[{\"type\":\"object\",\"name\":\"Figure\",\"id\":\"p1001\",\"attributes\":{\"x_range\":{\"type\":\"object\",\"name\":\"Range1d\",\"id\":\"p1010\",\"attributes\":{\"end\":11}},\"y_range\":{\"type\":\"object\",\"name\":\"Range1d\",\"id\":\"p1012\",\"attributes\":{\"end\":15}},\"x_scale\":{\"type\":\"object\",\"name\":\"LinearScale\",\"id\":\"p1014\"},\"y_scale\":{\"type\":\"object\",\"name\":\"LinearScale\",\"id\":\"p1016\"},\"title\":{\"type\":\"object\",\"name\":\"Title\",\"id\":\"p1006\"},\"renderers\":[{\"type\":\"object\",\"name\":\"GlyphRenderer\",\"id\":\"p1031\",\"attributes\":{\"data_source\":{\"type\":\"object\",\"name\":\"ColumnDataSource\",\"id\":\"p1019\",\"attributes\":{\"selected\":{\"type\":\"object\",\"name\":\"Selection\",\"id\":\"p1020\",\"attributes\":{\"indices\":[],\"line_indices\":[]}},\"selection_policy\":{\"type\":\"object\",\"name\":\"UnionRenderers\",\"id\":\"p1021\"},\"data\":{\"type\":\"map\",\"entries\":[[\"image\",[{\"type\":\"ndarray\",\"array\":{\"type\":\"bytes\",\"data\":\"wLEFOj1vMzevQWc37F+hNqkgQzf//t44mTghOltOmTsu1H870EkUP75g0j7aCEc4YqalN6V5AjdTvB81cpYqN2HDXjioFYw8CRLdOudmsjr3oWs/UMhyPW1UkzeqsrY5Okt2OSYO8TdzCGQ5H3Z9PGUXHD5ToOc8otGFPfJXBz+H9lU+AzAWNXcIJTVmGNozUncDNMlGKDc52+c3oLydOtI9Lz1ZYZg8gKFtP0WKFTyAxMY5A46yN+7Njjd6zxU3Z8XEOLm7xzlaKJU7x1Z8PgooqT3r2xU/FCCkPXCRmjtmAqc46BDnNQZQuDQrUjM4HjncOpkkAj5haJI9XLyWPcyRHT96qNg9DnSjOGKYvjcKiBg36qWBNSJOWTdywN47VOwwP6dipDw0PyY+ksTsPQFOgTuLuc04LjU2NyK5oDVY4rY1c36JOkB0IDxdQz4/n7P6PQgfRD3UiJg9fImKOtW7vTm7xTU4Nii3OHJJeDdI2ok5tQ7iO8RvEz9RRis9HPEaPmQ8Tz7QO6s8yql7PPHHyTwwTW47bQnMOs6orj3HscA+9hUEPqg+1j3nF2E9kkAQPqSOgj1J9ng8rqkxPHQTMzyOKKQ74IodPhmucz5nuYk+KzatPWrpwz1ZeJI9Ci86PfwRhjtQxo89z8QtPOS8xjt+KCw+NEQzPhk3pT58ZgM+wPQqPY5jhj0NOPU7N40yPE3NwDwRM4Q959jGPNgmPD4u7jA+5HMhPggYZj6cM089TgSjPXIb+zvQ3uo8oMvYPNwbjj1OD789KZe9Ph/H+D3eSSw+botnPd+f6zzppdE8Zdw4PJOFgDua/Gc7wnZ+PI5URDxC+AA+j56UPYnZvj5aqY8+lOiAPOt2uD3GKvE7\"},\"shape\":[15,11],\"dtype\":\"float32\",\"order\":\"little\"}]]]}}},\"view\":{\"type\":\"object\",\"name\":\"CDSView\",\"id\":\"p1032\",\"attributes\":{\"filter\":{\"type\":\"object\",\"name\":\"AllIndices\",\"id\":\"p1033\"}}},\"glyph\":{\"type\":\"object\",\"name\":\"Image\",\"id\":\"p1022\",\"attributes\":{\"x\":{\"type\":\"value\",\"value\":0},\"y\":{\"type\":\"value\",\"value\":0},\"dw\":{\"type\":\"value\",\"value\":11},\"dh\":{\"type\":\"value\",\"value\":15},\"image\":{\"type\":\"field\",\"field\":\"image\"},\"color_mapper\":{\"type\":\"object\",\"name\":\"LinearColorMapper\",\"id\":\"p1023\",\"attributes\":{\"palette\":[\"#000000\",\"#252525\",\"#525252\",\"#737373\",\"#969696\",\"#bdbdbd\",\"#d9d9d9\",\"#f0f0f0\",\"#ffffff\"]}}}},\"nonselection_glyph\":{\"type\":\"object\",\"name\":\"Image\",\"id\":\"p1025\",\"attributes\":{\"x\":{\"type\":\"value\",\"value\":0},\"y\":{\"type\":\"value\",\"value\":0},\"dw\":{\"type\":\"value\",\"value\":11},\"dh\":{\"type\":\"value\",\"value\":15},\"global_alpha\":{\"type\":\"value\",\"value\":0.1},\"image\":{\"type\":\"field\",\"field\":\"image\"},\"color_mapper\":{\"type\":\"object\",\"name\":\"LinearColorMapper\",\"id\":\"p1026\",\"attributes\":{\"palette\":[\"#000000\",\"#252525\",\"#525252\",\"#737373\",\"#969696\",\"#bdbdbd\",\"#d9d9d9\",\"#f0f0f0\",\"#ffffff\"]}}}},\"muted_glyph\":{\"type\":\"object\",\"name\":\"Image\",\"id\":\"p1028\",\"attributes\":{\"x\":{\"type\":\"value\",\"value\":0},\"y\":{\"type\":\"value\",\"value\":0},\"dw\":{\"type\":\"value\",\"value\":11},\"dh\":{\"type\":\"value\",\"value\":15},\"global_alpha\":{\"type\":\"value\",\"value\":0.2},\"image\":{\"type\":\"field\",\"field\":\"image\"},\"color_mapper\":{\"type\":\"object\",\"name\":\"LinearColorMapper\",\"id\":\"p1029\",\"attributes\":{\"palette\":[\"#000000\",\"#252525\",\"#525252\",\"#737373\",\"#969696\",\"#bdbdbd\",\"#d9d9d9\",\"#f0f0f0\",\"#ffffff\"]}}}}}}],\"toolbar\":{\"type\":\"object\",\"name\":\"Toolbar\",\"id\":\"p1009\"},\"left\":[{\"type\":\"object\",\"name\":\"LinearAxis\",\"id\":\"p1040\",\"attributes\":{\"ticker\":{\"type\":\"object\",\"name\":\"FixedTicker\",\"id\":\"p1044\",\"attributes\":{\"ticks\":{\"type\":\"ndarray\",\"array\":{\"type\":\"bytes\",\"data\":\"AAAAAAAA4D8AAAAAAAD4PwAAAAAAAARAAAAAAAAADEAAAAAAAAASQAAAAAAAABZAAAAAAAAAGkAAAAAAAAAeQAAAAAAAACFAAAAAAAAAI0AAAAAAAAAlQAAAAAAAACdAAAAAAAAAKUAAAAAAAAArQAAAAAAAAC1A\"},\"shape\":[15],\"dtype\":\"float64\",\"order\":\"little\"},\"minor_ticks\":[]}},\"formatter\":{\"type\":\"object\",\"name\":\"BasicTickFormatter\",\"id\":\"p1041\"},\"axis_label\":\"translation tokens\",\"major_label_overrides\":{\"type\":\"map\",\"entries\":[[0.5,\"_EOS_\"],[1.5,\".\"],[2.5,\"kitchen\"],[3.5,\"shared\"],[4.5,\"a\"],[5.5,\"and\"],[6.5,\"kitchen\"],[7.5,\"shared\"],[8.5,\"a\"],[9.5,\"include\"],[10.5,\"facilities\"],[11.5,\"kitchen\"],[12.5,\"shared\"],[13.5,\"the\"],[14.5,\"_BOS_\"]]},\"major_label_policy\":{\"type\":\"object\",\"name\":\"AllLabels\",\"id\":\"p1043\"}}}],\"above\":[{\"type\":\"object\",\"name\":\"LinearAxis\",\"id\":\"p1034\",\"attributes\":{\"ticker\":{\"type\":\"object\",\"name\":\"FixedTicker\",\"id\":\"p1038\",\"attributes\":{\"ticks\":{\"type\":\"ndarray\",\"array\":{\"type\":\"bytes\",\"data\":\"AAAAAAAA4D8AAAAAAAD4PwAAAAAAAARAAAAAAAAADEAAAAAAAAASQAAAAAAAABZAAAAAAAAAGkAAAAAAAAAeQAAAAAAAACFAAAAAAAAAI0AAAAAAAAAlQA==\"},\"shape\":[11],\"dtype\":\"float64\",\"order\":\"little\"},\"minor_ticks\":[]}},\"formatter\":{\"type\":\"object\",\"name\":\"BasicTickFormatter\",\"id\":\"p1035\"},\"axis_label\":\"source tokens\",\"major_label_orientation\":45,\"major_label_overrides\":{\"type\":\"map\",\"entries\":[[0.5,\"_BOS_\"],[1.5,\"\\u0432\"],[2.5,\"\\u0440\\u0430\\u0441\\u043f\\u043e\\u0440\\u044f\\u0436\\u0435\\u043d\\u0438\\u0438\"],[3.5,\"\\u0433\\u043e\\u0441\\u0442\\u0435\\u0439\"],[4.5,\"\\u043e\\u0431\\u0449\\u0430\\u044f\"],[5.5,\"\\u043a\\u0443\\u0445\\u043d\\u044f\"],[6.5,\"\\u0438\"],[7.5,\"\\u043e\\u0431\\u0449\\u0430\\u044f\"],[8.5,\"\\u0433\\u043e\\u0441\\u0442\\u0438\\u043d\\u0430\\u044f\"],[9.5,\".\"],[10.5,\"_EOS_\"]]},\"major_label_policy\":{\"type\":\"object\",\"name\":\"AllLabels\",\"id\":\"p1037\"}}}]}}],\"callbacks\":{\"type\":\"map\"}}};\n",
       "  const render_items = [{\"docid\":\"eb5044c2-d738-453f-8620-1648c0202fbf\",\"roots\":{\"p1001\":\"fcbd1a12-34ef-42fe-8a17-2f1e36173282\"},\"root_ids\":[\"p1001\"]}];\n",
       "  root.Bokeh.embed.embed_items_notebook(docs_json, render_items);\n",
       "  }\n",
       "  if (root.Bokeh !== undefined) {\n",
       "    embed_document(root);\n",
       "  } else {\n",
       "    let attempts = 0;\n",
       "    const timer = setInterval(function(root) {\n",
       "      if (root.Bokeh !== undefined) {\n",
       "        clearInterval(timer);\n",
       "        embed_document(root);\n",
       "      } else {\n",
       "        attempts++;\n",
       "        if (attempts > 100) {\n",
       "          clearInterval(timer);\n",
       "          console.log(\"Bokeh: ERROR: Unable to run BokehJS code because BokehJS library is missing\");\n",
       "        }\n",
       "      }\n",
       "    }, 10, root)\n",
       "  }\n",
       "})(window);"
      ],
      "application/vnd.bokehjs_exec.v0+json": ""
     },
     "metadata": {
      "application/vnd.bokehjs_exec.v0+json": {
       "id": "p1001"
      }
     },
     "output_type": "display_data"
    },
    {
     "data": {
      "text/html": [
       "\n",
       "  <div id=\"b6946c2b-8f36-4777-93e0-9edd1124c98d\" data-root-id=\"p1115\" style=\"display: contents;\"></div>\n"
      ]
     },
     "metadata": {},
     "output_type": "display_data"
    },
    {
     "data": {
      "application/javascript": [
       "(function(root) {\n",
       "  function embed_document(root) {\n",
       "  const docs_json = {\"2c5a0d2d-db66-4618-8eae-ca8d0d3652c2\":{\"version\":\"3.1.1\",\"title\":\"Bokeh Application\",\"defs\":[],\"roots\":[{\"type\":\"object\",\"name\":\"Figure\",\"id\":\"p1115\",\"attributes\":{\"x_range\":{\"type\":\"object\",\"name\":\"Range1d\",\"id\":\"p1124\",\"attributes\":{\"end\":15}},\"y_range\":{\"type\":\"object\",\"name\":\"Range1d\",\"id\":\"p1126\",\"attributes\":{\"end\":15}},\"x_scale\":{\"type\":\"object\",\"name\":\"LinearScale\",\"id\":\"p1128\"},\"y_scale\":{\"type\":\"object\",\"name\":\"LinearScale\",\"id\":\"p1130\"},\"title\":{\"type\":\"object\",\"name\":\"Title\",\"id\":\"p1120\"},\"renderers\":[{\"type\":\"object\",\"name\":\"GlyphRenderer\",\"id\":\"p1145\",\"attributes\":{\"data_source\":{\"type\":\"object\",\"name\":\"ColumnDataSource\",\"id\":\"p1133\",\"attributes\":{\"selected\":{\"type\":\"object\",\"name\":\"Selection\",\"id\":\"p1134\",\"attributes\":{\"indices\":[],\"line_indices\":[]}},\"selection_policy\":{\"type\":\"object\",\"name\":\"UnionRenderers\",\"id\":\"p1135\"},\"data\":{\"type\":\"map\",\"entries\":[[\"image\",[{\"type\":\"ndarray\",\"array\":{\"type\":\"bytes\",\"data\":\"YSYsNwwrCzQyG5AxoQPXNK7FRTLWtSgxnquDNiKdnjgzBIQ4WHmIOVNO0Tp20rc3jQ6zPLKOdj846lQ8hLZSN7eKQDO3O1syoKENNliIKDOCllsz8bmBNr5dmTghzdU5FjmmPX0x/jzhUuI5wYuIPDezWT9hVqI8fcqQNZ52aTQQ0fUzEf2qNkS/nDSAZKwz0SfoOAyeezrPiOo4OsyMOZSWlToKTIM5jCGJOy6PfD/959E74s5wNR9gXDRFZaMzBjiEN9K9OjZBaKozcARIOXRsyjos9J04vCPoOJGQrzq160A9WzQLPg21Tz+oIxg7e4oDOIQNMjUfb/Q0MXU1N8FztjT9Zfsxq3cPON2Ipzs9Je46GrNGPTYt5D4MQT07WDJfPiEJdD5TbSI9Pl5IN6WlYjPMazY0diciOD2ElDRHsQg0yTwGO1UZxTztC0c8nc5LPkeeCz/U7ls9jgnmPUMDKD3gyic87NKfMzs/lTGvzYAyEL3CN0FyCTStPV0zJzUaOJLZGzvlfyE8hk6TPpMRMz/1mwk5XDAKOaGafjlGsV02ijK4NgkAGDSH1p0zc4DeOKNrRzZxkvY2FsljOmjs4ztB3pM+yfZjPS3/Ij/hBLg6lElCO9HQXjsNXUw7uk06O2UPSzhdMCs2gzr2OQw+QDr8lV857FvZPfh0bD78kWk9crGOPnndTT40V8s3NAZjObpu0D0rv6I8MeQuO7/qpjjlug434YcHPGDVejqkPn45efLzPdiB3D5vsdo8y2PjPaqPET6NiVQ5gk0FOroDwj0AU4A9bbUtOAPxhDbmXQU4+Dw+OyDa9jgdO6s5VkFhPu6iQz9cK5I7NAk7O0nFZjvJ8Pk3K0LKOFAstTob9lM4B98/PFQKazppHT46MasvPFrB5DvZyro8rrLfPlS6kT746to9AFZ3Pc0gID2ugS474v4EO78EMzzU0iw7OXyRPKopBzs4F5Y5sz2CPSndjT3WEb894jOePu7Zoz6ltQM9kE7QPE5tBz1qe1c7ujCaOk9awzzM1Lw7cOJ0OtPTIjtj/JA7YksEPpB3IT1fFJQ951uyPqBgdT5BJPY85fuDPT4CdT2MmIs5/g/lORE06Ts4hpM6RV2GONQ9PzlUx7o5Uqh4PN1VkjvKsAQ8aS61PvAIxz7CVO88vapEPTepzj3vNKI5v2kyOdUbRD0IICc7\"},\"shape\":[15,15],\"dtype\":\"float32\",\"order\":\"little\"}]]]}}},\"view\":{\"type\":\"object\",\"name\":\"CDSView\",\"id\":\"p1146\",\"attributes\":{\"filter\":{\"type\":\"object\",\"name\":\"AllIndices\",\"id\":\"p1147\"}}},\"glyph\":{\"type\":\"object\",\"name\":\"Image\",\"id\":\"p1136\",\"attributes\":{\"x\":{\"type\":\"value\",\"value\":0},\"y\":{\"type\":\"value\",\"value\":0},\"dw\":{\"type\":\"value\",\"value\":15},\"dh\":{\"type\":\"value\",\"value\":15},\"image\":{\"type\":\"field\",\"field\":\"image\"},\"color_mapper\":{\"type\":\"object\",\"name\":\"LinearColorMapper\",\"id\":\"p1137\",\"attributes\":{\"palette\":[\"#000000\",\"#252525\",\"#525252\",\"#737373\",\"#969696\",\"#bdbdbd\",\"#d9d9d9\",\"#f0f0f0\",\"#ffffff\"]}}}},\"nonselection_glyph\":{\"type\":\"object\",\"name\":\"Image\",\"id\":\"p1139\",\"attributes\":{\"x\":{\"type\":\"value\",\"value\":0},\"y\":{\"type\":\"value\",\"value\":0},\"dw\":{\"type\":\"value\",\"value\":15},\"dh\":{\"type\":\"value\",\"value\":15},\"global_alpha\":{\"type\":\"value\",\"value\":0.1},\"image\":{\"type\":\"field\",\"field\":\"image\"},\"color_mapper\":{\"type\":\"object\",\"name\":\"LinearColorMapper\",\"id\":\"p1140\",\"attributes\":{\"palette\":[\"#000000\",\"#252525\",\"#525252\",\"#737373\",\"#969696\",\"#bdbdbd\",\"#d9d9d9\",\"#f0f0f0\",\"#ffffff\"]}}}},\"muted_glyph\":{\"type\":\"object\",\"name\":\"Image\",\"id\":\"p1142\",\"attributes\":{\"x\":{\"type\":\"value\",\"value\":0},\"y\":{\"type\":\"value\",\"value\":0},\"dw\":{\"type\":\"value\",\"value\":15},\"dh\":{\"type\":\"value\",\"value\":15},\"global_alpha\":{\"type\":\"value\",\"value\":0.2},\"image\":{\"type\":\"field\",\"field\":\"image\"},\"color_mapper\":{\"type\":\"object\",\"name\":\"LinearColorMapper\",\"id\":\"p1143\",\"attributes\":{\"palette\":[\"#000000\",\"#252525\",\"#525252\",\"#737373\",\"#969696\",\"#bdbdbd\",\"#d9d9d9\",\"#f0f0f0\",\"#ffffff\"]}}}}}}],\"toolbar\":{\"type\":\"object\",\"name\":\"Toolbar\",\"id\":\"p1123\"},\"left\":[{\"type\":\"object\",\"name\":\"LinearAxis\",\"id\":\"p1154\",\"attributes\":{\"ticker\":{\"type\":\"object\",\"name\":\"FixedTicker\",\"id\":\"p1158\",\"attributes\":{\"ticks\":{\"type\":\"ndarray\",\"array\":{\"type\":\"bytes\",\"data\":\"AAAAAAAA4D8AAAAAAAD4PwAAAAAAAARAAAAAAAAADEAAAAAAAAASQAAAAAAAABZAAAAAAAAAGkAAAAAAAAAeQAAAAAAAACFAAAAAAAAAI0AAAAAAAAAlQAAAAAAAACdAAAAAAAAAKUAAAAAAAAArQAAAAAAAAC1A\"},\"shape\":[15],\"dtype\":\"float64\",\"order\":\"little\"},\"minor_ticks\":[]}},\"formatter\":{\"type\":\"object\",\"name\":\"BasicTickFormatter\",\"id\":\"p1155\"},\"axis_label\":\"translation tokens\",\"major_label_overrides\":{\"type\":\"map\",\"entries\":[[0.5,\"_EOS_\"],[1.5,\".\"],[2.5,\"parking\"],[3.5,\"free\"],[4.5,\"and\"],[5.5,\"service\"],[6.5,\"shuttle\"],[7.5,\"a\"],[8.5,\",\"],[9.5,\"rentals\"],[10.5,\"bicycle\"],[11.5,\"offers\"],[12.5,\"property\"],[13.5,\"the\"],[14.5,\"_BOS_\"]]},\"major_label_policy\":{\"type\":\"object\",\"name\":\"AllLabels\",\"id\":\"p1157\"}}}],\"above\":[{\"type\":\"object\",\"name\":\"LinearAxis\",\"id\":\"p1148\",\"attributes\":{\"ticker\":{\"type\":\"object\",\"name\":\"FixedTicker\",\"id\":\"p1152\",\"attributes\":{\"ticks\":{\"type\":\"ndarray\",\"array\":{\"type\":\"bytes\",\"data\":\"AAAAAAAA4D8AAAAAAAD4PwAAAAAAAARAAAAAAAAADEAAAAAAAAASQAAAAAAAABZAAAAAAAAAGkAAAAAAAAAeQAAAAAAAACFAAAAAAAAAI0AAAAAAAAAlQAAAAAAAACdAAAAAAAAAKUAAAAAAAAArQAAAAAAAAC1A\"},\"shape\":[15],\"dtype\":\"float64\",\"order\":\"little\"},\"minor_ticks\":[]}},\"formatter\":{\"type\":\"object\",\"name\":\"BasicTickFormatter\",\"id\":\"p1149\"},\"axis_label\":\"source tokens\",\"major_label_orientation\":45,\"major_label_overrides\":{\"type\":\"map\",\"entries\":[[0.5,\"_BOS_\"],[1.5,\"\\u043a\\u0440\\u043e\\u043c\\u0435\"],[2.5,\"\\u0442\\u043e\\u0433\\u043e\"],[3.5,\",\"],[4.5,\"\\u043f\\u0440\\u0435\\u0434\\u043e\\u0441\\u0442\\u0430\\u0432\\u043b\\u044f\\u0435\\u0442\\u0441\\u044f\"],[5.5,\"\\u043f\\u0440\\u043e\\u043a\\u0430\\u0442\"],[6.5,\"\\u0432\\u0435\\u043b\\u043e\\u0441\\u0438\\u043f\\u0435\\u0434\\u043e\\u0432\"],[7.5,\",\"],[8.5,\"\\u0443\\u0441\\u043b\\u0443\\u0433\\u0438\"],[9.5,\"\\u0442\\u0440\\u0430\\u043d\\u0441\\u0444\\u0435\\u0440\\u0430\"],[10.5,\"\\u0438\"],[11.5,\"\\u0431\\u0435\\u0441\\u043f\\u043b\\u0430\\u0442\\u043d\\u0430\\u044f\"],[12.5,\"\\u043f\\u0430\\u0440\\u043a\\u043e\\u0432\\u043a\\u0430\"],[13.5,\".\"],[14.5,\"_EOS_\"]]},\"major_label_policy\":{\"type\":\"object\",\"name\":\"AllLabels\",\"id\":\"p1151\"}}}]}}],\"callbacks\":{\"type\":\"map\"}}};\n",
       "  const render_items = [{\"docid\":\"2c5a0d2d-db66-4618-8eae-ca8d0d3652c2\",\"roots\":{\"p1115\":\"b6946c2b-8f36-4777-93e0-9edd1124c98d\"},\"root_ids\":[\"p1115\"]}];\n",
       "  root.Bokeh.embed.embed_items_notebook(docs_json, render_items);\n",
       "  }\n",
       "  if (root.Bokeh !== undefined) {\n",
       "    embed_document(root);\n",
       "  } else {\n",
       "    let attempts = 0;\n",
       "    const timer = setInterval(function(root) {\n",
       "      if (root.Bokeh !== undefined) {\n",
       "        clearInterval(timer);\n",
       "        embed_document(root);\n",
       "      } else {\n",
       "        attempts++;\n",
       "        if (attempts > 100) {\n",
       "          clearInterval(timer);\n",
       "          console.log(\"Bokeh: ERROR: Unable to run BokehJS code because BokehJS library is missing\");\n",
       "        }\n",
       "      }\n",
       "    }, 10, root)\n",
       "  }\n",
       "})(window);"
      ],
      "application/vnd.bokehjs_exec.v0+json": ""
     },
     "metadata": {
      "application/vnd.bokehjs_exec.v0+json": {
       "id": "p1115"
      }
     },
     "output_type": "display_data"
    },
    {
     "data": {
      "text/html": [
       "\n",
       "  <div id=\"cc93898c-f62c-410e-9759-9e7631ca1875\" data-root-id=\"p1240\" style=\"display: contents;\"></div>\n"
      ]
     },
     "metadata": {},
     "output_type": "display_data"
    },
    {
     "data": {
      "application/javascript": [
       "(function(root) {\n",
       "  function embed_document(root) {\n",
       "  const docs_json = {\"bce3e59c-c242-4c42-b7ce-6bdc426f7777\":{\"version\":\"3.1.1\",\"title\":\"Bokeh Application\",\"defs\":[],\"roots\":[{\"type\":\"object\",\"name\":\"Figure\",\"id\":\"p1240\",\"attributes\":{\"x_range\":{\"type\":\"object\",\"name\":\"Range1d\",\"id\":\"p1249\",\"attributes\":{\"end\":13}},\"y_range\":{\"type\":\"object\",\"name\":\"Range1d\",\"id\":\"p1251\",\"attributes\":{\"end\":12}},\"x_scale\":{\"type\":\"object\",\"name\":\"LinearScale\",\"id\":\"p1253\"},\"y_scale\":{\"type\":\"object\",\"name\":\"LinearScale\",\"id\":\"p1255\"},\"title\":{\"type\":\"object\",\"name\":\"Title\",\"id\":\"p1245\"},\"renderers\":[{\"type\":\"object\",\"name\":\"GlyphRenderer\",\"id\":\"p1270\",\"attributes\":{\"data_source\":{\"type\":\"object\",\"name\":\"ColumnDataSource\",\"id\":\"p1258\",\"attributes\":{\"selected\":{\"type\":\"object\",\"name\":\"Selection\",\"id\":\"p1259\",\"attributes\":{\"indices\":[],\"line_indices\":[]}},\"selection_policy\":{\"type\":\"object\",\"name\":\"UnionRenderers\",\"id\":\"p1260\"},\"data\":{\"type\":\"map\",\"entries\":[[\"image\",[{\"type\":\"ndarray\",\"array\":{\"type\":\"bytes\",\"data\":\"QUwLOUhpWjcP2Lg6VvqjOjKnUzm+ex46r+HUO+ShMjq0k8c4NYjQN/1/rjjXe3w/DpozO8qkMTvIwfA55u2QPcYq0TnirPM5afXCO3AOezzHqIA6AJ2/OqU7gDviB0o9OYhYP2h1Hjtiq2o6jiNLN5+zWz2MWO065ywfOhsLzjsjw9Y6kpPNOcJ9fTocdoU7C5vTO8W7aj9FNM47DS96OA55fjffBUI6lfh7N3ryKjbHEiA2kSFHNjkCOTW4BG84WgQ8Pl5yUD+Hho453hGAOquiLjgT1t41XClnOT7+gznd8xo4FcW/O0nD/jkYpwE4PG1KOq34Uj85VyQ+ZgzcO2tngjqr1YE4qK8COaYKIjwf+So8YvwFO6bcED4/3m8+1lMbPaaBVzwH1/c7AadfPK59yD50Kg0+tH4NNqjTQjYukJI42AL4O7rlPDw0rWg+fV2oPtakwz7sb2U8OsBiOvKZpThfaSg8WLiOPO/4hTTVbbQ1eZaSOo68YDwR8cE8S0sVPxLmgz6pUzE936stPDnFwzomgv05CMloPU/vAjw5z8A5htWuOn9NFjyGDiA+wYY3PODsJD4s5oU9snNbPQ9sbD4bLaU8ON+OO8wudj4phzs9v/fHOUQ3pDvtY7A8mm4qP7sbsTwqdqw90QfbPbHmJD1zpRo8Dv7dO6nxkTr3fAs9W3U+O8k/oTbuDl823y4qOdVdsjosp2k84JUuP1+/TT58a7g9/TESPMZmaTrelQ84kuahOoPcODnf3kA2F6XZNdniCTm+bkE5K5LuOiq8oz6ske8+rSw9PtbUrzySZp46mPa0OdMTFDtYPhE5\"},\"shape\":[12,13],\"dtype\":\"float32\",\"order\":\"little\"}]]]}}},\"view\":{\"type\":\"object\",\"name\":\"CDSView\",\"id\":\"p1271\",\"attributes\":{\"filter\":{\"type\":\"object\",\"name\":\"AllIndices\",\"id\":\"p1272\"}}},\"glyph\":{\"type\":\"object\",\"name\":\"Image\",\"id\":\"p1261\",\"attributes\":{\"x\":{\"type\":\"value\",\"value\":0},\"y\":{\"type\":\"value\",\"value\":0},\"dw\":{\"type\":\"value\",\"value\":13},\"dh\":{\"type\":\"value\",\"value\":12},\"image\":{\"type\":\"field\",\"field\":\"image\"},\"color_mapper\":{\"type\":\"object\",\"name\":\"LinearColorMapper\",\"id\":\"p1262\",\"attributes\":{\"palette\":[\"#000000\",\"#252525\",\"#525252\",\"#737373\",\"#969696\",\"#bdbdbd\",\"#d9d9d9\",\"#f0f0f0\",\"#ffffff\"]}}}},\"nonselection_glyph\":{\"type\":\"object\",\"name\":\"Image\",\"id\":\"p1264\",\"attributes\":{\"x\":{\"type\":\"value\",\"value\":0},\"y\":{\"type\":\"value\",\"value\":0},\"dw\":{\"type\":\"value\",\"value\":13},\"dh\":{\"type\":\"value\",\"value\":12},\"global_alpha\":{\"type\":\"value\",\"value\":0.1},\"image\":{\"type\":\"field\",\"field\":\"image\"},\"color_mapper\":{\"type\":\"object\",\"name\":\"LinearColorMapper\",\"id\":\"p1265\",\"attributes\":{\"palette\":[\"#000000\",\"#252525\",\"#525252\",\"#737373\",\"#969696\",\"#bdbdbd\",\"#d9d9d9\",\"#f0f0f0\",\"#ffffff\"]}}}},\"muted_glyph\":{\"type\":\"object\",\"name\":\"Image\",\"id\":\"p1267\",\"attributes\":{\"x\":{\"type\":\"value\",\"value\":0},\"y\":{\"type\":\"value\",\"value\":0},\"dw\":{\"type\":\"value\",\"value\":13},\"dh\":{\"type\":\"value\",\"value\":12},\"global_alpha\":{\"type\":\"value\",\"value\":0.2},\"image\":{\"type\":\"field\",\"field\":\"image\"},\"color_mapper\":{\"type\":\"object\",\"name\":\"LinearColorMapper\",\"id\":\"p1268\",\"attributes\":{\"palette\":[\"#000000\",\"#252525\",\"#525252\",\"#737373\",\"#969696\",\"#bdbdbd\",\"#d9d9d9\",\"#f0f0f0\",\"#ffffff\"]}}}}}}],\"toolbar\":{\"type\":\"object\",\"name\":\"Toolbar\",\"id\":\"p1248\"},\"left\":[{\"type\":\"object\",\"name\":\"LinearAxis\",\"id\":\"p1279\",\"attributes\":{\"ticker\":{\"type\":\"object\",\"name\":\"FixedTicker\",\"id\":\"p1283\",\"attributes\":{\"ticks\":{\"type\":\"ndarray\",\"array\":{\"type\":\"bytes\",\"data\":\"AAAAAAAA4D8AAAAAAAD4PwAAAAAAAARAAAAAAAAADEAAAAAAAAASQAAAAAAAABZAAAAAAAAAGkAAAAAAAAAeQAAAAAAAACFAAAAAAAAAI0AAAAAAAAAlQAAAAAAAACdA\"},\"shape\":[12],\"dtype\":\"float64\",\"order\":\"little\"},\"minor_ticks\":[]}},\"formatter\":{\"type\":\"object\",\"name\":\"BasicTickFormatter\",\"id\":\"p1280\"},\"axis_label\":\"translation tokens\",\"major_label_overrides\":{\"type\":\"map\",\"entries\":[[0.5,\"_EOS_\"],[1.5,\".\"],[2.5,\"away\"],[3.5,\"km\"],[4.5,\"26\"],[5.5,\"is\"],[6.5,\"ga@@\"],[7.5,\"al\"],[8.5,\"of\"],[9.5,\"town\"],[10.5,\"the\"],[11.5,\"_BOS_\"]]},\"major_label_policy\":{\"type\":\"object\",\"name\":\"AllLabels\",\"id\":\"p1282\"}}}],\"above\":[{\"type\":\"object\",\"name\":\"LinearAxis\",\"id\":\"p1273\",\"attributes\":{\"ticker\":{\"type\":\"object\",\"name\":\"FixedTicker\",\"id\":\"p1277\",\"attributes\":{\"ticks\":{\"type\":\"ndarray\",\"array\":{\"type\":\"bytes\",\"data\":\"AAAAAAAA4D8AAAAAAAD4PwAAAAAAAARAAAAAAAAADEAAAAAAAAASQAAAAAAAABZAAAAAAAAAGkAAAAAAAAAeQAAAAAAAACFAAAAAAAAAI0AAAAAAAAAlQAAAAAAAACdAAAAAAAAAKUA=\"},\"shape\":[13],\"dtype\":\"float64\",\"order\":\"little\"},\"minor_ticks\":[]}},\"formatter\":{\"type\":\"object\",\"name\":\"BasicTickFormatter\",\"id\":\"p1274\"},\"axis_label\":\"source tokens\",\"major_label_orientation\":45,\"major_label_overrides\":{\"type\":\"map\",\"entries\":[[0.5,\"_BOS_\"],[1.5,\"\\u0440\\u0430\\u0441\\u0441\\u0442\\u043e\\u044f\\u043d\\u0438\\u0435\"],[2.5,\"\\u0434\\u043e\"],[3.5,\"\\u0433\\u043e\\u0440\\u043e\\u0434\\u0430\"],[4.5,\"\\u043a\\u0438@@\"],[5.5,\"\\u0441\\u0441\\u0438@@\"],[6.5,\"\\u043c@@\"],[7.5,\"\\u043c\\u0438\"],[8.5,\"\\u0441\\u043e\\u0441\\u0442\\u0430\\u0432\\u043b\\u044f\\u0435\\u0442\"],[9.5,\"26\"],[10.5,\"\\u043a\\u043c\"],[11.5,\".\"],[12.5,\"_EOS_\"]]},\"major_label_policy\":{\"type\":\"object\",\"name\":\"AllLabels\",\"id\":\"p1276\"}}}]}}],\"callbacks\":{\"type\":\"map\"}}};\n",
       "  const render_items = [{\"docid\":\"bce3e59c-c242-4c42-b7ce-6bdc426f7777\",\"roots\":{\"p1240\":\"cc93898c-f62c-410e-9759-9e7631ca1875\"},\"root_ids\":[\"p1240\"]}];\n",
       "  root.Bokeh.embed.embed_items_notebook(docs_json, render_items);\n",
       "  }\n",
       "  if (root.Bokeh !== undefined) {\n",
       "    embed_document(root);\n",
       "  } else {\n",
       "    let attempts = 0;\n",
       "    const timer = setInterval(function(root) {\n",
       "      if (root.Bokeh !== undefined) {\n",
       "        clearInterval(timer);\n",
       "        embed_document(root);\n",
       "      } else {\n",
       "        attempts++;\n",
       "        if (attempts > 100) {\n",
       "          clearInterval(timer);\n",
       "          console.log(\"Bokeh: ERROR: Unable to run BokehJS code because BokehJS library is missing\");\n",
       "        }\n",
       "      }\n",
       "    }, 10, root)\n",
       "  }\n",
       "})(window);"
      ],
      "application/vnd.bokehjs_exec.v0+json": ""
     },
     "metadata": {
      "application/vnd.bokehjs_exec.v0+json": {
       "id": "p1240"
      }
     },
     "output_type": "display_data"
    },
    {
     "data": {
      "text/html": [
       "\n",
       "  <div id=\"cf20dba7-a7f1-43d6-b57c-50a8f027cb1c\" data-root-id=\"p1376\" style=\"display: contents;\"></div>\n"
      ]
     },
     "metadata": {},
     "output_type": "display_data"
    },
    {
     "data": {
      "application/javascript": [
       "(function(root) {\n",
       "  function embed_document(root) {\n",
       "  const docs_json = {\"8a722caa-f8c0-4e5c-834d-d6ab421ecd41\":{\"version\":\"3.1.1\",\"title\":\"Bokeh Application\",\"defs\":[],\"roots\":[{\"type\":\"object\",\"name\":\"Figure\",\"id\":\"p1376\",\"attributes\":{\"x_range\":{\"type\":\"object\",\"name\":\"Range1d\",\"id\":\"p1385\",\"attributes\":{\"end\":32}},\"y_range\":{\"type\":\"object\",\"name\":\"Range1d\",\"id\":\"p1387\",\"attributes\":{\"end\":34}},\"x_scale\":{\"type\":\"object\",\"name\":\"LinearScale\",\"id\":\"p1389\"},\"y_scale\":{\"type\":\"object\",\"name\":\"LinearScale\",\"id\":\"p1391\"},\"title\":{\"type\":\"object\",\"name\":\"Title\",\"id\":\"p1381\"},\"renderers\":[{\"type\":\"object\",\"name\":\"GlyphRenderer\",\"id\":\"p1406\",\"attributes\":{\"data_source\":{\"type\":\"object\",\"name\":\"ColumnDataSource\",\"id\":\"p1394\",\"attributes\":{\"selected\":{\"type\":\"object\",\"name\":\"Selection\",\"id\":\"p1395\",\"attributes\":{\"indices\":[],\"line_indices\":[]}},\"selection_policy\":{\"type\":\"object\",\"name\":\"UnionRenderers\",\"id\":\"p1396\"},\"data\":{\"type\":\"map\",\"entries\":[[\"image\",[{\"type\":\"ndarray\",\"array\":{\"type\":\"bytes\",\"data\":\"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\"},\"shape\":[34,32],\"dtype\":\"float32\",\"order\":\"little\"}]]]}}},\"view\":{\"type\":\"object\",\"name\":\"CDSView\",\"id\":\"p1407\",\"attributes\":{\"filter\":{\"type\":\"object\",\"name\":\"AllIndices\",\"id\":\"p1408\"}}},\"glyph\":{\"type\":\"object\",\"name\":\"Image\",\"id\":\"p1397\",\"attributes\":{\"x\":{\"type\":\"value\",\"value\":0},\"y\":{\"type\":\"value\",\"value\":0},\"dw\":{\"type\":\"value\",\"value\":32},\"dh\":{\"type\":\"value\",\"value\":34},\"image\":{\"type\":\"field\",\"field\":\"image\"},\"color_mapper\":{\"type\":\"object\",\"name\":\"LinearColorMapper\",\"id\":\"p1398\",\"attributes\":{\"palette\":[\"#000000\",\"#252525\",\"#525252\",\"#737373\",\"#969696\",\"#bdbdbd\",\"#d9d9d9\",\"#f0f0f0\",\"#ffffff\"]}}}},\"nonselection_glyph\":{\"type\":\"object\",\"name\":\"Image\",\"id\":\"p1400\",\"attributes\":{\"x\":{\"type\":\"value\",\"value\":0},\"y\":{\"type\":\"value\",\"value\":0},\"dw\":{\"type\":\"value\",\"value\":32},\"dh\":{\"type\":\"value\",\"value\":34},\"global_alpha\":{\"type\":\"value\",\"value\":0.1},\"image\":{\"type\":\"field\",\"field\":\"image\"},\"color_mapper\":{\"type\":\"object\",\"name\":\"LinearColorMapper\",\"id\":\"p1401\",\"attributes\":{\"palette\":[\"#000000\",\"#252525\",\"#525252\",\"#737373\",\"#969696\",\"#bdbdbd\",\"#d9d9d9\",\"#f0f0f0\",\"#ffffff\"]}}}},\"muted_glyph\":{\"type\":\"object\",\"name\":\"Image\",\"id\":\"p1403\",\"attributes\":{\"x\":{\"type\":\"value\",\"value\":0},\"y\":{\"type\":\"value\",\"value\":0},\"dw\":{\"type\":\"value\",\"value\":32},\"dh\":{\"type\":\"value\",\"value\":34},\"global_alpha\":{\"type\":\"value\",\"value\":0.2},\"image\":{\"type\":\"field\",\"field\":\"image\"},\"color_mapper\":{\"type\":\"object\",\"name\":\"LinearColorMapper\",\"id\":\"p1404\",\"attributes\":{\"palette\":[\"#000000\",\"#252525\",\"#525252\",\"#737373\",\"#969696\",\"#bdbdbd\",\"#d9d9d9\",\"#f0f0f0\",\"#ffffff\"]}}}}}}],\"toolbar\":{\"type\":\"object\",\"name\":\"Toolbar\",\"id\":\"p1384\"},\"left\":[{\"type\":\"object\",\"name\":\"LinearAxis\",\"id\":\"p1415\",\"attributes\":{\"ticker\":{\"type\":\"object\",\"name\":\"FixedTicker\",\"id\":\"p1419\",\"attributes\":{\"ticks\":{\"type\":\"ndarray\",\"array\":{\"type\":\"bytes\",\"data\":\"AAAAAAAA4D8AAAAAAAD4PwAAAAAAAARAAAAAAAAADEAAAAAAAAASQAAAAAAAABZAAAAAAAAAGkAAAAAAAAAeQAAAAAAAACFAAAAAAAAAI0AAAAAAAAAlQAAAAAAAACdAAAAAAAAAKUAAAAAAAAArQAAAAAAAAC1AAAAAAAAAL0AAAAAAAIAwQAAAAAAAgDFAAAAAAACAMkAAAAAAAIAzQAAAAAAAgDRAAAAAAACANUAAAAAAAIA2QAAAAAAAgDdAAAAAAACAOEAAAAAAAIA5QAAAAAAAgDpAAAAAAACAO0AAAAAAAIA8QAAAAAAAgD1AAAAAAACAPkAAAAAAAIA/QAAAAAAAQEBAAAAAAADAQEA=\"},\"shape\":[34],\"dtype\":\"float64\",\"order\":\"little\"},\"minor_ticks\":[]}},\"formatter\":{\"type\":\"object\",\"name\":\"BasicTickFormatter\",\"id\":\"p1416\"},\"axis_label\":\"translation tokens\",\"major_label_overrides\":{\"type\":\"map\",\"entries\":[[0.5,\"_EOS_\"],[1.5,\".\"],[2.5,\"beach\"],[3.5,\"the\"],[4.5,\"from\"],[5.5,\"walk\"],[6.5,\"minute\"],[7.5,\"-\"],[8.5,\"5\"],[9.5,\"a\"],[10.5,\"is\"],[11.5,\"apartment\"],[12.5,\"the\"],[13.5,\".\"],[14.5,\"aia\"],[15.5,\"mam@@\"],[16.5,\"in\"],[17.5,\"accommodation\"],[18.5,\"offers\"],[19.5,\"y\"],[20.5,\"sun@@\"],[21.5,\"apartments\"],[22.5,\",\"],[23.5,\"terrace\"],[24.5,\"sun\"],[25.5,\"a\"],[26.5,\"and\"],[27.5,\"terrace\"],[28.5,\",\"],[29.5,\"pool\"],[30.5,\"outdoor\"],[31.5,\"an\"],[32.5,\"offering\"],[33.5,\"_BOS_\"]]},\"major_label_policy\":{\"type\":\"object\",\"name\":\"AllLabels\",\"id\":\"p1418\"}}}],\"above\":[{\"type\":\"object\",\"name\":\"LinearAxis\",\"id\":\"p1409\",\"attributes\":{\"ticker\":{\"type\":\"object\",\"name\":\"FixedTicker\",\"id\":\"p1413\",\"attributes\":{\"ticks\":{\"type\":\"ndarray\",\"array\":{\"type\":\"bytes\",\"data\":\"AAAAAAAA4D8AAAAAAAD4PwAAAAAAAARAAAAAAAAADEAAAAAAAAASQAAAAAAAABZAAAAAAAAAGkAAAAAAAAAeQAAAAAAAACFAAAAAAAAAI0AAAAAAAAAlQAAAAAAAACdAAAAAAAAAKUAAAAAAAAArQAAAAAAAAC1AAAAAAAAAL0AAAAAAAIAwQAAAAAAAgDFAAAAAAACAMkAAAAAAAIAzQAAAAAAAgDRAAAAAAACANUAAAAAAAIA2QAAAAAAAgDdAAAAAAACAOEAAAAAAAIA5QAAAAAAAgDpAAAAAAACAO0AAAAAAAIA8QAAAAAAAgD1AAAAAAACAPkAAAAAAAIA/QA==\"},\"shape\":[32],\"dtype\":\"float64\",\"order\":\"little\"},\"minor_ticks\":[]}},\"formatter\":{\"type\":\"object\",\"name\":\"BasicTickFormatter\",\"id\":\"p1410\"},\"axis_label\":\"source tokens\",\"major_label_orientation\":45,\"major_label_overrides\":{\"type\":\"map\",\"entries\":[[0.5,\"_BOS_\"],[1.5,\"\\u0430\\u043f\\u0430\\u0440\\u0442\\u0430\\u043c\\u0435\\u043d\\u0442\\u044b\"],[2.5,\"\\u0432\"],[3.5,\"\\u043f\\u0435\\u043d\\u0442@@\"],[4.5,\"\\u0445\\u0430\\u0443\\u0441\\u0435\"],[5.5,\"\\u0441\"],[6.5,\"\\u043e\\u0431\\u0449\\u0438\\u043c\"],[7.5,\"\\u043e\\u0442\\u043a\\u0440\\u044b\\u0442\\u044b\\u043c\"],[8.5,\"\\u0431\\u0430\\u0441\\u0441\\u0435\\u0439\\u043d\\u043e\\u043c\"],[9.5,\",\"],[10.5,\"\\u0441\\u0430\\u0434\\u043e\\u043c\"],[11.5,\",\"],[12.5,\"\\u043a\\u043e\\u043d\\u0434\\u0438\\u0446\\u0438\\u043e\\u043d\\u0435\\u0440\\u043e\\u043c\"],[13.5,\"\\u0438\"],[14.5,\"\\u0442\\u0435\\u0440\\u0440\\u0430\\u0441\\u043e\\u0439\"],[15.5,\"\\u0434\\u043b\\u044f\"],[16.5,\"\\u0437\\u0430\\u0433\\u0430\\u0440\\u0430\"],[17.5,\"\\u0440\\u0430\\u0441\\u043f\\u043e\\u043b\\u043e\\u0436\\u0435\\u043d\\u044b\"],[18.5,\"\\u0432\"],[19.5,\"5\"],[20.5,\"\\u043c\\u0438\\u043d\\u0443\\u0442\\u0430\\u0445\"],[21.5,\"\\u0445\\u043e\\u0434\\u044c\\u0431\\u044b\"],[22.5,\"\\u043e\\u0442\"],[23.5,\"\\u043f\\u043b\\u044f\\u0436\\u0430\"],[24.5,\"\\u043d\\u0430\"],[25.5,\"\\u043a\\u0443\\u0440\\u043e\\u0440\\u0442\\u0435\"],[26.5,\"\\u043a\\u0430@@\"],[27.5,\"\\u0431\\u043e\"],[28.5,\"-\"],[29.5,\"\\u0440\\u043e\\u0439\"],[30.5,\".\"],[31.5,\"_EOS_\"]]},\"major_label_policy\":{\"type\":\"object\",\"name\":\"AllLabels\",\"id\":\"p1412\"}}}]}}],\"callbacks\":{\"type\":\"map\"}}};\n",
       "  const render_items = [{\"docid\":\"8a722caa-f8c0-4e5c-834d-d6ab421ecd41\",\"roots\":{\"p1376\":\"cf20dba7-a7f1-43d6-b57c-50a8f027cb1c\"},\"root_ids\":[\"p1376\"]}];\n",
       "  root.Bokeh.embed.embed_items_notebook(docs_json, render_items);\n",
       "  }\n",
       "  if (root.Bokeh !== undefined) {\n",
       "    embed_document(root);\n",
       "  } else {\n",
       "    let attempts = 0;\n",
       "    const timer = setInterval(function(root) {\n",
       "      if (root.Bokeh !== undefined) {\n",
       "        clearInterval(timer);\n",
       "        embed_document(root);\n",
       "      } else {\n",
       "        attempts++;\n",
       "        if (attempts > 100) {\n",
       "          clearInterval(timer);\n",
       "          console.log(\"Bokeh: ERROR: Unable to run BokehJS code because BokehJS library is missing\");\n",
       "        }\n",
       "      }\n",
       "    }, 10, root)\n",
       "  }\n",
       "})(window);"
      ],
      "application/vnd.bokehjs_exec.v0+json": ""
     },
     "metadata": {
      "application/vnd.bokehjs_exec.v0+json": {
       "id": "p1376"
      }
     },
     "output_type": "display_data"
    },
    {
     "data": {
      "text/html": [
       "\n",
       "  <div id=\"c26bc5ad-75b2-427a-b89d-666c344bffc5\" data-root-id=\"p1523\" style=\"display: contents;\"></div>\n"
      ]
     },
     "metadata": {},
     "output_type": "display_data"
    },
    {
     "data": {
      "application/javascript": [
       "(function(root) {\n",
       "  function embed_document(root) {\n",
       "  const docs_json = {\"935bd1ee-c62a-4da6-a5e8-db63673aca02\":{\"version\":\"3.1.1\",\"title\":\"Bokeh Application\",\"defs\":[],\"roots\":[{\"type\":\"object\",\"name\":\"Figure\",\"id\":\"p1523\",\"attributes\":{\"x_range\":{\"type\":\"object\",\"name\":\"Range1d\",\"id\":\"p1532\",\"attributes\":{\"end\":23}},\"y_range\":{\"type\":\"object\",\"name\":\"Range1d\",\"id\":\"p1534\",\"attributes\":{\"end\":27}},\"x_scale\":{\"type\":\"object\",\"name\":\"LinearScale\",\"id\":\"p1536\"},\"y_scale\":{\"type\":\"object\",\"name\":\"LinearScale\",\"id\":\"p1538\"},\"title\":{\"type\":\"object\",\"name\":\"Title\",\"id\":\"p1528\"},\"renderers\":[{\"type\":\"object\",\"name\":\"GlyphRenderer\",\"id\":\"p1553\",\"attributes\":{\"data_source\":{\"type\":\"object\",\"name\":\"ColumnDataSource\",\"id\":\"p1541\",\"attributes\":{\"selected\":{\"type\":\"object\",\"name\":\"Selection\",\"id\":\"p1542\",\"attributes\":{\"indices\":[],\"line_indices\":[]}},\"selection_policy\":{\"type\":\"object\",\"name\":\"UnionRenderers\",\"id\":\"p1543\"},\"data\":{\"type\":\"map\",\"entries\":[[\"image\",[{\"type\":\"ndarray\",\"array\":{\"type\":\"bytes\",\"data\":\"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\"},\"shape\":[27,23],\"dtype\":\"float32\",\"order\":\"little\"}]]]}}},\"view\":{\"type\":\"object\",\"name\":\"CDSView\",\"id\":\"p1554\",\"attributes\":{\"filter\":{\"type\":\"object\",\"name\":\"AllIndices\",\"id\":\"p1555\"}}},\"glyph\":{\"type\":\"object\",\"name\":\"Image\",\"id\":\"p1544\",\"attributes\":{\"x\":{\"type\":\"value\",\"value\":0},\"y\":{\"type\":\"value\",\"value\":0},\"dw\":{\"type\":\"value\",\"value\":23},\"dh\":{\"type\":\"value\",\"value\":27},\"image\":{\"type\":\"field\",\"field\":\"image\"},\"color_mapper\":{\"type\":\"object\",\"name\":\"LinearColorMapper\",\"id\":\"p1545\",\"attributes\":{\"palette\":[\"#000000\",\"#252525\",\"#525252\",\"#737373\",\"#969696\",\"#bdbdbd\",\"#d9d9d9\",\"#f0f0f0\",\"#ffffff\"]}}}},\"nonselection_glyph\":{\"type\":\"object\",\"name\":\"Image\",\"id\":\"p1547\",\"attributes\":{\"x\":{\"type\":\"value\",\"value\":0},\"y\":{\"type\":\"value\",\"value\":0},\"dw\":{\"type\":\"value\",\"value\":23},\"dh\":{\"type\":\"value\",\"value\":27},\"global_alpha\":{\"type\":\"value\",\"value\":0.1},\"image\":{\"type\":\"field\",\"field\":\"image\"},\"color_mapper\":{\"type\":\"object\",\"name\":\"LinearColorMapper\",\"id\":\"p1548\",\"attributes\":{\"palette\":[\"#000000\",\"#252525\",\"#525252\",\"#737373\",\"#969696\",\"#bdbdbd\",\"#d9d9d9\",\"#f0f0f0\",\"#ffffff\"]}}}},\"muted_glyph\":{\"type\":\"object\",\"name\":\"Image\",\"id\":\"p1550\",\"attributes\":{\"x\":{\"type\":\"value\",\"value\":0},\"y\":{\"type\":\"value\",\"value\":0},\"dw\":{\"type\":\"value\",\"value\":23},\"dh\":{\"type\":\"value\",\"value\":27},\"global_alpha\":{\"type\":\"value\",\"value\":0.2},\"image\":{\"type\":\"field\",\"field\":\"image\"},\"color_mapper\":{\"type\":\"object\",\"name\":\"LinearColorMapper\",\"id\":\"p1551\",\"attributes\":{\"palette\":[\"#000000\",\"#252525\",\"#525252\",\"#737373\",\"#969696\",\"#bdbdbd\",\"#d9d9d9\",\"#f0f0f0\",\"#ffffff\"]}}}}}}],\"toolbar\":{\"type\":\"object\",\"name\":\"Toolbar\",\"id\":\"p1531\"},\"left\":[{\"type\":\"object\",\"name\":\"LinearAxis\",\"id\":\"p1562\",\"attributes\":{\"ticker\":{\"type\":\"object\",\"name\":\"FixedTicker\",\"id\":\"p1566\",\"attributes\":{\"ticks\":{\"type\":\"ndarray\",\"array\":{\"type\":\"bytes\",\"data\":\"AAAAAAAA4D8AAAAAAAD4PwAAAAAAAARAAAAAAAAADEAAAAAAAAASQAAAAAAAABZAAAAAAAAAGkAAAAAAAAAeQAAAAAAAACFAAAAAAAAAI0AAAAAAAAAlQAAAAAAAACdAAAAAAAAAKUAAAAAAAAArQAAAAAAAAC1AAAAAAAAAL0AAAAAAAIAwQAAAAAAAgDFAAAAAAACAMkAAAAAAAIAzQAAAAAAAgDRAAAAAAACANUAAAAAAAIA2QAAAAAAAgDdAAAAAAACAOEAAAAAAAIA5QAAAAAAAgDpA\"},\"shape\":[27],\"dtype\":\"float64\",\"order\":\"little\"},\"minor_ticks\":[]}},\"formatter\":{\"type\":\"object\",\"name\":\"BasicTickFormatter\",\"id\":\"p1563\"},\"axis_label\":\"translation tokens\",\"major_label_overrides\":{\"type\":\"map\",\"entries\":[[0.5,\"_EOS_\"],[1.5,\".\"],[2.5,\"apartment\"],[3.5,\"the\"],[4.5,\"from\"],[5.5,\"metres\"],[6.5,\"200\"],[7.5,\",\"],[8.5,\"moscow\"],[9.5,\"in\"],[10.5,\"located\"],[11.5,\"is\"],[12.5,\"a\"],[13.5,\"lo@@\"],[14.5,\"bal@@\"],[15.5,\"-\"],[16.5,\"la\"],[17.5,\"-\"],[18.5,\"mini\"],[19.5,\",\"],[20.5,\"moscow\"],[21.5,\"in\"],[22.5,\"fi\"],[23.5,\"-\"],[24.5,\"hi\"],[25.5,\"a\"],[26.5,\"_BOS_\"]]},\"major_label_policy\":{\"type\":\"object\",\"name\":\"AllLabels\",\"id\":\"p1565\"}}}],\"above\":[{\"type\":\"object\",\"name\":\"LinearAxis\",\"id\":\"p1556\",\"attributes\":{\"ticker\":{\"type\":\"object\",\"name\":\"FixedTicker\",\"id\":\"p1560\",\"attributes\":{\"ticks\":{\"type\":\"ndarray\",\"array\":{\"type\":\"bytes\",\"data\":\"AAAAAAAA4D8AAAAAAAD4PwAAAAAAAARAAAAAAAAADEAAAAAAAAASQAAAAAAAABZAAAAAAAAAGkAAAAAAAAAeQAAAAAAAACFAAAAAAAAAI0AAAAAAAAAlQAAAAAAAACdAAAAAAAAAKUAAAAAAAAArQAAAAAAAAC1AAAAAAAAAL0AAAAAAAIAwQAAAAAAAgDFAAAAAAACAMkAAAAAAAIAzQAAAAAAAgDRAAAAAAACANUAAAAAAAIA2QA==\"},\"shape\":[23],\"dtype\":\"float64\",\"order\":\"little\"},\"minor_ticks\":[]}},\"formatter\":{\"type\":\"object\",\"name\":\"BasicTickFormatter\",\"id\":\"p1557\"},\"axis_label\":\"source tokens\",\"major_label_orientation\":45,\"major_label_overrides\":{\"type\":\"map\",\"entries\":[[0.5,\"_BOS_\"],[1.5,\"\\u0430\\u043f\\u0430\\u0440\\u0442\\u0430\\u043c\\u0435\\u043d\\u0442\\u044b\"],[2.5,\"mo@@\"],[3.5,\"s@@\"],[4.5,\"co@@\"],[5.5,\"w\"],[6.5,\"point\"],[7.5,\"-\"],[8.5,\"loft\"],[9.5,\"red\"],[10.5,\"square\"],[11.5,\"\\u043d\\u0430\\u0445\\u043e\\u0434\\u044f\\u0442\\u0441\\u044f\"],[12.5,\"\\u0432\"],[13.5,\"\\u043c\\u043e\\u0441\\u043a\\u0432\\u0435\"],[14.5,\",\"],[15.5,\"\\u0432\"],[16.5,\"200\"],[17.5,\"\\u043c\\u0435\\u0442\\u0440\\u0430\\u0445\"],[18.5,\"\\u043e\\u0442\"],[19.5,\"\\u0431\\u043e\\u043b\\u044c\\u0448\\u043e\\u0433\\u043e\"],[20.5,\"\\u0442\\u0435\\u0430\\u0442\\u0440\\u0430\"],[21.5,\".\"],[22.5,\"_EOS_\"]]},\"major_label_policy\":{\"type\":\"object\",\"name\":\"AllLabels\",\"id\":\"p1559\"}}}]}}],\"callbacks\":{\"type\":\"map\"}}};\n",
       "  const render_items = [{\"docid\":\"935bd1ee-c62a-4da6-a5e8-db63673aca02\",\"roots\":{\"p1523\":\"c26bc5ad-75b2-427a-b89d-666c344bffc5\"},\"root_ids\":[\"p1523\"]}];\n",
       "  root.Bokeh.embed.embed_items_notebook(docs_json, render_items);\n",
       "  }\n",
       "  if (root.Bokeh !== undefined) {\n",
       "    embed_document(root);\n",
       "  } else {\n",
       "    let attempts = 0;\n",
       "    const timer = setInterval(function(root) {\n",
       "      if (root.Bokeh !== undefined) {\n",
       "        clearInterval(timer);\n",
       "        embed_document(root);\n",
       "      } else {\n",
       "        attempts++;\n",
       "        if (attempts > 100) {\n",
       "          clearInterval(timer);\n",
       "          console.log(\"Bokeh: ERROR: Unable to run BokehJS code because BokehJS library is missing\");\n",
       "        }\n",
       "      }\n",
       "    }, 10, root)\n",
       "  }\n",
       "})(window);"
      ],
      "application/vnd.bokehjs_exec.v0+json": ""
     },
     "metadata": {
      "application/vnd.bokehjs_exec.v0+json": {
       "id": "p1523"
      }
     },
     "output_type": "display_data"
    }
   ],
   "source": [
    "for i in range(5):\n",
    "    draw_attention(inp[i], trans[i], attention_probs[i])\n",
    "    \n",
    "# Does it look fine already? don't forget to save images for anytask!"
   ]
  },
  {
   "cell_type": "markdown",
   "metadata": {},
   "source": [
    "## Attention maps for zero init decoder state model (it also sucks lol)"
   ]
  },
  {
   "cell_type": "code",
   "execution_count": 23,
   "metadata": {
    "execution": {
     "iopub.execute_input": "2024-10-15T16:13:46.042007Z",
     "iopub.status.busy": "2024-10-15T16:13:46.041260Z",
     "iopub.status.idle": "2024-10-15T16:13:46.115855Z",
     "shell.execute_reply": "2024-10-15T16:13:46.114993Z",
     "shell.execute_reply.started": "2024-10-15T16:13:46.041964Z"
    },
    "tags": []
   },
   "outputs": [],
   "source": [
    "inp = dev_inp[::500]\n",
    "\n",
    "trans, states = model.translate_lines(inp)\n",
    "attention_probs = np.stack([state[-1].cpu().detach().numpy() for state in states], axis=1)"
   ]
  },
  {
   "cell_type": "code",
   "execution_count": 24,
   "metadata": {
    "execution": {
     "iopub.execute_input": "2024-10-15T16:13:48.712627Z",
     "iopub.status.busy": "2024-10-15T16:13:48.711368Z",
     "iopub.status.idle": "2024-10-15T16:13:49.291253Z",
     "shell.execute_reply": "2024-10-15T16:13:49.290334Z",
     "shell.execute_reply.started": "2024-10-15T16:13:48.712579Z"
    },
    "tags": []
   },
   "outputs": [
    {
     "data": {
      "text/html": [
       "\n",
       "  <div id=\"c85a10e1-f0cb-4a32-8b6d-cfe8f99e7557\" data-root-id=\"p3866\" style=\"display: contents;\"></div>\n"
      ]
     },
     "metadata": {},
     "output_type": "display_data"
    },
    {
     "data": {
      "application/javascript": [
       "(function(root) {\n",
       "  function embed_document(root) {\n",
       "  const docs_json = {\"2a068b02-06c1-4c9a-b5d9-60fa57aa45fd\":{\"version\":\"3.1.1\",\"title\":\"Bokeh Application\",\"defs\":[],\"roots\":[{\"type\":\"object\",\"name\":\"Figure\",\"id\":\"p3866\",\"attributes\":{\"x_range\":{\"type\":\"object\",\"name\":\"Range1d\",\"id\":\"p3875\",\"attributes\":{\"end\":11}},\"y_range\":{\"type\":\"object\",\"name\":\"Range1d\",\"id\":\"p3877\",\"attributes\":{\"end\":15}},\"x_scale\":{\"type\":\"object\",\"name\":\"LinearScale\",\"id\":\"p3879\"},\"y_scale\":{\"type\":\"object\",\"name\":\"LinearScale\",\"id\":\"p3881\"},\"title\":{\"type\":\"object\",\"name\":\"Title\",\"id\":\"p3872\"},\"renderers\":[{\"type\":\"object\",\"name\":\"GlyphRenderer\",\"id\":\"p3896\",\"attributes\":{\"data_source\":{\"type\":\"object\",\"name\":\"ColumnDataSource\",\"id\":\"p3884\",\"attributes\":{\"selected\":{\"type\":\"object\",\"name\":\"Selection\",\"id\":\"p3885\",\"attributes\":{\"indices\":[],\"line_indices\":[]}},\"selection_policy\":{\"type\":\"object\",\"name\":\"UnionRenderers\",\"id\":\"p3886\"},\"data\":{\"type\":\"map\",\"entries\":[[\"image\",[{\"type\":\"ndarray\",\"array\":{\"type\":\"bytes\",\"data\":\"xlZkP+oKVTu5dF86oySJOS6KxTjsSzg5d1tGOzUmmzqjt2s8gYk0PEYklz06Z1w/YJmfOyVGPDszMeQ780E4O7uVnjypA6Y7ejDVOoAnfj2IZ4c853SKPJYbPT+geAM6oaetPM/UDTrmwo06cm2sO5paPTsSlhw6Tuw4PS0yMj3Z8g8+Ds8EP3FUoTyoEHI9sGbZO0ZK8jv16P47dPXQOx79FTw4/Vo+GpmdPQEemD1t+x4/K0IVO2utYDqKI445xYJjOwBb4DykuOU7L0VXOxijyz3s8h4+i1mjPZKONDxeK3E5rRhnOZWu4Dfx0F06HHagOfj8hzzNosA7jtYCP07U3D5UI7g8Zf3pOZO+rDhO/Dc5yY8PObVrlTqPhcI6YFcUOxciBz2IMCk/9+iSPilbXDyQ9sQ7KSHlOQUQjjoTvwI6b1koO1kp4TqyxDU8kbn9Pp/Uwz5yZq49snNbPKxhqz5/Fo86ZhgNOcvFwTjWAZg8ZcuIPGfjrj2EDQ09542HPufkNj4TJ4Y9gEuDPaIyjDfd+F45an0bORRFjju8Zi88D4H/PoIA9juvgrc+bRFCPRgtBTwpO8E7aNhJNy8lwDimnqw5cAKlPH8buT3delQ/fTTFO57H2DzkG5I8EUU5O4GmQT2OtXA5rV+QO5qFHzwRcC89AoaoPn8Llj5Ehuk8AJgMPfZTgjyPPkc++idQPx/oiDoNbEE75MbSPCfDJDqj0dk8iaPLPEqtcjq1Cl89i+LiPElVtDxIvoI7qZ+DPFZkNDwnhs89ErF3PlohTT6Dzwc+GbyBPde3WT1CL1A82XsnPtVHdD/jhK81QdGANBcv0DKgGUQ1Epo+OH8Fpji+WoM2Uw3oOAac6jlOsDg9\"},\"shape\":[15,11],\"dtype\":\"float32\",\"order\":\"little\"}]]]}}},\"view\":{\"type\":\"object\",\"name\":\"CDSView\",\"id\":\"p3897\",\"attributes\":{\"filter\":{\"type\":\"object\",\"name\":\"AllIndices\",\"id\":\"p3898\"}}},\"glyph\":{\"type\":\"object\",\"name\":\"Image\",\"id\":\"p3887\",\"attributes\":{\"x\":{\"type\":\"value\",\"value\":0},\"y\":{\"type\":\"value\",\"value\":0},\"dw\":{\"type\":\"value\",\"value\":11},\"dh\":{\"type\":\"value\",\"value\":15},\"image\":{\"type\":\"field\",\"field\":\"image\"},\"color_mapper\":{\"type\":\"object\",\"name\":\"LinearColorMapper\",\"id\":\"p3888\",\"attributes\":{\"palette\":[\"#000000\",\"#252525\",\"#525252\",\"#737373\",\"#969696\",\"#bdbdbd\",\"#d9d9d9\",\"#f0f0f0\",\"#ffffff\"]}}}},\"nonselection_glyph\":{\"type\":\"object\",\"name\":\"Image\",\"id\":\"p3890\",\"attributes\":{\"x\":{\"type\":\"value\",\"value\":0},\"y\":{\"type\":\"value\",\"value\":0},\"dw\":{\"type\":\"value\",\"value\":11},\"dh\":{\"type\":\"value\",\"value\":15},\"global_alpha\":{\"type\":\"value\",\"value\":0.1},\"image\":{\"type\":\"field\",\"field\":\"image\"},\"color_mapper\":{\"type\":\"object\",\"name\":\"LinearColorMapper\",\"id\":\"p3891\",\"attributes\":{\"palette\":[\"#000000\",\"#252525\",\"#525252\",\"#737373\",\"#969696\",\"#bdbdbd\",\"#d9d9d9\",\"#f0f0f0\",\"#ffffff\"]}}}},\"muted_glyph\":{\"type\":\"object\",\"name\":\"Image\",\"id\":\"p3893\",\"attributes\":{\"x\":{\"type\":\"value\",\"value\":0},\"y\":{\"type\":\"value\",\"value\":0},\"dw\":{\"type\":\"value\",\"value\":11},\"dh\":{\"type\":\"value\",\"value\":15},\"global_alpha\":{\"type\":\"value\",\"value\":0.2},\"image\":{\"type\":\"field\",\"field\":\"image\"},\"color_mapper\":{\"type\":\"object\",\"name\":\"LinearColorMapper\",\"id\":\"p3894\",\"attributes\":{\"palette\":[\"#000000\",\"#252525\",\"#525252\",\"#737373\",\"#969696\",\"#bdbdbd\",\"#d9d9d9\",\"#f0f0f0\",\"#ffffff\"]}}}}}}],\"toolbar\":{\"type\":\"object\",\"name\":\"Toolbar\",\"id\":\"p3870\"},\"left\":[{\"type\":\"object\",\"name\":\"LinearAxis\",\"id\":\"p3905\",\"attributes\":{\"ticker\":{\"type\":\"object\",\"name\":\"FixedTicker\",\"id\":\"p3909\",\"attributes\":{\"ticks\":{\"type\":\"ndarray\",\"array\":{\"type\":\"bytes\",\"data\":\"AAAAAAAA4D8AAAAAAAD4PwAAAAAAAARAAAAAAAAADEAAAAAAAAASQAAAAAAAABZAAAAAAAAAGkAAAAAAAAAeQAAAAAAAACFAAAAAAAAAI0AAAAAAAAAlQAAAAAAAACdAAAAAAAAAKUAAAAAAAAArQAAAAAAAAC1A\"},\"shape\":[15],\"dtype\":\"float64\",\"order\":\"little\"},\"minor_ticks\":[]}},\"formatter\":{\"type\":\"object\",\"name\":\"BasicTickFormatter\",\"id\":\"p3907\"},\"axis_label\":\"translation tokens\",\"major_label_overrides\":{\"type\":\"map\",\"entries\":[[0.5,\"_EOS_\"],[1.5,\".\"],[2.5,\"property\"],[3.5,\"the\"],[4.5,\"at\"],[5.5,\"kitchen\"],[6.5,\"common\"],[7.5,\"a\"],[8.5,\"and\"],[9.5,\"kitchen\"],[10.5,\"shared\"],[11.5,\"a\"],[12.5,\"is\"],[13.5,\"there\"],[14.5,\"_BOS_\"]]},\"major_label_policy\":{\"type\":\"object\",\"name\":\"AllLabels\",\"id\":\"p3908\"}}}],\"above\":[{\"type\":\"object\",\"name\":\"LinearAxis\",\"id\":\"p3899\",\"attributes\":{\"ticker\":{\"type\":\"object\",\"name\":\"FixedTicker\",\"id\":\"p3903\",\"attributes\":{\"ticks\":{\"type\":\"ndarray\",\"array\":{\"type\":\"bytes\",\"data\":\"AAAAAAAA4D8AAAAAAAD4PwAAAAAAAARAAAAAAAAADEAAAAAAAAASQAAAAAAAABZAAAAAAAAAGkAAAAAAAAAeQAAAAAAAACFAAAAAAAAAI0AAAAAAAAAlQA==\"},\"shape\":[11],\"dtype\":\"float64\",\"order\":\"little\"},\"minor_ticks\":[]}},\"formatter\":{\"type\":\"object\",\"name\":\"BasicTickFormatter\",\"id\":\"p3901\"},\"axis_label\":\"source tokens\",\"major_label_orientation\":45,\"major_label_overrides\":{\"type\":\"map\",\"entries\":[[0.5,\"_BOS_\"],[1.5,\"\\u0432\"],[2.5,\"\\u0440\\u0430\\u0441\\u043f\\u043e\\u0440\\u044f\\u0436\\u0435\\u043d\\u0438\\u0438\"],[3.5,\"\\u0433\\u043e\\u0441\\u0442\\u0435\\u0439\"],[4.5,\"\\u043e\\u0431\\u0449\\u0430\\u044f\"],[5.5,\"\\u043a\\u0443\\u0445\\u043d\\u044f\"],[6.5,\"\\u0438\"],[7.5,\"\\u043e\\u0431\\u0449\\u0430\\u044f\"],[8.5,\"\\u0433\\u043e\\u0441\\u0442\\u0438\\u043d\\u0430\\u044f\"],[9.5,\".\"],[10.5,\"_EOS_\"]]},\"major_label_policy\":{\"type\":\"object\",\"name\":\"AllLabels\",\"id\":\"p3902\"}}}]}}],\"callbacks\":{\"type\":\"map\"}}};\n",
       "  const render_items = [{\"docid\":\"2a068b02-06c1-4c9a-b5d9-60fa57aa45fd\",\"roots\":{\"p3866\":\"c85a10e1-f0cb-4a32-8b6d-cfe8f99e7557\"},\"root_ids\":[\"p3866\"]}];\n",
       "  root.Bokeh.embed.embed_items_notebook(docs_json, render_items);\n",
       "  }\n",
       "  if (root.Bokeh !== undefined) {\n",
       "    embed_document(root);\n",
       "  } else {\n",
       "    let attempts = 0;\n",
       "    const timer = setInterval(function(root) {\n",
       "      if (root.Bokeh !== undefined) {\n",
       "        clearInterval(timer);\n",
       "        embed_document(root);\n",
       "      } else {\n",
       "        attempts++;\n",
       "        if (attempts > 100) {\n",
       "          clearInterval(timer);\n",
       "          console.log(\"Bokeh: ERROR: Unable to run BokehJS code because BokehJS library is missing\");\n",
       "        }\n",
       "      }\n",
       "    }, 10, root)\n",
       "  }\n",
       "})(window);"
      ],
      "application/vnd.bokehjs_exec.v0+json": ""
     },
     "metadata": {
      "application/vnd.bokehjs_exec.v0+json": {
       "id": "p3866"
      }
     },
     "output_type": "display_data"
    },
    {
     "data": {
      "text/html": [
       "\n",
       "  <div id=\"a0c39833-c6dc-4c49-80c4-b5d1c9f99d04\" data-root-id=\"p4145\" style=\"display: contents;\"></div>\n"
      ]
     },
     "metadata": {},
     "output_type": "display_data"
    },
    {
     "data": {
      "application/javascript": [
       "(function(root) {\n",
       "  function embed_document(root) {\n",
       "  const docs_json = {\"6b484274-8c7f-4c13-9d8a-69db5ae0f055\":{\"version\":\"3.1.1\",\"title\":\"Bokeh Application\",\"defs\":[],\"roots\":[{\"type\":\"object\",\"name\":\"Figure\",\"id\":\"p4145\",\"attributes\":{\"x_range\":{\"type\":\"object\",\"name\":\"Range1d\",\"id\":\"p4154\",\"attributes\":{\"end\":15}},\"y_range\":{\"type\":\"object\",\"name\":\"Range1d\",\"id\":\"p4156\",\"attributes\":{\"end\":15}},\"x_scale\":{\"type\":\"object\",\"name\":\"LinearScale\",\"id\":\"p4158\"},\"y_scale\":{\"type\":\"object\",\"name\":\"LinearScale\",\"id\":\"p4160\"},\"title\":{\"type\":\"object\",\"name\":\"Title\",\"id\":\"p4151\"},\"renderers\":[{\"type\":\"object\",\"name\":\"GlyphRenderer\",\"id\":\"p4175\",\"attributes\":{\"data_source\":{\"type\":\"object\",\"name\":\"ColumnDataSource\",\"id\":\"p4163\",\"attributes\":{\"selected\":{\"type\":\"object\",\"name\":\"Selection\",\"id\":\"p4164\",\"attributes\":{\"indices\":[],\"line_indices\":[]}},\"selection_policy\":{\"type\":\"object\",\"name\":\"UnionRenderers\",\"id\":\"p4165\"},\"data\":{\"type\":\"map\",\"entries\":[[\"image\",[{\"type\":\"ndarray\",\"array\":{\"type\":\"bytes\",\"data\":\"inhTP61GbTsGH9w5ATMaO+d1iDpLSHE7PP3sOg+9Bjz/v607MxE1PLJwWTyobBc7cvPKPAvK/jwFFYU9eJgEP/sNMjnKn7w1cn3vN+hs6ThwmDk6sxxCO5I/tzwDwBM8L+8jPTg+rz35DwU7uNHiPDldJz32QoA+J2ZwPWJmljpSnWc29/7POHIv7jdJM+46gGzJO5i00Tu2SCk6nPJDPO2MoTznFk46L3AZPl9J7T5l+44+OBZaPKqQyzmOqOk13SMIOHBVvTe6w485XAqlO/WJIT1cqo86DYbvO7l0/zy+9587QoKEPSNfvD7+xu0+312tPlOILz1/BwQ5VaRPOlNnkjnxZc47fdxoPKqzij1vrNM8oRm7PKT0HD48bu04IIVxO1GgAz4NfEc+YJ0qPwBjfTplIEU2Res0OFBlyjnx/d87bHQJOwZhvzybwnI8oQg/PNuUzD3O9I83KrM0OiKCbj0ukuo9KED9PTDpBjls7Cg3E6BROD+QJjnyrJU7Z83fO1R/jzzYnNw81dNrPorXlT5G/rY6IUtJPVsfLT7Y5J49C1Z7PXqBEjv0MCQ6cNheOipJ4jp+bjM7ZLt0PLESHD0iyLc8rol1PaurHj83EbA61P/aPANSQD0EOM09RHGLPbQEOTl2TJo1XRLFNjzdUjc6qrc7NSOiO0ZLyj3sS6Y9qOD/PO9dDz+Ts7M3M16+Orn4Kz07C9o9Cl2APrLydTq2Ssg4DqYEPG2vfzuEudY9YTmmPUseTD7XefI9aDREPN8lMj6cKiE6W8lhO2ZUujwn6aE8vsG7O1YgwjfO9R44gMptOiLiPDmD9XI8OUu5PZj1Iz9okoE8M1yrPNzhbj3HJ8I4T8yAO+5qRT3e88w9C5qmPNQ8fjuItdc7FxfEO46KpTpMihk98xo8PVv82T5btNU96IlEPQBSUT5leYM8xlmFPPgrEz0+ouM8BWk1PrQSwzwWHHc8TiykPAdTuTwFQGQ9eIekPcy89z5Ha/s8JqhiPafukDxHsqA3avUKOr13rjuRykA8jAxdO0klJDtrPbY4722UO+NcTjt+zxI+QTDvPWq0iz5oICo+NTiuPFTjLj57s+Q5DaBQPCO+lTx0cII9csV3PwKtRzU/KVExZKeLM35onjJ5I2k5Pwk1OcrToTwcqI85012iOeKbFTwlmCMub+MINemG4TrrCBI6\"},\"shape\":[15,15],\"dtype\":\"float32\",\"order\":\"little\"}]]]}}},\"view\":{\"type\":\"object\",\"name\":\"CDSView\",\"id\":\"p4176\",\"attributes\":{\"filter\":{\"type\":\"object\",\"name\":\"AllIndices\",\"id\":\"p4177\"}}},\"glyph\":{\"type\":\"object\",\"name\":\"Image\",\"id\":\"p4166\",\"attributes\":{\"x\":{\"type\":\"value\",\"value\":0},\"y\":{\"type\":\"value\",\"value\":0},\"dw\":{\"type\":\"value\",\"value\":15},\"dh\":{\"type\":\"value\",\"value\":15},\"image\":{\"type\":\"field\",\"field\":\"image\"},\"color_mapper\":{\"type\":\"object\",\"name\":\"LinearColorMapper\",\"id\":\"p4167\",\"attributes\":{\"palette\":[\"#000000\",\"#252525\",\"#525252\",\"#737373\",\"#969696\",\"#bdbdbd\",\"#d9d9d9\",\"#f0f0f0\",\"#ffffff\"]}}}},\"nonselection_glyph\":{\"type\":\"object\",\"name\":\"Image\",\"id\":\"p4169\",\"attributes\":{\"x\":{\"type\":\"value\",\"value\":0},\"y\":{\"type\":\"value\",\"value\":0},\"dw\":{\"type\":\"value\",\"value\":15},\"dh\":{\"type\":\"value\",\"value\":15},\"global_alpha\":{\"type\":\"value\",\"value\":0.1},\"image\":{\"type\":\"field\",\"field\":\"image\"},\"color_mapper\":{\"type\":\"object\",\"name\":\"LinearColorMapper\",\"id\":\"p4170\",\"attributes\":{\"palette\":[\"#000000\",\"#252525\",\"#525252\",\"#737373\",\"#969696\",\"#bdbdbd\",\"#d9d9d9\",\"#f0f0f0\",\"#ffffff\"]}}}},\"muted_glyph\":{\"type\":\"object\",\"name\":\"Image\",\"id\":\"p4172\",\"attributes\":{\"x\":{\"type\":\"value\",\"value\":0},\"y\":{\"type\":\"value\",\"value\":0},\"dw\":{\"type\":\"value\",\"value\":15},\"dh\":{\"type\":\"value\",\"value\":15},\"global_alpha\":{\"type\":\"value\",\"value\":0.2},\"image\":{\"type\":\"field\",\"field\":\"image\"},\"color_mapper\":{\"type\":\"object\",\"name\":\"LinearColorMapper\",\"id\":\"p4173\",\"attributes\":{\"palette\":[\"#000000\",\"#252525\",\"#525252\",\"#737373\",\"#969696\",\"#bdbdbd\",\"#d9d9d9\",\"#f0f0f0\",\"#ffffff\"]}}}}}}],\"toolbar\":{\"type\":\"object\",\"name\":\"Toolbar\",\"id\":\"p4149\"},\"left\":[{\"type\":\"object\",\"name\":\"LinearAxis\",\"id\":\"p4184\",\"attributes\":{\"ticker\":{\"type\":\"object\",\"name\":\"FixedTicker\",\"id\":\"p4188\",\"attributes\":{\"ticks\":{\"type\":\"ndarray\",\"array\":{\"type\":\"bytes\",\"data\":\"AAAAAAAA4D8AAAAAAAD4PwAAAAAAAARAAAAAAAAADEAAAAAAAAASQAAAAAAAABZAAAAAAAAAGkAAAAAAAAAeQAAAAAAAACFAAAAAAAAAI0AAAAAAAAAlQAAAAAAAACdAAAAAAAAAKUAAAAAAAAArQAAAAAAAAC1A\"},\"shape\":[15],\"dtype\":\"float64\",\"order\":\"little\"},\"minor_ticks\":[]}},\"formatter\":{\"type\":\"object\",\"name\":\"BasicTickFormatter\",\"id\":\"p4186\"},\"axis_label\":\"translation tokens\",\"major_label_overrides\":{\"type\":\"map\",\"entries\":[[0.5,\"_EOS_\"],[1.5,\".\"],[2.5,\"parking\"],[3.5,\"free\"],[4.5,\"and\"],[5.5,\"service\"],[6.5,\"shuttle\"],[7.5,\"free\"],[8.5,\",\"],[9.5,\"hire\"],[10.5,\"bike\"],[11.5,\"offers\"],[12.5,\"property\"],[13.5,\"the\"],[14.5,\"_BOS_\"]]},\"major_label_policy\":{\"type\":\"object\",\"name\":\"AllLabels\",\"id\":\"p4187\"}}}],\"above\":[{\"type\":\"object\",\"name\":\"LinearAxis\",\"id\":\"p4178\",\"attributes\":{\"ticker\":{\"type\":\"object\",\"name\":\"FixedTicker\",\"id\":\"p4182\",\"attributes\":{\"ticks\":{\"type\":\"ndarray\",\"array\":{\"type\":\"bytes\",\"data\":\"AAAAAAAA4D8AAAAAAAD4PwAAAAAAAARAAAAAAAAADEAAAAAAAAASQAAAAAAAABZAAAAAAAAAGkAAAAAAAAAeQAAAAAAAACFAAAAAAAAAI0AAAAAAAAAlQAAAAAAAACdAAAAAAAAAKUAAAAAAAAArQAAAAAAAAC1A\"},\"shape\":[15],\"dtype\":\"float64\",\"order\":\"little\"},\"minor_ticks\":[]}},\"formatter\":{\"type\":\"object\",\"name\":\"BasicTickFormatter\",\"id\":\"p4180\"},\"axis_label\":\"source tokens\",\"major_label_orientation\":45,\"major_label_overrides\":{\"type\":\"map\",\"entries\":[[0.5,\"_BOS_\"],[1.5,\"\\u043a\\u0440\\u043e\\u043c\\u0435\"],[2.5,\"\\u0442\\u043e\\u0433\\u043e\"],[3.5,\",\"],[4.5,\"\\u043f\\u0440\\u0435\\u0434\\u043e\\u0441\\u0442\\u0430\\u0432\\u043b\\u044f\\u0435\\u0442\\u0441\\u044f\"],[5.5,\"\\u043f\\u0440\\u043e\\u043a\\u0430\\u0442\"],[6.5,\"\\u0432\\u0435\\u043b\\u043e\\u0441\\u0438\\u043f\\u0435\\u0434\\u043e\\u0432\"],[7.5,\",\"],[8.5,\"\\u0443\\u0441\\u043b\\u0443\\u0433\\u0438\"],[9.5,\"\\u0442\\u0440\\u0430\\u043d\\u0441\\u0444\\u0435\\u0440\\u0430\"],[10.5,\"\\u0438\"],[11.5,\"\\u0431\\u0435\\u0441\\u043f\\u043b\\u0430\\u0442\\u043d\\u0430\\u044f\"],[12.5,\"\\u043f\\u0430\\u0440\\u043a\\u043e\\u0432\\u043a\\u0430\"],[13.5,\".\"],[14.5,\"_EOS_\"]]},\"major_label_policy\":{\"type\":\"object\",\"name\":\"AllLabels\",\"id\":\"p4181\"}}}]}}],\"callbacks\":{\"type\":\"map\"}}};\n",
       "  const render_items = [{\"docid\":\"6b484274-8c7f-4c13-9d8a-69db5ae0f055\",\"roots\":{\"p4145\":\"a0c39833-c6dc-4c49-80c4-b5d1c9f99d04\"},\"root_ids\":[\"p4145\"]}];\n",
       "  root.Bokeh.embed.embed_items_notebook(docs_json, render_items);\n",
       "  }\n",
       "  if (root.Bokeh !== undefined) {\n",
       "    embed_document(root);\n",
       "  } else {\n",
       "    let attempts = 0;\n",
       "    const timer = setInterval(function(root) {\n",
       "      if (root.Bokeh !== undefined) {\n",
       "        clearInterval(timer);\n",
       "        embed_document(root);\n",
       "      } else {\n",
       "        attempts++;\n",
       "        if (attempts > 100) {\n",
       "          clearInterval(timer);\n",
       "          console.log(\"Bokeh: ERROR: Unable to run BokehJS code because BokehJS library is missing\");\n",
       "        }\n",
       "      }\n",
       "    }, 10, root)\n",
       "  }\n",
       "})(window);"
      ],
      "application/vnd.bokehjs_exec.v0+json": ""
     },
     "metadata": {
      "application/vnd.bokehjs_exec.v0+json": {
       "id": "p4145"
      }
     },
     "output_type": "display_data"
    },
    {
     "data": {
      "text/html": [
       "\n",
       "  <div id=\"ebfb2c9a-278f-4393-9eb5-11b6c8e11bd6\" data-root-id=\"p4435\" style=\"display: contents;\"></div>\n"
      ]
     },
     "metadata": {},
     "output_type": "display_data"
    },
    {
     "data": {
      "application/javascript": [
       "(function(root) {\n",
       "  function embed_document(root) {\n",
       "  const docs_json = {\"7673de5f-a43d-409a-a660-137444b9c941\":{\"version\":\"3.1.1\",\"title\":\"Bokeh Application\",\"defs\":[],\"roots\":[{\"type\":\"object\",\"name\":\"Figure\",\"id\":\"p4435\",\"attributes\":{\"x_range\":{\"type\":\"object\",\"name\":\"Range1d\",\"id\":\"p4444\",\"attributes\":{\"end\":13}},\"y_range\":{\"type\":\"object\",\"name\":\"Range1d\",\"id\":\"p4446\",\"attributes\":{\"end\":14}},\"x_scale\":{\"type\":\"object\",\"name\":\"LinearScale\",\"id\":\"p4448\"},\"y_scale\":{\"type\":\"object\",\"name\":\"LinearScale\",\"id\":\"p4450\"},\"title\":{\"type\":\"object\",\"name\":\"Title\",\"id\":\"p4441\"},\"renderers\":[{\"type\":\"object\",\"name\":\"GlyphRenderer\",\"id\":\"p4465\",\"attributes\":{\"data_source\":{\"type\":\"object\",\"name\":\"ColumnDataSource\",\"id\":\"p4453\",\"attributes\":{\"selected\":{\"type\":\"object\",\"name\":\"Selection\",\"id\":\"p4454\",\"attributes\":{\"indices\":[],\"line_indices\":[]}},\"selection_policy\":{\"type\":\"object\",\"name\":\"UnionRenderers\",\"id\":\"p4455\"},\"data\":{\"type\":\"map\",\"entries\":[[\"image\",[{\"type\":\"ndarray\",\"array\":{\"type\":\"bytes\",\"data\":\"HpF9P0lu3jopWwI5p4OpNwIAEDnwGhU67VvEOskyCTnCMH46ykO5N8xwIDm+Jhk6xNxrOyQPXz//4XQ6A249OWAWTzjbhL85KnSSOkR0hTtSIFc65Cu5O2LqmzgitVs4IjypPa8IBj146i8/V2JfOyUCATooh445ncfQOq0e4jy/pEA9vUyJPRVPtj1Tc+E5RdsHNna32jyOrkk9t6s5P9/BwDkJPdU49z/RNoA2Wjp2OvM7Efm0PLm6WD0oppM9WM8JNyKIdTFtdTs8FQzcPRBqNj/6A3U8jIqTOsbcljm7KaQ7liJvO7bdqzyk+6E7lED2PJDjsTdmISs148IePQutKz4GA+o9wLmhPDpxXzqNg4Y5T7IgPJH2NTwAi208daf5Owoolz3lqj02hFuqNQAnhj6A2Pg+T2ENPDMTpznaoKU3QK4iN8dtEDjyQjw5vUegOvhDTDhrTig7MymMOD2GLjcx4+A+WTMMP0Feij3EUVg7vioAO4+DXjyK3G4+YBvqPUTSVz41DtE9UbL5PSYrWTnhcbM1+S4SPSRPwz3RawA9iksJPD4/lzm0M4o5XMhbPOMNDD6nzBg/lkshPdlHKD4UYKc45JHmNJxS6Tq9Beg7ivMbPylxrjy3SDU6ZQrJNrgYGzzyyqI8xPfbPWv6FTybjzc+vwgiN6tR6DEWp/M7K1wUPZ7b8j4xOas7j7BaOn0WEDyCZqo9xJaXPDL9DD2wqSY8Tb6pPufVqDc79ok1YLvtOxGX0jzKswQ+ws8EPQ3WHDx8nI46ekO9PDExTTwIkUA+cWGfPCrNEz90Fzc33laZNbjttDkKVdQ7XGl+PLZtAD62y206nkl1OlRzJjzTyGc8bw46PcddUDzjO98+O9ZPOMfNjDN6qPg8yOCdPur2ez+DvTY29cK5MYKaMy47MqkzLDD4MptKETkxfz80IMRNPOeA/izfeo8nmrlTN0DoRzs=\"},\"shape\":[14,13],\"dtype\":\"float32\",\"order\":\"little\"}]]]}}},\"view\":{\"type\":\"object\",\"name\":\"CDSView\",\"id\":\"p4466\",\"attributes\":{\"filter\":{\"type\":\"object\",\"name\":\"AllIndices\",\"id\":\"p4467\"}}},\"glyph\":{\"type\":\"object\",\"name\":\"Image\",\"id\":\"p4456\",\"attributes\":{\"x\":{\"type\":\"value\",\"value\":0},\"y\":{\"type\":\"value\",\"value\":0},\"dw\":{\"type\":\"value\",\"value\":13},\"dh\":{\"type\":\"value\",\"value\":14},\"image\":{\"type\":\"field\",\"field\":\"image\"},\"color_mapper\":{\"type\":\"object\",\"name\":\"LinearColorMapper\",\"id\":\"p4457\",\"attributes\":{\"palette\":[\"#000000\",\"#252525\",\"#525252\",\"#737373\",\"#969696\",\"#bdbdbd\",\"#d9d9d9\",\"#f0f0f0\",\"#ffffff\"]}}}},\"nonselection_glyph\":{\"type\":\"object\",\"name\":\"Image\",\"id\":\"p4459\",\"attributes\":{\"x\":{\"type\":\"value\",\"value\":0},\"y\":{\"type\":\"value\",\"value\":0},\"dw\":{\"type\":\"value\",\"value\":13},\"dh\":{\"type\":\"value\",\"value\":14},\"global_alpha\":{\"type\":\"value\",\"value\":0.1},\"image\":{\"type\":\"field\",\"field\":\"image\"},\"color_mapper\":{\"type\":\"object\",\"name\":\"LinearColorMapper\",\"id\":\"p4460\",\"attributes\":{\"palette\":[\"#000000\",\"#252525\",\"#525252\",\"#737373\",\"#969696\",\"#bdbdbd\",\"#d9d9d9\",\"#f0f0f0\",\"#ffffff\"]}}}},\"muted_glyph\":{\"type\":\"object\",\"name\":\"Image\",\"id\":\"p4462\",\"attributes\":{\"x\":{\"type\":\"value\",\"value\":0},\"y\":{\"type\":\"value\",\"value\":0},\"dw\":{\"type\":\"value\",\"value\":13},\"dh\":{\"type\":\"value\",\"value\":14},\"global_alpha\":{\"type\":\"value\",\"value\":0.2},\"image\":{\"type\":\"field\",\"field\":\"image\"},\"color_mapper\":{\"type\":\"object\",\"name\":\"LinearColorMapper\",\"id\":\"p4463\",\"attributes\":{\"palette\":[\"#000000\",\"#252525\",\"#525252\",\"#737373\",\"#969696\",\"#bdbdbd\",\"#d9d9d9\",\"#f0f0f0\",\"#ffffff\"]}}}}}}],\"toolbar\":{\"type\":\"object\",\"name\":\"Toolbar\",\"id\":\"p4439\"},\"left\":[{\"type\":\"object\",\"name\":\"LinearAxis\",\"id\":\"p4474\",\"attributes\":{\"ticker\":{\"type\":\"object\",\"name\":\"FixedTicker\",\"id\":\"p4478\",\"attributes\":{\"ticks\":{\"type\":\"ndarray\",\"array\":{\"type\":\"bytes\",\"data\":\"AAAAAAAA4D8AAAAAAAD4PwAAAAAAAARAAAAAAAAADEAAAAAAAAASQAAAAAAAABZAAAAAAAAAGkAAAAAAAAAeQAAAAAAAACFAAAAAAAAAI0AAAAAAAAAlQAAAAAAAACdAAAAAAAAAKUAAAAAAAAArQA==\"},\"shape\":[14],\"dtype\":\"float64\",\"order\":\"little\"},\"minor_ticks\":[]}},\"formatter\":{\"type\":\"object\",\"name\":\"BasicTickFormatter\",\"id\":\"p4476\"},\"axis_label\":\"translation tokens\",\"major_label_overrides\":{\"type\":\"map\",\"entries\":[[0.5,\"_EOS_\"],[1.5,\".\"],[2.5,\"property\"],[3.5,\"the\"],[4.5,\"from\"],[5.5,\"km\"],[6.5,\"26\"],[7.5,\"is\"],[8.5,\"town\"],[9.5,\"the\"],[10.5,\"of\"],[11.5,\"town\"],[12.5,\"the\"],[13.5,\"_BOS_\"]]},\"major_label_policy\":{\"type\":\"object\",\"name\":\"AllLabels\",\"id\":\"p4477\"}}}],\"above\":[{\"type\":\"object\",\"name\":\"LinearAxis\",\"id\":\"p4468\",\"attributes\":{\"ticker\":{\"type\":\"object\",\"name\":\"FixedTicker\",\"id\":\"p4472\",\"attributes\":{\"ticks\":{\"type\":\"ndarray\",\"array\":{\"type\":\"bytes\",\"data\":\"AAAAAAAA4D8AAAAAAAD4PwAAAAAAAARAAAAAAAAADEAAAAAAAAASQAAAAAAAABZAAAAAAAAAGkAAAAAAAAAeQAAAAAAAACFAAAAAAAAAI0AAAAAAAAAlQAAAAAAAACdAAAAAAAAAKUA=\"},\"shape\":[13],\"dtype\":\"float64\",\"order\":\"little\"},\"minor_ticks\":[]}},\"formatter\":{\"type\":\"object\",\"name\":\"BasicTickFormatter\",\"id\":\"p4470\"},\"axis_label\":\"source tokens\",\"major_label_orientation\":45,\"major_label_overrides\":{\"type\":\"map\",\"entries\":[[0.5,\"_BOS_\"],[1.5,\"\\u0440\\u0430\\u0441\\u0441\\u0442\\u043e\\u044f\\u043d\\u0438\\u0435\"],[2.5,\"\\u0434\\u043e\"],[3.5,\"\\u0433\\u043e\\u0440\\u043e\\u0434\\u0430\"],[4.5,\"\\u043a\\u0438@@\"],[5.5,\"\\u0441\\u0441\\u0438@@\"],[6.5,\"\\u043c@@\"],[7.5,\"\\u043c\\u0438\"],[8.5,\"\\u0441\\u043e\\u0441\\u0442\\u0430\\u0432\\u043b\\u044f\\u0435\\u0442\"],[9.5,\"26\"],[10.5,\"\\u043a\\u043c\"],[11.5,\".\"],[12.5,\"_EOS_\"]]},\"major_label_policy\":{\"type\":\"object\",\"name\":\"AllLabels\",\"id\":\"p4471\"}}}]}}],\"callbacks\":{\"type\":\"map\"}}};\n",
       "  const render_items = [{\"docid\":\"7673de5f-a43d-409a-a660-137444b9c941\",\"roots\":{\"p4435\":\"ebfb2c9a-278f-4393-9eb5-11b6c8e11bd6\"},\"root_ids\":[\"p4435\"]}];\n",
       "  root.Bokeh.embed.embed_items_notebook(docs_json, render_items);\n",
       "  }\n",
       "  if (root.Bokeh !== undefined) {\n",
       "    embed_document(root);\n",
       "  } else {\n",
       "    let attempts = 0;\n",
       "    const timer = setInterval(function(root) {\n",
       "      if (root.Bokeh !== undefined) {\n",
       "        clearInterval(timer);\n",
       "        embed_document(root);\n",
       "      } else {\n",
       "        attempts++;\n",
       "        if (attempts > 100) {\n",
       "          clearInterval(timer);\n",
       "          console.log(\"Bokeh: ERROR: Unable to run BokehJS code because BokehJS library is missing\");\n",
       "        }\n",
       "      }\n",
       "    }, 10, root)\n",
       "  }\n",
       "})(window);"
      ],
      "application/vnd.bokehjs_exec.v0+json": ""
     },
     "metadata": {
      "application/vnd.bokehjs_exec.v0+json": {
       "id": "p4435"
      }
     },
     "output_type": "display_data"
    },
    {
     "data": {
      "text/html": [
       "\n",
       "  <div id=\"f3365a13-c765-4c19-a9ce-356c7b244bb0\" data-root-id=\"p4736\" style=\"display: contents;\"></div>\n"
      ]
     },
     "metadata": {},
     "output_type": "display_data"
    },
    {
     "data": {
      "application/javascript": [
       "(function(root) {\n",
       "  function embed_document(root) {\n",
       "  const docs_json = {\"e1f57cba-5be7-42f0-887e-d915e1c502be\":{\"version\":\"3.1.1\",\"title\":\"Bokeh Application\",\"defs\":[],\"roots\":[{\"type\":\"object\",\"name\":\"Figure\",\"id\":\"p4736\",\"attributes\":{\"x_range\":{\"type\":\"object\",\"name\":\"Range1d\",\"id\":\"p4745\",\"attributes\":{\"end\":32}},\"y_range\":{\"type\":\"object\",\"name\":\"Range1d\",\"id\":\"p4747\",\"attributes\":{\"end\":38}},\"x_scale\":{\"type\":\"object\",\"name\":\"LinearScale\",\"id\":\"p4749\"},\"y_scale\":{\"type\":\"object\",\"name\":\"LinearScale\",\"id\":\"p4751\"},\"title\":{\"type\":\"object\",\"name\":\"Title\",\"id\":\"p4742\"},\"renderers\":[{\"type\":\"object\",\"name\":\"GlyphRenderer\",\"id\":\"p4766\",\"attributes\":{\"data_source\":{\"type\":\"object\",\"name\":\"ColumnDataSource\",\"id\":\"p4754\",\"attributes\":{\"selected\":{\"type\":\"object\",\"name\":\"Selection\",\"id\":\"p4755\",\"attributes\":{\"indices\":[],\"line_indices\":[]}},\"selection_policy\":{\"type\":\"object\",\"name\":\"UnionRenderers\",\"id\":\"p4756\"},\"data\":{\"type\":\"map\",\"entries\":[[\"image\",[{\"type\":\"ndarray\",\"array\":{\"type\":\"bytes\",\"data\":\"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\"},\"shape\":[38,32],\"dtype\":\"float32\",\"order\":\"little\"}]]]}}},\"view\":{\"type\":\"object\",\"name\":\"CDSView\",\"id\":\"p4767\",\"attributes\":{\"filter\":{\"type\":\"object\",\"name\":\"AllIndices\",\"id\":\"p4768\"}}},\"glyph\":{\"type\":\"object\",\"name\":\"Image\",\"id\":\"p4757\",\"attributes\":{\"x\":{\"type\":\"value\",\"value\":0},\"y\":{\"type\":\"value\",\"value\":0},\"dw\":{\"type\":\"value\",\"value\":32},\"dh\":{\"type\":\"value\",\"value\":38},\"image\":{\"type\":\"field\",\"field\":\"image\"},\"color_mapper\":{\"type\":\"object\",\"name\":\"LinearColorMapper\",\"id\":\"p4758\",\"attributes\":{\"palette\":[\"#000000\",\"#252525\",\"#525252\",\"#737373\",\"#969696\",\"#bdbdbd\",\"#d9d9d9\",\"#f0f0f0\",\"#ffffff\"]}}}},\"nonselection_glyph\":{\"type\":\"object\",\"name\":\"Image\",\"id\":\"p4760\",\"attributes\":{\"x\":{\"type\":\"value\",\"value\":0},\"y\":{\"type\":\"value\",\"value\":0},\"dw\":{\"type\":\"value\",\"value\":32},\"dh\":{\"type\":\"value\",\"value\":38},\"global_alpha\":{\"type\":\"value\",\"value\":0.1},\"image\":{\"type\":\"field\",\"field\":\"image\"},\"color_mapper\":{\"type\":\"object\",\"name\":\"LinearColorMapper\",\"id\":\"p4761\",\"attributes\":{\"palette\":[\"#000000\",\"#252525\",\"#525252\",\"#737373\",\"#969696\",\"#bdbdbd\",\"#d9d9d9\",\"#f0f0f0\",\"#ffffff\"]}}}},\"muted_glyph\":{\"type\":\"object\",\"name\":\"Image\",\"id\":\"p4763\",\"attributes\":{\"x\":{\"type\":\"value\",\"value\":0},\"y\":{\"type\":\"value\",\"value\":0},\"dw\":{\"type\":\"value\",\"value\":32},\"dh\":{\"type\":\"value\",\"value\":38},\"global_alpha\":{\"type\":\"value\",\"value\":0.2},\"image\":{\"type\":\"field\",\"field\":\"image\"},\"color_mapper\":{\"type\":\"object\",\"name\":\"LinearColorMapper\",\"id\":\"p4764\",\"attributes\":{\"palette\":[\"#000000\",\"#252525\",\"#525252\",\"#737373\",\"#969696\",\"#bdbdbd\",\"#d9d9d9\",\"#f0f0f0\",\"#ffffff\"]}}}}}}],\"toolbar\":{\"type\":\"object\",\"name\":\"Toolbar\",\"id\":\"p4740\"},\"left\":[{\"type\":\"object\",\"name\":\"LinearAxis\",\"id\":\"p4775\",\"attributes\":{\"ticker\":{\"type\":\"object\",\"name\":\"FixedTicker\",\"id\":\"p4779\",\"attributes\":{\"ticks\":{\"type\":\"ndarray\",\"array\":{\"type\":\"bytes\",\"data\":\"AAAAAAAA4D8AAAAAAAD4PwAAAAAAAARAAAAAAAAADEAAAAAAAAASQAAAAAAAABZAAAAAAAAAGkAAAAAAAAAeQAAAAAAAACFAAAAAAAAAI0AAAAAAAAAlQAAAAAAAACdAAAAAAAAAKUAAAAAAAAArQAAAAAAAAC1AAAAAAAAAL0AAAAAAAIAwQAAAAAAAgDFAAAAAAACAMkAAAAAAAIAzQAAAAAAAgDRAAAAAAACANUAAAAAAAIA2QAAAAAAAgDdAAAAAAACAOEAAAAAAAIA5QAAAAAAAgDpAAAAAAACAO0AAAAAAAIA8QAAAAAAAgD1AAAAAAACAPkAAAAAAAIA/QAAAAAAAQEBAAAAAAADAQEAAAAAAAEBBQAAAAAAAwEFAAAAAAABAQkAAAAAAAMBCQA==\"},\"shape\":[38],\"dtype\":\"float64\",\"order\":\"little\"},\"minor_ticks\":[]}},\"formatter\":{\"type\":\"object\",\"name\":\"BasicTickFormatter\",\"id\":\"p4777\"},\"axis_label\":\"translation tokens\",\"major_label_overrides\":{\"type\":\"map\",\"entries\":[[0.5,\"_EOS_\"],[1.5,\".\"],[2.5,\"terrace\"],[3.5,\"sun\"],[4.5,\"a\"],[5.5,\"and\"],[6.5,\"garden\"],[7.5,\",\"],[8.5,\"garden\"],[9.5,\"a\"],[10.5,\"features\"],[11.5,\"it\"],[12.5,\",\"],[13.5,\"porto\"],[14.5,\"in\"],[15.5,\"beach\"],[16.5,\"the\"],[17.5,\"from\"],[18.5,\"walk\"],[19.5,\"minute\"],[20.5,\"-\"],[21.5,\"5\"],[22.5,\"a\"],[23.5,\",\"],[24.5,\"a\"],[25.5,\"man@@\"],[26.5,\"har@@\"],[27.5,\"in\"],[28.5,\"beach\"],[29.5,\"the\"],[30.5,\"from\"],[31.5,\"walk\"],[32.5,\"minute\"],[33.5,\"-\"],[34.5,\"5\"],[35.5,\"a\"],[36.5,\"located\"],[37.5,\"_BOS_\"]]},\"major_label_policy\":{\"type\":\"object\",\"name\":\"AllLabels\",\"id\":\"p4778\"}}}],\"above\":[{\"type\":\"object\",\"name\":\"LinearAxis\",\"id\":\"p4769\",\"attributes\":{\"ticker\":{\"type\":\"object\",\"name\":\"FixedTicker\",\"id\":\"p4773\",\"attributes\":{\"ticks\":{\"type\":\"ndarray\",\"array\":{\"type\":\"bytes\",\"data\":\"AAAAAAAA4D8AAAAAAAD4PwAAAAAAAARAAAAAAAAADEAAAAAAAAASQAAAAAAAABZAAAAAAAAAGkAAAAAAAAAeQAAAAAAAACFAAAAAAAAAI0AAAAAAAAAlQAAAAAAAACdAAAAAAAAAKUAAAAAAAAArQAAAAAAAAC1AAAAAAAAAL0AAAAAAAIAwQAAAAAAAgDFAAAAAAACAMkAAAAAAAIAzQAAAAAAAgDRAAAAAAACANUAAAAAAAIA2QAAAAAAAgDdAAAAAAACAOEAAAAAAAIA5QAAAAAAAgDpAAAAAAACAO0AAAAAAAIA8QAAAAAAAgD1AAAAAAACAPkAAAAAAAIA/QA==\"},\"shape\":[32],\"dtype\":\"float64\",\"order\":\"little\"},\"minor_ticks\":[]}},\"formatter\":{\"type\":\"object\",\"name\":\"BasicTickFormatter\",\"id\":\"p4771\"},\"axis_label\":\"source tokens\",\"major_label_orientation\":45,\"major_label_overrides\":{\"type\":\"map\",\"entries\":[[0.5,\"_BOS_\"],[1.5,\"\\u0430\\u043f\\u0430\\u0440\\u0442\\u0430\\u043c\\u0435\\u043d\\u0442\\u044b\"],[2.5,\"\\u0432\"],[3.5,\"\\u043f\\u0435\\u043d\\u0442@@\"],[4.5,\"\\u0445\\u0430\\u0443\\u0441\\u0435\"],[5.5,\"\\u0441\"],[6.5,\"\\u043e\\u0431\\u0449\\u0438\\u043c\"],[7.5,\"\\u043e\\u0442\\u043a\\u0440\\u044b\\u0442\\u044b\\u043c\"],[8.5,\"\\u0431\\u0430\\u0441\\u0441\\u0435\\u0439\\u043d\\u043e\\u043c\"],[9.5,\",\"],[10.5,\"\\u0441\\u0430\\u0434\\u043e\\u043c\"],[11.5,\",\"],[12.5,\"\\u043a\\u043e\\u043d\\u0434\\u0438\\u0446\\u0438\\u043e\\u043d\\u0435\\u0440\\u043e\\u043c\"],[13.5,\"\\u0438\"],[14.5,\"\\u0442\\u0435\\u0440\\u0440\\u0430\\u0441\\u043e\\u0439\"],[15.5,\"\\u0434\\u043b\\u044f\"],[16.5,\"\\u0437\\u0430\\u0433\\u0430\\u0440\\u0430\"],[17.5,\"\\u0440\\u0430\\u0441\\u043f\\u043e\\u043b\\u043e\\u0436\\u0435\\u043d\\u044b\"],[18.5,\"\\u0432\"],[19.5,\"5\"],[20.5,\"\\u043c\\u0438\\u043d\\u0443\\u0442\\u0430\\u0445\"],[21.5,\"\\u0445\\u043e\\u0434\\u044c\\u0431\\u044b\"],[22.5,\"\\u043e\\u0442\"],[23.5,\"\\u043f\\u043b\\u044f\\u0436\\u0430\"],[24.5,\"\\u043d\\u0430\"],[25.5,\"\\u043a\\u0443\\u0440\\u043e\\u0440\\u0442\\u0435\"],[26.5,\"\\u043a\\u0430@@\"],[27.5,\"\\u0431\\u043e\"],[28.5,\"-\"],[29.5,\"\\u0440\\u043e\\u0439\"],[30.5,\".\"],[31.5,\"_EOS_\"]]},\"major_label_policy\":{\"type\":\"object\",\"name\":\"AllLabels\",\"id\":\"p4772\"}}}]}}],\"callbacks\":{\"type\":\"map\"}}};\n",
       "  const render_items = [{\"docid\":\"e1f57cba-5be7-42f0-887e-d915e1c502be\",\"roots\":{\"p4736\":\"f3365a13-c765-4c19-a9ce-356c7b244bb0\"},\"root_ids\":[\"p4736\"]}];\n",
       "  root.Bokeh.embed.embed_items_notebook(docs_json, render_items);\n",
       "  }\n",
       "  if (root.Bokeh !== undefined) {\n",
       "    embed_document(root);\n",
       "  } else {\n",
       "    let attempts = 0;\n",
       "    const timer = setInterval(function(root) {\n",
       "      if (root.Bokeh !== undefined) {\n",
       "        clearInterval(timer);\n",
       "        embed_document(root);\n",
       "      } else {\n",
       "        attempts++;\n",
       "        if (attempts > 100) {\n",
       "          clearInterval(timer);\n",
       "          console.log(\"Bokeh: ERROR: Unable to run BokehJS code because BokehJS library is missing\");\n",
       "        }\n",
       "      }\n",
       "    }, 10, root)\n",
       "  }\n",
       "})(window);"
      ],
      "application/vnd.bokehjs_exec.v0+json": ""
     },
     "metadata": {
      "application/vnd.bokehjs_exec.v0+json": {
       "id": "p4736"
      }
     },
     "output_type": "display_data"
    },
    {
     "data": {
      "text/html": [
       "\n",
       "  <div id=\"c9cfa63b-05e6-4fe5-8cc9-e6a8d336e286\" data-root-id=\"p5048\" style=\"display: contents;\"></div>\n"
      ]
     },
     "metadata": {},
     "output_type": "display_data"
    },
    {
     "data": {
      "application/javascript": [
       "(function(root) {\n",
       "  function embed_document(root) {\n",
       "  const docs_json = {\"87502668-c8da-4ba2-9f17-9bec02d82b73\":{\"version\":\"3.1.1\",\"title\":\"Bokeh Application\",\"defs\":[],\"roots\":[{\"type\":\"object\",\"name\":\"Figure\",\"id\":\"p5048\",\"attributes\":{\"x_range\":{\"type\":\"object\",\"name\":\"Range1d\",\"id\":\"p5057\",\"attributes\":{\"end\":23}},\"y_range\":{\"type\":\"object\",\"name\":\"Range1d\",\"id\":\"p5059\",\"attributes\":{\"end\":19}},\"x_scale\":{\"type\":\"object\",\"name\":\"LinearScale\",\"id\":\"p5061\"},\"y_scale\":{\"type\":\"object\",\"name\":\"LinearScale\",\"id\":\"p5063\"},\"title\":{\"type\":\"object\",\"name\":\"Title\",\"id\":\"p5054\"},\"renderers\":[{\"type\":\"object\",\"name\":\"GlyphRenderer\",\"id\":\"p5078\",\"attributes\":{\"data_source\":{\"type\":\"object\",\"name\":\"ColumnDataSource\",\"id\":\"p5066\",\"attributes\":{\"selected\":{\"type\":\"object\",\"name\":\"Selection\",\"id\":\"p5067\",\"attributes\":{\"indices\":[],\"line_indices\":[]}},\"selection_policy\":{\"type\":\"object\",\"name\":\"UnionRenderers\",\"id\":\"p5068\"},\"data\":{\"type\":\"map\",\"entries\":[[\"image\",[{\"type\":\"ndarray\",\"array\":{\"type\":\"bytes\",\"data\":\"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\"},\"shape\":[19,23],\"dtype\":\"float32\",\"order\":\"little\"}]]]}}},\"view\":{\"type\":\"object\",\"name\":\"CDSView\",\"id\":\"p5079\",\"attributes\":{\"filter\":{\"type\":\"object\",\"name\":\"AllIndices\",\"id\":\"p5080\"}}},\"glyph\":{\"type\":\"object\",\"name\":\"Image\",\"id\":\"p5069\",\"attributes\":{\"x\":{\"type\":\"value\",\"value\":0},\"y\":{\"type\":\"value\",\"value\":0},\"dw\":{\"type\":\"value\",\"value\":23},\"dh\":{\"type\":\"value\",\"value\":19},\"image\":{\"type\":\"field\",\"field\":\"image\"},\"color_mapper\":{\"type\":\"object\",\"name\":\"LinearColorMapper\",\"id\":\"p5070\",\"attributes\":{\"palette\":[\"#000000\",\"#252525\",\"#525252\",\"#737373\",\"#969696\",\"#bdbdbd\",\"#d9d9d9\",\"#f0f0f0\",\"#ffffff\"]}}}},\"nonselection_glyph\":{\"type\":\"object\",\"name\":\"Image\",\"id\":\"p5072\",\"attributes\":{\"x\":{\"type\":\"value\",\"value\":0},\"y\":{\"type\":\"value\",\"value\":0},\"dw\":{\"type\":\"value\",\"value\":23},\"dh\":{\"type\":\"value\",\"value\":19},\"global_alpha\":{\"type\":\"value\",\"value\":0.1},\"image\":{\"type\":\"field\",\"field\":\"image\"},\"color_mapper\":{\"type\":\"object\",\"name\":\"LinearColorMapper\",\"id\":\"p5073\",\"attributes\":{\"palette\":[\"#000000\",\"#252525\",\"#525252\",\"#737373\",\"#969696\",\"#bdbdbd\",\"#d9d9d9\",\"#f0f0f0\",\"#ffffff\"]}}}},\"muted_glyph\":{\"type\":\"object\",\"name\":\"Image\",\"id\":\"p5075\",\"attributes\":{\"x\":{\"type\":\"value\",\"value\":0},\"y\":{\"type\":\"value\",\"value\":0},\"dw\":{\"type\":\"value\",\"value\":23},\"dh\":{\"type\":\"value\",\"value\":19},\"global_alpha\":{\"type\":\"value\",\"value\":0.2},\"image\":{\"type\":\"field\",\"field\":\"image\"},\"color_mapper\":{\"type\":\"object\",\"name\":\"LinearColorMapper\",\"id\":\"p5076\",\"attributes\":{\"palette\":[\"#000000\",\"#252525\",\"#525252\",\"#737373\",\"#969696\",\"#bdbdbd\",\"#d9d9d9\",\"#f0f0f0\",\"#ffffff\"]}}}}}}],\"toolbar\":{\"type\":\"object\",\"name\":\"Toolbar\",\"id\":\"p5052\"},\"left\":[{\"type\":\"object\",\"name\":\"LinearAxis\",\"id\":\"p5087\",\"attributes\":{\"ticker\":{\"type\":\"object\",\"name\":\"FixedTicker\",\"id\":\"p5091\",\"attributes\":{\"ticks\":{\"type\":\"ndarray\",\"array\":{\"type\":\"bytes\",\"data\":\"AAAAAAAA4D8AAAAAAAD4PwAAAAAAAARAAAAAAAAADEAAAAAAAAASQAAAAAAAABZAAAAAAAAAGkAAAAAAAAAeQAAAAAAAACFAAAAAAAAAI0AAAAAAAAAlQAAAAAAAACdAAAAAAAAAKUAAAAAAAAArQAAAAAAAAC1AAAAAAAAAL0AAAAAAAIAwQAAAAAAAgDFAAAAAAACAMkA=\"},\"shape\":[19],\"dtype\":\"float64\",\"order\":\"little\"},\"minor_ticks\":[]}},\"formatter\":{\"type\":\"object\",\"name\":\"BasicTickFormatter\",\"id\":\"p5089\"},\"axis_label\":\"translation tokens\",\"major_label_overrides\":{\"type\":\"map\",\"entries\":[[0.5,\"_EOS_\"],[1.5,\".\"],[2.5,\"square\"],[3.5,\"town\"],[4.5,\"old\"],[5.5,\"the\"],[6.5,\"from\"],[7.5,\"metres\"],[8.5,\"200\"],[9.5,\",\"],[10.5,\"rome\"],[11.5,\"in\"],[12.5,\"located\"],[13.5,\"is\"],[14.5,\"ador\"],[15.5,\"u@@\"],[16.5,\"sam@@\"],[17.5,\"apartment\"],[18.5,\"_BOS_\"]]},\"major_label_policy\":{\"type\":\"object\",\"name\":\"AllLabels\",\"id\":\"p5090\"}}}],\"above\":[{\"type\":\"object\",\"name\":\"LinearAxis\",\"id\":\"p5081\",\"attributes\":{\"ticker\":{\"type\":\"object\",\"name\":\"FixedTicker\",\"id\":\"p5085\",\"attributes\":{\"ticks\":{\"type\":\"ndarray\",\"array\":{\"type\":\"bytes\",\"data\":\"AAAAAAAA4D8AAAAAAAD4PwAAAAAAAARAAAAAAAAADEAAAAAAAAASQAAAAAAAABZAAAAAAAAAGkAAAAAAAAAeQAAAAAAAACFAAAAAAAAAI0AAAAAAAAAlQAAAAAAAACdAAAAAAAAAKUAAAAAAAAArQAAAAAAAAC1AAAAAAAAAL0AAAAAAAIAwQAAAAAAAgDFAAAAAAACAMkAAAAAAAIAzQAAAAAAAgDRAAAAAAACANUAAAAAAAIA2QA==\"},\"shape\":[23],\"dtype\":\"float64\",\"order\":\"little\"},\"minor_ticks\":[]}},\"formatter\":{\"type\":\"object\",\"name\":\"BasicTickFormatter\",\"id\":\"p5083\"},\"axis_label\":\"source tokens\",\"major_label_orientation\":45,\"major_label_overrides\":{\"type\":\"map\",\"entries\":[[0.5,\"_BOS_\"],[1.5,\"\\u0430\\u043f\\u0430\\u0440\\u0442\\u0430\\u043c\\u0435\\u043d\\u0442\\u044b\"],[2.5,\"mo@@\"],[3.5,\"s@@\"],[4.5,\"co@@\"],[5.5,\"w\"],[6.5,\"point\"],[7.5,\"-\"],[8.5,\"loft\"],[9.5,\"red\"],[10.5,\"square\"],[11.5,\"\\u043d\\u0430\\u0445\\u043e\\u0434\\u044f\\u0442\\u0441\\u044f\"],[12.5,\"\\u0432\"],[13.5,\"\\u043c\\u043e\\u0441\\u043a\\u0432\\u0435\"],[14.5,\",\"],[15.5,\"\\u0432\"],[16.5,\"200\"],[17.5,\"\\u043c\\u0435\\u0442\\u0440\\u0430\\u0445\"],[18.5,\"\\u043e\\u0442\"],[19.5,\"\\u0431\\u043e\\u043b\\u044c\\u0448\\u043e\\u0433\\u043e\"],[20.5,\"\\u0442\\u0435\\u0430\\u0442\\u0440\\u0430\"],[21.5,\".\"],[22.5,\"_EOS_\"]]},\"major_label_policy\":{\"type\":\"object\",\"name\":\"AllLabels\",\"id\":\"p5084\"}}}]}}],\"callbacks\":{\"type\":\"map\"}}};\n",
       "  const render_items = [{\"docid\":\"87502668-c8da-4ba2-9f17-9bec02d82b73\",\"roots\":{\"p5048\":\"c9cfa63b-05e6-4fe5-8cc9-e6a8d336e286\"},\"root_ids\":[\"p5048\"]}];\n",
       "  root.Bokeh.embed.embed_items_notebook(docs_json, render_items);\n",
       "  }\n",
       "  if (root.Bokeh !== undefined) {\n",
       "    embed_document(root);\n",
       "  } else {\n",
       "    let attempts = 0;\n",
       "    const timer = setInterval(function(root) {\n",
       "      if (root.Bokeh !== undefined) {\n",
       "        clearInterval(timer);\n",
       "        embed_document(root);\n",
       "      } else {\n",
       "        attempts++;\n",
       "        if (attempts > 100) {\n",
       "          clearInterval(timer);\n",
       "          console.log(\"Bokeh: ERROR: Unable to run BokehJS code because BokehJS library is missing\");\n",
       "        }\n",
       "      }\n",
       "    }, 10, root)\n",
       "  }\n",
       "})(window);"
      ],
      "application/vnd.bokehjs_exec.v0+json": ""
     },
     "metadata": {
      "application/vnd.bokehjs_exec.v0+json": {
       "id": "p5048"
      }
     },
     "output_type": "display_data"
    }
   ],
   "source": [
    "for i in range(5):\n",
    "    draw_attention(inp[i], trans[i], attention_probs[i])\n",
    "    \n",
    "# Does it look fine already? don't forget to save images for anytask!"
   ]
  },
  {
   "cell_type": "markdown",
   "metadata": {},
   "source": [
    "### И шо это \n",
    "\n",
    "\n",
    "На самом деле я бы понял, если бы он постоянно сильно коррелировал с последним вектором из энкодера (т.к в нем по сути информация из предложения), но он очень сильно ориентируется на BOS, что вызывает у меня недоумение"
   ]
  },
  {
   "cell_type": "markdown",
   "metadata": {},
   "source": [
    "__Note 1:__ If the attention maps are not iterpretable, try starting encoder from zeros (instead of dec_start), forcing model to use attention.\n",
    "\n",
    "__Note 2:__ If you're studying this course as a YSDA student, please submit __attention screenshots__ alongside your notebook."
   ]
  },
  {
   "cell_type": "markdown",
   "metadata": {
    "colab_type": "text",
    "id": "pbIIngNVlrtt"
   },
   "source": [
    "## Goind deeper (2++ points each)\n",
    "\n",
    "We want you to find the best model for the task. Use everything you know.\n",
    "\n",
    "* different recurrent units: rnn/gru/lstm; deeper architectures\n",
    "* bidirectional encoder, different attention methods for decoder (additive, dot-product, multi-head)\n",
    "* word dropout, training schedules, anything you can imagine\n",
    "* replace greedy inference with beam search\n",
    "\n",
    "For a better grasp of seq2seq We recommend you to conduct at least one experiment from one of the bullet-points or your alternative ideas. As usual, describe what you tried and what results you obtained in a short report."
   ]
  },
  {
   "cell_type": "markdown",
   "metadata": {
    "colab_type": "text",
    "id": "2rzAj_xtlrtt"
   },
   "source": [
    "`[your report/log here or anywhere you please]`"
   ]
  }
 ],
 "metadata": {
  "accelerator": "GPU",
  "colab": {
   "collapsed_sections": [
    "edk_oVg0lrtW"
   ],
   "name": "practice.ipynb",
   "provenance": []
  },
  "kernelspec": {
   "display_name": "DataSphere Kernel",
   "language": "python",
   "name": "python3"
  },
  "language_info": {
   "codemirror_mode": {
    "name": "ipython",
    "version": 3
   },
   "file_extension": ".py",
   "mimetype": "text/x-python",
   "name": "python",
   "nbconvert_exporter": "python",
   "pygments_lexer": "ipython3",
   "version": "3.10.12"
  }
 },
 "nbformat": 4,
 "nbformat_minor": 4
}

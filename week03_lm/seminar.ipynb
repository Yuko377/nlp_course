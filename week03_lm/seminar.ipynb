{
 "cells": [
  {
   "cell_type": "markdown",
   "metadata": {
    "cellId": "k1gpzj4guo8e1riwj3om1k"
   },
   "source": [
    "### N-gram language models or how to write scientific papers (4 pts)\n",
    "\n",
    "We shall train our language model on a corpora of [ArXiv](http://arxiv.org/) articles and see if we can generate a new one!\n",
    "\n",
    "![img](https://media.npr.org/assets/img/2013/12/10/istock-18586699-monkey-computer_brick-16e5064d3378a14e0e4c2da08857efe03c04695e-s800-c85.jpg)\n",
    "\n",
    "_data by neelshah18 from [here](https://www.kaggle.com/neelshah18/arxivdataset/)_\n",
    "\n",
    "_Disclaimer: this has nothing to do with actual science. But it's fun, so who cares?!_"
   ]
  },
  {
   "cell_type": "code",
   "execution_count": 1,
   "metadata": {
    "cellId": "u8jdaiy68oib3jvr4k01",
    "execution": {
     "iopub.execute_input": "2024-10-06T08:43:19.191903Z",
     "iopub.status.busy": "2024-10-06T08:43:19.190588Z",
     "iopub.status.idle": "2024-10-06T08:43:19.231834Z",
     "shell.execute_reply": "2024-10-06T08:43:19.230908Z",
     "shell.execute_reply.started": "2024-10-06T08:43:19.191855Z"
    }
   },
   "outputs": [],
   "source": [
    "import numpy as np\n",
    "import pandas as pd\n",
    "import matplotlib.pyplot as plt\n",
    "%matplotlib inline"
   ]
  },
  {
   "cell_type": "code",
   "execution_count": 2,
   "metadata": {
    "cellId": "0c76vnyl3zui9yhtkodgrlf",
    "execution": {
     "iopub.execute_input": "2024-10-06T08:43:19.270950Z",
     "iopub.status.busy": "2024-10-06T08:43:19.269956Z",
     "iopub.status.idle": "2024-10-06T08:43:24.120271Z",
     "shell.execute_reply": "2024-10-06T08:43:24.119382Z",
     "shell.execute_reply.started": "2024-10-06T08:43:19.270908Z"
    }
   },
   "outputs": [
    {
     "data": {
      "text/html": [
       "<div>\n",
       "<style scoped>\n",
       "    .dataframe tbody tr th:only-of-type {\n",
       "        vertical-align: middle;\n",
       "    }\n",
       "\n",
       "    .dataframe tbody tr th {\n",
       "        vertical-align: top;\n",
       "    }\n",
       "\n",
       "    .dataframe thead th {\n",
       "        text-align: right;\n",
       "    }\n",
       "</style>\n",
       "<table border=\"1\" class=\"dataframe\">\n",
       "  <thead>\n",
       "    <tr style=\"text-align: right;\">\n",
       "      <th></th>\n",
       "      <th>author</th>\n",
       "      <th>day</th>\n",
       "      <th>id</th>\n",
       "      <th>link</th>\n",
       "      <th>month</th>\n",
       "      <th>summary</th>\n",
       "      <th>tag</th>\n",
       "      <th>title</th>\n",
       "      <th>year</th>\n",
       "    </tr>\n",
       "  </thead>\n",
       "  <tbody>\n",
       "    <tr>\n",
       "      <th>18839</th>\n",
       "      <td>[{'name': 'Alexey Potapov'}, {'name': 'Sergey ...</td>\n",
       "      <td>19</td>\n",
       "      <td>1209.4290v1</td>\n",
       "      <td>[{'rel': 'alternate', 'href': 'http://arxiv.or...</td>\n",
       "      <td>9</td>\n",
       "      <td>Existing theoretical universal algorithmic int...</td>\n",
       "      <td>[{'term': 'cs.AI', 'scheme': 'http://arxiv.org...</td>\n",
       "      <td>Cognitive Bias for Universal Algorithmic Intel...</td>\n",
       "      <td>2012</td>\n",
       "    </tr>\n",
       "    <tr>\n",
       "      <th>18246</th>\n",
       "      <td>[{'name': 'Omar Doukari'}, {'name': 'Robert Je...</td>\n",
       "      <td>26</td>\n",
       "      <td>cs/0703130v1</td>\n",
       "      <td>[{'rel': 'alternate', 'href': 'http://arxiv.or...</td>\n",
       "      <td>3</td>\n",
       "      <td>Using qualitative reasoning with geographic in...</td>\n",
       "      <td>[{'term': 'cs.AI', 'scheme': 'http://arxiv.org...</td>\n",
       "      <td>Space-contained conflict revision, for geograp...</td>\n",
       "      <td>2007</td>\n",
       "    </tr>\n",
       "    <tr>\n",
       "      <th>13300</th>\n",
       "      <td>[{'name': 'Catherine Krier'}, {'name': 'Fabric...</td>\n",
       "      <td>3</td>\n",
       "      <td>0802.0287v1</td>\n",
       "      <td>[{'rel': 'related', 'href': 'http://dx.doi.org...</td>\n",
       "      <td>2</td>\n",
       "      <td>Prediction problems from spectra are largely e...</td>\n",
       "      <td>[{'term': 'cs.NE', 'scheme': 'http://arxiv.org...</td>\n",
       "      <td>A data-driven functional projection approach f...</td>\n",
       "      <td>2008</td>\n",
       "    </tr>\n",
       "    <tr>\n",
       "      <th>36131</th>\n",
       "      <td>[{'name': 'Albert Xin Jiang'}, {'name': 'Kevin...</td>\n",
       "      <td>9</td>\n",
       "      <td>1205.2638v1</td>\n",
       "      <td>[{'rel': 'alternate', 'href': 'http://arxiv.or...</td>\n",
       "      <td>5</td>\n",
       "      <td>In this paper we introduce temporal action gra...</td>\n",
       "      <td>[{'term': 'cs.GT', 'scheme': 'http://arxiv.org...</td>\n",
       "      <td>Temporal Action-Graph Games: A New Representat...</td>\n",
       "      <td>2012</td>\n",
       "    </tr>\n",
       "    <tr>\n",
       "      <th>22133</th>\n",
       "      <td>[{'name': 'Abdolreza Mohammadi'}, {'name': 'Er...</td>\n",
       "      <td>21</td>\n",
       "      <td>1501.05108v5</td>\n",
       "      <td>[{'rel': 'alternate', 'href': 'http://arxiv.or...</td>\n",
       "      <td>1</td>\n",
       "      <td>Graphical models provide powerful tools to unc...</td>\n",
       "      <td>[{'term': 'stat.ML', 'scheme': 'http://arxiv.o...</td>\n",
       "      <td>BDgraph: An R Package for Bayesian Structure L...</td>\n",
       "      <td>2015</td>\n",
       "    </tr>\n",
       "  </tbody>\n",
       "</table>\n",
       "</div>"
      ],
      "text/plain": [
       "                                                  author  day            id  \\\n",
       "18839  [{'name': 'Alexey Potapov'}, {'name': 'Sergey ...   19   1209.4290v1   \n",
       "18246  [{'name': 'Omar Doukari'}, {'name': 'Robert Je...   26  cs/0703130v1   \n",
       "13300  [{'name': 'Catherine Krier'}, {'name': 'Fabric...    3   0802.0287v1   \n",
       "36131  [{'name': 'Albert Xin Jiang'}, {'name': 'Kevin...    9   1205.2638v1   \n",
       "22133  [{'name': 'Abdolreza Mohammadi'}, {'name': 'Er...   21  1501.05108v5   \n",
       "\n",
       "                                                    link  month  \\\n",
       "18839  [{'rel': 'alternate', 'href': 'http://arxiv.or...      9   \n",
       "18246  [{'rel': 'alternate', 'href': 'http://arxiv.or...      3   \n",
       "13300  [{'rel': 'related', 'href': 'http://dx.doi.org...      2   \n",
       "36131  [{'rel': 'alternate', 'href': 'http://arxiv.or...      5   \n",
       "22133  [{'rel': 'alternate', 'href': 'http://arxiv.or...      1   \n",
       "\n",
       "                                                 summary  \\\n",
       "18839  Existing theoretical universal algorithmic int...   \n",
       "18246  Using qualitative reasoning with geographic in...   \n",
       "13300  Prediction problems from spectra are largely e...   \n",
       "36131  In this paper we introduce temporal action gra...   \n",
       "22133  Graphical models provide powerful tools to unc...   \n",
       "\n",
       "                                                     tag  \\\n",
       "18839  [{'term': 'cs.AI', 'scheme': 'http://arxiv.org...   \n",
       "18246  [{'term': 'cs.AI', 'scheme': 'http://arxiv.org...   \n",
       "13300  [{'term': 'cs.NE', 'scheme': 'http://arxiv.org...   \n",
       "36131  [{'term': 'cs.GT', 'scheme': 'http://arxiv.org...   \n",
       "22133  [{'term': 'stat.ML', 'scheme': 'http://arxiv.o...   \n",
       "\n",
       "                                                   title  year  \n",
       "18839  Cognitive Bias for Universal Algorithmic Intel...  2012  \n",
       "18246  Space-contained conflict revision, for geograp...  2007  \n",
       "13300  A data-driven functional projection approach f...  2008  \n",
       "36131  Temporal Action-Graph Games: A New Representat...  2012  \n",
       "22133  BDgraph: An R Package for Bayesian Structure L...  2015  "
      ]
     },
     "execution_count": 2,
     "metadata": {},
     "output_type": "execute_result"
    }
   ],
   "source": [
    "# Alternative manual download link: https://yadi.sk/d/_nGyU2IajjR9-w\n",
    "# !wget \"https://www.dropbox.com/s/99az9n1b57qkd9j/arxivData.json.tar.gz?dl=1\" -O arxivData.json.tar.gz\n",
    "# !tar -xvzf arxivData.json.tar.gz\n",
    "data = pd.read_json(\"./arxivData.json\")\n",
    "data.sample(n=5)"
   ]
  },
  {
   "cell_type": "code",
   "execution_count": 3,
   "metadata": {
    "cellId": "lbyqb5rx7j8jpo591r06ak",
    "execution": {
     "iopub.execute_input": "2024-10-06T08:48:31.251936Z",
     "iopub.status.busy": "2024-10-06T08:48:31.251013Z",
     "iopub.status.idle": "2024-10-06T08:48:31.652286Z",
     "shell.execute_reply": "2024-10-06T08:48:31.651481Z",
     "shell.execute_reply.started": "2024-10-06T08:48:31.251895Z"
    }
   },
   "outputs": [
    {
     "data": {
      "text/plain": [
       "['Differential Contrastive Divergence ; This paper has been retracted.',\n",
       " 'What Does Artificial Life Tell Us About Death? ; Short philosophical essay',\n",
       " 'P=NP ; We claim to resolve the P=?NP problem via a formal argument for P=NP.']"
      ]
     },
     "execution_count": 3,
     "metadata": {},
     "output_type": "execute_result"
    }
   ],
   "source": [
    "# assemble lines: concatenate title and description\n",
    "lines = data.apply(lambda row: row['title'] + ' ; ' + row['summary'].replace(\"\\n\", ' '), axis=1).tolist()\n",
    "\n",
    "sorted(lines, key=len)[:3]"
   ]
  },
  {
   "cell_type": "markdown",
   "metadata": {
    "cellId": "7u97m5s8ekl5zd5a43a1yc"
   },
   "source": [
    "### Tokenization\n",
    "\n",
    "You know the dril. The data is messy. Go clean the data. Use WordPunctTokenizer or something.\n"
   ]
  },
  {
   "cell_type": "code",
   "execution_count": 4,
   "metadata": {
    "cellId": "u8rvfk719iek97t3rarwr",
    "execution": {
     "iopub.execute_input": "2024-10-06T08:53:38.829564Z",
     "iopub.status.busy": "2024-10-06T08:53:38.828479Z",
     "iopub.status.idle": "2024-10-06T08:53:43.850067Z",
     "shell.execute_reply": "2024-10-06T08:53:43.848893Z",
     "shell.execute_reply.started": "2024-10-06T08:53:38.829522Z"
    }
   },
   "outputs": [],
   "source": [
    "# Task: convert lines (in-place) into strings of space-separated tokens. Import & use WordPunctTokenizer\n",
    "from nltk.tokenize import WordPunctTokenizer\n",
    "tokenizer = WordPunctTokenizer()\n",
    "lines = [' '.join(tokenizer.tokenize(line.lower())) for line in lines]"
   ]
  },
  {
   "cell_type": "code",
   "execution_count": 5,
   "metadata": {
    "cellId": "w88nddpp2k8edoeyyyjh0l",
    "execution": {
     "iopub.execute_input": "2024-10-06T08:53:45.624167Z",
     "iopub.status.busy": "2024-10-06T08:53:45.622947Z",
     "iopub.status.idle": "2024-10-06T08:53:45.682816Z",
     "shell.execute_reply": "2024-10-06T08:53:45.681844Z",
     "shell.execute_reply.started": "2024-10-06T08:53:45.624121Z"
    }
   },
   "outputs": [],
   "source": [
    "assert sorted(lines, key=len)[0] == \\\n",
    "    'differential contrastive divergence ; this paper has been retracted .'\n",
    "assert sorted(lines, key=len)[2] == \\\n",
    "    'p = np ; we claim to resolve the p =? np problem via a formal argument for p = np .'"
   ]
  },
  {
   "cell_type": "markdown",
   "metadata": {
    "cellId": "qb6h3hxmr095egzv8rlzul"
   },
   "source": [
    "### N-Gram Language Model (1point)\n",
    "\n",
    "A language model is a probabilistic model that estimates text probability: the joint probability of all tokens $w_t$ in text $X$: $P(X) = P(w_1, \\dots, w_T)$.\n",
    "\n",
    "It can do so by following the chain rule:\n",
    "$$P(w_1, \\dots, w_T) = P(w_1)P(w_2 \\mid w_1)\\dots P(w_T \\mid w_1, \\dots, w_{T-1}).$$ \n",
    "\n",
    "The problem with such approach is that the final term $P(w_T \\mid w_1, \\dots, w_{T-1})$ depends on $n-1$ previous words. This probability is impractical to estimate for long texts, e.g. $T = 1000$.\n",
    "\n",
    "One popular approximation is to assume that next word only depends on a finite amount of previous words:\n",
    "\n",
    "$$P(w_t \\mid w_1, \\dots, w_{t - 1}) = P(w_t \\mid w_{t - n + 1}, \\dots, w_{t - 1})$$\n",
    "\n",
    "Such model is called __n-gram language model__ where n is a parameter. For example, in 3-gram language model, each word only depends on 2 previous words. \n",
    "\n",
    "$$\n",
    "    P(w_1, \\dots, w_n) = \\prod_t P(w_t \\mid w_{t - n + 1}, \\dots, w_{t - 1}).\n",
    "$$\n",
    "\n",
    "You can also sometimes see such approximation under the name of _n-th order markov assumption_."
   ]
  },
  {
   "cell_type": "markdown",
   "metadata": {
    "cellId": "u68wydbiioqlp5gl96mhd"
   },
   "source": [
    "The first stage to building such a model is counting all word occurences given N-1 previous words"
   ]
  },
  {
   "cell_type": "code",
   "execution_count": 6,
   "metadata": {
    "cellId": "og84gjipnumsakhiiu9ap",
    "execution": {
     "iopub.execute_input": "2024-10-06T09:13:27.264446Z",
     "iopub.status.busy": "2024-10-06T09:13:27.263877Z",
     "iopub.status.idle": "2024-10-06T09:13:27.310009Z",
     "shell.execute_reply": "2024-10-06T09:13:27.309126Z",
     "shell.execute_reply.started": "2024-10-06T09:13:27.264406Z"
    },
    "tags": []
   },
   "outputs": [],
   "source": [
    "from tqdm import tqdm\n",
    "from collections import defaultdict, Counter\n",
    "\n",
    "# special tokens: \n",
    "# - `UNK` represents absent tokens, \n",
    "# - `EOS` is a special token after the end of sequence\n",
    "\n",
    "UNK, EOS = \"_UNK_\", \"_EOS_\"\n",
    "\n",
    "def count_ngrams(lines, n):\n",
    "    \"\"\"\n",
    "    Count how many times each word occured after (n - 1) previous words\n",
    "    :param lines: an iterable of strings with space-separated tokens\n",
    "    :returns: a dictionary { tuple(prefix_tokens): {next_token_1: count_1, next_token_2: count_2}}\n",
    "\n",
    "    When building counts, please consider the following two edge cases:\n",
    "    - if prefix is shorter than (n - 1) tokens, it should be padded with UNK. For n=3,\n",
    "      empty prefix: \"\" -> (UNK, UNK)\n",
    "      short prefix: \"the\" -> (UNK, the)\n",
    "      long prefix: \"the new approach\" -> (new, approach)\n",
    "    - you should add a special token, EOS, at the end of each sequence\n",
    "      \"... with deep neural networks .\" -> (..., with, deep, neural, networks, ., EOS)\n",
    "      count the probability of this token just like all others.\n",
    "    \"\"\"\n",
    "    counts = defaultdict(Counter)\n",
    "    # counts[(word1, word2)][word3] = how many times word3 occured after (word1, word2)\n",
    "\n",
    "    for line in lines:\n",
    "        line_list = [UNK] * (n - 1) + line.split(' ') + [EOS]\n",
    "        for end_idx in range(n - 1, len(line_list)):\n",
    "            counts[tuple(line_list[end_idx - n + 1 : end_idx])].update([line_list[end_idx]])\n",
    "    \n",
    "    return counts\n"
   ]
  },
  {
   "cell_type": "code",
   "execution_count": 7,
   "metadata": {
    "execution": {
     "iopub.execute_input": "2024-10-06T09:13:27.817066Z",
     "iopub.status.busy": "2024-10-06T09:13:27.816040Z",
     "iopub.status.idle": "2024-10-06T09:13:27.844607Z",
     "shell.execute_reply": "2024-10-06T09:13:27.843810Z",
     "shell.execute_reply.started": "2024-10-06T09:13:27.817023Z"
    },
    "tags": []
   },
   "outputs": [],
   "source": [
    "dummy_lines = sorted(lines, key=len)[:100]\n",
    "dummy_counts = count_ngrams(dummy_lines, n=3)"
   ]
  },
  {
   "cell_type": "code",
   "execution_count": 8,
   "metadata": {
    "cellId": "xyf2he6lak9mmqarl3nck",
    "execution": {
     "iopub.execute_input": "2024-10-06T09:13:34.967877Z",
     "iopub.status.busy": "2024-10-06T09:13:34.966961Z",
     "iopub.status.idle": "2024-10-06T09:13:35.024248Z",
     "shell.execute_reply": "2024-10-06T09:13:35.023449Z",
     "shell.execute_reply.started": "2024-10-06T09:13:34.967833Z"
    },
    "tags": []
   },
   "outputs": [
    {
     "name": "stdout",
     "output_type": "stream",
     "text": [
      "78\n"
     ]
    }
   ],
   "source": [
    "# let's test it\n",
    "dummy_lines = sorted(lines, key=len)[:100]\n",
    "dummy_counts = count_ngrams(dummy_lines, n=3)\n",
    "assert set(map(len, dummy_counts.keys())) == {2}, \"please only count {n-1}-grams\"\n",
    "print(len(dummy_counts[('_UNK_', '_UNK_')]))\n",
    "assert len(dummy_counts[('_UNK_', '_UNK_')]) == 78\n",
    "assert dummy_counts['_UNK_', 'a']['note'] == 3\n",
    "assert dummy_counts['p', '=']['np'] == 2\n",
    "assert dummy_counts['author', '.']['_EOS_'] == 1"
   ]
  },
  {
   "cell_type": "markdown",
   "metadata": {
    "cellId": "4j620npeqvj0k8ak8xqx8xk"
   },
   "source": [
    "Once we can count N-grams, we can build a probabilistic language model.\n",
    "The simplest way to compute probabilities is in proporiton to counts:\n",
    "\n",
    "$$ P(w_t | prefix) = { Count(prefix, w_t) \\over \\sum_{\\hat w} Count(prefix, \\hat w) } $$"
   ]
  },
  {
   "cell_type": "code",
   "execution_count": 9,
   "metadata": {
    "cellId": "c7cm76wmzlaa12bctznzei",
    "execution": {
     "iopub.execute_input": "2024-10-06T09:19:32.088093Z",
     "iopub.status.busy": "2024-10-06T09:19:32.087108Z",
     "iopub.status.idle": "2024-10-06T09:19:32.103390Z",
     "shell.execute_reply": "2024-10-06T09:19:32.102652Z",
     "shell.execute_reply.started": "2024-10-06T09:19:32.088052Z"
    }
   },
   "outputs": [],
   "source": [
    "class NGramLanguageModel:    \n",
    "    def __init__(self, lines, n):\n",
    "        \"\"\" \n",
    "        Train a simple count-based language model: \n",
    "        compute probabilities P(w_t | prefix) given ngram counts\n",
    "        \n",
    "        :param n: computes probability of next token given (n - 1) previous words\n",
    "        :param lines: an iterable of strings with space-separated tokens\n",
    "        \"\"\"\n",
    "        assert n >= 1\n",
    "        self.n = n\n",
    "    \n",
    "        counts = count_ngrams(lines, self.n)\n",
    "        \n",
    "        # compute token proabilities given counts\n",
    "        self.probs = defaultdict(Counter)\n",
    "        # probs[(word1, word2)][word3] = P(word3 | word1, word2)\n",
    "        \n",
    "        # populate self.probs with actual probabilities\n",
    "        for prefix in counts:\n",
    "            for word in counts[prefix]:\n",
    "                self.probs[prefix][word] = counts[prefix][word] / counts[prefix].total()\n",
    "            \n",
    "    def get_possible_next_tokens(self, prefix):\n",
    "        \"\"\"\n",
    "        :param prefix: string with space-separated prefix tokens\n",
    "        :returns: a dictionary {token : it's probability} for all tokens with positive probabilities\n",
    "        \"\"\"\n",
    "        prefix = prefix.split()\n",
    "        prefix = prefix[max(0, len(prefix) - self.n + 1):]\n",
    "        prefix = [ UNK ] * (self.n - 1 - len(prefix)) + prefix\n",
    "        return self.probs[tuple(prefix)]\n",
    "    \n",
    "    def get_next_token_prob(self, prefix, next_token):\n",
    "        \"\"\"\n",
    "        :param prefix: string with space-separated prefix tokens\n",
    "        :param next_token: the next token to predict probability for\n",
    "        :returns: P(next_token|prefix) a single number, 0 <= P <= 1\n",
    "        \"\"\"\n",
    "        return self.get_possible_next_tokens(prefix).get(next_token, 0)"
   ]
  },
  {
   "cell_type": "markdown",
   "metadata": {
    "cellId": "0ftnn4nmuzrup6c0vvhb8q"
   },
   "source": [
    "Let's test it!"
   ]
  },
  {
   "cell_type": "code",
   "execution_count": 10,
   "metadata": {
    "cellId": "a7zajcnvhqupvcrmacvkur",
    "execution": {
     "iopub.execute_input": "2024-10-06T09:19:35.947527Z",
     "iopub.status.busy": "2024-10-06T09:19:35.946405Z",
     "iopub.status.idle": "2024-10-06T09:19:35.991851Z",
     "shell.execute_reply": "2024-10-06T09:19:35.991001Z",
     "shell.execute_reply.started": "2024-10-06T09:19:35.947487Z"
    }
   },
   "outputs": [],
   "source": [
    "dummy_lm = NGramLanguageModel(dummy_lines, n=3)\n",
    "\n",
    "p_initial = dummy_lm.get_possible_next_tokens('') # '' -> ['_UNK_', '_UNK_']\n",
    "assert np.allclose(p_initial['learning'], 0.02)\n",
    "assert np.allclose(p_initial['a'], 0.13)\n",
    "assert np.allclose(p_initial.get('meow', 0), 0)\n",
    "assert np.allclose(sum(p_initial.values()), 1)\n",
    "\n",
    "p_a = dummy_lm.get_possible_next_tokens('a') # '' -> ['_UNK_', 'a']\n",
    "assert np.allclose(p_a['machine'], 0.15384615)\n",
    "assert np.allclose(p_a['note'], 0.23076923)\n",
    "assert np.allclose(p_a.get('the', 0), 0)\n",
    "assert np.allclose(sum(p_a.values()), 1)\n",
    "\n",
    "assert np.allclose(dummy_lm.get_possible_next_tokens('a note')['on'], 1)\n",
    "assert dummy_lm.get_possible_next_tokens('a machine') == \\\n",
    "    dummy_lm.get_possible_next_tokens(\"there have always been ghosts in a machine\"), \\\n",
    "    \"your 3-gram model should only depend on 2 previous words\""
   ]
  },
  {
   "cell_type": "markdown",
   "metadata": {
    "cellId": "oh8r9a41kuk4r51wra9"
   },
   "source": [
    "Now that you've got a working n-gram language model, let's see what sequences it can generate. But first, let's train it on the whole dataset."
   ]
  },
  {
   "cell_type": "code",
   "execution_count": 11,
   "metadata": {
    "cellId": "f17xoejjppmooo2nopw4xo",
    "execution": {
     "iopub.execute_input": "2024-10-06T09:22:07.919378Z",
     "iopub.status.busy": "2024-10-06T09:22:07.918392Z",
     "iopub.status.idle": "2024-10-06T09:22:32.587195Z",
     "shell.execute_reply": "2024-10-06T09:22:32.585732Z",
     "shell.execute_reply.started": "2024-10-06T09:22:07.919338Z"
    }
   },
   "outputs": [],
   "source": [
    "lm = NGramLanguageModel(lines, n=3)"
   ]
  },
  {
   "cell_type": "markdown",
   "metadata": {
    "cellId": "2kd9glwnkr470qc4bt7f1e"
   },
   "source": [
    "The process of generating sequences is... well, it's sequential. You maintain a list of tokens and iteratively add next token by sampling with probabilities.\n",
    "\n",
    "$ X = [] $\n",
    "\n",
    "__forever:__\n",
    "* $w_{next} \\sim P(w_{next} | X)$\n",
    "* $X = concat(X, w_{next})$\n",
    "\n",
    "\n",
    "Instead of sampling with probabilities, one can also try always taking most likely token, sampling among top-K most likely tokens or sampling with temperature. In the latter case (temperature), one samples from\n",
    "\n",
    "$$w_{next} \\sim {P(w_{next} | X) ^ {1 / \\tau} \\over \\sum_{\\hat w} P(\\hat w | X) ^ {1 / \\tau}}$$\n",
    "\n",
    "Where $\\tau > 0$ is model temperature. If $\\tau << 1$, more likely tokens will be sampled with even higher probability while less likely tokens will vanish."
   ]
  },
  {
   "cell_type": "code",
   "execution_count": 12,
   "metadata": {
    "cellId": "sgbatlm9vzb4z889fho7",
    "execution": {
     "iopub.execute_input": "2024-10-06T09:44:24.053306Z",
     "iopub.status.busy": "2024-10-06T09:44:24.052098Z",
     "iopub.status.idle": "2024-10-06T09:44:24.073191Z",
     "shell.execute_reply": "2024-10-06T09:44:24.072168Z",
     "shell.execute_reply.started": "2024-10-06T09:44:24.053245Z"
    }
   },
   "outputs": [],
   "source": [
    "def get_next_token(lm, prefix, temperature=1.0):\n",
    "    \"\"\"\n",
    "    return next token after prefix;\n",
    "    :param temperature: samples proportionally to lm probabilities ^ (1 / temperature)\n",
    "        if temperature == 0, always takes most likely token. Break ties arbitrarily.\n",
    "    \"\"\"\n",
    "    tokens_and_probs = lm.get_possible_next_tokens(prefix)\n",
    "    if temperature == 0:\n",
    "        return tokens_and_probs.most_common(1)[0][0]\n",
    "    tokens_list = list(tokens_and_probs.keys())\n",
    "    new_probs = np.array([tokens_and_probs[token] ** (1 / temperature) for token in tokens_list])\n",
    "    new_probs /= sum(new_probs)\n",
    "    generated_token = np.random.choice(tokens_list, 1, p=new_probs)[0]\n",
    "    return generated_token\n"
   ]
  },
  {
   "cell_type": "code",
   "execution_count": 13,
   "metadata": {
    "cellId": "98l40131wjtd5xbdm5b2nr",
    "execution": {
     "iopub.execute_input": "2024-10-06T09:44:28.748244Z",
     "iopub.status.busy": "2024-10-06T09:44:28.747040Z",
     "iopub.status.idle": "2024-10-06T09:44:33.029341Z",
     "shell.execute_reply": "2024-10-06T09:44:33.028511Z",
     "shell.execute_reply.started": "2024-10-06T09:44:28.748195Z"
    }
   },
   "outputs": [
    {
     "name": "stdout",
     "output_type": "stream",
     "text": [
      "Looks nice!\n"
     ]
    }
   ],
   "source": [
    "from collections import Counter\n",
    "test_freqs = Counter([get_next_token(lm, 'there have') for _ in range(10000)])\n",
    "assert 250 < test_freqs['not'] < 450\n",
    "assert 8500 < test_freqs['been'] < 9500\n",
    "assert 1 < test_freqs['lately'] < 200\n",
    "\n",
    "test_freqs = Counter([get_next_token(lm, 'deep', temperature=1.0) for _ in range(10000)])\n",
    "assert 1500 < test_freqs['learning'] < 3000\n",
    "test_freqs = Counter([get_next_token(lm, 'deep', temperature=0.5) for _ in range(10000)])\n",
    "assert 8000 < test_freqs['learning'] < 9000\n",
    "test_freqs = Counter([get_next_token(lm, 'deep', temperature=0.0) for _ in range(10000)])\n",
    "assert test_freqs['learning'] == 10000\n",
    "\n",
    "print(\"Looks nice!\")"
   ]
  },
  {
   "cell_type": "markdown",
   "metadata": {
    "cellId": "ux4n8iq523n4s3ftrelhxj"
   },
   "source": [
    "Let's have fun with this model"
   ]
  },
  {
   "cell_type": "code",
   "execution_count": 14,
   "metadata": {
    "cellId": "1nnnycga61rijt6nd8zai",
    "execution": {
     "iopub.execute_input": "2024-10-06T09:48:36.053294Z",
     "iopub.status.busy": "2024-10-06T09:48:36.052171Z",
     "iopub.status.idle": "2024-10-06T09:48:36.153835Z",
     "shell.execute_reply": "2024-10-06T09:48:36.153023Z",
     "shell.execute_reply.started": "2024-10-06T09:48:36.053250Z"
    },
    "tags": []
   },
   "outputs": [
    {
     "name": "stdout",
     "output_type": "stream",
     "text": [
      "all you need \"), a dual condition . _EOS_\n"
     ]
    }
   ],
   "source": [
    "prefix = 'all you need' # <- your ideas :)\n",
    "\n",
    "for i in range(100):\n",
    "    prefix += ' ' + get_next_token(lm, prefix)\n",
    "    if prefix.endswith(EOS) or len(lm.get_possible_next_tokens(prefix)) == 0:\n",
    "        break\n",
    "        \n",
    "print(prefix)"
   ]
  },
  {
   "cell_type": "code",
   "execution_count": 15,
   "metadata": {
    "cellId": "pxyjsv3b7r8thdfxlgitl",
    "execution": {
     "iopub.execute_input": "2024-10-06T09:50:27.158510Z",
     "iopub.status.busy": "2024-10-06T09:50:27.157496Z",
     "iopub.status.idle": "2024-10-06T09:50:27.223008Z",
     "shell.execute_reply": "2024-10-06T09:50:27.222104Z",
     "shell.execute_reply.started": "2024-10-06T09:50:27.158465Z"
    },
    "tags": []
   },
   "outputs": [
    {
     "name": "stdout",
     "output_type": "stream",
     "text": [
      "diffusion model under communication constraints . we propose a novel approach for the purpose of this paper , we show that the proposed method . _EOS_\n"
     ]
    }
   ],
   "source": [
    "prefix = 'diffusion model' # <- more of your ideas\n",
    "\n",
    "for i in range(100):\n",
    "    prefix += ' ' + get_next_token(lm, prefix, temperature=0.5)\n",
    "    if prefix.endswith(EOS) or len(lm.get_possible_next_tokens(prefix)) == 0:\n",
    "        break\n",
    "        \n",
    "print(prefix)"
   ]
  },
  {
   "cell_type": "markdown",
   "metadata": {},
   "source": [
    "balABOBA"
   ]
  },
  {
   "cell_type": "markdown",
   "metadata": {
    "cellId": "2n90bscmzfko0qnctp7ysc"
   },
   "source": [
    "__More in the homework:__ nucleus sampling, top-k sampling, beam search(not for the faint of heart)."
   ]
  },
  {
   "cell_type": "markdown",
   "metadata": {
    "cellId": "3gdmey7g8at5n5c5x4gayh"
   },
   "source": [
    "### Evaluating language models: perplexity (1point)\n",
    "\n",
    "Perplexity is a measure of how well your model approximates the true probability distribution behind the data. __Smaller perplexity = better model__.\n",
    "\n",
    "To compute perplexity on one sentence, use:\n",
    "$$\n",
    "    {\\mathbb{P}}(w_1 \\dots w_N) = P(w_1, \\dots, w_N)^{-\\frac1N} = \\left( \\prod_t P(w_t \\mid w_{t - n}, \\dots, w_{t - 1})\\right)^{-\\frac1N},\n",
    "$$\n",
    "\n",
    "\n",
    "On the corpora level, perplexity is a product of probabilities of all tokens in all sentences to the power of $1/N$, where $N$ is __total length (in tokens) of all sentences__ in corpora.\n",
    "\n",
    "This number can quickly get too small for float32/float64 precision, so we recommend you to first compute log-perplexity (from log-probabilities) and then take the exponent."
   ]
  },
  {
   "cell_type": "code",
   "execution_count": 159,
   "metadata": {
    "cellId": "5hp010xyzzb4vqewo1bhny"
   },
   "outputs": [],
   "source": [
    "def perplexity(lm, lines, min_logprob=np.log(10 ** -50.)):\n",
    "    \"\"\"\n",
    "    :param lines: a list of strings with space-separated tokens\n",
    "    :param min_logprob: if log(P(w | ...)) is smaller than min_logprop, set it equal to min_logrob\n",
    "    :returns: corpora-level perplexity - a single scalar number from the formula above\n",
    "    \n",
    "    Note: do not forget to compute P(w_first | empty) and P(eos | full_sequence)\n",
    "    \n",
    "    PLEASE USE lm.get_next_token_prob and NOT lm.get_possible_next_tokens\n",
    "    \"\"\"\n",
    "    summar_len = 0\n",
    "    summ_log_probs = 0\n",
    "    for line in tqdm(lines):\n",
    "        prefix = \"\"\n",
    "        line_list = line.split() + [EOS]\n",
    "        for idx in range(len(line_list)):\n",
    "            summ_log_probs += max(min_logprob, np.log(lm.get_next_token_prob(prefix, line_list[idx])))\n",
    "            prefix = ' '.join([prefix, line_list[idx]])\n",
    "            summar_len += 1\n",
    "\n",
    "    \n",
    "    return np.exp(-1 * summ_log_probs / summar_len)"
   ]
  },
  {
   "cell_type": "code",
   "execution_count": 18,
   "metadata": {
    "cellId": "8b689bobhkey04x7pabupj"
   },
   "outputs": [
    {
     "name": "stdout",
     "output_type": "stream",
     "text": [
      "Perplexities: ppx1=318.213 ppx3=1.520 ppx10=1.184\n"
     ]
    },
    {
     "name": "stderr",
     "output_type": "stream",
     "text": [
      "C:\\Users\\taras\\AppData\\Local\\Temp\\ipykernel_18312\\118973202.py:17: RuntimeWarning: divide by zero encountered in log\n",
      "  summ_log_probs += max(min_logprob, np.log(lm.get_next_token_prob(prefix, line_list[idx])))\n"
     ]
    }
   ],
   "source": [
    "lm1 = NGramLanguageModel(dummy_lines, n=1)\n",
    "lm3 = NGramLanguageModel(dummy_lines, n=3)\n",
    "lm10 = NGramLanguageModel(dummy_lines, n=10)\n",
    "\n",
    "ppx1 = perplexity(lm1, dummy_lines)\n",
    "ppx3 = perplexity(lm3, dummy_lines)\n",
    "ppx10 = perplexity(lm10, dummy_lines)\n",
    "ppx_missing = perplexity(lm3, ['the jabberwock , with eyes of flame , '])  # thanks, L. Carrol\n",
    "\n",
    "print(\"Perplexities: ppx1=%.3f ppx3=%.3f ppx10=%.3f\" % (ppx1, ppx3, ppx10))\n",
    "\n",
    "assert all(0 < ppx < 500 for ppx in (ppx1, ppx3, ppx10)), \"perplexity should be non-negative and reasonably small\"\n",
    "assert ppx1 > ppx3 > ppx10, \"higher N models should overfit and \"\n",
    "assert np.isfinite(ppx_missing) and ppx_missing > 10 ** 6, \"missing words should have large but finite perplexity. \" \\\n",
    "    \" Make sure you use min_logprob right\"\n",
    "assert np.allclose([ppx1, ppx3, ppx10], (318.2132342216302, 1.5199996213739575, 1.1838145037901249))"
   ]
  },
  {
   "cell_type": "markdown",
   "metadata": {
    "cellId": "ypc4lks4vs1li908fqi8"
   },
   "source": [
    "Now let's measure the actual perplexity: we'll split the data into train and test and score model on test data only."
   ]
  },
  {
   "cell_type": "code",
   "execution_count": 19,
   "metadata": {
    "cellId": "tjnehsem2lmijkg2lto4w"
   },
   "outputs": [
    {
     "name": "stderr",
     "output_type": "stream",
     "text": [
      "C:\\Users\\taras\\AppData\\Local\\Temp\\ipykernel_18312\\118973202.py:17: RuntimeWarning: divide by zero encountered in log\n",
      "  summ_log_probs += max(min_logprob, np.log(lm.get_next_token_prob(prefix, line_list[idx])))\n"
     ]
    },
    {
     "name": "stdout",
     "output_type": "stream",
     "text": [
      "N = 1, Perplexity = 1832.23136\n",
      "N = 2, Perplexity = 85653987.28774\n",
      "N = 3, Perplexity = 61999196259043346743296.00000\n"
     ]
    }
   ],
   "source": [
    "from sklearn.model_selection import train_test_split\n",
    "train_lines, test_lines = train_test_split(lines, test_size=0.25, random_state=42)\n",
    "\n",
    "for n in (1, 2, 3):\n",
    "    lm = NGramLanguageModel(n=n, lines=train_lines)\n",
    "    ppx = perplexity(lm, test_lines)\n",
    "    print(\"N = %i, Perplexity = %.5f\" % (n, ppx))\n"
   ]
  },
  {
   "cell_type": "code",
   "execution_count": null,
   "metadata": {
    "cellId": "38nfbfkpzgfxik8kccyt1l"
   },
   "outputs": [],
   "source": [
    "# whoops, it just blew up :)"
   ]
  },
  {
   "cell_type": "markdown",
   "metadata": {
    "cellId": "oopn2o57wxm9vbxzycytce"
   },
   "source": [
    "### LM Smoothing\n",
    "\n",
    "The problem with our simple language model is that whenever it encounters an n-gram it has never seen before, it assigns it with the probabilitiy of 0. Every time this happens, perplexity explodes.\n",
    "\n",
    "To battle this issue, there's a technique called __smoothing__. The core idea is to modify counts in a way that prevents probabilities from getting too low. The simplest algorithm here is Additive smoothing (aka [Lapace smoothing](https://en.wikipedia.org/wiki/Additive_smoothing)):\n",
    "\n",
    "$$ P(w_t | prefix) = { Count(prefix, w_t) + \\delta \\over \\sum_{\\hat w} (Count(prefix, \\hat w) + \\delta) } $$\n",
    "\n",
    "If counts for a given prefix are low, additive smoothing will adjust probabilities to a more uniform distribution. Not that the summation in the denominator goes over _all words in the vocabulary_.\n",
    "\n",
    "Here's an example code we've implemented for you:"
   ]
  },
  {
   "cell_type": "code",
   "execution_count": 20,
   "metadata": {
    "cellId": "ioh26rlov6g8l2ssj1c8pm"
   },
   "outputs": [],
   "source": [
    "class LaplaceLanguageModel(NGramLanguageModel): \n",
    "    \"\"\" this code is an example, no need to change anything \"\"\"\n",
    "    def __init__(self, lines, n, delta=1.0):\n",
    "        self.n = n\n",
    "        counts = count_ngrams(lines, self.n)\n",
    "        self.vocab = set(token for token_counts in counts.values() for token in token_counts)\n",
    "        self.probs = defaultdict(Counter)\n",
    "\n",
    "        for prefix in counts:\n",
    "            token_counts = counts[prefix]\n",
    "            total_count = sum(token_counts.values()) + delta * len(self.vocab)\n",
    "            self.probs[prefix] = {token: (token_counts[token] + delta) / total_count\n",
    "                                          for token in token_counts}\n",
    "    def get_possible_next_tokens(self, prefix):\n",
    "        token_probs = super().get_possible_next_tokens(prefix)\n",
    "        missing_prob_total = 1.0 - sum(token_probs.values())\n",
    "        missing_prob = missing_prob_total / max(1, len(self.vocab) - len(token_probs))\n",
    "        return {token: token_probs.get(token, missing_prob) for token in self.vocab}\n",
    "    \n",
    "    def get_next_token_prob(self, prefix, next_token):\n",
    "        token_probs = super().get_possible_next_tokens(prefix)\n",
    "        if next_token in token_probs:\n",
    "            return token_probs[next_token]\n",
    "        else:\n",
    "            missing_prob_total = 1.0 - sum(token_probs.values())\n",
    "            missing_prob_total = max(0, missing_prob_total) # prevent rounding errors\n",
    "            return missing_prob_total / max(1, len(self.vocab) - len(token_probs))\n",
    "        "
   ]
  },
  {
   "cell_type": "markdown",
   "metadata": {
    "cellId": "90vsann3920ie05r2blbmi",
    "execution_id": "3868303d-0bb9-42c6-a9a8-dcf485c8220c"
   },
   "source": [
    "**Disclaimer**: the implementation above assumes all words unknown within a given context to be equally likely, *as well as the words outside of vocabulary*. Therefore, its' perplexity will be lower than it should when encountering such words. Therefore, comparing it with a model with fewer unknown words will not be fair. When implementing your own smoothing, you may handle this by adding a virtual `UNK` token of non-zero probability. Technically, this will result in a model where probabilities do not add up to $1$, but it is close enough for a practice excercise."
   ]
  },
  {
   "cell_type": "code",
   "execution_count": 21,
   "metadata": {
    "cellId": "3xvxkdxcmfqucruyt66mdc"
   },
   "outputs": [],
   "source": [
    "#test that it's a valid probability model\n",
    "for n in (1, 2, 3):\n",
    "    dummy_lm = LaplaceLanguageModel(dummy_lines, n=n)\n",
    "    assert np.allclose(sum([dummy_lm.get_next_token_prob('a', w_i) for w_i in dummy_lm.vocab]), 1), \"I told you not to break anything! :)\""
   ]
  },
  {
   "cell_type": "code",
   "execution_count": 22,
   "metadata": {
    "cellId": "j6zqa50koitjjri9ipd8ec"
   },
   "outputs": [
    {
     "name": "stdout",
     "output_type": "stream",
     "text": [
      "N = 1, Perplexity = 977.67559\n",
      "N = 2, Perplexity = 470.48021\n",
      "N = 3, Perplexity = 3679.44765\n"
     ]
    }
   ],
   "source": [
    "for n in (1, 2, 3):\n",
    "    lm = LaplaceLanguageModel(train_lines, n=n, delta=0.1)\n",
    "    ppx = perplexity(lm, test_lines)\n",
    "    print(\"N = %i, Perplexity = %.5f\" % (n, ppx))"
   ]
  },
  {
   "cell_type": "code",
   "execution_count": null,
   "metadata": {
    "cellId": "pjuqt30jcerwbz1ym9zv1"
   },
   "outputs": [],
   "source": [
    "# optional: try to sample tokens from such a model"
   ]
  },
  {
   "cell_type": "markdown",
   "metadata": {
    "cellId": "3b8s1y9uls4fosu3yp28gg"
   },
   "source": [
    "### Kneser-Ney smoothing (2 points)\n",
    "\n",
    "Additive smoothing is simple, reasonably good but definitely not a State of The Art algorithm.\n",
    "\n",
    "\n",
    "Your final task in this notebook is to implement [Kneser-Ney](https://en.wikipedia.org/wiki/Kneser%E2%80%93Ney_smoothing) smoothing.\n",
    "\n",
    "It can be computed recurrently, for n>1:\n",
    "\n",
    "$$P_{kn}(w_t | prefix_{n-1}) = { \\max(0, Count(prefix_{n-1}, w_t) - \\delta) \\over \\sum_{\\hat w} Count(prefix_{n-1}, \\hat w)} + \\lambda_{prefix_{n-1}} \\cdot P_{kn}(w_t | prefix_{n-2})$$\n",
    "\n",
    "where\n",
    "- $prefix_{n-1}$ is a tuple of {n-1} previous tokens\n",
    "- $lambda_{prefix_{n-1}}$ is a normalization constant chosen so that probabilities add up to 1\n",
    "- Unigram $P_{kn}(w_t | prefix_{n-2})$ corresponds to Kneser Ney smoothing for {N-1}-gram language model.\n",
    "- Unigram $P_{kn}(w_t)$ is a special case: how likely it is to see x_t in an unfamiliar context\n",
    "\n",
    "See lecture slides or wiki for more detailed formulae.\n",
    "\n",
    "__Your task__ is to\n",
    "- implement `KneserNeyLanguageModel` class,\n",
    "- test it on 1-3 gram language models\n",
    "- find optimal (within reason) smoothing delta for 3-gram language model with Kneser-Ney smoothing"
   ]
  },
  {
   "cell_type": "code",
   "execution_count": 161,
   "metadata": {},
   "outputs": [],
   "source": [
    "# def kneser_ney(lines, n, delta, vocab):\n",
    "#     if n == 1:\n",
    "#         reverse_counts = defaultdict(Counter)\n",
    "#         # reverse_counts[word1][word2] = how many times word2 occured BEFORE word1 \n",
    "\n",
    "#         for line in lines:\n",
    "#             line_list = [UNK] * (n - 1) + line.split(' ') + [EOS]\n",
    "#             for end_idx in range(1, len(line_list)):\n",
    "#                 reverse_counts[line_list[end_idx]].update([line_list[end_idx - 1]])\n",
    "#         total_sum = 0\n",
    "#         for cnt in reverse_counts.values():\n",
    "#             total_sum += len(cnt)\n",
    "\n",
    "#         kneser_probs = {word: len(reverse_counts.get(word, {})) / total_sum for word in vocab}\n",
    "#         return kneser_probs\n",
    "    \n",
    "#     else:\n",
    "#         prev_kneser_probs = kneser_ney(lines, n-1, delta, vocab)\n",
    "#         counts = count_ngrams(lines, n)\n",
    "#         curr_kneser_probs = {}\n",
    "#         if n == 2:\n",
    "#             for prefix, cnt in tqdm(counts.items()):\n",
    "#                 curr_kneser_probs[prefix] = {word: max(cnt.get(word, 0) - delta, 0) / cnt.total() + delta * len(cnt) / cnt.total() * prev_kneser_probs.get(word, 0) for word in vocab}\n",
    "#         else:\n",
    "#             for prefix, cnt in tqdm(counts.items()):\n",
    "#                 curr_kneser_probs[prefix] = {word: max(cnt.get(word, 0) - delta, 0) / cnt.total() + delta * len(cnt) / cnt.total() * prev_kneser_probs[tuple(prefix[1:])][word] for word in vocab}\n",
    "#         return curr_kneser_probs    \n",
    "\n"
   ]
  },
  {
   "cell_type": "code",
   "execution_count": 208,
   "metadata": {},
   "outputs": [],
   "source": [
    "def counter_for_prefix(prefix, lines):\n",
    "    counts = Counter()\n",
    "    n = len(prefix) + 1\n",
    "    for line in lines:\n",
    "        line_list = [UNK] * (n - 1) + line.split(' ') + [EOS]\n",
    "        for end_idx in range(n - 1, len(line_list)):\n",
    "            if tuple(line_list[end_idx - n + 1 : end_idx]) == prefix:\n",
    "                counts.update([line_list[end_idx]])\n",
    "    \n",
    "    return counts\n",
    "\n",
    "def kneser_ney_initial(lines, n, vocab):\n",
    "    reverse_counts = defaultdict(Counter)\n",
    "        # reverse_counts[word1][word2] = how many times word2 occured BEFORE word1 \n",
    "\n",
    "    for line in lines:\n",
    "        line_list = [UNK] * (n - 1) + line.split(' ') + [EOS]\n",
    "        for end_idx in range(1, len(line_list)):\n",
    "            reverse_counts[line_list[end_idx]].update([line_list[end_idx - 1]])\n",
    "\n",
    "    total_sum = 0\n",
    "    for cnt in reverse_counts.values():\n",
    "        total_sum += len(cnt)\n",
    "\n",
    "    kneser_probs = {word: len(reverse_counts.get(word, {})) / total_sum for word in vocab}\n",
    "    return kneser_probs\n",
    "\n",
    "def kneser_ney(token, prefix, lines, n, delta, vocab, kneser_initial_probs, already_counted):\n",
    "    if n == 1:\n",
    "        return kneser_initial_probs.get(token, 0)\n",
    "    \n",
    "    else:\n",
    "        if prefix in already_counted:\n",
    "            cnt = already_counted[prefix]\n",
    "        else:\n",
    "\n",
    "            cnt = counter_for_prefix(prefix, lines)\n",
    "            already_counted[prefix] = cnt\n",
    "\n",
    "        if len(cnt) == 0:\n",
    "            return 0\n",
    "        ans = max(cnt.get(token, 0) - delta, 0) / cnt.total() \\\n",
    "                + delta * len(cnt) / cnt.total() * kneser_ney(token, prefix[1:], lines, n - 1, delta, vocab, kneser_initial_probs, already_counted)\n",
    "        return ans\n",
    "  \n",
    "\n"
   ]
  },
  {
   "cell_type": "code",
   "execution_count": 209,
   "metadata": {
    "cellId": "2ix7kzw02v30oye55322all"
   },
   "outputs": [],
   "source": [
    "class KneserNeyLanguageModel(NGramLanguageModel): \n",
    "    \"\"\" A template for Kneser-Ney language model. Default delta may be suboptimal. \"\"\"\n",
    "    def __init__(self, lines, n, delta=1.0):\n",
    "        print(\"Counting ngrams\")\n",
    "        self.already_counted = count_ngrams(lines, n)\n",
    "        print(\"Counted ngrams -- done\")\n",
    "        self.n = n\n",
    "        self.delta = delta\n",
    "        self.lines = lines\n",
    "        self.vocab = set(token for token_counts in self.already_counted.values() for token in token_counts)\n",
    "        print(\"Counting initial\")\n",
    "        self.init_prob = kneser_ney_initial(lines, n, self.vocab)\n",
    "        print(\"Counted initial -- done\")\n",
    "\n",
    "    def get_possible_next_tokens(self, prefix):\n",
    "        return self.kneser_probs[prefix]\n",
    "        \n",
    "    def get_next_token_prob(self, prefix, next_token):\n",
    "        prefix = prefix.split()\n",
    "        prefix = prefix[max(0, len(prefix) - self.n + 1):]\n",
    "        prefix = [ UNK ] * (self.n - 1 - len(prefix)) + prefix\n",
    "        if self.n == 1:\n",
    "            return self.init_prob.get(next_token, 0)\n",
    "        # return self.kneser_probs.get(tuple(prefix), {}).get(next_token, 0)\n",
    "        return kneser_ney(next_token, tuple(prefix), self.lines, self.n, self.delta, self.vocab, self.init_prob, self.already_counted)\n",
    "\n",
    "        "
   ]
  },
  {
   "cell_type": "code",
   "execution_count": 210,
   "metadata": {},
   "outputs": [
    {
     "data": {
      "text/plain": [
       "Counter({'note': 3,\n",
       "         'machine': 2,\n",
       "         'notation': 1,\n",
       "         'comment': 1,\n",
       "         'theory': 1,\n",
       "         'survey': 1,\n",
       "         'history': 1,\n",
       "         'new': 1,\n",
       "         'remark': 1,\n",
       "         'primer': 1})"
      ]
     },
     "execution_count": 210,
     "metadata": {},
     "output_type": "execute_result"
    }
   ],
   "source": [
    "counter_for_prefix((UNK, 'a'), dummy_lines)"
   ]
  },
  {
   "cell_type": "code",
   "execution_count": 211,
   "metadata": {
    "cellId": "lsk91832qbmdt7x1q0a8z4"
   },
   "outputs": [
    {
     "name": "stdout",
     "output_type": "stream",
     "text": [
      "Counting ngrams\n",
      "Counted ngrams -- done\n",
      "Counting initial\n",
      "Counted initial -- done\n",
      "1.0000000000000073\n",
      "Counting ngrams\n",
      "Counted ngrams -- done\n",
      "Counting initial\n",
      "Counted initial -- done\n",
      "0.99999999999999\n",
      "Counting ngrams\n",
      "Counted ngrams -- done\n",
      "Counting initial\n",
      "Counted initial -- done\n",
      "0.999719109139019\n"
     ]
    },
    {
     "ename": "AssertionError",
     "evalue": "I told you not to break anything! :)",
     "output_type": "error",
     "traceback": [
      "\u001b[1;31m---------------------------------------------------------------------------\u001b[0m",
      "\u001b[1;31mAssertionError\u001b[0m                            Traceback (most recent call last)",
      "Cell \u001b[1;32mIn[211], line 5\u001b[0m\n\u001b[0;32m      3\u001b[0m dummy_lm \u001b[38;5;241m=\u001b[39m KneserNeyLanguageModel(dummy_lines, n\u001b[38;5;241m=\u001b[39mn)\n\u001b[0;32m      4\u001b[0m \u001b[38;5;28mprint\u001b[39m(\u001b[38;5;28msum\u001b[39m([dummy_lm\u001b[38;5;241m.\u001b[39mget_next_token_prob(\u001b[38;5;124m'\u001b[39m\u001b[38;5;124ma\u001b[39m\u001b[38;5;124m'\u001b[39m, w_i) \u001b[38;5;28;01mfor\u001b[39;00m w_i \u001b[38;5;129;01min\u001b[39;00m dummy_lm\u001b[38;5;241m.\u001b[39mvocab]))\n\u001b[1;32m----> 5\u001b[0m \u001b[38;5;28;01massert\u001b[39;00m np\u001b[38;5;241m.\u001b[39mallclose(\u001b[38;5;28msum\u001b[39m([dummy_lm\u001b[38;5;241m.\u001b[39mget_next_token_prob(\u001b[38;5;124m'\u001b[39m\u001b[38;5;124ma\u001b[39m\u001b[38;5;124m'\u001b[39m, w_i) \u001b[38;5;28;01mfor\u001b[39;00m w_i \u001b[38;5;129;01min\u001b[39;00m dummy_lm\u001b[38;5;241m.\u001b[39mvocab]), \u001b[38;5;241m1\u001b[39m), \u001b[38;5;124m\"\u001b[39m\u001b[38;5;124mI told you not to break anything! :)\u001b[39m\u001b[38;5;124m\"\u001b[39m\n",
      "\u001b[1;31mAssertionError\u001b[0m: I told you not to break anything! :)"
     ]
    }
   ],
   "source": [
    "#test that it's a valid probability model\n",
    "for n in (1, 2, 3):\n",
    "    dummy_lm = KneserNeyLanguageModel(dummy_lines, n=n)\n",
    "    print(sum([dummy_lm.get_next_token_prob('a', w_i) for w_i in dummy_lm.vocab]))\n",
    "    assert np.allclose(sum([dummy_lm.get_next_token_prob('a', w_i) for w_i in dummy_lm.vocab]), 1), \"I told you not to break anything! :)\""
   ]
  },
  {
   "cell_type": "code",
   "execution_count": 212,
   "metadata": {
    "cellId": "pp3jtkk9annp1qkou58x1b"
   },
   "outputs": [
    {
     "name": "stdout",
     "output_type": "stream",
     "text": [
      "Counting ngrams\n",
      "Counted ngrams -- done\n",
      "Counting initial\n",
      "Counted initial -- done\n"
     ]
    },
    {
     "name": "stderr",
     "output_type": "stream",
     "text": [
      "  0%|          | 0/10250 [00:00<?, ?it/s]C:\\Users\\taras\\AppData\\Local\\Temp\\ipykernel_18312\\2147869241.py:17: RuntimeWarning: divide by zero encountered in log\n",
      "  summ_log_probs += max(min_logprob, np.log(lm.get_next_token_prob(prefix, line_list[idx])))\n",
      "100%|██████████| 10250/10250 [00:20<00:00, 501.89it/s]\n"
     ]
    },
    {
     "name": "stdout",
     "output_type": "stream",
     "text": [
      "N = 1, Perplexity = 2882.02405\n",
      "Counting ngrams\n",
      "Counted ngrams -- done\n",
      "Counting initial\n",
      "Counted initial -- done\n"
     ]
    },
    {
     "name": "stderr",
     "output_type": "stream",
     "text": [
      "  1%|          | 105/10250 [02:37<4:13:22,  1.50s/it]\n"
     ]
    },
    {
     "ename": "KeyboardInterrupt",
     "evalue": "",
     "output_type": "error",
     "traceback": [
      "\u001b[1;31m---------------------------------------------------------------------------\u001b[0m",
      "\u001b[1;31mKeyboardInterrupt\u001b[0m                         Traceback (most recent call last)",
      "Cell \u001b[1;32mIn[212], line 3\u001b[0m\n\u001b[0;32m      1\u001b[0m \u001b[38;5;28;01mfor\u001b[39;00m n \u001b[38;5;129;01min\u001b[39;00m (\u001b[38;5;241m1\u001b[39m, \u001b[38;5;241m2\u001b[39m, \u001b[38;5;241m3\u001b[39m):\n\u001b[0;32m      2\u001b[0m     lm \u001b[38;5;241m=\u001b[39m KneserNeyLanguageModel(train_lines, n\u001b[38;5;241m=\u001b[39mn, delta\u001b[38;5;241m=\u001b[39m\u001b[38;5;241m0.1\u001b[39m)\n\u001b[1;32m----> 3\u001b[0m     ppx \u001b[38;5;241m=\u001b[39m \u001b[43mperplexity\u001b[49m\u001b[43m(\u001b[49m\u001b[43mlm\u001b[49m\u001b[43m,\u001b[49m\u001b[43m \u001b[49m\u001b[43mtest_lines\u001b[49m\u001b[43m)\u001b[49m\n\u001b[0;32m      4\u001b[0m     \u001b[38;5;28mprint\u001b[39m(\u001b[38;5;124m\"\u001b[39m\u001b[38;5;124mN = \u001b[39m\u001b[38;5;132;01m%i\u001b[39;00m\u001b[38;5;124m, Perplexity = \u001b[39m\u001b[38;5;132;01m%.5f\u001b[39;00m\u001b[38;5;124m\"\u001b[39m \u001b[38;5;241m%\u001b[39m (n, ppx))\n",
      "Cell \u001b[1;32mIn[159], line 17\u001b[0m, in \u001b[0;36mperplexity\u001b[1;34m(lm, lines, min_logprob)\u001b[0m\n\u001b[0;32m     15\u001b[0m line_list \u001b[38;5;241m=\u001b[39m line\u001b[38;5;241m.\u001b[39msplit() \u001b[38;5;241m+\u001b[39m [EOS]\n\u001b[0;32m     16\u001b[0m \u001b[38;5;28;01mfor\u001b[39;00m idx \u001b[38;5;129;01min\u001b[39;00m \u001b[38;5;28mrange\u001b[39m(\u001b[38;5;28mlen\u001b[39m(line_list)):\n\u001b[1;32m---> 17\u001b[0m     summ_log_probs \u001b[38;5;241m+\u001b[39m\u001b[38;5;241m=\u001b[39m \u001b[38;5;28mmax\u001b[39m(min_logprob, np\u001b[38;5;241m.\u001b[39mlog(\u001b[43mlm\u001b[49m\u001b[38;5;241;43m.\u001b[39;49m\u001b[43mget_next_token_prob\u001b[49m\u001b[43m(\u001b[49m\u001b[43mprefix\u001b[49m\u001b[43m,\u001b[49m\u001b[43m \u001b[49m\u001b[43mline_list\u001b[49m\u001b[43m[\u001b[49m\u001b[43midx\u001b[49m\u001b[43m]\u001b[49m\u001b[43m)\u001b[49m))\n\u001b[0;32m     18\u001b[0m     prefix \u001b[38;5;241m=\u001b[39m \u001b[38;5;124m'\u001b[39m\u001b[38;5;124m \u001b[39m\u001b[38;5;124m'\u001b[39m\u001b[38;5;241m.\u001b[39mjoin([prefix, line_list[idx]])\n\u001b[0;32m     19\u001b[0m     summar_len \u001b[38;5;241m+\u001b[39m\u001b[38;5;241m=\u001b[39m \u001b[38;5;241m1\u001b[39m\n",
      "Cell \u001b[1;32mIn[209], line 25\u001b[0m, in \u001b[0;36mKneserNeyLanguageModel.get_next_token_prob\u001b[1;34m(self, prefix, next_token)\u001b[0m\n\u001b[0;32m     23\u001b[0m     \u001b[38;5;28;01mreturn\u001b[39;00m \u001b[38;5;28mself\u001b[39m\u001b[38;5;241m.\u001b[39minit_prob\u001b[38;5;241m.\u001b[39mget(next_token, \u001b[38;5;241m0\u001b[39m)\n\u001b[0;32m     24\u001b[0m \u001b[38;5;66;03m# return self.kneser_probs.get(tuple(prefix), {}).get(next_token, 0)\u001b[39;00m\n\u001b[1;32m---> 25\u001b[0m \u001b[38;5;28;01mreturn\u001b[39;00m \u001b[43mkneser_ney\u001b[49m\u001b[43m(\u001b[49m\u001b[43mnext_token\u001b[49m\u001b[43m,\u001b[49m\u001b[43m \u001b[49m\u001b[38;5;28;43mtuple\u001b[39;49m\u001b[43m(\u001b[49m\u001b[43mprefix\u001b[49m\u001b[43m)\u001b[49m\u001b[43m,\u001b[49m\u001b[43m \u001b[49m\u001b[38;5;28;43mself\u001b[39;49m\u001b[38;5;241;43m.\u001b[39;49m\u001b[43mlines\u001b[49m\u001b[43m,\u001b[49m\u001b[43m \u001b[49m\u001b[38;5;28;43mself\u001b[39;49m\u001b[38;5;241;43m.\u001b[39;49m\u001b[43mn\u001b[49m\u001b[43m,\u001b[49m\u001b[43m \u001b[49m\u001b[38;5;28;43mself\u001b[39;49m\u001b[38;5;241;43m.\u001b[39;49m\u001b[43mdelta\u001b[49m\u001b[43m,\u001b[49m\u001b[43m \u001b[49m\u001b[38;5;28;43mself\u001b[39;49m\u001b[38;5;241;43m.\u001b[39;49m\u001b[43mvocab\u001b[49m\u001b[43m,\u001b[49m\u001b[43m \u001b[49m\u001b[38;5;28;43mself\u001b[39;49m\u001b[38;5;241;43m.\u001b[39;49m\u001b[43minit_prob\u001b[49m\u001b[43m,\u001b[49m\u001b[43m \u001b[49m\u001b[38;5;28;43mself\u001b[39;49m\u001b[38;5;241;43m.\u001b[39;49m\u001b[43malready_counted\u001b[49m\u001b[43m)\u001b[49m\n",
      "Cell \u001b[1;32mIn[208], line 37\u001b[0m, in \u001b[0;36mkneser_ney\u001b[1;34m(token, prefix, lines, n, delta, vocab, kneser_initial_probs, already_counted)\u001b[0m\n\u001b[0;32m     34\u001b[0m     cnt \u001b[38;5;241m=\u001b[39m already_counted[prefix]\n\u001b[0;32m     35\u001b[0m \u001b[38;5;28;01melse\u001b[39;00m:\n\u001b[1;32m---> 37\u001b[0m     cnt \u001b[38;5;241m=\u001b[39m \u001b[43mcounter_for_prefix\u001b[49m\u001b[43m(\u001b[49m\u001b[43mprefix\u001b[49m\u001b[43m,\u001b[49m\u001b[43m \u001b[49m\u001b[43mlines\u001b[49m\u001b[43m)\u001b[49m\n\u001b[0;32m     38\u001b[0m     already_counted[prefix] \u001b[38;5;241m=\u001b[39m cnt\n\u001b[0;32m     40\u001b[0m \u001b[38;5;28;01mif\u001b[39;00m \u001b[38;5;28mlen\u001b[39m(cnt) \u001b[38;5;241m==\u001b[39m \u001b[38;5;241m0\u001b[39m:\n",
      "Cell \u001b[1;32mIn[208], line 7\u001b[0m, in \u001b[0;36mcounter_for_prefix\u001b[1;34m(prefix, lines)\u001b[0m\n\u001b[0;32m      5\u001b[0m     line_list \u001b[38;5;241m=\u001b[39m [UNK] \u001b[38;5;241m*\u001b[39m (n \u001b[38;5;241m-\u001b[39m \u001b[38;5;241m1\u001b[39m) \u001b[38;5;241m+\u001b[39m line\u001b[38;5;241m.\u001b[39msplit(\u001b[38;5;124m'\u001b[39m\u001b[38;5;124m \u001b[39m\u001b[38;5;124m'\u001b[39m) \u001b[38;5;241m+\u001b[39m [EOS]\n\u001b[0;32m      6\u001b[0m     \u001b[38;5;28;01mfor\u001b[39;00m end_idx \u001b[38;5;129;01min\u001b[39;00m \u001b[38;5;28mrange\u001b[39m(n \u001b[38;5;241m-\u001b[39m \u001b[38;5;241m1\u001b[39m, \u001b[38;5;28mlen\u001b[39m(line_list)):\n\u001b[1;32m----> 7\u001b[0m         \u001b[38;5;28;01mif\u001b[39;00m \u001b[38;5;28;43mtuple\u001b[39;49m\u001b[43m(\u001b[49m\u001b[43mline_list\u001b[49m\u001b[43m[\u001b[49m\u001b[43mend_idx\u001b[49m\u001b[43m \u001b[49m\u001b[38;5;241;43m-\u001b[39;49m\u001b[43m \u001b[49m\u001b[43mn\u001b[49m\u001b[43m \u001b[49m\u001b[38;5;241;43m+\u001b[39;49m\u001b[43m \u001b[49m\u001b[38;5;241;43m1\u001b[39;49m\u001b[43m \u001b[49m\u001b[43m:\u001b[49m\u001b[43m \u001b[49m\u001b[43mend_idx\u001b[49m\u001b[43m]\u001b[49m\u001b[43m)\u001b[49m\u001b[43m \u001b[49m\u001b[38;5;241;43m==\u001b[39;49m\u001b[43m \u001b[49m\u001b[43mprefix\u001b[49m:\n\u001b[0;32m      8\u001b[0m             counts\u001b[38;5;241m.\u001b[39mupdate([line_list[end_idx]])\n\u001b[0;32m     10\u001b[0m \u001b[38;5;28;01mreturn\u001b[39;00m counts\n",
      "\u001b[1;31mKeyboardInterrupt\u001b[0m: "
     ]
    }
   ],
   "source": [
    "for n in (1, 2, 3):\n",
    "    lm = KneserNeyLanguageModel(train_lines, n=n, delta=0.1)\n",
    "    ppx = perplexity(lm, test_lines)\n",
    "    print(\"N = %i, Perplexity = %.5f\" % (n, ppx))"
   ]
  },
  {
   "cell_type": "code",
   "execution_count": null,
   "metadata": {},
   "outputs": [],
   "source": []
  }
 ],
 "metadata": {
  "kernelspec": {
   "display_name": "DataSphere Kernel",
   "language": "python",
   "name": "python3"
  },
  "language_info": {
   "codemirror_mode": {
    "name": "ipython",
    "version": 3
   },
   "file_extension": ".py",
   "mimetype": "text/x-python",
   "name": "python",
   "nbconvert_exporter": "python",
   "pygments_lexer": "ipython3",
   "version": "3.10.14"
  },
  "notebookId": "53997d2d-afb8-4477-8874-b6d46299f06c",
  "notebookPath": "seminar.ipynb"
 },
 "nbformat": 4,
 "nbformat_minor": 4
}

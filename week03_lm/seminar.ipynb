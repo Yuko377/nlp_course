{
 "cells": [
  {
   "cell_type": "markdown",
   "metadata": {
    "cellId": "k1gpzj4guo8e1riwj3om1k"
   },
   "source": [
    "### N-gram language models or how to write scientific papers (4 pts)\n",
    "\n",
    "We shall train our language model on a corpora of [ArXiv](http://arxiv.org/) articles and see if we can generate a new one!\n",
    "\n",
    "![img](https://media.npr.org/assets/img/2013/12/10/istock-18586699-monkey-computer_brick-16e5064d3378a14e0e4c2da08857efe03c04695e-s800-c85.jpg)\n",
    "\n",
    "_data by neelshah18 from [here](https://www.kaggle.com/neelshah18/arxivdataset/)_\n",
    "\n",
    "_Disclaimer: this has nothing to do with actual science. But it's fun, so who cares?!_"
   ]
  },
  {
   "cell_type": "code",
   "execution_count": 1,
   "metadata": {
    "cellId": "u8jdaiy68oib3jvr4k01",
    "execution": {
     "iopub.execute_input": "2024-10-10T13:43:57.490109Z",
     "iopub.status.busy": "2024-10-10T13:43:57.489031Z",
     "iopub.status.idle": "2024-10-10T13:43:57.549554Z",
     "shell.execute_reply": "2024-10-10T13:43:57.548557Z",
     "shell.execute_reply.started": "2024-10-10T13:43:57.490035Z"
    },
    "tags": []
   },
   "outputs": [],
   "source": [
    "import numpy as np\n",
    "import pandas as pd\n",
    "import matplotlib.pyplot as plt\n",
    "%matplotlib inline"
   ]
  },
  {
   "cell_type": "code",
   "execution_count": 2,
   "metadata": {
    "cellId": "0c76vnyl3zui9yhtkodgrlf",
    "execution": {
     "iopub.execute_input": "2024-10-10T13:43:57.552317Z",
     "iopub.status.busy": "2024-10-10T13:43:57.551039Z",
     "iopub.status.idle": "2024-10-10T13:43:58.448381Z",
     "shell.execute_reply": "2024-10-10T13:43:58.447506Z",
     "shell.execute_reply.started": "2024-10-10T13:43:57.552262Z"
    },
    "tags": []
   },
   "outputs": [
    {
     "data": {
      "text/html": [
       "<div>\n",
       "<style scoped>\n",
       "    .dataframe tbody tr th:only-of-type {\n",
       "        vertical-align: middle;\n",
       "    }\n",
       "\n",
       "    .dataframe tbody tr th {\n",
       "        vertical-align: top;\n",
       "    }\n",
       "\n",
       "    .dataframe thead th {\n",
       "        text-align: right;\n",
       "    }\n",
       "</style>\n",
       "<table border=\"1\" class=\"dataframe\">\n",
       "  <thead>\n",
       "    <tr style=\"text-align: right;\">\n",
       "      <th></th>\n",
       "      <th>author</th>\n",
       "      <th>day</th>\n",
       "      <th>id</th>\n",
       "      <th>link</th>\n",
       "      <th>month</th>\n",
       "      <th>summary</th>\n",
       "      <th>tag</th>\n",
       "      <th>title</th>\n",
       "      <th>year</th>\n",
       "    </tr>\n",
       "  </thead>\n",
       "  <tbody>\n",
       "    <tr>\n",
       "      <th>12799</th>\n",
       "      <td>[{'name': 'Yair Rivenson'}, {'name': 'Zoltan G...</td>\n",
       "      <td>12</td>\n",
       "      <td>1705.04709v1</td>\n",
       "      <td>[{'rel': 'related', 'href': 'http://dx.doi.org...</td>\n",
       "      <td>5</td>\n",
       "      <td>We demonstrate that a deep neural network can ...</td>\n",
       "      <td>[{'term': 'cs.LG', 'scheme': 'http://arxiv.org...</td>\n",
       "      <td>Deep Learning Microscopy</td>\n",
       "      <td>2017</td>\n",
       "    </tr>\n",
       "    <tr>\n",
       "      <th>17741</th>\n",
       "      <td>[{'name': 'Christian Stab'}, {'name': 'Tristan...</td>\n",
       "      <td>15</td>\n",
       "      <td>1802.05758v1</td>\n",
       "      <td>[{'rel': 'alternate', 'href': 'http://arxiv.or...</td>\n",
       "      <td>2</td>\n",
       "      <td>Argument mining is a core technology for autom...</td>\n",
       "      <td>[{'term': 'cs.CL', 'scheme': 'http://arxiv.org...</td>\n",
       "      <td>Cross-topic Argument Mining from Heterogeneous...</td>\n",
       "      <td>2018</td>\n",
       "    </tr>\n",
       "    <tr>\n",
       "      <th>35841</th>\n",
       "      <td>[{'name': 'Pedro Larrañaga'}, {'name': 'Ramon ...</td>\n",
       "      <td>16</td>\n",
       "      <td>1301.3871v1</td>\n",
       "      <td>[{'rel': 'alternate', 'href': 'http://arxiv.or...</td>\n",
       "      <td>1</td>\n",
       "      <td>This paper shows how the Bayesian network para...</td>\n",
       "      <td>[{'term': 'cs.AI', 'scheme': 'http://arxiv.org...</td>\n",
       "      <td>Combinatorial Optimization by Learning and Sim...</td>\n",
       "      <td>2013</td>\n",
       "    </tr>\n",
       "    <tr>\n",
       "      <th>5390</th>\n",
       "      <td>[{'name': 'Brian McWilliams'}, {'name': 'David...</td>\n",
       "      <td>24</td>\n",
       "      <td>1306.5554v2</td>\n",
       "      <td>[{'rel': 'alternate', 'href': 'http://arxiv.or...</td>\n",
       "      <td>6</td>\n",
       "      <td>This paper presents Correlated Nystrom Views (...</td>\n",
       "      <td>[{'term': 'stat.ML', 'scheme': 'http://arxiv.o...</td>\n",
       "      <td>Correlated random features for fast semi-super...</td>\n",
       "      <td>2013</td>\n",
       "    </tr>\n",
       "    <tr>\n",
       "      <th>26291</th>\n",
       "      <td>[{'name': 'Michal Balazia'}, {'name': 'Petr So...</td>\n",
       "      <td>22</td>\n",
       "      <td>1609.06936v4</td>\n",
       "      <td>[{'rel': 'alternate', 'href': 'http://arxiv.or...</td>\n",
       "      <td>9</td>\n",
       "      <td>MoCap-based human identification, as a pattern...</td>\n",
       "      <td>[{'term': 'cs.CV', 'scheme': 'http://arxiv.org...</td>\n",
       "      <td>Walker-Independent Features for Gait Recogniti...</td>\n",
       "      <td>2016</td>\n",
       "    </tr>\n",
       "  </tbody>\n",
       "</table>\n",
       "</div>"
      ],
      "text/plain": [
       "                                                  author  ...  year\n",
       "12799  [{'name': 'Yair Rivenson'}, {'name': 'Zoltan G...  ...  2017\n",
       "17741  [{'name': 'Christian Stab'}, {'name': 'Tristan...  ...  2018\n",
       "35841  [{'name': 'Pedro Larrañaga'}, {'name': 'Ramon ...  ...  2013\n",
       "5390   [{'name': 'Brian McWilliams'}, {'name': 'David...  ...  2013\n",
       "26291  [{'name': 'Michal Balazia'}, {'name': 'Petr So...  ...  2016\n",
       "\n",
       "[5 rows x 9 columns]"
      ]
     },
     "execution_count": 2,
     "metadata": {},
     "output_type": "execute_result"
    }
   ],
   "source": [
    "# Alternative manual download link: https://yadi.sk/d/_nGyU2IajjR9-w\n",
    "# !wget \"https://www.dropbox.com/s/99az9n1b57qkd9j/arxivData.json.tar.gz?dl=1\" -O arxivData.json.tar.gz\n",
    "# !tar -xvzf arxivData.json.tar.gz\n",
    "data = pd.read_json(\"./arxivData.json\")\n",
    "data.sample(n=5)"
   ]
  },
  {
   "cell_type": "code",
   "execution_count": 3,
   "metadata": {
    "cellId": "lbyqb5rx7j8jpo591r06ak",
    "execution": {
     "iopub.execute_input": "2024-10-10T13:43:58.450500Z",
     "iopub.status.busy": "2024-10-10T13:43:58.449450Z",
     "iopub.status.idle": "2024-10-10T13:43:58.823931Z",
     "shell.execute_reply": "2024-10-10T13:43:58.822971Z",
     "shell.execute_reply.started": "2024-10-10T13:43:58.450462Z"
    },
    "tags": []
   },
   "outputs": [
    {
     "data": {
      "text/plain": [
       "['Differential Contrastive Divergence ; This paper has been retracted.',\n",
       " 'What Does Artificial Life Tell Us About Death? ; Short philosophical essay',\n",
       " 'P=NP ; We claim to resolve the P=?NP problem via a formal argument for P=NP.']"
      ]
     },
     "execution_count": 3,
     "metadata": {},
     "output_type": "execute_result"
    }
   ],
   "source": [
    "# assemble lines: concatenate title and description\n",
    "lines = data.apply(lambda row: row['title'] + ' ; ' + row['summary'].replace(\"\\n\", ' '), axis=1).tolist()\n",
    "\n",
    "sorted(lines, key=len)[:3]"
   ]
  },
  {
   "cell_type": "markdown",
   "metadata": {
    "cellId": "7u97m5s8ekl5zd5a43a1yc"
   },
   "source": [
    "### Tokenization\n",
    "\n",
    "You know the dril. The data is messy. Go clean the data. Use WordPunctTokenizer or something.\n"
   ]
  },
  {
   "cell_type": "code",
   "execution_count": 4,
   "metadata": {
    "cellId": "u8rvfk719iek97t3rarwr",
    "execution": {
     "iopub.execute_input": "2024-10-10T13:43:58.826657Z",
     "iopub.status.busy": "2024-10-10T13:43:58.825793Z",
     "iopub.status.idle": "2024-10-10T13:44:05.786876Z",
     "shell.execute_reply": "2024-10-10T13:44:05.785582Z",
     "shell.execute_reply.started": "2024-10-10T13:43:58.826605Z"
    },
    "tags": []
   },
   "outputs": [],
   "source": [
    "# Task: convert lines (in-place) into strings of space-separated tokens. Import & use WordPunctTokenizer\n",
    "from nltk.tokenize import WordPunctTokenizer\n",
    "tokenizer = WordPunctTokenizer()\n",
    "lines = [' '.join(tokenizer.tokenize(line.lower())) for line in lines]"
   ]
  },
  {
   "cell_type": "code",
   "execution_count": 5,
   "metadata": {
    "cellId": "w88nddpp2k8edoeyyyjh0l",
    "execution": {
     "iopub.execute_input": "2024-10-10T13:44:05.788536Z",
     "iopub.status.busy": "2024-10-10T13:44:05.788014Z",
     "iopub.status.idle": "2024-10-10T13:44:05.841364Z",
     "shell.execute_reply": "2024-10-10T13:44:05.840478Z",
     "shell.execute_reply.started": "2024-10-10T13:44:05.788500Z"
    },
    "tags": []
   },
   "outputs": [],
   "source": [
    "assert sorted(lines, key=len)[0] == \\\n",
    "    'differential contrastive divergence ; this paper has been retracted .'\n",
    "assert sorted(lines, key=len)[2] == \\\n",
    "    'p = np ; we claim to resolve the p =? np problem via a formal argument for p = np .'"
   ]
  },
  {
   "cell_type": "markdown",
   "metadata": {
    "cellId": "qb6h3hxmr095egzv8rlzul"
   },
   "source": [
    "### N-Gram Language Model (1point)\n",
    "\n",
    "A language model is a probabilistic model that estimates text probability: the joint probability of all tokens $w_t$ in text $X$: $P(X) = P(w_1, \\dots, w_T)$.\n",
    "\n",
    "It can do so by following the chain rule:\n",
    "$$P(w_1, \\dots, w_T) = P(w_1)P(w_2 \\mid w_1)\\dots P(w_T \\mid w_1, \\dots, w_{T-1}).$$ \n",
    "\n",
    "The problem with such approach is that the final term $P(w_T \\mid w_1, \\dots, w_{T-1})$ depends on $n-1$ previous words. This probability is impractical to estimate for long texts, e.g. $T = 1000$.\n",
    "\n",
    "One popular approximation is to assume that next word only depends on a finite amount of previous words:\n",
    "\n",
    "$$P(w_t \\mid w_1, \\dots, w_{t - 1}) = P(w_t \\mid w_{t - n + 1}, \\dots, w_{t - 1})$$\n",
    "\n",
    "Such model is called __n-gram language model__ where n is a parameter. For example, in 3-gram language model, each word only depends on 2 previous words. \n",
    "\n",
    "$$\n",
    "    P(w_1, \\dots, w_n) = \\prod_t P(w_t \\mid w_{t - n + 1}, \\dots, w_{t - 1}).\n",
    "$$\n",
    "\n",
    "You can also sometimes see such approximation under the name of _n-th order markov assumption_."
   ]
  },
  {
   "cell_type": "markdown",
   "metadata": {
    "cellId": "u68wydbiioqlp5gl96mhd"
   },
   "source": [
    "The first stage to building such a model is counting all word occurences given N-1 previous words"
   ]
  },
  {
   "cell_type": "code",
   "execution_count": 6,
   "metadata": {
    "cellId": "og84gjipnumsakhiiu9ap",
    "execution": {
     "iopub.execute_input": "2024-10-10T13:44:05.843884Z",
     "iopub.status.busy": "2024-10-10T13:44:05.842595Z",
     "iopub.status.idle": "2024-10-10T13:44:06.027186Z",
     "shell.execute_reply": "2024-10-10T13:44:06.026317Z",
     "shell.execute_reply.started": "2024-10-10T13:44:05.843841Z"
    },
    "tags": []
   },
   "outputs": [],
   "source": [
    "from tqdm import tqdm\n",
    "from collections import defaultdict, Counter\n",
    "\n",
    "# special tokens: \n",
    "# - `UNK` represents absent tokens, \n",
    "# - `EOS` is a special token after the end of sequence\n",
    "\n",
    "UNK, EOS = \"_UNK_\", \"_EOS_\"\n",
    "\n",
    "def count_ngrams(lines, n):\n",
    "    \"\"\"\n",
    "    Count how many times each word occured after (n - 1) previous words\n",
    "    :param lines: an iterable of strings with space-separated tokens\n",
    "    :returns: a dictionary { tuple(prefix_tokens): {next_token_1: count_1, next_token_2: count_2}}\n",
    "\n",
    "    When building counts, please consider the following two edge cases:\n",
    "    - if prefix is shorter than (n - 1) tokens, it should be padded with UNK. For n=3,\n",
    "      empty prefix: \"\" -> (UNK, UNK)\n",
    "      short prefix: \"the\" -> (UNK, the)\n",
    "      long prefix: \"the new approach\" -> (new, approach)\n",
    "    - you should add a special token, EOS, at the end of each sequence\n",
    "      \"... with deep neural networks .\" -> (..., with, deep, neural, networks, ., EOS)\n",
    "      count the probability of this token just like all others.\n",
    "    \"\"\"\n",
    "    counts = defaultdict(Counter)\n",
    "    # counts[(word1, word2)][word3] = how many times word3 occured after (word1, word2)\n",
    "\n",
    "    for line in lines:\n",
    "        line_list = [UNK] * (n - 1) + line.split(' ') + [EOS]\n",
    "        for end_idx in range(n - 1, len(line_list)):\n",
    "            counts[tuple(line_list[end_idx - n + 1 : end_idx])].update([line_list[end_idx]])\n",
    "    \n",
    "    return counts\n"
   ]
  },
  {
   "cell_type": "code",
   "execution_count": 7,
   "metadata": {
    "execution": {
     "iopub.execute_input": "2024-10-10T13:44:06.028818Z",
     "iopub.status.busy": "2024-10-10T13:44:06.028287Z",
     "iopub.status.idle": "2024-10-10T13:44:06.080316Z",
     "shell.execute_reply": "2024-10-10T13:44:06.079521Z",
     "shell.execute_reply.started": "2024-10-10T13:44:06.028782Z"
    },
    "tags": []
   },
   "outputs": [],
   "source": [
    "dummy_lines = sorted(lines, key=len)[:100]\n",
    "dummy_counts = count_ngrams(dummy_lines, n=3)"
   ]
  },
  {
   "cell_type": "code",
   "execution_count": 8,
   "metadata": {
    "cellId": "xyf2he6lak9mmqarl3nck",
    "execution": {
     "iopub.execute_input": "2024-10-10T13:44:06.083109Z",
     "iopub.status.busy": "2024-10-10T13:44:06.081295Z",
     "iopub.status.idle": "2024-10-10T13:44:06.126391Z",
     "shell.execute_reply": "2024-10-10T13:44:06.125554Z",
     "shell.execute_reply.started": "2024-10-10T13:44:06.083066Z"
    },
    "tags": []
   },
   "outputs": [
    {
     "name": "stdout",
     "output_type": "stream",
     "text": [
      "78\n"
     ]
    }
   ],
   "source": [
    "# let's test it\n",
    "dummy_lines = sorted(lines, key=len)[:100]\n",
    "dummy_counts = count_ngrams(dummy_lines, n=3)\n",
    "assert set(map(len, dummy_counts.keys())) == {2}, \"please only count {n-1}-grams\"\n",
    "print(len(dummy_counts[('_UNK_', '_UNK_')]))\n",
    "assert len(dummy_counts[('_UNK_', '_UNK_')]) == 78\n",
    "assert dummy_counts['_UNK_', 'a']['note'] == 3\n",
    "assert dummy_counts['p', '=']['np'] == 2\n",
    "assert dummy_counts['author', '.']['_EOS_'] == 1"
   ]
  },
  {
   "cell_type": "markdown",
   "metadata": {
    "cellId": "4j620npeqvj0k8ak8xqx8xk"
   },
   "source": [
    "Once we can count N-grams, we can build a probabilistic language model.\n",
    "The simplest way to compute probabilities is in proporiton to counts:\n",
    "\n",
    "$$ P(w_t | prefix) = { Count(prefix, w_t) \\over \\sum_{\\hat w} Count(prefix, \\hat w) } $$"
   ]
  },
  {
   "cell_type": "code",
   "execution_count": 9,
   "metadata": {
    "cellId": "c7cm76wmzlaa12bctznzei",
    "execution": {
     "iopub.execute_input": "2024-10-10T13:44:06.130009Z",
     "iopub.status.busy": "2024-10-10T13:44:06.128696Z",
     "iopub.status.idle": "2024-10-10T13:44:06.161907Z",
     "shell.execute_reply": "2024-10-10T13:44:06.161069Z",
     "shell.execute_reply.started": "2024-10-10T13:44:06.129966Z"
    },
    "tags": []
   },
   "outputs": [],
   "source": [
    "class NGramLanguageModel:    \n",
    "    def __init__(self, lines, n):\n",
    "        \"\"\" \n",
    "        Train a simple count-based language model: \n",
    "        compute probabilities P(w_t | prefix) given ngram counts\n",
    "        \n",
    "        :param n: computes probability of next token given (n - 1) previous words\n",
    "        :param lines: an iterable of strings with space-separated tokens\n",
    "        \"\"\"\n",
    "        assert n >= 1\n",
    "        self.n = n\n",
    "    \n",
    "        counts = count_ngrams(lines, self.n)\n",
    "        \n",
    "        # compute token proabilities given counts\n",
    "        self.probs = defaultdict(Counter)\n",
    "        # probs[(word1, word2)][word3] = P(word3 | word1, word2)\n",
    "        \n",
    "        # populate self.probs with actual probabilities\n",
    "        for prefix in counts:\n",
    "            for word in counts[prefix]:\n",
    "                self.probs[prefix][word] = counts[prefix][word] / counts[prefix].total()\n",
    "            \n",
    "    def get_possible_next_tokens(self, prefix):\n",
    "        \"\"\"\n",
    "        :param prefix: string with space-separated prefix tokens\n",
    "        :returns: a dictionary {token : it's probability} for all tokens with positive probabilities\n",
    "        \"\"\"\n",
    "        prefix = prefix.split()\n",
    "        prefix = prefix[max(0, len(prefix) - self.n + 1):]\n",
    "        prefix = [ UNK ] * (self.n - 1 - len(prefix)) + prefix\n",
    "        return self.probs[tuple(prefix)]\n",
    "    \n",
    "    def get_next_token_prob(self, prefix, next_token):\n",
    "        \"\"\"\n",
    "        :param prefix: string with space-separated prefix tokens\n",
    "        :param next_token: the next token to predict probability for\n",
    "        :returns: P(next_token|prefix) a single number, 0 <= P <= 1\n",
    "        \"\"\"\n",
    "        return self.get_possible_next_tokens(prefix).get(next_token, 0)"
   ]
  },
  {
   "cell_type": "markdown",
   "metadata": {
    "cellId": "0ftnn4nmuzrup6c0vvhb8q"
   },
   "source": [
    "Let's test it!"
   ]
  },
  {
   "cell_type": "code",
   "execution_count": 10,
   "metadata": {
    "cellId": "a7zajcnvhqupvcrmacvkur",
    "execution": {
     "iopub.execute_input": "2024-10-10T13:44:06.164235Z",
     "iopub.status.busy": "2024-10-10T13:44:06.163028Z",
     "iopub.status.idle": "2024-10-10T13:44:06.198742Z",
     "shell.execute_reply": "2024-10-10T13:44:06.197849Z",
     "shell.execute_reply.started": "2024-10-10T13:44:06.164195Z"
    },
    "tags": []
   },
   "outputs": [],
   "source": [
    "dummy_lm = NGramLanguageModel(dummy_lines, n=3)\n",
    "\n",
    "p_initial = dummy_lm.get_possible_next_tokens('') # '' -> ['_UNK_', '_UNK_']\n",
    "assert np.allclose(p_initial['learning'], 0.02)\n",
    "assert np.allclose(p_initial['a'], 0.13)\n",
    "assert np.allclose(p_initial.get('meow', 0), 0)\n",
    "assert np.allclose(sum(p_initial.values()), 1)\n",
    "\n",
    "p_a = dummy_lm.get_possible_next_tokens('a') # '' -> ['_UNK_', 'a']\n",
    "assert np.allclose(p_a['machine'], 0.15384615)\n",
    "assert np.allclose(p_a['note'], 0.23076923)\n",
    "assert np.allclose(p_a.get('the', 0), 0)\n",
    "assert np.allclose(sum(p_a.values()), 1)\n",
    "\n",
    "assert np.allclose(dummy_lm.get_possible_next_tokens('a note')['on'], 1)\n",
    "assert dummy_lm.get_possible_next_tokens('a machine') == \\\n",
    "    dummy_lm.get_possible_next_tokens(\"there have always been ghosts in a machine\"), \\\n",
    "    \"your 3-gram model should only depend on 2 previous words\""
   ]
  },
  {
   "cell_type": "markdown",
   "metadata": {
    "cellId": "oh8r9a41kuk4r51wra9"
   },
   "source": [
    "Now that you've got a working n-gram language model, let's see what sequences it can generate. But first, let's train it on the whole dataset."
   ]
  },
  {
   "cell_type": "code",
   "execution_count": 11,
   "metadata": {
    "cellId": "f17xoejjppmooo2nopw4xo",
    "execution": {
     "iopub.execute_input": "2024-10-10T13:44:06.200661Z",
     "iopub.status.busy": "2024-10-10T13:44:06.199728Z",
     "iopub.status.idle": "2024-10-10T13:44:30.382592Z",
     "shell.execute_reply": "2024-10-10T13:44:30.381004Z",
     "shell.execute_reply.started": "2024-10-10T13:44:06.200622Z"
    },
    "tags": []
   },
   "outputs": [],
   "source": [
    "lm = NGramLanguageModel(lines, n=3)"
   ]
  },
  {
   "cell_type": "markdown",
   "metadata": {
    "cellId": "2kd9glwnkr470qc4bt7f1e"
   },
   "source": [
    "The process of generating sequences is... well, it's sequential. You maintain a list of tokens and iteratively add next token by sampling with probabilities.\n",
    "\n",
    "$ X = [] $\n",
    "\n",
    "__forever:__\n",
    "* $w_{next} \\sim P(w_{next} | X)$\n",
    "* $X = concat(X, w_{next})$\n",
    "\n",
    "\n",
    "Instead of sampling with probabilities, one can also try always taking most likely token, sampling among top-K most likely tokens or sampling with temperature. In the latter case (temperature), one samples from\n",
    "\n",
    "$$w_{next} \\sim {P(w_{next} | X) ^ {1 / \\tau} \\over \\sum_{\\hat w} P(\\hat w | X) ^ {1 / \\tau}}$$\n",
    "\n",
    "Where $\\tau > 0$ is model temperature. If $\\tau << 1$, more likely tokens will be sampled with even higher probability while less likely tokens will vanish."
   ]
  },
  {
   "cell_type": "code",
   "execution_count": 12,
   "metadata": {
    "cellId": "sgbatlm9vzb4z889fho7",
    "execution": {
     "iopub.execute_input": "2024-10-10T13:44:30.385714Z",
     "iopub.status.busy": "2024-10-10T13:44:30.384852Z",
     "iopub.status.idle": "2024-10-10T13:44:30.417042Z",
     "shell.execute_reply": "2024-10-10T13:44:30.416160Z",
     "shell.execute_reply.started": "2024-10-10T13:44:30.385673Z"
    },
    "tags": []
   },
   "outputs": [],
   "source": [
    "def get_next_token(lm, prefix, temperature=1.0):\n",
    "    \"\"\"\n",
    "    return next token after prefix;\n",
    "    :param temperature: samples proportionally to lm probabilities ^ (1 / temperature)\n",
    "        if temperature == 0, always takes most likely token. Break ties arbitrarily.\n",
    "    \"\"\"\n",
    "    tokens_and_probs = lm.get_possible_next_tokens(prefix)\n",
    "    if temperature == 0:\n",
    "        return tokens_and_probs.most_common(1)[0][0]\n",
    "    tokens_list = list(tokens_and_probs.keys())\n",
    "    new_probs = np.array([tokens_and_probs[token] ** (1 / temperature) for token in tokens_list])\n",
    "    new_probs /= sum(new_probs)\n",
    "    generated_token = np.random.choice(tokens_list, 1, p=new_probs)[0]\n",
    "    return generated_token\n"
   ]
  },
  {
   "cell_type": "code",
   "execution_count": 13,
   "metadata": {
    "cellId": "98l40131wjtd5xbdm5b2nr",
    "execution": {
     "iopub.execute_input": "2024-10-10T13:44:30.419152Z",
     "iopub.status.busy": "2024-10-10T13:44:30.418308Z",
     "iopub.status.idle": "2024-10-10T13:44:34.452968Z",
     "shell.execute_reply": "2024-10-10T13:44:34.452130Z",
     "shell.execute_reply.started": "2024-10-10T13:44:30.419098Z"
    },
    "tags": []
   },
   "outputs": [
    {
     "name": "stdout",
     "output_type": "stream",
     "text": [
      "Looks nice!\n"
     ]
    }
   ],
   "source": [
    "from collections import Counter\n",
    "test_freqs = Counter([get_next_token(lm, 'there have') for _ in range(10000)])\n",
    "assert 250 < test_freqs['not'] < 450\n",
    "assert 8500 < test_freqs['been'] < 9500\n",
    "assert 1 < test_freqs['lately'] < 200\n",
    "\n",
    "test_freqs = Counter([get_next_token(lm, 'deep', temperature=1.0) for _ in range(10000)])\n",
    "assert 1500 < test_freqs['learning'] < 3000\n",
    "test_freqs = Counter([get_next_token(lm, 'deep', temperature=0.5) for _ in range(10000)])\n",
    "assert 8000 < test_freqs['learning'] < 9000\n",
    "test_freqs = Counter([get_next_token(lm, 'deep', temperature=0.0) for _ in range(10000)])\n",
    "assert test_freqs['learning'] == 10000\n",
    "\n",
    "print(\"Looks nice!\")"
   ]
  },
  {
   "cell_type": "markdown",
   "metadata": {
    "cellId": "ux4n8iq523n4s3ftrelhxj"
   },
   "source": [
    "Let's have fun with this model"
   ]
  },
  {
   "cell_type": "code",
   "execution_count": 14,
   "metadata": {
    "cellId": "1nnnycga61rijt6nd8zai",
    "execution": {
     "iopub.execute_input": "2024-10-10T13:44:34.456526Z",
     "iopub.status.busy": "2024-10-10T13:44:34.454070Z",
     "iopub.status.idle": "2024-10-10T13:44:34.522109Z",
     "shell.execute_reply": "2024-10-10T13:44:34.521190Z",
     "shell.execute_reply.started": "2024-10-10T13:44:34.456484Z"
    },
    "tags": []
   },
   "outputs": [
    {
     "name": "stdout",
     "output_type": "stream",
     "text": [
      "all you need ; the constraint that curves of reduced error pruning ; the segmentation results with the fusion of camera views in freehand ultrasound ; ultrasound ( ivus ) is the selection policy , and weight vectors play the game - learning with sequence ( in a hidden matrix given limited computational power may enable the derivation of meaning ( or negativity of the higher layers encode the cue - specific distortion type and placement within field , such as camera - equipped machine , another \" accelerator \" of its relation with the presence of latent domains can be done over\n"
     ]
    }
   ],
   "source": [
    "prefix = 'all you need' # <- your ideas :)\n",
    "\n",
    "for i in range(100):\n",
    "    prefix += ' ' + get_next_token(lm, prefix)\n",
    "    if prefix.endswith(EOS) or len(lm.get_possible_next_tokens(prefix)) == 0:\n",
    "        break\n",
    "        \n",
    "print(prefix)"
   ]
  },
  {
   "cell_type": "code",
   "execution_count": 15,
   "metadata": {
    "cellId": "pxyjsv3b7r8thdfxlgitl",
    "execution": {
     "iopub.execute_input": "2024-10-10T13:44:34.525064Z",
     "iopub.status.busy": "2024-10-10T13:44:34.523211Z",
     "iopub.status.idle": "2024-10-10T13:44:34.579288Z",
     "shell.execute_reply": "2024-10-10T13:44:34.578424Z",
     "shell.execute_reply.started": "2024-10-10T13:44:34.525022Z"
    },
    "tags": []
   },
   "outputs": [
    {
     "name": "stdout",
     "output_type": "stream",
     "text": [
      "diffusion model ( hmm ) and least squares , and the energy function , which are the most popular image classification . the proposed approach can be used to train a deep learning approach for the purposes of training data , and is superior to the problem of finding a set of points in the context of the proposed method . _EOS_\n"
     ]
    }
   ],
   "source": [
    "prefix = 'diffusion model' # <- more of your ideas\n",
    "\n",
    "for i in range(100):\n",
    "    prefix += ' ' + get_next_token(lm, prefix, temperature=0.5)\n",
    "    if prefix.endswith(EOS) or len(lm.get_possible_next_tokens(prefix)) == 0:\n",
    "        break\n",
    "        \n",
    "print(prefix)"
   ]
  },
  {
   "cell_type": "markdown",
   "metadata": {},
   "source": [
    "balABOBA"
   ]
  },
  {
   "cell_type": "markdown",
   "metadata": {
    "cellId": "2n90bscmzfko0qnctp7ysc"
   },
   "source": [
    "__More in the homework:__ nucleus sampling, top-k sampling, beam search(not for the faint of heart)."
   ]
  },
  {
   "cell_type": "markdown",
   "metadata": {
    "cellId": "3gdmey7g8at5n5c5x4gayh"
   },
   "source": [
    "### Evaluating language models: perplexity (1point)\n",
    "\n",
    "Perplexity is a measure of how well your model approximates the true probability distribution behind the data. __Smaller perplexity = better model__.\n",
    "\n",
    "To compute perplexity on one sentence, use:\n",
    "$$\n",
    "    {\\mathbb{P}}(w_1 \\dots w_N) = P(w_1, \\dots, w_N)^{-\\frac1N} = \\left( \\prod_t P(w_t \\mid w_{t - n}, \\dots, w_{t - 1})\\right)^{-\\frac1N},\n",
    "$$\n",
    "\n",
    "\n",
    "On the corpora level, perplexity is a product of probabilities of all tokens in all sentences to the power of $1/N$, where $N$ is __total length (in tokens) of all sentences__ in corpora.\n",
    "\n",
    "This number can quickly get too small for float32/float64 precision, so we recommend you to first compute log-perplexity (from log-probabilities) and then take the exponent."
   ]
  },
  {
   "cell_type": "code",
   "execution_count": 16,
   "metadata": {
    "cellId": "5hp010xyzzb4vqewo1bhny",
    "execution": {
     "iopub.execute_input": "2024-10-10T13:44:34.581473Z",
     "iopub.status.busy": "2024-10-10T13:44:34.580395Z",
     "iopub.status.idle": "2024-10-10T13:44:34.596283Z",
     "shell.execute_reply": "2024-10-10T13:44:34.595374Z",
     "shell.execute_reply.started": "2024-10-10T13:44:34.581434Z"
    }
   },
   "outputs": [],
   "source": [
    "def perplexity(lm, lines, min_logprob=np.log(10 ** -50.)):\n",
    "    \"\"\"\n",
    "    :param lines: a list of strings with space-separated tokens\n",
    "    :param min_logprob: if log(P(w | ...)) is smaller than min_logprop, set it equal to min_logrob\n",
    "    :returns: corpora-level perplexity - a single scalar number from the formula above\n",
    "    \n",
    "    Note: do not forget to compute P(w_first | empty) and P(eos | full_sequence)\n",
    "    \n",
    "    PLEASE USE lm.get_next_token_prob and NOT lm.get_possible_next_tokens\n",
    "    \"\"\"\n",
    "    summar_len = 0\n",
    "    summ_log_probs = 0\n",
    "    for line in tqdm(lines):\n",
    "        prefix = \"\"\n",
    "        line_list = line.split() + [EOS]\n",
    "        for idx in range(len(line_list)):\n",
    "            summ_log_probs += max(min_logprob, np.log(lm.get_next_token_prob(prefix, line_list[idx])))\n",
    "            prefix = ' '.join([prefix, line_list[idx]])\n",
    "            summar_len += 1\n",
    "\n",
    "    \n",
    "    return np.exp(-1 * summ_log_probs / summar_len)"
   ]
  },
  {
   "cell_type": "code",
   "execution_count": 17,
   "metadata": {
    "cellId": "8b689bobhkey04x7pabupj",
    "execution": {
     "iopub.execute_input": "2024-10-10T13:44:34.600290Z",
     "iopub.status.busy": "2024-10-10T13:44:34.597299Z",
     "iopub.status.idle": "2024-10-10T13:44:35.060259Z",
     "shell.execute_reply": "2024-10-10T13:44:35.059325Z",
     "shell.execute_reply.started": "2024-10-10T13:44:34.600232Z"
    }
   },
   "outputs": [
    {
     "name": "stderr",
     "output_type": "stream",
     "text": [
      "100%|██████████| 100/100 [00:00<00:00, 11751.38it/s]\n",
      "100%|██████████| 100/100 [00:00<00:00, 10572.99it/s]\n",
      "100%|██████████| 100/100 [00:00<00:00, 9410.39it/s]\n",
      "  0%|          | 0/1 [00:00<?, ?it/s]/tmp/ipykernel_3549/2147869241.py:17: RuntimeWarning: divide by zero encountered in log\n",
      "  summ_log_probs += max(min_logprob, np.log(lm.get_next_token_prob(prefix, line_list[idx])))\n",
      "100%|██████████| 1/1 [00:00<00:00, 2269.65it/s]"
     ]
    },
    {
     "name": "stdout",
     "output_type": "stream",
     "text": [
      "Perplexities: ppx1=318.213 ppx3=1.520 ppx10=1.184\n"
     ]
    },
    {
     "name": "stderr",
     "output_type": "stream",
     "text": [
      "\n"
     ]
    }
   ],
   "source": [
    "lm1 = NGramLanguageModel(dummy_lines, n=1)\n",
    "lm3 = NGramLanguageModel(dummy_lines, n=3)\n",
    "lm10 = NGramLanguageModel(dummy_lines, n=10)\n",
    "\n",
    "ppx1 = perplexity(lm1, dummy_lines)\n",
    "ppx3 = perplexity(lm3, dummy_lines)\n",
    "ppx10 = perplexity(lm10, dummy_lines)\n",
    "ppx_missing = perplexity(lm3, ['the jabberwock , with eyes of flame , '])  # thanks, L. Carrol\n",
    "\n",
    "print(\"Perplexities: ppx1=%.3f ppx3=%.3f ppx10=%.3f\" % (ppx1, ppx3, ppx10))\n",
    "\n",
    "assert all(0 < ppx < 500 for ppx in (ppx1, ppx3, ppx10)), \"perplexity should be non-negative and reasonably small\"\n",
    "assert ppx1 > ppx3 > ppx10, \"higher N models should overfit and \"\n",
    "assert np.isfinite(ppx_missing) and ppx_missing > 10 ** 6, \"missing words should have large but finite perplexity. \" \\\n",
    "    \" Make sure you use min_logprob right\"\n",
    "assert np.allclose([ppx1, ppx3, ppx10], (318.2132342216302, 1.5199996213739575, 1.1838145037901249))"
   ]
  },
  {
   "cell_type": "markdown",
   "metadata": {
    "cellId": "ypc4lks4vs1li908fqi8"
   },
   "source": [
    "Now let's measure the actual perplexity: we'll split the data into train and test and score model on test data only."
   ]
  },
  {
   "cell_type": "code",
   "execution_count": 18,
   "metadata": {
    "cellId": "tjnehsem2lmijkg2lto4w",
    "execution": {
     "iopub.execute_input": "2024-10-10T13:44:47.626484Z",
     "iopub.status.busy": "2024-10-10T13:44:47.624760Z",
     "iopub.status.idle": "2024-10-10T13:46:27.141367Z",
     "shell.execute_reply": "2024-10-10T13:46:27.140457Z",
     "shell.execute_reply.started": "2024-10-10T13:44:47.626436Z"
    }
   },
   "outputs": [
    {
     "name": "stderr",
     "output_type": "stream",
     "text": [
      "  0%|          | 0/10250 [00:00<?, ?it/s]/tmp/ipykernel_3549/2147869241.py:17: RuntimeWarning: divide by zero encountered in log\n",
      "  summ_log_probs += max(min_logprob, np.log(lm.get_next_token_prob(prefix, line_list[idx])))\n",
      "100%|██████████| 10250/10250 [00:10<00:00, 957.24it/s] \n"
     ]
    },
    {
     "name": "stdout",
     "output_type": "stream",
     "text": [
      "N = 1, Perplexity = 1832.23136\n"
     ]
    },
    {
     "name": "stderr",
     "output_type": "stream",
     "text": [
      "100%|██████████| 10250/10250 [00:12<00:00, 809.82it/s]"
     ]
    },
    {
     "name": "stdout",
     "output_type": "stream",
     "text": [
      "N = 2, Perplexity = 85653987.28774\n"
     ]
    },
    {
     "name": "stderr",
     "output_type": "stream",
     "text": [
      "\n",
      "100%|██████████| 10250/10250 [00:15<00:00, 681.25it/s]"
     ]
    },
    {
     "name": "stdout",
     "output_type": "stream",
     "text": [
      "N = 3, Perplexity = 61999196259043346743296.00000\n"
     ]
    },
    {
     "name": "stderr",
     "output_type": "stream",
     "text": [
      "\n"
     ]
    }
   ],
   "source": [
    "from sklearn.model_selection import train_test_split\n",
    "train_lines, test_lines = train_test_split(lines, test_size=0.25, random_state=42)\n",
    "\n",
    "for n in (1, 2, 3):\n",
    "    lm = NGramLanguageModel(n=n, lines=train_lines)\n",
    "    ppx = perplexity(lm, test_lines)\n",
    "    print(\"N = %i, Perplexity = %.5f\" % (n, ppx))\n"
   ]
  },
  {
   "cell_type": "code",
   "execution_count": null,
   "metadata": {
    "cellId": "38nfbfkpzgfxik8kccyt1l"
   },
   "outputs": [],
   "source": [
    "# whoops, it just blew up :)"
   ]
  },
  {
   "cell_type": "markdown",
   "metadata": {
    "cellId": "oopn2o57wxm9vbxzycytce"
   },
   "source": [
    "### LM Smoothing\n",
    "\n",
    "The problem with our simple language model is that whenever it encounters an n-gram it has never seen before, it assigns it with the probabilitiy of 0. Every time this happens, perplexity explodes.\n",
    "\n",
    "To battle this issue, there's a technique called __smoothing__. The core idea is to modify counts in a way that prevents probabilities from getting too low. The simplest algorithm here is Additive smoothing (aka [Lapace smoothing](https://en.wikipedia.org/wiki/Additive_smoothing)):\n",
    "\n",
    "$$ P(w_t | prefix) = { Count(prefix, w_t) + \\delta \\over \\sum_{\\hat w} (Count(prefix, \\hat w) + \\delta) } $$\n",
    "\n",
    "If counts for a given prefix are low, additive smoothing will adjust probabilities to a more uniform distribution. Not that the summation in the denominator goes over _all words in the vocabulary_.\n",
    "\n",
    "Here's an example code we've implemented for you:"
   ]
  },
  {
   "cell_type": "code",
   "execution_count": 20,
   "metadata": {
    "cellId": "ioh26rlov6g8l2ssj1c8pm"
   },
   "outputs": [],
   "source": [
    "class LaplaceLanguageModel(NGramLanguageModel): \n",
    "    \"\"\" this code is an example, no need to change anything \"\"\"\n",
    "    def __init__(self, lines, n, delta=1.0):\n",
    "        self.n = n\n",
    "        counts = count_ngrams(lines, self.n)\n",
    "        self.vocab = set(token for token_counts in counts.values() for token in token_counts)\n",
    "        self.probs = defaultdict(Counter)\n",
    "\n",
    "        for prefix in counts:\n",
    "            token_counts = counts[prefix]\n",
    "            total_count = sum(token_counts.values()) + delta * len(self.vocab)\n",
    "            self.probs[prefix] = {token: (token_counts[token] + delta) / total_count\n",
    "                                          for token in token_counts}\n",
    "    def get_possible_next_tokens(self, prefix):\n",
    "        token_probs = super().get_possible_next_tokens(prefix)\n",
    "        missing_prob_total = 1.0 - sum(token_probs.values())\n",
    "        missing_prob = missing_prob_total / max(1, len(self.vocab) - len(token_probs))\n",
    "        return {token: token_probs.get(token, missing_prob) for token in self.vocab}\n",
    "    \n",
    "    def get_next_token_prob(self, prefix, next_token):\n",
    "        token_probs = super().get_possible_next_tokens(prefix)\n",
    "        if next_token in token_probs:\n",
    "            return token_probs[next_token]\n",
    "        else:\n",
    "            missing_prob_total = 1.0 - sum(token_probs.values())\n",
    "            missing_prob_total = max(0, missing_prob_total) # prevent rounding errors\n",
    "            return missing_prob_total / max(1, len(self.vocab) - len(token_probs))\n",
    "        "
   ]
  },
  {
   "cell_type": "markdown",
   "metadata": {
    "cellId": "90vsann3920ie05r2blbmi",
    "execution_id": "3868303d-0bb9-42c6-a9a8-dcf485c8220c"
   },
   "source": [
    "**Disclaimer**: the implementation above assumes all words unknown within a given context to be equally likely, *as well as the words outside of vocabulary*. Therefore, its' perplexity will be lower than it should when encountering such words. Therefore, comparing it with a model with fewer unknown words will not be fair. When implementing your own smoothing, you may handle this by adding a virtual `UNK` token of non-zero probability. Technically, this will result in a model where probabilities do not add up to $1$, but it is close enough for a practice excercise."
   ]
  },
  {
   "cell_type": "code",
   "execution_count": 21,
   "metadata": {
    "cellId": "3xvxkdxcmfqucruyt66mdc"
   },
   "outputs": [],
   "source": [
    "#test that it's a valid probability model\n",
    "for n in (1, 2, 3):\n",
    "    dummy_lm = LaplaceLanguageModel(dummy_lines, n=n)\n",
    "    assert np.allclose(sum([dummy_lm.get_next_token_prob('a', w_i) for w_i in dummy_lm.vocab]), 1), \"I told you not to break anything! :)\""
   ]
  },
  {
   "cell_type": "code",
   "execution_count": 22,
   "metadata": {
    "cellId": "j6zqa50koitjjri9ipd8ec"
   },
   "outputs": [
    {
     "name": "stdout",
     "output_type": "stream",
     "text": [
      "N = 1, Perplexity = 977.67559\n",
      "N = 2, Perplexity = 470.48021\n",
      "N = 3, Perplexity = 3679.44765\n"
     ]
    }
   ],
   "source": [
    "for n in (1, 2, 3):\n",
    "    lm = LaplaceLanguageModel(train_lines, n=n, delta=0.1)\n",
    "    ppx = perplexity(lm, test_lines)\n",
    "    print(\"N = %i, Perplexity = %.5f\" % (n, ppx))"
   ]
  },
  {
   "cell_type": "code",
   "execution_count": null,
   "metadata": {
    "cellId": "pjuqt30jcerwbz1ym9zv1"
   },
   "outputs": [],
   "source": [
    "# optional: try to sample tokens from such a model"
   ]
  },
  {
   "cell_type": "markdown",
   "metadata": {
    "cellId": "3b8s1y9uls4fosu3yp28gg"
   },
   "source": [
    "### Kneser-Ney smoothing (2 points)\n",
    "\n",
    "Additive smoothing is simple, reasonably good but definitely not a State of The Art algorithm.\n",
    "\n",
    "\n",
    "Your final task in this notebook is to implement [Kneser-Ney](https://en.wikipedia.org/wiki/Kneser%E2%80%93Ney_smoothing) smoothing.\n",
    "\n",
    "It can be computed recurrently, for n>1:\n",
    "\n",
    "$$P_{kn}(w_t | prefix_{n-1}) = { \\max(0, Count(prefix_{n-1}, w_t) - \\delta) \\over \\sum_{\\hat w} Count(prefix_{n-1}, \\hat w)} + \\lambda_{prefix_{n-1}} \\cdot P_{kn}(w_t | prefix_{n-2})$$\n",
    "\n",
    "where\n",
    "- $prefix_{n-1}$ is a tuple of {n-1} previous tokens\n",
    "- $lambda_{prefix_{n-1}}$ is a normalization constant chosen so that probabilities add up to 1\n",
    "- Unigram $P_{kn}(w_t | prefix_{n-2})$ corresponds to Kneser Ney smoothing for {N-1}-gram language model.\n",
    "- Unigram $P_{kn}(w_t)$ is a special case: how likely it is to see x_t in an unfamiliar context\n",
    "\n",
    "See lecture slides or wiki for more detailed formulae.\n",
    "\n",
    "__Your task__ is to\n",
    "- implement `KneserNeyLanguageModel` class,\n",
    "- test it on 1-3 gram language models\n",
    "- find optimal (within reason) smoothing delta for 3-gram language model with Kneser-Ney smoothing"
   ]
  },
  {
   "cell_type": "code",
   "execution_count": 41,
   "metadata": {
    "execution": {
     "iopub.execute_input": "2024-10-10T14:35:21.546966Z",
     "iopub.status.busy": "2024-10-10T14:35:21.545946Z",
     "iopub.status.idle": "2024-10-10T14:35:21.560813Z",
     "shell.execute_reply": "2024-10-10T14:35:21.559997Z",
     "shell.execute_reply.started": "2024-10-10T14:35:21.546920Z"
    },
    "tags": []
   },
   "outputs": [],
   "source": [
    "def kneser_ney_initial(lines, n, vocab):\n",
    "    reverse_counts = defaultdict(Counter)\n",
    "        # reverse_counts[word1][word2] = how many times word2 occured BEFORE word1 \n",
    "\n",
    "    for line in lines:\n",
    "        line_list = [UNK] * (n - 1) + line.split(' ') + [EOS]\n",
    "        for end_idx in range(1, len(line_list)):\n",
    "            reverse_counts[line_list[end_idx]].update([line_list[end_idx - 1]])\n",
    "\n",
    "    total_sum = 0\n",
    "    for cnt in reverse_counts.values():\n",
    "        total_sum += len(cnt)\n",
    "\n",
    "    kneser_probs = {word: len(reverse_counts.get(word, {})) / total_sum for word in vocab}\n",
    "    return kneser_probs\n",
    "\n",
    "def kneser_ney(token, prefix, lines, n, delta, vocab, kneser_initial_probs, already_counted):\n",
    "    if n == 1:\n",
    "        return kneser_initial_probs.get(token, 0)\n",
    "    \n",
    "    else:\n",
    "        first_part, norm_const = None, None\n",
    "        if prefix in already_counted:\n",
    "            cnt = already_counted[prefix]\n",
    "            first_part = max(cnt.get(token, 0) - delta, 0) / cnt.total()\n",
    "            norm_const = delta * len(cnt) / cnt.total() #1 - sum([max(cnt.get(tkn, 0) - delta, 0) for tkn in cnt]) / cnt.total()\n",
    "        else:\n",
    "            first_part = 0\n",
    "            norm_const = 1\n",
    "\n",
    "        ans = first_part + norm_const * kneser_ney(token, prefix[1:], lines, n - 1, delta, vocab, kneser_initial_probs, already_counted)\n",
    "        return ans\n",
    "  \n",
    "\n"
   ]
  },
  {
   "cell_type": "code",
   "execution_count": 48,
   "metadata": {
    "cellId": "2ix7kzw02v30oye55322all",
    "execution": {
     "iopub.execute_input": "2024-10-10T14:44:08.174858Z",
     "iopub.status.busy": "2024-10-10T14:44:08.173796Z",
     "iopub.status.idle": "2024-10-10T14:44:08.190463Z",
     "shell.execute_reply": "2024-10-10T14:44:08.189670Z",
     "shell.execute_reply.started": "2024-10-10T14:44:08.174811Z"
    },
    "tags": []
   },
   "outputs": [],
   "source": [
    "class KneserNeyLanguageModel(NGramLanguageModel): \n",
    "    \"\"\" A template for Kneser-Ney language model. Default delta may be suboptimal. \"\"\"\n",
    "    def __init__(self, lines, n, delta=1.0):\n",
    "        self.ngrams = count_ngrams(lines, n)\n",
    "        self.n = n\n",
    "        self.delta = delta\n",
    "        self.lines = lines\n",
    "        self.vocab = set(token for token_counts in self.ngrams.values() for token in token_counts)\n",
    "        \n",
    "        for k in range(2, n, 1):\n",
    "            self.ngrams.update(count_ngrams(lines, k))\n",
    "        self.init_prob = kneser_ney_initial(lines, n, self.vocab)\n",
    "\n",
    "    def get_possible_next_tokens(self, prefix):\n",
    "        return self.kneser_probs[prefix]\n",
    "        \n",
    "    def get_next_token_prob(self, prefix, next_token):\n",
    "        prefix = prefix.split()\n",
    "        prefix = prefix[max(0, len(prefix) - self.n + 1):]\n",
    "        prefix = [ UNK ] * (self.n - 1 - len(prefix)) + prefix\n",
    "        if self.n == 1:\n",
    "            return self.init_prob.get(next_token, 0)\n",
    "        # return self.kneser_probs.get(tuple(prefix), {}).get(next_token, 0)\n",
    "        return kneser_ney(next_token, tuple(prefix), self.lines, self.n, self.delta, self.vocab, self.init_prob, self.ngrams)\n",
    "\n",
    "        "
   ]
  },
  {
   "cell_type": "code",
   "execution_count": 47,
   "metadata": {
    "cellId": "lsk91832qbmdt7x1q0a8z4",
    "execution": {
     "iopub.execute_input": "2024-10-10T14:41:47.086153Z",
     "iopub.status.busy": "2024-10-10T14:41:47.085058Z",
     "iopub.status.idle": "2024-10-10T14:41:47.171888Z",
     "shell.execute_reply": "2024-10-10T14:41:47.170603Z",
     "shell.execute_reply.started": "2024-10-10T14:41:47.086108Z"
    },
    "tags": []
   },
   "outputs": [
    {
     "name": "stdout",
     "output_type": "stream",
     "text": [
      "Counting ngrams\n",
      "Counted ngrams -- done\n",
      "Counting initial\n",
      "Counted initial -- done\n",
      "1.0000000000000075\n",
      "Counting ngrams\n",
      "Counted ngrams -- done\n",
      "Counting initial\n",
      "Counted initial -- done\n",
      "0.9999999999999908\n",
      "Counting ngrams\n",
      "Counted ngrams -- done\n",
      "Counting initial\n",
      "Counted initial -- done\n",
      "0.9997191091390208\n"
     ]
    },
    {
     "ename": "AssertionError",
     "evalue": "I told you not to break anything! :)",
     "output_type": "error",
     "traceback": [
      "\u001b[0;31m---------------------------------------------------------------------------\u001b[0m",
      "\u001b[0;31mAssertionError\u001b[0m                            Traceback (most recent call last)",
      "\u001b[0;32m/tmp/ipykernel_3549/2791719392.py\u001b[0m in \u001b[0;36m<cell line: 2>\u001b[0;34m()\u001b[0m\n\u001b[1;32m      3\u001b[0m     \u001b[0mdummy_lm\u001b[0m \u001b[0;34m=\u001b[0m \u001b[0mKneserNeyLanguageModel\u001b[0m\u001b[0;34m(\u001b[0m\u001b[0mdummy_lines\u001b[0m\u001b[0;34m,\u001b[0m \u001b[0mn\u001b[0m\u001b[0;34m=\u001b[0m\u001b[0mn\u001b[0m\u001b[0;34m)\u001b[0m\u001b[0;34m\u001b[0m\u001b[0;34m\u001b[0m\u001b[0m\n\u001b[1;32m      4\u001b[0m     \u001b[0mprint\u001b[0m\u001b[0;34m(\u001b[0m\u001b[0msum\u001b[0m\u001b[0;34m(\u001b[0m\u001b[0;34m[\u001b[0m\u001b[0mdummy_lm\u001b[0m\u001b[0;34m.\u001b[0m\u001b[0mget_next_token_prob\u001b[0m\u001b[0;34m(\u001b[0m\u001b[0;34m'a'\u001b[0m\u001b[0;34m,\u001b[0m \u001b[0mw_i\u001b[0m\u001b[0;34m)\u001b[0m \u001b[0;32mfor\u001b[0m \u001b[0mw_i\u001b[0m \u001b[0;32min\u001b[0m \u001b[0mdummy_lm\u001b[0m\u001b[0;34m.\u001b[0m\u001b[0mvocab\u001b[0m\u001b[0;34m]\u001b[0m\u001b[0;34m)\u001b[0m\u001b[0;34m)\u001b[0m\u001b[0;34m\u001b[0m\u001b[0;34m\u001b[0m\u001b[0m\n\u001b[0;32m----> 5\u001b[0;31m     \u001b[0;32massert\u001b[0m \u001b[0mnp\u001b[0m\u001b[0;34m.\u001b[0m\u001b[0mallclose\u001b[0m\u001b[0;34m(\u001b[0m\u001b[0msum\u001b[0m\u001b[0;34m(\u001b[0m\u001b[0;34m[\u001b[0m\u001b[0mdummy_lm\u001b[0m\u001b[0;34m.\u001b[0m\u001b[0mget_next_token_prob\u001b[0m\u001b[0;34m(\u001b[0m\u001b[0;34m'a'\u001b[0m\u001b[0;34m,\u001b[0m \u001b[0mw_i\u001b[0m\u001b[0;34m)\u001b[0m \u001b[0;32mfor\u001b[0m \u001b[0mw_i\u001b[0m \u001b[0;32min\u001b[0m \u001b[0mdummy_lm\u001b[0m\u001b[0;34m.\u001b[0m\u001b[0mvocab\u001b[0m\u001b[0;34m]\u001b[0m\u001b[0;34m)\u001b[0m\u001b[0;34m,\u001b[0m \u001b[0;36m1\u001b[0m\u001b[0;34m)\u001b[0m\u001b[0;34m,\u001b[0m \u001b[0;34m\"I told you not to break anything! :)\"\u001b[0m\u001b[0;34m\u001b[0m\u001b[0;34m\u001b[0m\u001b[0m\n\u001b[0m",
      "\u001b[0;31mAssertionError\u001b[0m: I told you not to break anything! :)"
     ]
    }
   ],
   "source": [
    "#test that it's a valid probability model\n",
    "for n in (1, 2, 3):\n",
    "    dummy_lm = KneserNeyLanguageModel(dummy_lines, n=n)\n",
    "    print(sum([dummy_lm.get_next_token_prob('a', w_i) for w_i in dummy_lm.vocab]))\n",
    "    assert np.allclose(sum([dummy_lm.get_next_token_prob('a', w_i) for w_i in dummy_lm.vocab]), 1), \"I told you not to break anything! :)\""
   ]
  },
  {
   "cell_type": "code",
   "execution_count": 46,
   "metadata": {
    "cellId": "pp3jtkk9annp1qkou58x1b",
    "execution": {
     "iopub.execute_input": "2024-10-10T14:35:37.075777Z",
     "iopub.status.busy": "2024-10-10T14:35:37.074624Z",
     "iopub.status.idle": "2024-10-10T14:40:10.242902Z",
     "shell.execute_reply": "2024-10-10T14:40:10.241754Z",
     "shell.execute_reply.started": "2024-10-10T14:35:37.075733Z"
    },
    "tags": []
   },
   "outputs": [
    {
     "name": "stdout",
     "output_type": "stream",
     "text": [
      "Counting ngrams\n",
      "Counted ngrams -- done\n",
      "Counting initial\n",
      "Counted initial -- done\n"
     ]
    },
    {
     "name": "stderr",
     "output_type": "stream",
     "text": [
      "  0%|          | 0/10250 [00:00<?, ?it/s]/tmp/ipykernel_3549/2147869241.py:17: RuntimeWarning: divide by zero encountered in log\n",
      "  summ_log_probs += max(min_logprob, np.log(lm.get_next_token_prob(prefix, line_list[idx])))\n",
      "100%|██████████| 10250/10250 [00:10<00:00, 976.28it/s] \n"
     ]
    },
    {
     "name": "stdout",
     "output_type": "stream",
     "text": [
      "N = 1, Perplexity = 2882.02405\n",
      "Counting ngrams\n",
      "Counted ngrams -- done\n",
      "Counting initial\n",
      "Counted initial -- done\n"
     ]
    },
    {
     "name": "stderr",
     "output_type": "stream",
     "text": [
      "100%|██████████| 10250/10250 [01:35<00:00, 107.33it/s]\n"
     ]
    },
    {
     "name": "stdout",
     "output_type": "stream",
     "text": [
      "N = 2, Perplexity = 404.35703\n",
      "Counting ngrams\n",
      "Counted ngrams -- done\n",
      "Counting initial\n",
      "Counted initial -- done\n"
     ]
    },
    {
     "name": "stderr",
     "output_type": "stream",
     "text": [
      "100%|██████████| 10250/10250 [01:55<00:00, 88.77it/s]"
     ]
    },
    {
     "name": "stdout",
     "output_type": "stream",
     "text": [
      "N = 3, Perplexity = 311.53732\n"
     ]
    },
    {
     "name": "stderr",
     "output_type": "stream",
     "text": [
      "\n"
     ]
    }
   ],
   "source": [
    "for n in (1, 2, 3):\n",
    "    lm = KneserNeyLanguageModel(train_lines, n=n, delta=1.0)\n",
    "    ppx = perplexity(lm, test_lines)\n",
    "    print(\"N = %i, Perplexity = %.5f\" % (n, ppx))"
   ]
  },
  {
   "cell_type": "code",
   "execution_count": 49,
   "metadata": {
    "execution": {
     "iopub.execute_input": "2024-10-10T14:45:06.033126Z",
     "iopub.status.busy": "2024-10-10T14:45:06.032312Z",
     "iopub.status.idle": "2024-10-10T15:08:59.148303Z",
     "shell.execute_reply": "2024-10-10T15:08:59.147385Z",
     "shell.execute_reply.started": "2024-10-10T14:45:06.033085Z"
    },
    "tags": []
   },
   "outputs": [
    {
     "name": "stderr",
     "output_type": "stream",
     "text": [
      "  0%|          | 0/10250 [00:00<?, ?it/s]/tmp/ipykernel_3549/2147869241.py:17: RuntimeWarning: divide by zero encountered in log\n",
      "  summ_log_probs += max(min_logprob, np.log(lm.get_next_token_prob(prefix, line_list[idx])))\n",
      "100%|██████████| 10250/10250 [01:55<00:00, 88.99it/s]\n"
     ]
    },
    {
     "name": "stdout",
     "output_type": "stream",
     "text": [
      "delta = 0.100, Perplexity = 615.29635\n"
     ]
    },
    {
     "name": "stderr",
     "output_type": "stream",
     "text": [
      "100%|██████████| 10250/10250 [01:57<00:00, 86.97it/s]\n"
     ]
    },
    {
     "name": "stdout",
     "output_type": "stream",
     "text": [
      "delta = 0.200, Perplexity = 463.12898\n"
     ]
    },
    {
     "name": "stderr",
     "output_type": "stream",
     "text": [
      "100%|██████████| 10250/10250 [01:57<00:00, 87.18it/s]\n"
     ]
    },
    {
     "name": "stdout",
     "output_type": "stream",
     "text": [
      "delta = 0.300, Perplexity = 394.26297\n"
     ]
    },
    {
     "name": "stderr",
     "output_type": "stream",
     "text": [
      "100%|██████████| 10250/10250 [01:54<00:00, 89.89it/s]\n"
     ]
    },
    {
     "name": "stdout",
     "output_type": "stream",
     "text": [
      "delta = 0.400, Perplexity = 353.42624\n"
     ]
    },
    {
     "name": "stderr",
     "output_type": "stream",
     "text": [
      "100%|██████████| 10250/10250 [01:59<00:00, 85.60it/s]"
     ]
    },
    {
     "name": "stdout",
     "output_type": "stream",
     "text": [
      "delta = 0.500, Perplexity = 326.33934\n"
     ]
    },
    {
     "name": "stderr",
     "output_type": "stream",
     "text": [
      "\n",
      "100%|██████████| 10250/10250 [01:59<00:00, 86.07it/s]"
     ]
    },
    {
     "name": "stdout",
     "output_type": "stream",
     "text": [
      "delta = 0.600, Perplexity = 307.51445\n"
     ]
    },
    {
     "name": "stderr",
     "output_type": "stream",
     "text": [
      "\n",
      "100%|██████████| 10250/10250 [01:56<00:00, 87.97it/s]\n"
     ]
    },
    {
     "name": "stdout",
     "output_type": "stream",
     "text": [
      "delta = 0.700, Perplexity = 294.52717\n"
     ]
    },
    {
     "name": "stderr",
     "output_type": "stream",
     "text": [
      "100%|██████████| 10250/10250 [01:59<00:00, 86.05it/s]\n"
     ]
    },
    {
     "name": "stdout",
     "output_type": "stream",
     "text": [
      "delta = 0.800, Perplexity = 286.54726\n"
     ]
    },
    {
     "name": "stderr",
     "output_type": "stream",
     "text": [
      "100%|██████████| 10250/10250 [01:55<00:00, 88.86it/s]\n"
     ]
    },
    {
     "name": "stdout",
     "output_type": "stream",
     "text": [
      "delta = 0.900, Perplexity = 284.59295\n"
     ]
    },
    {
     "name": "stderr",
     "output_type": "stream",
     "text": [
      "100%|██████████| 10250/10250 [01:53<00:00, 90.05it/s] "
     ]
    },
    {
     "name": "stdout",
     "output_type": "stream",
     "text": [
      "delta = 1.000, Perplexity = 311.53732\n"
     ]
    },
    {
     "name": "stderr",
     "output_type": "stream",
     "text": [
      "\n"
     ]
    }
   ],
   "source": [
    "\n",
    "perp = []\n",
    "for delta in np.linspace(0.1, 1.0, 10):\n",
    "    lm = KneserNeyLanguageModel(train_lines, n=3, delta=delta)\n",
    "    ppx = perplexity(lm, test_lines)\n",
    "    print(\"delta = %.3f, Perplexity = %.5f\" % (delta, ppx))\n",
    "    perp.append(ppx)"
   ]
  },
  {
   "cell_type": "code",
   "execution_count": 53,
   "metadata": {
    "execution": {
     "iopub.execute_input": "2024-10-10T15:10:25.379801Z",
     "iopub.status.busy": "2024-10-10T15:10:25.378686Z",
     "iopub.status.idle": "2024-10-10T15:10:25.573491Z",
     "shell.execute_reply": "2024-10-10T15:10:25.572360Z",
     "shell.execute_reply.started": "2024-10-10T15:10:25.379753Z"
    },
    "tags": []
   },
   "outputs": [
    {
     "data": {
      "image/png": "[encoded data removed]",
      "text/plain": [
       "<Figure size 640x480 with 1 Axes>"
      ]
     },
     "metadata": {},
     "output_type": "display_data"
    }
   ],
   "source": [
    "plt.plot(np.linspace(0.1, 1.0, 10), perp, 'bo--')\n",
    "plt.grid()\n",
    "plt.title('Perplexity / delta dependency (N = 3)')\n",
    "plt.show()"
   ]
  },
  {
   "cell_type": "code",
   "execution_count": null,
   "metadata": {},
   "outputs": [],
   "source": []
  }
 ],
 "metadata": {
  "kernelspec": {
   "display_name": "DataSphere Kernel",
   "language": "python",
   "name": "python3"
  },
  "language_info": {
   "codemirror_mode": {
    "name": "ipython",
    "version": 3
   },
   "file_extension": ".py",
   "mimetype": "text/x-python",
   "name": "python",
   "nbconvert_exporter": "python",
   "pygments_lexer": "ipython3",
   "version": "3.10.12"
  },
  "notebookId": "53997d2d-afb8-4477-8874-b6d46299f06c",
  "notebookPath": "seminar.ipynb"
 },
 "nbformat": 4,
 "nbformat_minor": 4
}

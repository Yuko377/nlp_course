{
 "cells": [
  {
   "cell_type": "markdown",
   "metadata": {},
   "source": [
    "### Salary prediction, episode II: make it actually work (4 points)\n",
    "\n",
    "Your main task is to use some of the tricks you've learned on the network and analyze if you can improve __validation MAE__. Try __at least 3 options__ from the list below for a passing grade. Write a short report about what you have tried. More ideas = more bonus points. \n",
    "\n",
    "__Please be serious:__ \" plot learning curves in MAE/epoch, compare models based on optimal performance, test one change at a time. You know the drill :)\n",
    "\n",
    "You can use either __pytorch__ or __tensorflow__ or any other framework (e.g. pure __keras__). Feel free to adapt the seminar code for your needs. For tensorflow version, consider `seminar_tf2.ipynb` as a starting point.\n"
   ]
  },
  {
   "cell_type": "markdown",
   "metadata": {},
   "source": [
    "## Препроцессинг, честно взятый с семинара"
   ]
  },
  {
   "cell_type": "code",
   "execution_count": 1,
   "metadata": {
    "execution": {
     "iopub.execute_input": "2024-10-03T13:02:18.948409Z",
     "iopub.status.busy": "2024-10-03T13:02:18.947937Z",
     "iopub.status.idle": "2024-10-03T13:02:18.970669Z",
     "shell.execute_reply": "2024-10-03T13:02:18.969951Z",
     "shell.execute_reply.started": "2024-10-03T13:02:18.948374Z"
    },
    "tags": []
   },
   "outputs": [],
   "source": [
    "# < A whole lot of your code > - models, charts, analysis\n",
    "import numpy as np\n",
    "import pandas as pd\n",
    "import matplotlib.pyplot as plt\n",
    "%matplotlib inline"
   ]
  },
  {
   "cell_type": "code",
   "execution_count": 2,
   "metadata": {
    "execution": {
     "iopub.execute_input": "2024-10-03T13:02:40.830863Z",
     "iopub.status.busy": "2024-10-03T13:02:40.830432Z",
     "iopub.status.idle": "2024-10-03T13:02:47.220498Z",
     "shell.execute_reply": "2024-10-03T13:02:47.219666Z",
     "shell.execute_reply.started": "2024-10-03T13:02:40.830842Z"
    },
    "tags": []
   },
   "outputs": [],
   "source": [
    "import torch"
   ]
  },
  {
   "cell_type": "code",
   "execution_count": 3,
   "metadata": {
    "execution": {
     "iopub.execute_input": "2024-10-03T13:02:47.222189Z",
     "iopub.status.busy": "2024-10-03T13:02:47.221649Z",
     "iopub.status.idle": "2024-10-03T13:02:53.251303Z",
     "shell.execute_reply": "2024-10-03T13:02:53.250442Z",
     "shell.execute_reply.started": "2024-10-03T13:02:47.222162Z"
    },
    "tags": []
   },
   "outputs": [
    {
     "data": {
      "text/plain": [
       "(244768, 12)"
      ]
     },
     "execution_count": 3,
     "metadata": {},
     "output_type": "execute_result"
    }
   ],
   "source": [
    "data = pd.read_csv(\"./Train_rev1.zip\", compression='zip', index_col=None)\n",
    "data.shape"
   ]
  },
  {
   "cell_type": "code",
   "execution_count": 4,
   "metadata": {
    "execution": {
     "iopub.execute_input": "2024-10-03T13:02:53.396938Z",
     "iopub.status.busy": "2024-10-03T13:02:53.396541Z",
     "iopub.status.idle": "2024-10-03T13:02:53.418292Z",
     "shell.execute_reply": "2024-10-03T13:02:53.417459Z",
     "shell.execute_reply.started": "2024-10-03T13:02:53.396916Z"
    },
    "tags": []
   },
   "outputs": [],
   "source": [
    "data['Log1pSalary'] = np.log1p(data['SalaryNormalized']).astype('float32')"
   ]
  },
  {
   "cell_type": "code",
   "execution_count": 5,
   "metadata": {
    "execution": {
     "iopub.execute_input": "2024-10-03T13:02:53.906007Z",
     "iopub.status.busy": "2024-10-03T13:02:53.905138Z",
     "iopub.status.idle": "2024-10-03T13:02:54.210215Z",
     "shell.execute_reply": "2024-10-03T13:02:54.209404Z",
     "shell.execute_reply.started": "2024-10-03T13:02:53.905985Z"
    },
    "tags": []
   },
   "outputs": [
    {
     "data": {
      "text/html": [
       "<div>\n",
       "<style scoped>\n",
       "    .dataframe tbody tr th:only-of-type {\n",
       "        vertical-align: middle;\n",
       "    }\n",
       "\n",
       "    .dataframe tbody tr th {\n",
       "        vertical-align: top;\n",
       "    }\n",
       "\n",
       "    .dataframe thead th {\n",
       "        text-align: right;\n",
       "    }\n",
       "</style>\n",
       "<table border=\"1\" class=\"dataframe\">\n",
       "  <thead>\n",
       "    <tr style=\"text-align: right;\">\n",
       "      <th></th>\n",
       "      <th>Id</th>\n",
       "      <th>Title</th>\n",
       "      <th>FullDescription</th>\n",
       "      <th>LocationRaw</th>\n",
       "      <th>LocationNormalized</th>\n",
       "      <th>ContractType</th>\n",
       "      <th>ContractTime</th>\n",
       "      <th>Company</th>\n",
       "      <th>Category</th>\n",
       "      <th>SalaryRaw</th>\n",
       "      <th>SalaryNormalized</th>\n",
       "      <th>SourceName</th>\n",
       "      <th>Log1pSalary</th>\n",
       "    </tr>\n",
       "  </thead>\n",
       "  <tbody>\n",
       "    <tr>\n",
       "      <th>203423</th>\n",
       "      <td>71911534</td>\n",
       "      <td>Principal Consultant Geologist  England</td>\n",
       "      <td>We are currently working alongside an internat...</td>\n",
       "      <td>England</td>\n",
       "      <td>UK</td>\n",
       "      <td>full_time</td>\n",
       "      <td>permanent</td>\n",
       "      <td>Spencer Ogden</td>\n",
       "      <td>Engineering Jobs</td>\n",
       "      <td>75000</td>\n",
       "      <td>75000</td>\n",
       "      <td>strike-jobs.co.uk</td>\n",
       "      <td>11.225257</td>\n",
       "    </tr>\n",
       "    <tr>\n",
       "      <th>147932</th>\n",
       "      <td>70759188</td>\n",
       "      <td>Engineering Manager</td>\n",
       "      <td>Automotive Engineering Manager ****  ****  Com...</td>\n",
       "      <td>West Midlands</td>\n",
       "      <td>West Midlands</td>\n",
       "      <td>NaN</td>\n",
       "      <td>permanent</td>\n",
       "      <td>ATA Recruitment</td>\n",
       "      <td>Other/General Jobs</td>\n",
       "      <td>55000/annum</td>\n",
       "      <td>55000</td>\n",
       "      <td>cv-library.co.uk</td>\n",
       "      <td>10.915107</td>\n",
       "    </tr>\n",
       "    <tr>\n",
       "      <th>48195</th>\n",
       "      <td>68593238</td>\n",
       "      <td>Lead / Senior  UX / UI  Berkshire</td>\n",
       "      <td>This is a new and fantastic opportunity that w...</td>\n",
       "      <td>Reading</td>\n",
       "      <td>Reading</td>\n",
       "      <td>NaN</td>\n",
       "      <td>permanent</td>\n",
       "      <td>NonStop Recruitment Ltd</td>\n",
       "      <td>IT Jobs</td>\n",
       "      <td>45k - 60k pa + CAR</td>\n",
       "      <td>52500</td>\n",
       "      <td>jobsite.co.uk</td>\n",
       "      <td>10.868587</td>\n",
       "    </tr>\n",
       "  </tbody>\n",
       "</table>\n",
       "</div>"
      ],
      "text/plain": [
       "              Id  ... Log1pSalary\n",
       "203423  71911534  ...   11.225257\n",
       "147932  70759188  ...   10.915107\n",
       "48195   68593238  ...   10.868587\n",
       "\n",
       "[3 rows x 13 columns]"
      ]
     },
     "execution_count": 5,
     "metadata": {},
     "output_type": "execute_result"
    }
   ],
   "source": [
    "text_columns = [\"Title\", \"FullDescription\"]\n",
    "categorical_columns = [\"Category\", \"Company\", \"LocationNormalized\", \"ContractType\", \"ContractTime\"]\n",
    "TARGET_COLUMN = \"Log1pSalary\"\n",
    "\n",
    "data[categorical_columns] = data[categorical_columns].fillna('NaN') # cast missing values to string \"NaN\"\n",
    "\n",
    "data.sample(3)"
   ]
  },
  {
   "cell_type": "code",
   "execution_count": 6,
   "metadata": {
    "execution": {
     "iopub.execute_input": "2024-10-03T13:02:58.641041Z",
     "iopub.status.busy": "2024-10-03T13:02:58.640327Z",
     "iopub.status.idle": "2024-10-03T13:02:59.857103Z",
     "shell.execute_reply": "2024-10-03T13:02:59.856170Z",
     "shell.execute_reply.started": "2024-10-03T13:02:58.641018Z"
    },
    "tags": []
   },
   "outputs": [],
   "source": [
    "data[text_columns] = data[text_columns].fillna(method=\"ffill\")"
   ]
  },
  {
   "cell_type": "code",
   "execution_count": 7,
   "metadata": {
    "execution": {
     "iopub.execute_input": "2024-10-03T13:02:59.858620Z",
     "iopub.status.busy": "2024-10-03T13:02:59.858228Z",
     "iopub.status.idle": "2024-10-03T13:03:22.656962Z",
     "shell.execute_reply": "2024-10-03T13:03:22.656170Z",
     "shell.execute_reply.started": "2024-10-03T13:02:59.858594Z"
    },
    "tags": []
   },
   "outputs": [],
   "source": [
    "import nltk\n",
    "#TODO YOUR CODE HERE\n",
    "\n",
    "tokenizer = nltk.tokenize.WordPunctTokenizer()\n",
    "\n",
    "data[\"FullDescription\"] = data[\"FullDescription\"].apply(lambda descrp: ' '.join(tokenizer.tokenize(descrp.lower())))\n",
    "data[\"Title\"] = data[\"Title\"].apply(lambda title: ' '.join(tokenizer.tokenize(title.lower())))\n"
   ]
  },
  {
   "cell_type": "code",
   "execution_count": 8,
   "metadata": {
    "execution": {
     "iopub.execute_input": "2024-10-03T13:03:22.658424Z",
     "iopub.status.busy": "2024-10-03T13:03:22.658023Z",
     "iopub.status.idle": "2024-10-03T13:03:42.604328Z",
     "shell.execute_reply": "2024-10-03T13:03:42.603431Z",
     "shell.execute_reply.started": "2024-10-03T13:03:22.658401Z"
    },
    "tags": []
   },
   "outputs": [],
   "source": [
    "from collections import Counter\n",
    "token_counts = Counter()\n",
    "\n",
    "# Count how many times does each token occur in both \"Title\" and \"FullDescription\" in total\n",
    "for index, row in data.iterrows():\n",
    "    token_counts.update(row['Title'].split())\n",
    "    token_counts.update(row['FullDescription'].split())"
   ]
  },
  {
   "cell_type": "code",
   "execution_count": 9,
   "metadata": {
    "execution": {
     "iopub.execute_input": "2024-10-03T13:03:42.605693Z",
     "iopub.status.busy": "2024-10-03T13:03:42.605296Z",
     "iopub.status.idle": "2024-10-03T13:03:42.643833Z",
     "shell.execute_reply": "2024-10-03T13:03:42.642984Z",
     "shell.execute_reply.started": "2024-10-03T13:03:42.605667Z"
    },
    "tags": []
   },
   "outputs": [],
   "source": [
    "min_count = 10\n",
    "\n",
    "# tokens from token_counts keys that had at least min_count occurrences throughout the dataset\n",
    "tokens = sorted(t for t, c in token_counts.items() if c >= min_count)#TODO<YOUR CODE HERE>\n",
    "\n",
    "# Add a special tokens for unknown and empty words\n",
    "UNK, PAD = \"UNK\", \"PAD\"\n",
    "tokens = [UNK, PAD] + tokens"
   ]
  },
  {
   "cell_type": "code",
   "execution_count": 10,
   "metadata": {
    "execution": {
     "iopub.execute_input": "2024-10-03T13:03:42.646026Z",
     "iopub.status.busy": "2024-10-03T13:03:42.645649Z",
     "iopub.status.idle": "2024-10-03T13:03:42.662965Z",
     "shell.execute_reply": "2024-10-03T13:03:42.662192Z",
     "shell.execute_reply.started": "2024-10-03T13:03:42.646000Z"
    },
    "tags": []
   },
   "outputs": [],
   "source": [
    "token_to_id = {token: idx for idx, token in enumerate(tokens)}"
   ]
  },
  {
   "cell_type": "markdown",
   "metadata": {
    "tags": []
   },
   "source": [
    "Тут добавил параметр минимальной длины (показалось что удобно это сделать на месте)"
   ]
  },
  {
   "cell_type": "code",
   "execution_count": 11,
   "metadata": {
    "execution": {
     "iopub.execute_input": "2024-10-03T13:03:42.664259Z",
     "iopub.status.busy": "2024-10-03T13:03:42.663836Z",
     "iopub.status.idle": "2024-10-03T13:03:42.680806Z",
     "shell.execute_reply": "2024-10-03T13:03:42.679990Z",
     "shell.execute_reply.started": "2024-10-03T13:03:42.664239Z"
    },
    "tags": []
   },
   "outputs": [],
   "source": [
    "UNK_IX, PAD_IX = map(token_to_id.get, [UNK, PAD])\n",
    "\n",
    "def as_matrix(sequences, max_len=None, min_len=10):\n",
    "    \"\"\" Convert a list of tokens into a matrix with padding \"\"\"\n",
    "    if isinstance(sequences[0], str):\n",
    "        sequences = list(map(str.split, sequences))\n",
    "        \n",
    "    max_len = min(max(map(len, sequences)), max_len or float('inf'))\n",
    "    max_len = max(max_len, min_len)\n",
    "    matrix = np.full((len(sequences), max_len), np.int32(PAD_IX))\n",
    "    for i,seq in enumerate(sequences):\n",
    "        row_ix = [token_to_id.get(word, UNK_IX) for word in seq[:max_len]]\n",
    "        matrix[i, :len(row_ix)] = row_ix\n",
    "    \n",
    "    return matrix"
   ]
  },
  {
   "cell_type": "code",
   "execution_count": 12,
   "metadata": {
    "execution": {
     "iopub.execute_input": "2024-10-03T13:03:42.682100Z",
     "iopub.status.busy": "2024-10-03T13:03:42.681760Z",
     "iopub.status.idle": "2024-10-03T13:03:42.694981Z",
     "shell.execute_reply": "2024-10-03T13:03:42.694229Z",
     "shell.execute_reply.started": "2024-10-03T13:03:42.682080Z"
    },
    "tags": []
   },
   "outputs": [
    {
     "data": {
      "text/plain": [
       "34158"
      ]
     },
     "execution_count": 12,
     "metadata": {},
     "output_type": "execute_result"
    }
   ],
   "source": [
    "len(token_to_id)"
   ]
  },
  {
   "cell_type": "code",
   "execution_count": 16,
   "metadata": {
    "execution": {
     "iopub.execute_input": "2024-10-01T15:28:10.838783Z",
     "iopub.status.busy": "2024-10-01T15:28:10.837400Z",
     "iopub.status.idle": "2024-10-01T15:34:28.816167Z",
     "shell.execute_reply": "2024-10-01T15:34:28.814914Z",
     "shell.execute_reply.started": "2024-10-01T15:28:10.838745Z"
    }
   },
   "outputs": [
    {
     "name": "stdout",
     "output_type": "stream",
     "text": [
      "[==================================================] 100.0% 958.5/958.4MB downloaded\n"
     ]
    }
   ],
   "source": [
    "import gensim.downloader \n",
    "# embeddings = gensim.downloader.load(\"fasttext-wiki-news-subwords-300\")"
   ]
  },
  {
   "cell_type": "code",
   "execution_count": 19,
   "metadata": {
    "execution": {
     "iopub.execute_input": "2024-10-01T15:38:54.508817Z",
     "iopub.status.busy": "2024-10-01T15:38:54.507879Z",
     "iopub.status.idle": "2024-10-01T15:38:54.568858Z",
     "shell.execute_reply": "2024-10-01T15:38:54.567543Z",
     "shell.execute_reply.started": "2024-10-01T15:38:54.508780Z"
    },
    "tags": []
   },
   "outputs": [
    {
     "name": "stdout",
     "output_type": "stream",
     "text": [
      "9945\n"
     ]
    }
   ],
   "source": [
    "counter = 0\n",
    "for token in tokens:\n",
    "    if token not in embeddings:\n",
    "        counter += 1\n",
    "        \n",
    "print(counter)"
   ]
  },
  {
   "cell_type": "markdown",
   "metadata": {},
   "source": [
    "## Эмбеддинги\n",
    "\n",
    "Решил не рисковать и взять средний размер - выбор пал на GloVe6B-100. Токены для которых не нашлось вектора заполнял случайно стандартно нормально"
   ]
  },
  {
   "cell_type": "code",
   "execution_count": 13,
   "metadata": {
    "execution": {
     "iopub.execute_input": "2024-10-03T13:03:42.696277Z",
     "iopub.status.busy": "2024-10-03T13:03:42.695884Z",
     "iopub.status.idle": "2024-10-03T13:04:07.747358Z",
     "shell.execute_reply": "2024-10-03T13:04:07.746620Z",
     "shell.execute_reply.started": "2024-10-03T13:03:42.696253Z"
    },
    "tags": []
   },
   "outputs": [],
   "source": [
    "from gensim.models import KeyedVectors\n",
    "glove_embs = KeyedVectors.load_word2vec_format('glove.6B.100d.txt', binary=False, no_header=True)"
   ]
  },
  {
   "cell_type": "code",
   "execution_count": 14,
   "metadata": {
    "execution": {
     "iopub.execute_input": "2024-10-03T13:04:07.749430Z",
     "iopub.status.busy": "2024-10-03T13:04:07.748677Z",
     "iopub.status.idle": "2024-10-03T13:04:07.790218Z",
     "shell.execute_reply": "2024-10-03T13:04:07.789503Z",
     "shell.execute_reply.started": "2024-10-03T13:04:07.749395Z"
    },
    "tags": []
   },
   "outputs": [
    {
     "name": "stdout",
     "output_type": "stream",
     "text": [
      "7935\n"
     ]
    }
   ],
   "source": [
    "counter = 0\n",
    "for token in tokens:\n",
    "    if token not in glove_embs:\n",
    "        counter += 1\n",
    "        \n",
    "print(counter)"
   ]
  },
  {
   "cell_type": "code",
   "execution_count": 15,
   "metadata": {
    "execution": {
     "iopub.execute_input": "2024-10-03T13:04:07.792616Z",
     "iopub.status.busy": "2024-10-03T13:04:07.791082Z",
     "iopub.status.idle": "2024-10-03T13:04:07.806350Z",
     "shell.execute_reply": "2024-10-03T13:04:07.805587Z",
     "shell.execute_reply.started": "2024-10-03T13:04:07.792561Z"
    },
    "tags": []
   },
   "outputs": [],
   "source": [
    "emb_util_lambda = lambda idx: glove_embs[tokens[idx]] if tokens[idx] in glove_embs else list(np.random.normal(size=100))"
   ]
  },
  {
   "cell_type": "code",
   "execution_count": 16,
   "metadata": {
    "execution": {
     "iopub.execute_input": "2024-10-03T13:04:07.808527Z",
     "iopub.status.busy": "2024-10-03T13:04:07.808166Z",
     "iopub.status.idle": "2024-10-03T13:04:08.397717Z",
     "shell.execute_reply": "2024-10-03T13:04:08.396886Z",
     "shell.execute_reply.started": "2024-10-03T13:04:07.808505Z"
    },
    "tags": []
   },
   "outputs": [
    {
     "name": "stderr",
     "output_type": "stream",
     "text": [
      "/tmp/ipykernel_3373/1962516131.py:1: UserWarning: Creating a tensor from a list of numpy.ndarrays is extremely slow. Please consider converting the list to a single numpy.ndarray with numpy.array() before converting to a tensor. (Triggered internally at ../torch/csrc/utils/tensor_new.cpp:245.)\n",
      "  embeddings_tensor_glove = torch.FloatTensor([emb_util_lambda(idx) for idx in range(len(tokens))])\n"
     ]
    }
   ],
   "source": [
    "embeddings_tensor_glove = torch.FloatTensor([emb_util_lambda(idx) for idx in range(len(tokens))])"
   ]
  },
  {
   "cell_type": "code",
   "execution_count": 17,
   "metadata": {
    "execution": {
     "iopub.execute_input": "2024-10-03T13:04:08.399018Z",
     "iopub.status.busy": "2024-10-03T13:04:08.398685Z",
     "iopub.status.idle": "2024-10-03T13:04:08.413066Z",
     "shell.execute_reply": "2024-10-03T13:04:08.412261Z",
     "shell.execute_reply.started": "2024-10-03T13:04:08.398998Z"
    },
    "tags": []
   },
   "outputs": [
    {
     "data": {
      "text/plain": [
       "torch.Size([34158, 100])"
      ]
     },
     "execution_count": 17,
     "metadata": {},
     "output_type": "execute_result"
    }
   ],
   "source": [
    "embeddings_tensor_glove.shape"
   ]
  },
  {
   "cell_type": "markdown",
   "metadata": {},
   "source": [
    "## Еще немного препроцессинга "
   ]
  },
  {
   "cell_type": "code",
   "execution_count": 18,
   "metadata": {
    "execution": {
     "iopub.execute_input": "2024-10-03T13:04:08.414414Z",
     "iopub.status.busy": "2024-10-03T13:04:08.414074Z",
     "iopub.status.idle": "2024-10-03T13:04:12.246837Z",
     "shell.execute_reply": "2024-10-03T13:04:12.246021Z",
     "shell.execute_reply.started": "2024-10-03T13:04:08.414393Z"
    },
    "tags": []
   },
   "outputs": [
    {
     "data": {
      "text/html": [
       "<style>#sk-container-id-1 {color: black;background-color: white;}#sk-container-id-1 pre{padding: 0;}#sk-container-id-1 div.sk-toggleable {background-color: white;}#sk-container-id-1 label.sk-toggleable__label {cursor: pointer;display: block;width: 100%;margin-bottom: 0;padding: 0.3em;box-sizing: border-box;text-align: center;}#sk-container-id-1 label.sk-toggleable__label-arrow:before {content: \"▸\";float: left;margin-right: 0.25em;color: #696969;}#sk-container-id-1 label.sk-toggleable__label-arrow:hover:before {color: black;}#sk-container-id-1 div.sk-estimator:hover label.sk-toggleable__label-arrow:before {color: black;}#sk-container-id-1 div.sk-toggleable__content {max-height: 0;max-width: 0;overflow: hidden;text-align: left;background-color: #f0f8ff;}#sk-container-id-1 div.sk-toggleable__content pre {margin: 0.2em;color: black;border-radius: 0.25em;background-color: #f0f8ff;}#sk-container-id-1 input.sk-toggleable__control:checked~div.sk-toggleable__content {max-height: 200px;max-width: 100%;overflow: auto;}#sk-container-id-1 input.sk-toggleable__control:checked~label.sk-toggleable__label-arrow:before {content: \"▾\";}#sk-container-id-1 div.sk-estimator input.sk-toggleable__control:checked~label.sk-toggleable__label {background-color: #d4ebff;}#sk-container-id-1 div.sk-label input.sk-toggleable__control:checked~label.sk-toggleable__label {background-color: #d4ebff;}#sk-container-id-1 input.sk-hidden--visually {border: 0;clip: rect(1px 1px 1px 1px);clip: rect(1px, 1px, 1px, 1px);height: 1px;margin: -1px;overflow: hidden;padding: 0;position: absolute;width: 1px;}#sk-container-id-1 div.sk-estimator {font-family: monospace;background-color: #f0f8ff;border: 1px dotted black;border-radius: 0.25em;box-sizing: border-box;margin-bottom: 0.5em;}#sk-container-id-1 div.sk-estimator:hover {background-color: #d4ebff;}#sk-container-id-1 div.sk-parallel-item::after {content: \"\";width: 100%;border-bottom: 1px solid gray;flex-grow: 1;}#sk-container-id-1 div.sk-label:hover label.sk-toggleable__label {background-color: #d4ebff;}#sk-container-id-1 div.sk-serial::before {content: \"\";position: absolute;border-left: 1px solid gray;box-sizing: border-box;top: 0;bottom: 0;left: 50%;z-index: 0;}#sk-container-id-1 div.sk-serial {display: flex;flex-direction: column;align-items: center;background-color: white;padding-right: 0.2em;padding-left: 0.2em;position: relative;}#sk-container-id-1 div.sk-item {position: relative;z-index: 1;}#sk-container-id-1 div.sk-parallel {display: flex;align-items: stretch;justify-content: center;background-color: white;position: relative;}#sk-container-id-1 div.sk-item::before, #sk-container-id-1 div.sk-parallel-item::before {content: \"\";position: absolute;border-left: 1px solid gray;box-sizing: border-box;top: 0;bottom: 0;left: 50%;z-index: -1;}#sk-container-id-1 div.sk-parallel-item {display: flex;flex-direction: column;z-index: 1;position: relative;background-color: white;}#sk-container-id-1 div.sk-parallel-item:first-child::after {align-self: flex-end;width: 50%;}#sk-container-id-1 div.sk-parallel-item:last-child::after {align-self: flex-start;width: 50%;}#sk-container-id-1 div.sk-parallel-item:only-child::after {width: 0;}#sk-container-id-1 div.sk-dashed-wrapped {border: 1px dashed gray;margin: 0 0.4em 0.5em 0.4em;box-sizing: border-box;padding-bottom: 0.4em;background-color: white;}#sk-container-id-1 div.sk-label label {font-family: monospace;font-weight: bold;display: inline-block;line-height: 1.2em;}#sk-container-id-1 div.sk-label-container {text-align: center;}#sk-container-id-1 div.sk-container {/* jupyter's `normalize.less` sets `[hidden] { display: none; }` but bootstrap.min.css set `[hidden] { display: none !important; }` so we also need the `!important` here to be able to override the default hidden behavior on the sphinx rendered scikit-learn.org. See: https://github.com/scikit-learn/scikit-learn/issues/21755 */display: inline-block !important;position: relative;}#sk-container-id-1 div.sk-text-repr-fallback {display: none;}</style><div id=\"sk-container-id-1\" class=\"sk-top-container\"><div class=\"sk-text-repr-fallback\"><pre>DictVectorizer(dtype=&lt;class &#x27;numpy.float32&#x27;&gt;, sparse=False)</pre><b>In a Jupyter environment, please rerun this cell to show the HTML representation or trust the notebook. <br />On GitHub, the HTML representation is unable to render, please try loading this page with nbviewer.org.</b></div><div class=\"sk-container\" hidden><div class=\"sk-item\"><div class=\"sk-estimator sk-toggleable\"><input class=\"sk-toggleable__control sk-hidden--visually\" id=\"sk-estimator-id-1\" type=\"checkbox\" checked><label for=\"sk-estimator-id-1\" class=\"sk-toggleable__label sk-toggleable__label-arrow\">DictVectorizer</label><div class=\"sk-toggleable__content\"><pre>DictVectorizer(dtype=&lt;class &#x27;numpy.float32&#x27;&gt;, sparse=False)</pre></div></div></div></div></div>"
      ],
      "text/plain": [
       "DictVectorizer(dtype=<class 'numpy.float32'>, sparse=False)"
      ]
     },
     "execution_count": 18,
     "metadata": {},
     "output_type": "execute_result"
    }
   ],
   "source": [
    "from sklearn.feature_extraction import DictVectorizer\n",
    "\n",
    "# we only consider top-1k most frequent companies to minimize memory usage\n",
    "top_companies, top_counts = zip(*Counter(data['Company']).most_common(1000))\n",
    "recognized_companies = set(top_companies)\n",
    "data[\"Company\"] = data[\"Company\"].apply(lambda comp: comp if comp in recognized_companies else \"Other\")\n",
    "\n",
    "categorical_vectorizer = DictVectorizer(dtype=np.float32, sparse=False)\n",
    "categorical_vectorizer.fit(data[categorical_columns].apply(dict, axis=1))"
   ]
  },
  {
   "cell_type": "code",
   "execution_count": 19,
   "metadata": {
    "execution": {
     "iopub.execute_input": "2024-10-03T13:04:12.248183Z",
     "iopub.status.busy": "2024-10-03T13:04:12.247816Z",
     "iopub.status.idle": "2024-10-03T13:04:12.324550Z",
     "shell.execute_reply": "2024-10-03T13:04:12.323710Z",
     "shell.execute_reply.started": "2024-10-03T13:04:12.248163Z"
    },
    "tags": []
   },
   "outputs": [
    {
     "name": "stdout",
     "output_type": "stream",
     "text": [
      "Train size =  195814\n",
      "Validation size =  48954\n"
     ]
    }
   ],
   "source": [
    "from sklearn.model_selection import train_test_split\n",
    "\n",
    "data_train, data_val = train_test_split(data, test_size=0.2, random_state=42)\n",
    "data_train.index = range(len(data_train))\n",
    "data_val.index = range(len(data_val))\n",
    "\n",
    "print(\"Train size = \", len(data_train))\n",
    "print(\"Validation size = \", len(data_val))"
   ]
  },
  {
   "cell_type": "code",
   "execution_count": 20,
   "metadata": {
    "execution": {
     "iopub.execute_input": "2024-10-03T13:04:12.325873Z",
     "iopub.status.busy": "2024-10-03T13:04:12.325507Z",
     "iopub.status.idle": "2024-10-03T13:07:24.617007Z",
     "shell.execute_reply": "2024-10-03T13:07:24.616016Z",
     "shell.execute_reply.started": "2024-10-03T13:04:12.325853Z"
    },
    "tags": []
   },
   "outputs": [],
   "source": [
    "import torch\n",
    "import torch.nn as nn\n",
    "import torch.nn.functional as F\n",
    "\n",
    "\n",
    "device = 'cuda' if torch.cuda.is_available() else 'cpu'\n",
    "\n",
    "\n",
    "def to_tensors(batch, device):\n",
    "    batch_tensors = dict()\n",
    "    for key, arr in batch.items():\n",
    "        if key in [\"FullDescription\", \"Title\"]:\n",
    "            batch_tensors[key] = torch.tensor(arr, device=device, dtype=torch.int64)\n",
    "        else:\n",
    "            batch_tensors[key] = torch.tensor(arr, device=device)\n",
    "    return batch_tensors\n",
    "\n",
    "\n",
    "def make_batch(data, max_len=None, word_dropout=0.1, device=device):\n",
    "    \"\"\"\n",
    "    Creates a keras-friendly dict from the batch data.\n",
    "    :param word_dropout: replaces token index with UNK_IX with this probability\n",
    "    :returns: a dict with {'title' : int64[batch, title_max_len]\n",
    "    \"\"\"\n",
    "    batch = {}\n",
    "    batch[\"Title\"] = as_matrix(data[\"Title\"].values, max_len)\n",
    "    batch[\"FullDescription\"] = as_matrix(data[\"FullDescription\"].values, max_len)\n",
    "    batch['Categorical'] = categorical_vectorizer.transform(data[categorical_columns].apply(dict, axis=1))\n",
    "    \n",
    "    if word_dropout != 0:\n",
    "        batch[\"FullDescription\"] = apply_word_dropout(batch[\"FullDescription\"], 1. - word_dropout)\n",
    "    \n",
    "    if TARGET_COLUMN in data.columns:\n",
    "        batch[TARGET_COLUMN] = data[TARGET_COLUMN].values\n",
    "    \n",
    "    return to_tensors(batch, device)\n",
    "\n",
    "def apply_word_dropout(matrix, keep_prop, replace_with=UNK_IX, pad_ix=PAD_IX,):\n",
    "    dropout_mask = np.random.choice(2, np.shape(matrix), p=[keep_prop, 1 - keep_prop])\n",
    "    dropout_mask &= matrix != pad_ix\n",
    "    return np.choose(dropout_mask, [matrix, np.full_like(matrix, replace_with)])"
   ]
  },
  {
   "cell_type": "code",
   "execution_count": 21,
   "metadata": {
    "execution": {
     "iopub.execute_input": "2024-10-03T13:07:24.618885Z",
     "iopub.status.busy": "2024-10-03T13:07:24.618249Z",
     "iopub.status.idle": "2024-10-03T13:07:25.297484Z",
     "shell.execute_reply": "2024-10-03T13:07:25.296634Z",
     "shell.execute_reply.started": "2024-10-03T13:07:24.618862Z"
    },
    "tags": []
   },
   "outputs": [
    {
     "data": {
      "text/plain": [
       "{'Title': tensor([[27645, 29893, 33674,     1,     1,     1,     1,     1,     1,     1],\n",
       "         [29239,   197, 19175, 20042, 15554, 23162,  4051,     1,     1,     1],\n",
       "         [10609, 30412, 17746,    33,  8705, 29157,    65,     1,     1,     1]],\n",
       "        device='cuda:0'),\n",
       " 'FullDescription': tensor([[27645, 29893, 33674, 32939,   982,     0,     0, 33674, 16451, 32939],\n",
       "         [29239,   197, 19175,     0, 15554, 23162,     0, 25511,   907,    82],\n",
       "         [30746, 21956, 20601,  6409,     0,  8165, 27493,   982,     0, 17746]],\n",
       "        device='cuda:0'),\n",
       " 'Categorical': tensor([[0., 0., 0.,  ..., 0., 0., 0.],\n",
       "         [0., 0., 0.,  ..., 0., 0., 0.],\n",
       "         [0., 0., 0.,  ..., 0., 0., 0.]], device='cuda:0'),\n",
       " 'Log1pSalary': tensor([ 9.7115, 10.4631, 10.7144], device='cuda:0')}"
      ]
     },
     "execution_count": 21,
     "metadata": {},
     "output_type": "execute_result"
    }
   ],
   "source": [
    "make_batch(data_train[:3], max_len=10)"
   ]
  },
  {
   "cell_type": "code",
   "execution_count": 22,
   "metadata": {
    "execution": {
     "iopub.execute_input": "2024-10-03T13:07:25.298575Z",
     "iopub.status.busy": "2024-10-03T13:07:25.298170Z",
     "iopub.status.idle": "2024-10-03T13:07:25.313497Z",
     "shell.execute_reply": "2024-10-03T13:07:25.312800Z",
     "shell.execute_reply.started": "2024-10-03T13:07:25.298540Z"
    },
    "tags": []
   },
   "outputs": [],
   "source": [
    "import torch\n",
    "import torch.nn as nn\n",
    "import torch.nn.functional as F"
   ]
  },
  {
   "cell_type": "markdown",
   "metadata": {},
   "source": [
    "## Блоки и пулинги\n",
    "\n",
    "Реализовано из ~~говна и палок~~ экоматериалов, приличная доля позаимствована из дз по глубинному зрению и затем заботливо адаптирована под 1d формат. Конфиги указанные в параметрах по умолчанию использовались для обучения"
   ]
  },
  {
   "cell_type": "code",
   "execution_count": 55,
   "metadata": {
    "execution": {
     "iopub.execute_input": "2024-10-03T15:10:52.201247Z",
     "iopub.status.busy": "2024-10-03T15:10:52.200768Z",
     "iopub.status.idle": "2024-10-03T15:10:52.228031Z",
     "shell.execute_reply": "2024-10-03T15:10:52.227223Z",
     "shell.execute_reply.started": "2024-10-03T15:10:52.201226Z"
    },
    "tags": []
   },
   "outputs": [],
   "source": [
    "def create_stem(out_channels, in_channels=100):\n",
    "    return nn.Sequential(\n",
    "        nn.Conv1d(in_channels=in_channels, out_channels=out_channels, kernel_size=2, stride=2, padding=0), # YOUR CODE; conv 2x2, stride 2, padding 0\n",
    "        nn.BatchNorm1d(out_channels)\n",
    "    )\n",
    "\n",
    "def create_downscale_block(in_channels, out_channels):\n",
    "    return nn.Sequential(\n",
    "        nn.BatchNorm1d(in_channels),\n",
    "        nn.Conv1d(in_channels=in_channels, out_channels=out_channels, kernel_size=2, stride=2, padding=0)  # YOUR CODE: conv 2x2, stride 2, padding 0\n",
    "    )\n",
    "\n",
    "\n",
    "class ConvNextLikeBlock(nn.Module):\n",
    "    def __init__(self, dim, drop_rate=0.1):\n",
    "        super().__init__()\n",
    "        \n",
    "        self.depthwise_conv = nn.Conv1d(in_channels=dim, out_channels=dim, kernel_size=5, padding=2, groups=dim)  # depthwise conv 5x5, padding 2, dim->dim\n",
    "        \n",
    "        self.norm = nn.BatchNorm1d(dim)\n",
    "        \n",
    "        self.pointwise_conv1 = nn.Conv1d(in_channels=dim, out_channels=dim*4, kernel_size=1)  # 1x1 conv, dim -> dim*4  YOUR CODE\n",
    "\n",
    "        self.activation = nn.GELU()\n",
    "        \n",
    "        self.pointwise_conv2 = nn.Conv1d(in_channels=dim*4, out_channels=dim, kernel_size=1)  # 1x1 conv, 4*dim -> dim YOUR CODE\n",
    "\n",
    "        self.dropout = nn.Dropout(drop_rate)\n",
    "\n",
    "    def forward(self, x):\n",
    "        input = x\n",
    "        x = self.depthwise_conv(x)\n",
    "        x = self.norm(x)\n",
    "        x = self.pointwise_conv1(x)\n",
    "        x = self.activation(x)\n",
    "        x = self.pointwise_conv2(x)\n",
    "\n",
    "        x = input + self.dropout(x)\n",
    "        return x\n",
    "    \n",
    "    \n",
    "def create_convnext_like_network(config=[[256] * 2, [512] * 2], use_bn=True, drop_rate=0.1):\n",
    "    \"\"\"\n",
    "    Creates ConvNeXt like network according to config\n",
    "    \"\"\"\n",
    "    model = nn.Sequential()\n",
    "\n",
    "    default_config = [[64] * 2, [128] * 2, [256] * 2, [1024] * 2]\n",
    "\n",
    "    config = config or default_config\n",
    "\n",
    "    stem_out_channels = config[0][0]\n",
    "    model.add_module('stem', create_stem(stem_out_channels))\n",
    "\n",
    "    layer_index = 0\n",
    "    for block_index in range(len(config)):\n",
    "        for layer_index_in_block in range(len(config[block_index])):\n",
    "            out_channels = config[block_index][layer_index_in_block]\n",
    "\n",
    "            model.add_module(f\"{block_index}_{layer_index_in_block}\", ConvNextLikeBlock(dim=out_channels, drop_rate=drop_rate))\n",
    "            layer_index += 1\n",
    "            \n",
    "        if block_index != len(config) - 1:\n",
    "            downscale_in_channels = out_channels\n",
    "            downscale_out_channels = config[block_index+1][0]\n",
    "            model.add_module(f'downscale_{block_index}', create_downscale_block(downscale_in_channels, downscale_out_channels))\n",
    "            \n",
    "    return model"
   ]
  },
  {
   "cell_type": "code",
   "execution_count": 43,
   "metadata": {
    "execution": {
     "iopub.execute_input": "2024-10-03T14:01:46.637265Z",
     "iopub.status.busy": "2024-10-03T14:01:46.636322Z",
     "iopub.status.idle": "2024-10-03T14:01:46.667681Z",
     "shell.execute_reply": "2024-10-03T14:01:46.667004Z",
     "shell.execute_reply.started": "2024-10-03T14:01:46.637241Z"
    },
    "tags": []
   },
   "outputs": [],
   "source": [
    "class ResNetLikeBlock(nn.Module):\n",
    "\n",
    "    def __init__(self, in_channels, out_channels, kernel_size=3, stride=1, padding='same'):\n",
    "        super().__init__()\n",
    "        # YOUR CODE: define conv1, bn1, relu1, conv2, bn2 for residual branch computation \n",
    "        self.conv1 = nn.Conv1d(in_channels, in_channels, kernel_size, stride, padding)\n",
    "        self.bn1 = nn.BatchNorm1d(in_channels)\n",
    "        self.relu1 = nn.ReLU()\n",
    "        \n",
    "        self.conv2 = nn.Conv1d(in_channels, out_channels, kernel_size, stride, padding)\n",
    "        self.bn2 = nn.BatchNorm1d(out_channels)\n",
    "        \n",
    "        self.relu2 = nn.ReLU()\n",
    "        \n",
    "        self.conv3 = None  # conv for main branch adopatation\n",
    "        if in_channels != out_channels or stride != 1:\n",
    "            self.conv3 = nn.Conv1d(in_channels, out_channels, 1, stride, padding=0)\n",
    "        \n",
    "    def forward(self, x):\n",
    "\n",
    "        residual = self.conv1(x)\n",
    "        residual = self.bn1(residual)\n",
    "        residual = self.relu1(residual)\n",
    "        \n",
    "        residual = self.conv2(residual)\n",
    "        residual = self.bn2(residual)     \n",
    "        \n",
    "        if self.conv3 is not None:\n",
    "            x = self.conv3(x)\n",
    "            \n",
    "        result = self.relu2(residual + x)\n",
    "        return result\n",
    "\n",
    "def create_resnet_like_network(blocks_config=[[128] * 2, [1024] * 2]):\n",
    "    model = nn.Sequential()\n",
    "    \n",
    "    config = [[128] * 3, [256] * 3, [512] * 3, [1024] * 3] if blocks_config is None else blocks_config\n",
    "    \n",
    "    model.add_module('init_conv', nn.Conv1d(100, 128, kernel_size=7, stride=2, padding=3))\n",
    "    model.add_module('init_bn', nn.BatchNorm1d(128))\n",
    "\n",
    "    in_channels = 128\n",
    "    for i in range(len(config)):\n",
    "        for j in range(len(config[i])):\n",
    "            out_channels = config[i][j]\n",
    "            stride = 2 if i != 0 and j == 0 else 1\n",
    "            # YOUR CODE: add ResNetBlock2 module to model\n",
    "            model.add_module(f'resblock_{in_channels}_{out_channels}', ResNetLikeBlock(in_channels, out_channels)) \n",
    "            in_channels = out_channels\n",
    "\n",
    "    return model"
   ]
  },
  {
   "cell_type": "markdown",
   "metadata": {},
   "source": [
    "Этот блок не успел поюзать"
   ]
  },
  {
   "cell_type": "code",
   "execution_count": 24,
   "metadata": {
    "execution": {
     "iopub.execute_input": "2024-10-03T11:30:30.066346Z",
     "iopub.status.busy": "2024-10-03T11:30:30.065094Z",
     "iopub.status.idle": "2024-10-03T11:30:30.097035Z",
     "shell.execute_reply": "2024-10-03T11:30:30.096168Z",
     "shell.execute_reply.started": "2024-10-03T11:30:30.066303Z"
    },
    "tags": []
   },
   "outputs": [],
   "source": [
    "class ResNeXtLikeBlock(nn.Module):\n",
    "    def __init__(self, dim, drop_rate=0.1):\n",
    "        super().__init__()\n",
    "        \n",
    "        self.inp_conv = nn.Conv1d(in_channels=dim, out_channels=dim, kernel_size=1)\n",
    "        self.inp_bn = nn.BatchNorm1d(dim)\n",
    "        \n",
    "        # Define the first convolution layer\n",
    "        self.conv1 = nn.Conv1d(in_channels=dim, out_channels=dim*4, kernel_size=1, groups=dim / 4)\n",
    "        self.bn1 = nn.BatchNorm1d(dim*4)\n",
    "        \n",
    "        self.act1 = nn.GELU()\n",
    "        \n",
    "        # Define the second convolution layer\n",
    "        self.conv2 = nn.Conv1d(in_channels=dim*4, out_channels=dim*4, kernel_size=5, padding='same')\n",
    "        self.bn2 = nn.BatchNorm1d(dim*4)\n",
    "\n",
    "        self.act2 = nn.GELU()\n",
    "\n",
    "        # Define the shortcut connection\n",
    "        self.conv3 = nn.Conv1d(in_channels=dim*4, out_channels=dim, kernel_size=1)\n",
    "        self.bn3 = nn.BatchNorm1d(dim)\n",
    "        \n",
    "        self.dropout = nn.Dropout(drop_rate)\n",
    "        \n",
    "        self.act_fin = nn.GELU()\n",
    "\n",
    "    def forward(self, x):\n",
    "        inp = x\n",
    "        \n",
    "        x = self.act1(self.bn1(self.conv1(x)))\n",
    "        x = self.act2(self.bn2(self.conv2(x)))\n",
    "        x = self.bn3(self.conv3(x))\n",
    "\n",
    "        return self.act_fin(self.inp_bn(self.inp_conv(inp)) + self.dropout(x))\n"
   ]
  },
  {
   "cell_type": "code",
   "execution_count": 25,
   "metadata": {
    "execution": {
     "iopub.execute_input": "2024-10-03T13:07:25.349480Z",
     "iopub.status.busy": "2024-10-03T13:07:25.349063Z",
     "iopub.status.idle": "2024-10-03T13:07:25.362434Z",
     "shell.execute_reply": "2024-10-03T13:07:25.361729Z",
     "shell.execute_reply.started": "2024-10-03T13:07:25.349451Z"
    },
    "tags": []
   },
   "outputs": [],
   "source": [
    "class GlobalAveragePool(nn.Module):\n",
    "    def __init__(self):\n",
    "        super().__init__()\n",
    "        \n",
    "    def forward(self, x):\n",
    "        return torch.mean(x, dim=-1)\n",
    "\n",
    "class GlobalMaxPool(nn.Module):\n",
    "    def __init__(self):\n",
    "        super().__init__()\n",
    "        \n",
    "    def forward(self, x):\n",
    "        return x.max(dim=-1).values\n",
    "    \n",
    "class GlobalSoftmaxPool(nn.Module):\n",
    "    def __init__(self):\n",
    "        super().__init__()\n",
    "        self.sm = nn.Softmax(dim=-1)\n",
    "\n",
    "    def forward(self, x):\n",
    "        return torch.mean(x * self.sm(x), dim=-1)"
   ]
  },
  {
   "cell_type": "code",
   "execution_count": 26,
   "metadata": {
    "execution": {
     "iopub.execute_input": "2024-10-03T13:07:25.364124Z",
     "iopub.status.busy": "2024-10-03T13:07:25.363320Z",
     "iopub.status.idle": "2024-10-03T13:07:25.379779Z",
     "shell.execute_reply": "2024-10-03T13:07:25.379078Z",
     "shell.execute_reply.started": "2024-10-03T13:07:25.364102Z"
    },
    "tags": []
   },
   "outputs": [],
   "source": [
    "class TextEncoder(nn.Module):\n",
    "    def __init__(self, block_type='resnet', pooling_type='average', initial_embedding_weights=embeddings_tensor_glove, hid_size=100):\n",
    "        super().__init__()\n",
    "        hid_size = initial_embedding_weights.shape[1]\n",
    "\n",
    "        self.emb = nn.Embedding.from_pretrained(initial_embedding_weights)\n",
    "\n",
    "        self.main_part = None\n",
    "        if block_type == 'resnet':\n",
    "            self.main_part = create_resnet_like_network()\n",
    "        elif block_type == 'convnext':\n",
    "            self.main_part = create_convnext_like_network()\n",
    "        else:\n",
    "            raise ValueError\n",
    "            \n",
    "                \n",
    "        self.pool = None\n",
    "        \n",
    "        if pooling_type == 'average':\n",
    "            self.pool = GlobalAveragePool()\n",
    "        elif pooling_type == 'softmax':\n",
    "            self.pool = GlobalSoftmaxPool()\n",
    "        elif pooling_type == 'max':\n",
    "            self.pool = GlobalMaxPool()\n",
    "        else:\n",
    "            raise ValueError\n",
    "            \n",
    "        \n",
    "    def forward(self, x):\n",
    "        x = self.emb(x)\n",
    "        x.swapaxes_(1, 2)\n",
    "        x = self.main_part(x)\n",
    "        x = self.pool(x)\n",
    "        return x\n",
    "\n",
    "    \n",
    "    "
   ]
  },
  {
   "cell_type": "code",
   "execution_count": 27,
   "metadata": {
    "execution": {
     "iopub.execute_input": "2024-10-03T13:07:25.382586Z",
     "iopub.status.busy": "2024-10-03T13:07:25.381994Z",
     "iopub.status.idle": "2024-10-03T13:07:25.396992Z",
     "shell.execute_reply": "2024-10-03T13:07:25.396272Z",
     "shell.execute_reply.started": "2024-10-03T13:07:25.382566Z"
    },
    "tags": []
   },
   "outputs": [],
   "source": [
    "class CategoricalEncoder(nn.Module):\n",
    "    def __init__(self, features_num, last_size=256):\n",
    "        super().__init__()\n",
    "        self.mlp_block = nn.Sequential()\n",
    "        self.mlp_block.add_module('linear_1', nn.Linear(features_num, 1024))\n",
    "        self.mlp_block.add_module('relu_1', nn.ReLU())\n",
    "        self.mlp_block.add_module('linear_2', nn.Linear(1024, 512))\n",
    "        self.mlp_block.add_module('relu_2', nn.ReLU())\n",
    "        self.mlp_block.add_module('linear_3', nn.Linear(512, last_size))\n",
    "        self.mlp_block.add_module('relu_3', nn.ReLU())\n",
    "        \n",
    "    def forward(self, x):\n",
    "        return self.mlp_block(x)"
   ]
  },
  {
   "cell_type": "code",
   "execution_count": 61,
   "metadata": {
    "execution": {
     "iopub.execute_input": "2024-10-03T16:25:52.379392Z",
     "iopub.status.busy": "2024-10-03T16:25:52.378699Z",
     "iopub.status.idle": "2024-10-03T16:25:52.401124Z",
     "shell.execute_reply": "2024-10-03T16:25:52.400394Z",
     "shell.execute_reply.started": "2024-10-03T16:25:52.379370Z"
    },
    "tags": []
   },
   "outputs": [],
   "source": [
    "class SalaryPredictor(nn.Module):\n",
    "    def __init__(self, block_type='resnet', pooling_type='average', n_tokens=len(tokens), n_cat_features=len(categorical_vectorizer.vocabulary_), hid_size=64, last_size_cat=256):\n",
    "        super().__init__()\n",
    "        #  YOUR CODE HERE\n",
    "        self.title_enc = TextEncoder(block_type, pooling_type)\n",
    "        self.full_desc_enc = TextEncoder(block_type, pooling_type)\n",
    "        self.cat_enc = CategoricalEncoder(n_cat_features)\n",
    "        self.mlp_block = nn.Sequential(\n",
    "            nn.Linear(1024 * 2 + 256, 1024),\n",
    "            nn.ReLU(),\n",
    "            nn.BatchNorm1d(1024),\n",
    "            nn.Linear(1024, 1),\n",
    "        )\n",
    "\n",
    "        \n",
    "    def forward(self, batch):\n",
    "        # YOUR CODE HERE\n",
    "        title_processed = self.title_enc(batch['Title'])\n",
    "        full_desc_processed = self.full_desc_enc(batch['FullDescription'])\n",
    "        cat_features_processed = self.cat_enc(batch['Categorical'])\n",
    "        concated = torch.cat((title_processed, full_desc_processed, cat_features_processed), 1)\n",
    "        return self.mlp_block(concated)\n",
    "\n",
    "        \n",
    "        "
   ]
  },
  {
   "cell_type": "markdown",
   "metadata": {},
   "source": [
    "## Утилиты для обучения"
   ]
  },
  {
   "cell_type": "code",
   "execution_count": 29,
   "metadata": {
    "execution": {
     "iopub.execute_input": "2024-10-03T13:07:25.415790Z",
     "iopub.status.busy": "2024-10-03T13:07:25.415426Z",
     "iopub.status.idle": "2024-10-03T13:07:25.703952Z",
     "shell.execute_reply": "2024-10-03T13:07:25.703152Z",
     "shell.execute_reply.started": "2024-10-03T13:07:25.415762Z"
    },
    "tags": []
   },
   "outputs": [],
   "source": [
    "model = SalaryPredictor()"
   ]
  },
  {
   "cell_type": "code",
   "execution_count": 30,
   "metadata": {
    "execution": {
     "iopub.execute_input": "2024-10-03T13:07:25.705213Z",
     "iopub.status.busy": "2024-10-03T13:07:25.704868Z",
     "iopub.status.idle": "2024-10-03T13:07:27.790259Z",
     "shell.execute_reply": "2024-10-03T13:07:27.789524Z",
     "shell.execute_reply.started": "2024-10-03T13:07:25.705192Z"
    },
    "tags": []
   },
   "outputs": [
    {
     "name": "stdout",
     "output_type": "stream",
     "text": [
      "torch.Size([100])\n"
     ]
    }
   ],
   "source": [
    "model = SalaryPredictor().to(device)\n",
    "batch = make_batch(data_train[:100], device=device)\n",
    "criterion = nn.MSELoss()\n",
    "\n",
    "dummy_pred = model(batch)\n",
    "dummy_loss = criterion(dummy_pred.squeeze_(1), batch[TARGET_COLUMN])\n",
    "print(dummy_pred.shape)\n",
    "assert dummy_pred.shape == torch.Size([100])\n",
    "assert len(torch.unique(dummy_pred)) > 20, \"model returns suspiciously few unique outputs. Check your initialization\"\n",
    "assert dummy_loss.ndim == 0 and 0. <= dummy_loss <= 250., \"make sure you minimize MSE\""
   ]
  },
  {
   "cell_type": "code",
   "execution_count": 31,
   "metadata": {
    "execution": {
     "iopub.execute_input": "2024-10-03T13:07:27.792160Z",
     "iopub.status.busy": "2024-10-03T13:07:27.791193Z",
     "iopub.status.idle": "2024-10-03T13:07:27.802186Z",
     "shell.execute_reply": "2024-10-03T13:07:27.801388Z",
     "shell.execute_reply.started": "2024-10-03T13:07:27.792138Z"
    },
    "tags": []
   },
   "outputs": [],
   "source": [
    "def iterate_minibatches(data, batch_size=256, shuffle=True, cycle=False, device=device, **kwargs):\n",
    "    \"\"\" iterates minibatches of data in random order \"\"\"\n",
    "    while True:\n",
    "        indices = np.arange(len(data))\n",
    "        if shuffle:\n",
    "            indices = np.random.permutation(indices)\n",
    "\n",
    "        for start in range(0, len(indices), batch_size):\n",
    "            batch = make_batch(data.iloc[indices[start : start + batch_size]], device=device, **kwargs)\n",
    "            yield batch\n",
    "        \n",
    "        if not cycle: break"
   ]
  },
  {
   "cell_type": "code",
   "execution_count": 32,
   "metadata": {
    "execution": {
     "iopub.execute_input": "2024-10-03T13:07:27.804079Z",
     "iopub.status.busy": "2024-10-03T13:07:27.803233Z",
     "iopub.status.idle": "2024-10-03T13:07:27.817687Z",
     "shell.execute_reply": "2024-10-03T13:07:27.816923Z",
     "shell.execute_reply.started": "2024-10-03T13:07:27.804055Z"
    },
    "tags": []
   },
   "outputs": [],
   "source": [
    "from tqdm.auto import tqdm\n",
    "\n",
    "BATCH_SIZE = 32\n",
    "EPOCHS = 20"
   ]
  },
  {
   "cell_type": "code",
   "execution_count": 33,
   "metadata": {
    "execution": {
     "iopub.execute_input": "2024-10-03T13:07:27.819096Z",
     "iopub.status.busy": "2024-10-03T13:07:27.818620Z",
     "iopub.status.idle": "2024-10-03T13:07:27.837173Z",
     "shell.execute_reply": "2024-10-03T13:07:27.836272Z",
     "shell.execute_reply.started": "2024-10-03T13:07:27.819060Z"
    },
    "tags": []
   },
   "outputs": [],
   "source": [
    "def print_metrics(model, val_metrics, data, batch_size=BATCH_SIZE, name=\"\", device=torch.device('cpu'), **kw):\n",
    "    squared_error = abs_error = num_samples = 0.0\n",
    "    model.eval()\n",
    "    with torch.no_grad():\n",
    "        for batch in iterate_minibatches(data, batch_size=batch_size, shuffle=False, device=device, **kw):\n",
    "            batch_pred = model(batch)\n",
    "            batch_pred.squeeze_(1)\n",
    "            squared_error += torch.sum(torch.square(batch_pred - batch[TARGET_COLUMN]))\n",
    "            abs_error += torch.sum(torch.abs(batch_pred - batch[TARGET_COLUMN]))\n",
    "            num_samples += len(batch_pred)\n",
    "    mse = squared_error.detach().cpu().numpy() / num_samples\n",
    "    mae = abs_error.detach().cpu().numpy() / num_samples\n",
    "    val_metrics['mse_loss'].append(mse)\n",
    "    val_metrics['mae_loss'].append(mae)\n",
    "    print(\"%s results:\" % (name or \"\"))\n",
    "    print(\"Mean square error: %.5f\" % mse)\n",
    "    print(\"Mean absolute error: %.5f\" % mae)\n",
    "    return mse, mae\n"
   ]
  },
  {
   "cell_type": "code",
   "execution_count": 57,
   "metadata": {
    "execution": {
     "iopub.execute_input": "2024-10-03T15:11:40.310063Z",
     "iopub.status.busy": "2024-10-03T15:11:40.309573Z",
     "iopub.status.idle": "2024-10-03T15:11:40.333187Z",
     "shell.execute_reply": "2024-10-03T15:11:40.332319Z",
     "shell.execute_reply.started": "2024-10-03T15:11:40.310042Z"
    },
    "tags": []
   },
   "outputs": [],
   "source": [
    "from collections import defaultdict\n",
    "\n",
    "def model_train(model):\n",
    "    criterion = nn.MSELoss(reduction='sum')\n",
    "    optimizer = torch.optim.Adam(model.parameters(), lr=1e-4)\n",
    "    sched = torch.optim.lr_scheduler.CosineAnnealingLR(optimizer, T_max=20, eta_min=0, last_epoch=-1, verbose=False)\n",
    "    val_metrics = defaultdict(list)\n",
    "    for epoch in range(EPOCHS):\n",
    "        print(f\"epoch: {epoch}\")\n",
    "        model.train()\n",
    "        for i, batch in tqdm(enumerate(\n",
    "                iterate_minibatches(data_train, batch_size=BATCH_SIZE, device=device)),\n",
    "                total=len(data_train) // BATCH_SIZE\n",
    "            ):\n",
    "            pred = model(batch)\n",
    "            pred.squeeze_(1)\n",
    "\n",
    "            loss = criterion(pred, batch[TARGET_COLUMN])\n",
    "            optimizer.zero_grad()\n",
    "            loss.backward()\n",
    "            optimizer.step()\n",
    "        sched.step()\n",
    "\n",
    "        print_metrics(model, val_metrics, data_val, device=device)\n",
    "    return val_metrics"
   ]
  },
  {
   "cell_type": "markdown",
   "metadata": {
    "jp-MarkdownHeadingCollapsed": true,
    "tags": []
   },
   "source": [
    "## Непосредственно, обучение"
   ]
  },
  {
   "cell_type": "code",
   "execution_count": 47,
   "metadata": {
    "execution": {
     "iopub.execute_input": "2024-10-03T14:09:58.849728Z",
     "iopub.status.busy": "2024-10-03T14:09:58.849034Z",
     "iopub.status.idle": "2024-10-03T14:09:58.863275Z",
     "shell.execute_reply": "2024-10-03T14:09:58.862608Z",
     "shell.execute_reply.started": "2024-10-03T14:09:58.849706Z"
    },
    "tags": []
   },
   "outputs": [],
   "source": [
    "validation_scores = {}"
   ]
  },
  {
   "cell_type": "code",
   "execution_count": 48,
   "metadata": {
    "execution": {
     "iopub.execute_input": "2024-10-03T14:09:59.228174Z",
     "iopub.status.busy": "2024-10-03T14:09:59.227630Z",
     "iopub.status.idle": "2024-10-03T14:43:05.043190Z",
     "shell.execute_reply": "2024-10-03T14:43:05.042256Z",
     "shell.execute_reply.started": "2024-10-03T14:09:59.228154Z"
    },
    "tags": []
   },
   "outputs": [
    {
     "name": "stdout",
     "output_type": "stream",
     "text": [
      "epoch: 0\n"
     ]
    },
    {
     "name": "stderr",
     "output_type": "stream",
     "text": [
      "6120it [01:27, 69.66it/s]                          \n"
     ]
    },
    {
     "name": "stdout",
     "output_type": "stream",
     "text": [
      " results:\n",
      "Mean square error: 0.09878\n",
      "Mean absolute error: 0.23742\n",
      "epoch: 1\n"
     ]
    },
    {
     "name": "stderr",
     "output_type": "stream",
     "text": [
      "6120it [01:27, 69.80it/s]                          \n"
     ]
    },
    {
     "name": "stdout",
     "output_type": "stream",
     "text": [
      " results:\n",
      "Mean square error: 0.09146\n",
      "Mean absolute error: 0.22531\n",
      "epoch: 2\n"
     ]
    },
    {
     "name": "stderr",
     "output_type": "stream",
     "text": [
      "6120it [01:28, 69.30it/s]                          \n"
     ]
    },
    {
     "name": "stdout",
     "output_type": "stream",
     "text": [
      " results:\n",
      "Mean square error: 0.09020\n",
      "Mean absolute error: 0.22640\n",
      "epoch: 3\n"
     ]
    },
    {
     "name": "stderr",
     "output_type": "stream",
     "text": [
      "6120it [01:28, 69.47it/s]                          \n"
     ]
    },
    {
     "name": "stdout",
     "output_type": "stream",
     "text": [
      " results:\n",
      "Mean square error: 0.08009\n",
      "Mean absolute error: 0.21205\n",
      "epoch: 4\n"
     ]
    },
    {
     "name": "stderr",
     "output_type": "stream",
     "text": [
      "6120it [01:28, 69.53it/s]                          \n"
     ]
    },
    {
     "name": "stdout",
     "output_type": "stream",
     "text": [
      " results:\n",
      "Mean square error: 0.07317\n",
      "Mean absolute error: 0.20143\n",
      "epoch: 5\n"
     ]
    },
    {
     "name": "stderr",
     "output_type": "stream",
     "text": [
      "6120it [01:30, 67.53it/s]                          \n"
     ]
    },
    {
     "name": "stdout",
     "output_type": "stream",
     "text": [
      " results:\n",
      "Mean square error: 0.07529\n",
      "Mean absolute error: 0.20530\n",
      "epoch: 6\n"
     ]
    },
    {
     "name": "stderr",
     "output_type": "stream",
     "text": [
      "6120it [01:27, 70.02it/s]                          \n"
     ]
    },
    {
     "name": "stdout",
     "output_type": "stream",
     "text": [
      " results:\n",
      "Mean square error: 0.08731\n",
      "Mean absolute error: 0.22562\n",
      "epoch: 7\n"
     ]
    },
    {
     "name": "stderr",
     "output_type": "stream",
     "text": [
      "6120it [01:27, 69.63it/s]                          \n"
     ]
    },
    {
     "name": "stdout",
     "output_type": "stream",
     "text": [
      " results:\n",
      "Mean square error: 0.07176\n",
      "Mean absolute error: 0.19835\n",
      "epoch: 8\n"
     ]
    },
    {
     "name": "stderr",
     "output_type": "stream",
     "text": [
      "6120it [01:27, 70.09it/s]                          \n"
     ]
    },
    {
     "name": "stdout",
     "output_type": "stream",
     "text": [
      " results:\n",
      "Mean square error: 0.07596\n",
      "Mean absolute error: 0.20641\n",
      "epoch: 9\n"
     ]
    },
    {
     "name": "stderr",
     "output_type": "stream",
     "text": [
      "6120it [01:27, 69.76it/s]                          \n"
     ]
    },
    {
     "name": "stdout",
     "output_type": "stream",
     "text": [
      " results:\n",
      "Mean square error: 0.06893\n",
      "Mean absolute error: 0.19348\n",
      "epoch: 10\n"
     ]
    },
    {
     "name": "stderr",
     "output_type": "stream",
     "text": [
      "6120it [01:28, 69.36it/s]                          \n"
     ]
    },
    {
     "name": "stdout",
     "output_type": "stream",
     "text": [
      " results:\n",
      "Mean square error: 0.06711\n",
      "Mean absolute error: 0.19097\n",
      "epoch: 11\n"
     ]
    },
    {
     "name": "stderr",
     "output_type": "stream",
     "text": [
      "6120it [01:27, 69.97it/s]                          \n"
     ]
    },
    {
     "name": "stdout",
     "output_type": "stream",
     "text": [
      " results:\n",
      "Mean square error: 0.06789\n",
      "Mean absolute error: 0.19348\n",
      "epoch: 12\n"
     ]
    },
    {
     "name": "stderr",
     "output_type": "stream",
     "text": [
      "6120it [01:27, 69.61it/s]                          \n"
     ]
    },
    {
     "name": "stdout",
     "output_type": "stream",
     "text": [
      " results:\n",
      "Mean square error: 0.06878\n",
      "Mean absolute error: 0.19498\n",
      "epoch: 13\n"
     ]
    },
    {
     "name": "stderr",
     "output_type": "stream",
     "text": [
      "6120it [01:27, 70.10it/s]                          \n"
     ]
    },
    {
     "name": "stdout",
     "output_type": "stream",
     "text": [
      " results:\n",
      "Mean square error: 0.06648\n",
      "Mean absolute error: 0.18919\n",
      "epoch: 14\n"
     ]
    },
    {
     "name": "stderr",
     "output_type": "stream",
     "text": [
      "6120it [01:27, 70.16it/s]                          \n"
     ]
    },
    {
     "name": "stdout",
     "output_type": "stream",
     "text": [
      " results:\n",
      "Mean square error: 0.06581\n",
      "Mean absolute error: 0.18791\n",
      "epoch: 15\n"
     ]
    },
    {
     "name": "stderr",
     "output_type": "stream",
     "text": [
      "6120it [01:27, 69.84it/s]                          \n"
     ]
    },
    {
     "name": "stdout",
     "output_type": "stream",
     "text": [
      " results:\n",
      "Mean square error: 0.06594\n",
      "Mean absolute error: 0.18785\n",
      "epoch: 16\n"
     ]
    },
    {
     "name": "stderr",
     "output_type": "stream",
     "text": [
      "6120it [01:28, 69.42it/s]                          \n"
     ]
    },
    {
     "name": "stdout",
     "output_type": "stream",
     "text": [
      " results:\n",
      "Mean square error: 0.06637\n",
      "Mean absolute error: 0.18831\n",
      "epoch: 17\n"
     ]
    },
    {
     "name": "stderr",
     "output_type": "stream",
     "text": [
      "6120it [01:28, 69.35it/s]                          \n"
     ]
    },
    {
     "name": "stdout",
     "output_type": "stream",
     "text": [
      " results:\n",
      "Mean square error: 0.06602\n",
      "Mean absolute error: 0.18856\n",
      "epoch: 18\n"
     ]
    },
    {
     "name": "stderr",
     "output_type": "stream",
     "text": [
      "6120it [01:28, 68.79it/s]                          \n"
     ]
    },
    {
     "name": "stdout",
     "output_type": "stream",
     "text": [
      " results:\n",
      "Mean square error: 0.06560\n",
      "Mean absolute error: 0.18710\n",
      "epoch: 19\n"
     ]
    },
    {
     "name": "stderr",
     "output_type": "stream",
     "text": [
      "6120it [01:31, 66.93it/s]                          \n"
     ]
    },
    {
     "name": "stdout",
     "output_type": "stream",
     "text": [
      " results:\n",
      "Mean square error: 0.06574\n",
      "Mean absolute error: 0.18745\n"
     ]
    }
   ],
   "source": [
    "# config: [[128] * 2, [1024] * 2]\n",
    "\n",
    "\n",
    "model = SalaryPredictor('resnet', 'average').to(device)\n",
    "val_score = model_train(model)\n",
    "validation_scores['resnet_average'] = val_score"
   ]
  },
  {
   "cell_type": "code",
   "execution_count": 58,
   "metadata": {
    "execution": {
     "iopub.execute_input": "2024-10-03T15:11:48.667771Z",
     "iopub.status.busy": "2024-10-03T15:11:48.667302Z",
     "iopub.status.idle": "2024-10-03T15:47:51.327769Z",
     "shell.execute_reply": "2024-10-03T15:47:51.326821Z",
     "shell.execute_reply.started": "2024-10-03T15:11:48.667748Z"
    },
    "tags": []
   },
   "outputs": [
    {
     "name": "stdout",
     "output_type": "stream",
     "text": [
      "epoch: 0\n"
     ]
    },
    {
     "name": "stderr",
     "output_type": "stream",
     "text": [
      "6120it [01:44, 58.74it/s]                          \n"
     ]
    },
    {
     "name": "stdout",
     "output_type": "stream",
     "text": [
      " results:\n",
      "Mean square error: 0.21671\n",
      "Mean absolute error: 0.33957\n",
      "epoch: 1\n"
     ]
    },
    {
     "name": "stderr",
     "output_type": "stream",
     "text": [
      "6120it [01:34, 64.83it/s]                          \n"
     ]
    },
    {
     "name": "stdout",
     "output_type": "stream",
     "text": [
      " results:\n",
      "Mean square error: 0.19183\n",
      "Mean absolute error: 0.32388\n",
      "epoch: 2\n"
     ]
    },
    {
     "name": "stderr",
     "output_type": "stream",
     "text": [
      "6120it [01:33, 65.13it/s]                          \n"
     ]
    },
    {
     "name": "stdout",
     "output_type": "stream",
     "text": [
      " results:\n",
      "Mean square error: 0.09515\n",
      "Mean absolute error: 0.23101\n",
      "epoch: 3\n"
     ]
    },
    {
     "name": "stderr",
     "output_type": "stream",
     "text": [
      "6120it [01:34, 65.08it/s]                          \n"
     ]
    },
    {
     "name": "stdout",
     "output_type": "stream",
     "text": [
      " results:\n",
      "Mean square error: 0.12820\n",
      "Mean absolute error: 0.25297\n",
      "epoch: 4\n"
     ]
    },
    {
     "name": "stderr",
     "output_type": "stream",
     "text": [
      "6120it [01:34, 64.90it/s]                          \n"
     ]
    },
    {
     "name": "stdout",
     "output_type": "stream",
     "text": [
      " results:\n",
      "Mean square error: 0.08598\n",
      "Mean absolute error: 0.22186\n",
      "epoch: 5\n"
     ]
    },
    {
     "name": "stderr",
     "output_type": "stream",
     "text": [
      "6120it [01:34, 64.72it/s]                          \n"
     ]
    },
    {
     "name": "stdout",
     "output_type": "stream",
     "text": [
      " results:\n",
      "Mean square error: 0.07795\n",
      "Mean absolute error: 0.20961\n",
      "epoch: 6\n"
     ]
    },
    {
     "name": "stderr",
     "output_type": "stream",
     "text": [
      "6120it [01:34, 64.65it/s]                          \n"
     ]
    },
    {
     "name": "stdout",
     "output_type": "stream",
     "text": [
      " results:\n",
      "Mean square error: 0.07595\n",
      "Mean absolute error: 0.20554\n",
      "epoch: 7\n"
     ]
    },
    {
     "name": "stderr",
     "output_type": "stream",
     "text": [
      "6120it [01:34, 64.53it/s]                          \n"
     ]
    },
    {
     "name": "stdout",
     "output_type": "stream",
     "text": [
      " results:\n",
      "Mean square error: 0.07812\n",
      "Mean absolute error: 0.20628\n",
      "epoch: 8\n"
     ]
    },
    {
     "name": "stderr",
     "output_type": "stream",
     "text": [
      "6120it [01:42, 59.59it/s]                          \n"
     ]
    },
    {
     "name": "stdout",
     "output_type": "stream",
     "text": [
      " results:\n",
      "Mean square error: 0.07899\n",
      "Mean absolute error: 0.20689\n",
      "epoch: 9\n"
     ]
    },
    {
     "name": "stderr",
     "output_type": "stream",
     "text": [
      "6120it [01:42, 59.98it/s]                          \n"
     ]
    },
    {
     "name": "stdout",
     "output_type": "stream",
     "text": [
      " results:\n",
      "Mean square error: 0.06956\n",
      "Mean absolute error: 0.19551\n",
      "epoch: 10\n"
     ]
    },
    {
     "name": "stderr",
     "output_type": "stream",
     "text": [
      "6120it [01:34, 64.84it/s]                          \n"
     ]
    },
    {
     "name": "stdout",
     "output_type": "stream",
     "text": [
      " results:\n",
      "Mean square error: 0.06788\n",
      "Mean absolute error: 0.19342\n",
      "epoch: 11\n"
     ]
    },
    {
     "name": "stderr",
     "output_type": "stream",
     "text": [
      "6120it [01:36, 63.70it/s]                          \n"
     ]
    },
    {
     "name": "stdout",
     "output_type": "stream",
     "text": [
      " results:\n",
      "Mean square error: 0.06622\n",
      "Mean absolute error: 0.19116\n",
      "epoch: 12\n"
     ]
    },
    {
     "name": "stderr",
     "output_type": "stream",
     "text": [
      "6120it [01:43, 59.27it/s]                          \n"
     ]
    },
    {
     "name": "stdout",
     "output_type": "stream",
     "text": [
      " results:\n",
      "Mean square error: 0.09174\n",
      "Mean absolute error: 0.21808\n",
      "epoch: 13\n"
     ]
    },
    {
     "name": "stderr",
     "output_type": "stream",
     "text": [
      "6120it [01:34, 64.78it/s]                          \n"
     ]
    },
    {
     "name": "stdout",
     "output_type": "stream",
     "text": [
      " results:\n",
      "Mean square error: 0.06884\n",
      "Mean absolute error: 0.19345\n",
      "epoch: 14\n"
     ]
    },
    {
     "name": "stderr",
     "output_type": "stream",
     "text": [
      "6120it [01:34, 64.99it/s]                          \n"
     ]
    },
    {
     "name": "stdout",
     "output_type": "stream",
     "text": [
      " results:\n",
      "Mean square error: 0.07504\n",
      "Mean absolute error: 0.19253\n",
      "epoch: 15\n"
     ]
    },
    {
     "name": "stderr",
     "output_type": "stream",
     "text": [
      "6120it [01:34, 64.97it/s]                          \n"
     ]
    },
    {
     "name": "stdout",
     "output_type": "stream",
     "text": [
      " results:\n",
      "Mean square error: 0.06781\n",
      "Mean absolute error: 0.19075\n",
      "epoch: 16\n"
     ]
    },
    {
     "name": "stderr",
     "output_type": "stream",
     "text": [
      "6120it [01:33, 65.38it/s]                          \n"
     ]
    },
    {
     "name": "stdout",
     "output_type": "stream",
     "text": [
      " results:\n",
      "Mean square error: 0.06635\n",
      "Mean absolute error: 0.18964\n",
      "epoch: 17\n"
     ]
    },
    {
     "name": "stderr",
     "output_type": "stream",
     "text": [
      "6120it [01:33, 65.38it/s]                          \n"
     ]
    },
    {
     "name": "stdout",
     "output_type": "stream",
     "text": [
      " results:\n",
      "Mean square error: 0.06440\n",
      "Mean absolute error: 0.18611\n",
      "epoch: 18\n"
     ]
    },
    {
     "name": "stderr",
     "output_type": "stream",
     "text": [
      "6120it [01:34, 65.00it/s]                          \n"
     ]
    },
    {
     "name": "stdout",
     "output_type": "stream",
     "text": [
      " results:\n",
      "Mean square error: 0.07243\n",
      "Mean absolute error: 0.19344\n",
      "epoch: 19\n"
     ]
    },
    {
     "name": "stderr",
     "output_type": "stream",
     "text": [
      "6120it [01:38, 61.92it/s]                          \n"
     ]
    },
    {
     "name": "stdout",
     "output_type": "stream",
     "text": [
      " results:\n",
      "Mean square error: 0.06761\n",
      "Mean absolute error: 0.18895\n"
     ]
    }
   ],
   "source": [
    "#config=[[256] * 2, [512] * 2]\n",
    "model = SalaryPredictor('convnext', 'average').to(device)\n",
    "val_score = model_train(model)\n",
    "validation_scores['convnext_average'] = val_score"
   ]
  },
  {
   "cell_type": "code",
   "execution_count": 59,
   "metadata": {
    "execution": {
     "iopub.execute_input": "2024-10-03T15:48:35.403164Z",
     "iopub.status.busy": "2024-10-03T15:48:35.402685Z",
     "iopub.status.idle": "2024-10-03T16:24:40.711818Z",
     "shell.execute_reply": "2024-10-03T16:24:40.710968Z",
     "shell.execute_reply.started": "2024-10-03T15:48:35.403138Z"
    },
    "tags": []
   },
   "outputs": [
    {
     "name": "stdout",
     "output_type": "stream",
     "text": [
      "epoch: 0\n"
     ]
    },
    {
     "name": "stderr",
     "output_type": "stream",
     "text": [
      "6120it [01:43, 59.05it/s]                          \n"
     ]
    },
    {
     "name": "stdout",
     "output_type": "stream",
     "text": [
      " results:\n",
      "Mean square error: 22.90501\n",
      "Mean absolute error: 2.25808\n",
      "epoch: 1\n"
     ]
    },
    {
     "name": "stderr",
     "output_type": "stream",
     "text": [
      "6120it [01:40, 60.85it/s]                          \n"
     ]
    },
    {
     "name": "stdout",
     "output_type": "stream",
     "text": [
      " results:\n",
      "Mean square error: 0.10121\n",
      "Mean absolute error: 0.23852\n",
      "epoch: 2\n"
     ]
    },
    {
     "name": "stderr",
     "output_type": "stream",
     "text": [
      "6120it [01:41, 60.13it/s]                          \n"
     ]
    },
    {
     "name": "stdout",
     "output_type": "stream",
     "text": [
      " results:\n",
      "Mean square error: 0.09011\n",
      "Mean absolute error: 0.22050\n",
      "epoch: 3\n"
     ]
    },
    {
     "name": "stderr",
     "output_type": "stream",
     "text": [
      "6120it [01:35, 63.76it/s]                          \n"
     ]
    },
    {
     "name": "stdout",
     "output_type": "stream",
     "text": [
      " results:\n",
      "Mean square error: 0.07442\n",
      "Mean absolute error: 0.20246\n",
      "epoch: 4\n"
     ]
    },
    {
     "name": "stderr",
     "output_type": "stream",
     "text": [
      "6120it [01:35, 63.95it/s]                          \n"
     ]
    },
    {
     "name": "stdout",
     "output_type": "stream",
     "text": [
      " results:\n",
      "Mean square error: 0.06979\n",
      "Mean absolute error: 0.19706\n",
      "epoch: 5\n"
     ]
    },
    {
     "name": "stderr",
     "output_type": "stream",
     "text": [
      "6120it [01:35, 63.99it/s]                          \n"
     ]
    },
    {
     "name": "stdout",
     "output_type": "stream",
     "text": [
      " results:\n",
      "Mean square error: 0.06969\n",
      "Mean absolute error: 0.19748\n",
      "epoch: 6\n"
     ]
    },
    {
     "name": "stderr",
     "output_type": "stream",
     "text": [
      "6120it [01:35, 63.96it/s]                          \n"
     ]
    },
    {
     "name": "stdout",
     "output_type": "stream",
     "text": [
      " results:\n",
      "Mean square error: 0.07060\n",
      "Mean absolute error: 0.19790\n",
      "epoch: 7\n"
     ]
    },
    {
     "name": "stderr",
     "output_type": "stream",
     "text": [
      "6120it [01:35, 63.92it/s]                          \n"
     ]
    },
    {
     "name": "stdout",
     "output_type": "stream",
     "text": [
      " results:\n",
      "Mean square error: 0.06555\n",
      "Mean absolute error: 0.18933\n",
      "epoch: 8\n"
     ]
    },
    {
     "name": "stderr",
     "output_type": "stream",
     "text": [
      "6120it [01:34, 64.51it/s]                          \n"
     ]
    },
    {
     "name": "stdout",
     "output_type": "stream",
     "text": [
      " results:\n",
      "Mean square error: 0.06375\n",
      "Mean absolute error: 0.18566\n",
      "epoch: 9\n"
     ]
    },
    {
     "name": "stderr",
     "output_type": "stream",
     "text": [
      "6120it [01:35, 64.15it/s]                          \n"
     ]
    },
    {
     "name": "stdout",
     "output_type": "stream",
     "text": [
      " results:\n",
      "Mean square error: 0.07456\n",
      "Mean absolute error: 0.20542\n",
      "epoch: 10\n"
     ]
    },
    {
     "name": "stderr",
     "output_type": "stream",
     "text": [
      "6120it [01:35, 64.23it/s]                          \n"
     ]
    },
    {
     "name": "stdout",
     "output_type": "stream",
     "text": [
      " results:\n",
      "Mean square error: 0.07184\n",
      "Mean absolute error: 0.19828\n",
      "epoch: 11\n"
     ]
    },
    {
     "name": "stderr",
     "output_type": "stream",
     "text": [
      "6120it [01:35, 64.09it/s]                          \n"
     ]
    },
    {
     "name": "stdout",
     "output_type": "stream",
     "text": [
      " results:\n",
      "Mean square error: 0.06732\n",
      "Mean absolute error: 0.19163\n",
      "epoch: 12\n"
     ]
    },
    {
     "name": "stderr",
     "output_type": "stream",
     "text": [
      "6120it [01:35, 63.88it/s]                          \n"
     ]
    },
    {
     "name": "stdout",
     "output_type": "stream",
     "text": [
      " results:\n",
      "Mean square error: 0.06236\n",
      "Mean absolute error: 0.18344\n",
      "epoch: 13\n"
     ]
    },
    {
     "name": "stderr",
     "output_type": "stream",
     "text": [
      "6120it [01:35, 63.77it/s]                          \n"
     ]
    },
    {
     "name": "stdout",
     "output_type": "stream",
     "text": [
      " results:\n",
      "Mean square error: 0.06388\n",
      "Mean absolute error: 0.18562\n",
      "epoch: 14\n"
     ]
    },
    {
     "name": "stderr",
     "output_type": "stream",
     "text": [
      "6120it [01:36, 63.67it/s]                          \n"
     ]
    },
    {
     "name": "stdout",
     "output_type": "stream",
     "text": [
      " results:\n",
      "Mean square error: 0.06149\n",
      "Mean absolute error: 0.18127\n",
      "epoch: 15\n"
     ]
    },
    {
     "name": "stderr",
     "output_type": "stream",
     "text": [
      "6120it [01:35, 63.86it/s]                          \n"
     ]
    },
    {
     "name": "stdout",
     "output_type": "stream",
     "text": [
      " results:\n",
      "Mean square error: 0.06136\n",
      "Mean absolute error: 0.18083\n",
      "epoch: 16\n"
     ]
    },
    {
     "name": "stderr",
     "output_type": "stream",
     "text": [
      "6120it [01:36, 63.72it/s]                          \n"
     ]
    },
    {
     "name": "stdout",
     "output_type": "stream",
     "text": [
      " results:\n",
      "Mean square error: 0.06196\n",
      "Mean absolute error: 0.18173\n",
      "epoch: 17\n"
     ]
    },
    {
     "name": "stderr",
     "output_type": "stream",
     "text": [
      "6120it [01:36, 63.64it/s]                          \n"
     ]
    },
    {
     "name": "stdout",
     "output_type": "stream",
     "text": [
      " results:\n",
      "Mean square error: 0.06256\n",
      "Mean absolute error: 0.18285\n",
      "epoch: 18\n"
     ]
    },
    {
     "name": "stderr",
     "output_type": "stream",
     "text": [
      "6120it [01:35, 63.84it/s]                          \n"
     ]
    },
    {
     "name": "stdout",
     "output_type": "stream",
     "text": [
      " results:\n",
      "Mean square error: 0.06154\n",
      "Mean absolute error: 0.18092\n",
      "epoch: 19\n"
     ]
    },
    {
     "name": "stderr",
     "output_type": "stream",
     "text": [
      "6120it [01:35, 64.15it/s]                          \n"
     ]
    },
    {
     "name": "stdout",
     "output_type": "stream",
     "text": [
      " results:\n",
      "Mean square error: 0.06233\n",
      "Mean absolute error: 0.18194\n"
     ]
    }
   ],
   "source": [
    "model = SalaryPredictor('convnext', 'softmax').to(device)\n",
    "val_score = model_train(model)\n",
    "validation_scores['convnext_softmax'] = val_score"
   ]
  },
  {
   "cell_type": "code",
   "execution_count": 62,
   "metadata": {
    "execution": {
     "iopub.execute_input": "2024-10-03T16:26:01.705206Z",
     "iopub.status.busy": "2024-10-03T16:26:01.704771Z",
     "iopub.status.idle": "2024-10-03T17:00:13.577280Z",
     "shell.execute_reply": "2024-10-03T17:00:13.576330Z",
     "shell.execute_reply.started": "2024-10-03T16:26:01.705182Z"
    },
    "tags": []
   },
   "outputs": [
    {
     "name": "stdout",
     "output_type": "stream",
     "text": [
      "epoch: 0\n"
     ]
    },
    {
     "name": "stderr",
     "output_type": "stream",
     "text": [
      "6120it [01:31, 66.95it/s]                          \n"
     ]
    },
    {
     "name": "stdout",
     "output_type": "stream",
     "text": [
      " results:\n",
      "Mean square error: 0.11297\n",
      "Mean absolute error: 0.26313\n",
      "epoch: 1\n"
     ]
    },
    {
     "name": "stderr",
     "output_type": "stream",
     "text": [
      "6120it [01:31, 66.93it/s]                          \n"
     ]
    },
    {
     "name": "stdout",
     "output_type": "stream",
     "text": [
      " results:\n",
      "Mean square error: 0.09784\n",
      "Mean absolute error: 0.24001\n",
      "epoch: 2\n"
     ]
    },
    {
     "name": "stderr",
     "output_type": "stream",
     "text": [
      "6120it [01:31, 66.95it/s]                          \n"
     ]
    },
    {
     "name": "stdout",
     "output_type": "stream",
     "text": [
      " results:\n",
      "Mean square error: 0.07947\n",
      "Mean absolute error: 0.20984\n",
      "epoch: 3\n"
     ]
    },
    {
     "name": "stderr",
     "output_type": "stream",
     "text": [
      "6120it [01:31, 67.22it/s]                          \n"
     ]
    },
    {
     "name": "stdout",
     "output_type": "stream",
     "text": [
      " results:\n",
      "Mean square error: 0.08376\n",
      "Mean absolute error: 0.21981\n",
      "epoch: 4\n"
     ]
    },
    {
     "name": "stderr",
     "output_type": "stream",
     "text": [
      "6120it [01:31, 67.17it/s]                          \n"
     ]
    },
    {
     "name": "stdout",
     "output_type": "stream",
     "text": [
      " results:\n",
      "Mean square error: 0.07419\n",
      "Mean absolute error: 0.20244\n",
      "epoch: 5\n"
     ]
    },
    {
     "name": "stderr",
     "output_type": "stream",
     "text": [
      "6120it [01:30, 67.28it/s]                          \n"
     ]
    },
    {
     "name": "stdout",
     "output_type": "stream",
     "text": [
      " results:\n",
      "Mean square error: 0.07337\n",
      "Mean absolute error: 0.20136\n",
      "epoch: 6\n"
     ]
    },
    {
     "name": "stderr",
     "output_type": "stream",
     "text": [
      "6120it [01:31, 66.81it/s]                          \n"
     ]
    },
    {
     "name": "stdout",
     "output_type": "stream",
     "text": [
      " results:\n",
      "Mean square error: 0.07879\n",
      "Mean absolute error: 0.21026\n",
      "epoch: 7\n"
     ]
    },
    {
     "name": "stderr",
     "output_type": "stream",
     "text": [
      "6120it [01:32, 66.45it/s]                          \n"
     ]
    },
    {
     "name": "stdout",
     "output_type": "stream",
     "text": [
      " results:\n",
      "Mean square error: 0.07263\n",
      "Mean absolute error: 0.20012\n",
      "epoch: 8\n"
     ]
    },
    {
     "name": "stderr",
     "output_type": "stream",
     "text": [
      "6120it [01:32, 66.26it/s]                          \n"
     ]
    },
    {
     "name": "stdout",
     "output_type": "stream",
     "text": [
      " results:\n",
      "Mean square error: 0.06787\n",
      "Mean absolute error: 0.19261\n",
      "epoch: 9\n"
     ]
    },
    {
     "name": "stderr",
     "output_type": "stream",
     "text": [
      "6120it [01:31, 66.64it/s]                          \n"
     ]
    },
    {
     "name": "stdout",
     "output_type": "stream",
     "text": [
      " results:\n",
      "Mean square error: 0.06708\n",
      "Mean absolute error: 0.19107\n",
      "epoch: 10\n"
     ]
    },
    {
     "name": "stderr",
     "output_type": "stream",
     "text": [
      "6120it [01:32, 66.15it/s]                          \n"
     ]
    },
    {
     "name": "stdout",
     "output_type": "stream",
     "text": [
      " results:\n",
      "Mean square error: 0.06691\n",
      "Mean absolute error: 0.19074\n",
      "epoch: 11\n"
     ]
    },
    {
     "name": "stderr",
     "output_type": "stream",
     "text": [
      "6120it [01:31, 66.57it/s]                          \n"
     ]
    },
    {
     "name": "stdout",
     "output_type": "stream",
     "text": [
      " results:\n",
      "Mean square error: 0.06827\n",
      "Mean absolute error: 0.19112\n",
      "epoch: 12\n"
     ]
    },
    {
     "name": "stderr",
     "output_type": "stream",
     "text": [
      "6120it [01:31, 66.98it/s]                          \n"
     ]
    },
    {
     "name": "stdout",
     "output_type": "stream",
     "text": [
      " results:\n",
      "Mean square error: 0.08076\n",
      "Mean absolute error: 0.20170\n",
      "epoch: 13\n"
     ]
    },
    {
     "name": "stderr",
     "output_type": "stream",
     "text": [
      "6120it [01:31, 67.06it/s]                          \n"
     ]
    },
    {
     "name": "stdout",
     "output_type": "stream",
     "text": [
      " results:\n",
      "Mean square error: 0.06433\n",
      "Mean absolute error: 0.18629\n",
      "epoch: 14\n"
     ]
    },
    {
     "name": "stderr",
     "output_type": "stream",
     "text": [
      "6120it [01:31, 67.01it/s]                          \n"
     ]
    },
    {
     "name": "stdout",
     "output_type": "stream",
     "text": [
      " results:\n",
      "Mean square error: 0.07214\n",
      "Mean absolute error: 0.19635\n",
      "epoch: 15\n"
     ]
    },
    {
     "name": "stderr",
     "output_type": "stream",
     "text": [
      "6120it [01:31, 66.98it/s]                          \n"
     ]
    },
    {
     "name": "stdout",
     "output_type": "stream",
     "text": [
      " results:\n",
      "Mean square error: 0.06482\n",
      "Mean absolute error: 0.18619\n",
      "epoch: 16\n"
     ]
    },
    {
     "name": "stderr",
     "output_type": "stream",
     "text": [
      "6120it [01:31, 66.97it/s]                          \n"
     ]
    },
    {
     "name": "stdout",
     "output_type": "stream",
     "text": [
      " results:\n",
      "Mean square error: 0.06385\n",
      "Mean absolute error: 0.18471\n",
      "epoch: 17\n"
     ]
    },
    {
     "name": "stderr",
     "output_type": "stream",
     "text": [
      "6120it [01:31, 67.06it/s]                          \n"
     ]
    },
    {
     "name": "stdout",
     "output_type": "stream",
     "text": [
      " results:\n",
      "Mean square error: 0.06447\n",
      "Mean absolute error: 0.18514\n",
      "epoch: 18\n"
     ]
    },
    {
     "name": "stderr",
     "output_type": "stream",
     "text": [
      "6120it [01:31, 66.97it/s]                          \n"
     ]
    },
    {
     "name": "stdout",
     "output_type": "stream",
     "text": [
      " results:\n",
      "Mean square error: 0.06620\n",
      "Mean absolute error: 0.18769\n",
      "epoch: 19\n"
     ]
    },
    {
     "name": "stderr",
     "output_type": "stream",
     "text": [
      "6120it [01:31, 67.18it/s]                          \n"
     ]
    },
    {
     "name": "stdout",
     "output_type": "stream",
     "text": [
      " results:\n",
      "Mean square error: 0.06268\n",
      "Mean absolute error: 0.18220\n"
     ]
    }
   ],
   "source": [
    "model = SalaryPredictor('resnet', 'softmax').to(device)\n",
    "val_score = model_train(model)\n",
    "validation_scores['resnet_softmax'] = val_score"
   ]
  },
  {
   "cell_type": "markdown",
   "metadata": {},
   "source": [
    "## Графики с лоссами"
   ]
  },
  {
   "cell_type": "code",
   "execution_count": 65,
   "metadata": {
    "execution": {
     "iopub.execute_input": "2024-10-03T17:33:37.533251Z",
     "iopub.status.busy": "2024-10-03T17:33:37.532801Z",
     "iopub.status.idle": "2024-10-03T17:33:37.742261Z",
     "shell.execute_reply": "2024-10-03T17:33:37.741382Z",
     "shell.execute_reply.started": "2024-10-03T17:33:37.533230Z"
    },
    "tags": []
   },
   "outputs": [
    {
     "data": {
      "text/plain": [
       "(0.05, 0.11)"
      ]
     },
     "execution_count": 65,
     "metadata": {},
     "output_type": "execute_result"
    },
    {
     "data": {
      "image/png": "[encoded data removed]",
      "text/plain": [
       "<Figure size 640x480 with 1 Axes>"
      ]
     },
     "metadata": {},
     "output_type": "display_data"
    }
   ],
   "source": [
    "plt.plot(validation_scores['resnet_average']['mse_loss'], label='resnet_average')\n",
    "plt.plot(validation_scores['resnet_softmax']['mse_loss'], label='resnet_softmax')\n",
    "plt.plot(validation_scores['convnext_average']['mse_loss'], label='convnext_average')\n",
    "plt.plot(validation_scores['convnext_softmax']['mse_loss'], label='convnext_softmax')\n",
    "plt.title('MSE Loss')\n",
    "plt.grid()\n",
    "plt.legend(loc='best')\n",
    "plt.ylim([0.05, 0.11])"
   ]
  },
  {
   "cell_type": "code",
   "execution_count": null,
   "metadata": {},
   "outputs": [],
   "source": []
  },
  {
   "cell_type": "code",
   "execution_count": 66,
   "metadata": {
    "execution": {
     "iopub.execute_input": "2024-10-03T17:34:30.993268Z",
     "iopub.status.busy": "2024-10-03T17:34:30.992860Z",
     "iopub.status.idle": "2024-10-03T17:34:31.233163Z",
     "shell.execute_reply": "2024-10-03T17:34:31.232338Z",
     "shell.execute_reply.started": "2024-10-03T17:34:30.993247Z"
    }
   },
   "outputs": [
    {
     "data": {
      "text/plain": [
       "(0.17, 0.26)"
      ]
     },
     "execution_count": 66,
     "metadata": {},
     "output_type": "execute_result"
    },
    {
     "data": {
      "image/png": "[encoded data removed]",
      "text/plain": [
       "<Figure size 640x480 with 1 Axes>"
      ]
     },
     "metadata": {},
     "output_type": "display_data"
    }
   ],
   "source": [
    "plt.plot(validation_scores['resnet_average']['mae_loss'], label='resnet_average')\n",
    "plt.plot(validation_scores['resnet_softmax']['mae_loss'], label='resnet_softmax')\n",
    "plt.plot(validation_scores['convnext_average']['mae_loss'], label='convnext_average')\n",
    "plt.plot(validation_scores['convnext_softmax']['mae_loss'], label='convnext_softmax')\n",
    "plt.title('MAE Loss')\n",
    "plt.grid()\n",
    "plt.legend(loc='best')\n",
    "plt.ylim([0.17, 0.26])"
   ]
  },
  {
   "cell_type": "markdown",
   "metadata": {},
   "source": [
    "## Заключение (оно же short report)"
   ]
  },
  {
   "cell_type": "markdown",
   "metadata": {},
   "source": [
    "\n",
    "Из предоставленных советов я использовал предобученные эмбеддинги, разные свертки (в т.ч группы), и нестандартный пулинг (софтмакс). \n",
    "\n",
    "Я потратил огромное количество времени на обучение относительно тяжелых моделей (архитектуры а-ля resnet18), они давали результат хуже бейзлайна с семинара, что приводило меня в неистовый ужас. В последний день решил попробовать архитектуры кратно легче (буквально пара-тройка блоков), и, о чудо, получил вроде как неплохой результат. Потуги с тяжелыми архитектурами и примерные результаты можно посмотреть ниже.\n",
    "\n",
    "Конфиг для резнета: : [[128] * 2, [1024] * 2]\n",
    "\n",
    "Конфиг для convnext: : [[256] * 2, [512] * 2]\n",
    "\n",
    "\n",
    "В принципе, модели дали примерно одинаковый результат, обучались немного нестабильно на первых эпохах. Параллельно я обучал еще более облегченные версии архитектур на т4 с размером батча 16, они дали результат не сильно хуже, этот ноутбук я так же прикреплю к дз. Из интересного, там периодически convnext взрывалась, по непонятной причине давая гигантский MSE, я это дело даже в чат скинул, буду благодарен если мне конкретно объяснят почему так происходило.Из предоставленных советов я использовал предобученные эмбеддинги, разные свертки (в т.ч группы), и нестандартный пулинг (софтмакс). \n",
    "\n",
    "Я потратил огромное количество времени на обучение довольно тяжелых моделей (архитектуры а-ля resnet18), они давали результат хуже бейзлайна с семинара, что приводило меня в неистовый ужас. В последний день решил попробовать архитектуры кратно легче (буквально пара-тройка блоков), и, о чудо, получил вроде как неплохой результат. Потуги с тяжелыми архитектурами и примерные результаты можно посмотреть ниже.\n",
    "\n",
    "В принципе, модели дали примерно одинаковый результат, обучались немного нестабильно на первых эпохах. Параллельно я обучал еще более облегченные версии архитектур на т4 с размером батча 16, они дали результат не сильно хуже, этот ноутбук я так же прикреплю к дз. Из интересного, там периодически convnext взрывалась, по непонятной причине давая гигантский MSE, я это дело даже в чат скинул, буду благодарен если мне конкретно объяснят почему так происходило."
   ]
  },
  {
   "cell_type": "markdown",
   "metadata": {
    "jp-MarkdownHeadingCollapsed": true,
    "tags": []
   },
   "source": [
    "## Обещанные потуги"
   ]
  },
  {
   "cell_type": "code",
   "execution_count": 52,
   "metadata": {
    "execution": {
     "iopub.execute_input": "2024-10-02T11:32:33.480068Z",
     "iopub.status.busy": "2024-10-02T11:32:33.479118Z",
     "iopub.status.idle": "2024-10-02T12:05:02.575906Z",
     "shell.execute_reply": "2024-10-02T12:05:02.575066Z",
     "shell.execute_reply.started": "2024-10-02T11:32:33.480031Z"
    },
    "tags": []
   },
   "outputs": [
    {
     "name": "stdout",
     "output_type": "stream",
     "text": [
      "epoch: 0\n"
     ]
    },
    {
     "name": "stderr",
     "output_type": "stream",
     "text": [
      "12239it [02:57, 68.81it/s]                           \n"
     ]
    },
    {
     "name": "stdout",
     "output_type": "stream",
     "text": [
      " results:\n",
      "Mean square error: 0.11752\n",
      "Mean absolute error: 0.26290\n",
      "epoch: 1\n"
     ]
    },
    {
     "name": "stderr",
     "output_type": "stream",
     "text": [
      "12239it [02:58, 68.59it/s]                           \n"
     ]
    },
    {
     "name": "stdout",
     "output_type": "stream",
     "text": [
      " results:\n",
      "Mean square error: 0.11864\n",
      "Mean absolute error: 0.26700\n",
      "epoch: 2\n"
     ]
    },
    {
     "name": "stderr",
     "output_type": "stream",
     "text": [
      "12239it [02:59, 68.21it/s]                           \n"
     ]
    },
    {
     "name": "stdout",
     "output_type": "stream",
     "text": [
      " results:\n",
      "Mean square error: 0.09423\n",
      "Mean absolute error: 0.23126\n",
      "epoch: 3\n"
     ]
    },
    {
     "name": "stderr",
     "output_type": "stream",
     "text": [
      "12239it [02:58, 68.50it/s]                           \n"
     ]
    },
    {
     "name": "stdout",
     "output_type": "stream",
     "text": [
      " results:\n",
      "Mean square error: 0.09835\n",
      "Mean absolute error: 0.23770\n",
      "epoch: 4\n"
     ]
    },
    {
     "name": "stderr",
     "output_type": "stream",
     "text": [
      "12239it [02:57, 68.85it/s]                           \n"
     ]
    },
    {
     "name": "stdout",
     "output_type": "stream",
     "text": [
      " results:\n",
      "Mean square error: 0.09332\n",
      "Mean absolute error: 0.23071\n",
      "epoch: 5\n"
     ]
    },
    {
     "name": "stderr",
     "output_type": "stream",
     "text": [
      "12239it [02:56, 69.31it/s]                           \n"
     ]
    },
    {
     "name": "stdout",
     "output_type": "stream",
     "text": [
      " results:\n",
      "Mean square error: 0.08951\n",
      "Mean absolute error: 0.22574\n",
      "epoch: 6\n"
     ]
    },
    {
     "name": "stderr",
     "output_type": "stream",
     "text": [
      "12239it [02:56, 69.32it/s]                           \n"
     ]
    },
    {
     "name": "stdout",
     "output_type": "stream",
     "text": [
      " results:\n",
      "Mean square error: 0.09001\n",
      "Mean absolute error: 0.22521\n",
      "epoch: 7\n"
     ]
    },
    {
     "name": "stderr",
     "output_type": "stream",
     "text": [
      "12239it [02:56, 69.45it/s]                           \n"
     ]
    },
    {
     "name": "stdout",
     "output_type": "stream",
     "text": [
      " results:\n",
      "Mean square error: 0.08691\n",
      "Mean absolute error: 0.21937\n",
      "epoch: 8\n"
     ]
    },
    {
     "name": "stderr",
     "output_type": "stream",
     "text": [
      "12239it [02:57, 68.93it/s]                           \n"
     ]
    },
    {
     "name": "stdout",
     "output_type": "stream",
     "text": [
      " results:\n",
      "Mean square error: 0.08315\n",
      "Mean absolute error: 0.21488\n",
      "epoch: 9\n"
     ]
    },
    {
     "name": "stderr",
     "output_type": "stream",
     "text": [
      "12239it [02:57, 69.13it/s]                           \n"
     ]
    },
    {
     "name": "stdout",
     "output_type": "stream",
     "text": [
      " results:\n",
      "Mean square error: 0.08267\n",
      "Mean absolute error: 0.21440\n"
     ]
    }
   ],
   "source": [
    "#convnext\n",
    "\n",
    "model = SalaryPredictor().to(device)\n",
    "criterion = nn.MSELoss(reduction='sum')\n",
    "optimizer = torch.optim.Adam(model.parameters(), lr=1e-4)\n",
    "\n",
    "for epoch in range(EPOCHS):\n",
    "    print(f\"epoch: {epoch}\")\n",
    "    model.train()\n",
    "    for i, batch in tqdm(enumerate(\n",
    "            iterate_minibatches(data_train, batch_size=BATCH_SIZE, device=device)),\n",
    "            total=len(data_train) // BATCH_SIZE\n",
    "        ):\n",
    "        pred = model(batch)\n",
    "        pred.squeeze_(1)\n",
    "\n",
    "        loss = criterion(pred, batch[TARGET_COLUMN])\n",
    "        optimizer.zero_grad()\n",
    "        loss.backward()\n",
    "        optimizer.step()\n",
    "        \n",
    "    print_metrics(model, data_val, device=device)\n",
    "\n",
    "      "
   ]
  },
  {
   "cell_type": "code",
   "execution_count": null,
   "metadata": {},
   "outputs": [],
   "source": []
  },
  {
   "cell_type": "code",
   "execution_count": null,
   "metadata": {
    "execution": {
     "iopub.execute_input": "2024-10-02T12:29:06.985938Z",
     "iopub.status.busy": "2024-10-02T12:29:06.984681Z"
    },
    "tags": []
   },
   "outputs": [
    {
     "name": "stdout",
     "output_type": "stream",
     "text": [
      "epoch: 0\n"
     ]
    },
    {
     "name": "stderr",
     "output_type": "stream",
     "text": [
      "12239it [04:01, 50.62it/s]                           \n"
     ]
    },
    {
     "name": "stdout",
     "output_type": "stream",
     "text": [
      " results:\n",
      "Mean square error: 0.11263\n",
      "Mean absolute error: 0.25654\n",
      "epoch: 1\n"
     ]
    },
    {
     "name": "stderr",
     "output_type": "stream",
     "text": [
      "12239it [04:02, 50.47it/s]                           \n"
     ]
    },
    {
     "name": "stdout",
     "output_type": "stream",
     "text": [
      " results:\n",
      "Mean square error: 0.11426\n",
      "Mean absolute error: 0.25767\n",
      "epoch: 2\n"
     ]
    },
    {
     "name": "stderr",
     "output_type": "stream",
     "text": [
      "12239it [04:03, 50.30it/s]                           \n"
     ]
    },
    {
     "name": "stdout",
     "output_type": "stream",
     "text": [
      " results:\n",
      "Mean square error: 0.09484\n",
      "Mean absolute error: 0.23251\n",
      "epoch: 3\n"
     ]
    },
    {
     "name": "stderr",
     "output_type": "stream",
     "text": [
      "12239it [03:58, 51.31it/s]                           \n"
     ]
    },
    {
     "name": "stdout",
     "output_type": "stream",
     "text": [
      " results:\n",
      "Mean square error: 0.11819\n",
      "Mean absolute error: 0.24753\n",
      "epoch: 4\n"
     ]
    },
    {
     "name": "stderr",
     "output_type": "stream",
     "text": [
      "12239it [04:00, 50.82it/s]                           \n"
     ]
    },
    {
     "name": "stdout",
     "output_type": "stream",
     "text": [
      " results:\n",
      "Mean square error: 0.08584\n",
      "Mean absolute error: 0.21607\n",
      "epoch: 9\n"
     ]
    },
    {
     "name": "stderr",
     "output_type": "stream",
     "text": [
      "12239it [04:00, 50.99it/s]                           \n"
     ]
    },
    {
     "name": "stdout",
     "output_type": "stream",
     "text": [
      " results:\n",
      "Mean square error: 0.79253\n",
      "Mean absolute error: 0.27940\n",
      "epoch: 10\n"
     ]
    },
    {
     "name": "stderr",
     "output_type": "stream",
     "text": [
      "12239it [04:00, 50.82it/s]                           \n"
     ]
    },
    {
     "name": "stdout",
     "output_type": "stream",
     "text": [
      " results:\n",
      "Mean square error: 0.08892\n",
      "Mean absolute error: 0.22173\n",
      "epoch: 11\n"
     ]
    },
    {
     "name": "stderr",
     "output_type": "stream",
     "text": [
      "12239it [04:01, 50.78it/s]                           \n"
     ]
    },
    {
     "name": "stdout",
     "output_type": "stream",
     "text": [
      " results:\n",
      "Mean square error: 0.08812\n",
      "Mean absolute error: 0.21759\n",
      "epoch: 12\n"
     ]
    },
    {
     "name": "stderr",
     "output_type": "stream",
     "text": [
      "12239it [03:59, 51.02it/s]                           \n"
     ]
    },
    {
     "name": "stdout",
     "output_type": "stream",
     "text": [
      " results:\n",
      "Mean square error: 0.08396\n",
      "Mean absolute error: 0.21523\n",
      "epoch: 13\n"
     ]
    },
    {
     "name": "stderr",
     "output_type": "stream",
     "text": [
      "12239it [04:00, 50.79it/s]                           \n"
     ]
    },
    {
     "name": "stdout",
     "output_type": "stream",
     "text": [
      " results:\n",
      "Mean square error: 0.08628\n",
      "Mean absolute error: 0.21434\n",
      "epoch: 14\n"
     ]
    },
    {
     "name": "stderr",
     "output_type": "stream",
     "text": [
      " 96%|█████████▌| 11776/12238 [03:50<00:09, 51.08it/s]"
     ]
    }
   ],
   "source": [
    "#resnet\n",
    "\n",
    "model = SalaryPredictor_v3().to(device)\n",
    "criterion = nn.MSELoss(reduction='sum')\n",
    "optimizer = torch.optim.AdamW(model.parameters(), lr=1e-4)\n",
    "\n",
    "for epoch in range(EPOCHS):\n",
    "    print(f\"epoch: {epoch}\")\n",
    "    model.train()\n",
    "    for i, batch in tqdm(enumerate(\n",
    "            iterate_minibatches(data_train, batch_size=BATCH_SIZE, device=device)),\n",
    "            total=len(data_train) // BATCH_SIZE\n",
    "        ):\n",
    "        pred = model(batch)\n",
    "        pred.squeeze_(1)\n",
    "\n",
    "        loss = criterion(pred, batch[TARGET_COLUMN])\n",
    "        optimizer.zero_grad()\n",
    "        loss.backward()\n",
    "        optimizer.step()\n",
    "        \n",
    "    print_metrics(model, data_val, device=device)\n",
    "\n",
    "      "
   ]
  },
  {
   "cell_type": "markdown",
   "metadata": {},
   "source": []
  },
  {
   "cell_type": "markdown",
   "metadata": {},
   "source": [
    "## Recommended options\n",
    "\n",
    "#### A) CNN architecture\n",
    "\n",
    "All the tricks you know about dense and convolutional neural networks apply here as well.\n",
    "* Dropout. Nuff said.\n",
    "* Batch Norm. This time it's `nn.BatchNorm*`/`L.BatchNormalization`\n",
    "* Parallel convolution layers. The idea is that you apply several nn.Conv1d to the same embeddings and concatenate output channels.\n",
    "* More layers, more neurons, ya know...\n",
    "\n",
    "\n",
    "#### B) Play with pooling\n",
    "\n",
    "There's more than one way to perform pooling:\n",
    "* Max over time (independently for each feature)\n",
    "* Average over time (excluding PAD)\n",
    "* Softmax-pooling:\n",
    "$$ out_{i, t} = \\sum_t {h_{i,t} \\cdot {{e ^ {h_{i, t}}} \\over \\sum_\\tau e ^ {h_{j, \\tau}} } }$$\n",
    "\n",
    "* Attentive pooling\n",
    "$$ out_{i, t} = \\sum_t {h_{i,t} \\cdot Attn(h_t)}$$\n",
    "\n",
    ", where $$ Attn(h_t) = {{e ^ {NN_{attn}(h_t)}} \\over \\sum_\\tau e ^ {NN_{attn}(h_\\tau)}}  $$\n",
    "and $NN_{attn}$ is a dense layer.\n",
    "\n",
    "The optimal score is usually achieved by concatenating several different poolings, including several attentive pooling with different $NN_{attn}$ (aka multi-headed attention).\n",
    "\n",
    "The catch is that keras layers do not inlude those toys. You will have to [write your own keras layer](https://keras.io/layers/writing-your-own-keras-layers/). Or use pure tensorflow, it might even be easier :)\n",
    "\n",
    "#### C) Fun with words\n",
    "\n",
    "It's not always a good idea to train embeddings from scratch. Here's a few tricks:\n",
    "\n",
    "* Use a pre-trained embeddings from `gensim.downloader.load`. See last lecture.\n",
    "* Start with pre-trained embeddings, then fine-tune them with gradient descent. You may or may not download pre-trained embeddings from [here](http://nlp.stanford.edu/data/glove.6B.zip) and follow this [manual](https://keras.io/examples/nlp/pretrained_word_embeddings/) to initialize your Keras embedding layer with downloaded weights.\n",
    "* Use the same embedding matrix in title and desc vectorizer\n",
    "\n",
    "\n",
    "#### D) Going recurrent\n",
    "\n",
    "We've already learned that recurrent networks can do cool stuff in sequence modelling. Turns out, they're not useless for classification as well. With some tricks of course..\n",
    "\n",
    "* Like convolutional layers, LSTM should be pooled into a fixed-size vector with some of the poolings.\n",
    "* Since you know all the text in advance, use bidirectional RNN\n",
    "  * Run one LSTM from left to right\n",
    "  * Run another in parallel from right to left \n",
    "  * Concatenate their output sequences along unit axis (dim=-1)\n",
    "\n",
    "* It might be good idea to mix convolutions and recurrent layers differently for title and description\n",
    "\n",
    "\n",
    "#### E) Optimizing seriously\n",
    "\n",
    "* You don't necessarily need 100 epochs. Use early stopping. If you've never done this before, take a look at [early stopping callback(keras)](https://keras.io/callbacks/#earlystopping) or in [pytorch(lightning)](https://pytorch-lightning.readthedocs.io/en/latest/common/early_stopping.html).\n",
    "  * In short, train until you notice that validation\n",
    "  * Maintain the best-on-validation snapshot via `model.save(file_name)`\n",
    "  * Plotting learning curves is usually a good idea\n",
    "  \n",
    "Good luck! And may the force be with you!"
   ]
  },
  {
   "cell_type": "code",
   "execution_count": null,
   "metadata": {},
   "outputs": [],
   "source": []
  }
 ],
 "metadata": {
  "kernelspec": {
   "display_name": "DataSphere Kernel",
   "language": "python",
   "name": "python3"
  },
  "language_info": {
   "codemirror_mode": {
    "name": "ipython",
    "version": 3
   },
   "file_extension": ".py",
   "mimetype": "text/x-python",
   "name": "python",
   "nbconvert_exporter": "python",
   "pygments_lexer": "ipython3",
   "version": "3.10.12"
  }
 },
 "nbformat": 4,
 "nbformat_minor": 4
}

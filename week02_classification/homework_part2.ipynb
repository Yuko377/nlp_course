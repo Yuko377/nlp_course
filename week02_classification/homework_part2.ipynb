{
 "cells": [
  {
   "cell_type": "markdown",
   "metadata": {},
   "source": [
    "### Salary prediction, episode II: make it actually work (4 points)\n",
    "\n",
    "Your main task is to use some of the tricks you've learned on the network and analyze if you can improve __validation MAE__. Try __at least 3 options__ from the list below for a passing grade. Write a short report about what you have tried. More ideas = more bonus points. \n",
    "\n",
    "__Please be serious:__ \" plot learning curves in MAE/epoch, compare models based on optimal performance, test one change at a time. You know the drill :)\n",
    "\n",
    "You can use either __pytorch__ or __tensorflow__ or any other framework (e.g. pure __keras__). Feel free to adapt the seminar code for your needs. For tensorflow version, consider `seminar_tf2.ipynb` as a starting point.\n"
   ]
  },
  {
   "cell_type": "code",
   "execution_count": 1,
   "metadata": {
    "execution": {
     "iopub.execute_input": "2024-10-01T15:04:26.561942Z",
     "iopub.status.busy": "2024-10-01T15:04:26.560620Z",
     "iopub.status.idle": "2024-10-01T15:04:26.607421Z",
     "shell.execute_reply": "2024-10-01T15:04:26.606086Z",
     "shell.execute_reply.started": "2024-10-01T15:04:26.561867Z"
    }
   },
   "outputs": [],
   "source": [
    "# < A whole lot of your code > - models, charts, analysis\n",
    "import numpy as np\n",
    "import pandas as pd\n",
    "import matplotlib.pyplot as plt\n",
    "%matplotlib inline"
   ]
  },
  {
   "cell_type": "code",
   "execution_count": 41,
   "metadata": {
    "execution": {
     "iopub.execute_input": "2024-10-01T16:11:17.575075Z",
     "iopub.status.busy": "2024-10-01T16:11:17.573800Z",
     "iopub.status.idle": "2024-10-01T16:11:26.075017Z",
     "shell.execute_reply": "2024-10-01T16:11:26.073722Z",
     "shell.execute_reply.started": "2024-10-01T16:11:17.575016Z"
    },
    "tags": []
   },
   "outputs": [],
   "source": [
    "import torch"
   ]
  },
  {
   "cell_type": "code",
   "execution_count": 2,
   "metadata": {
    "execution": {
     "iopub.execute_input": "2024-10-01T15:04:26.645561Z",
     "iopub.status.busy": "2024-10-01T15:04:26.644176Z",
     "iopub.status.idle": "2024-10-01T15:04:35.934103Z",
     "shell.execute_reply": "2024-10-01T15:04:35.932873Z",
     "shell.execute_reply.started": "2024-10-01T15:04:26.645511Z"
    }
   },
   "outputs": [
    {
     "data": {
      "text/plain": [
       "(244768, 12)"
      ]
     },
     "execution_count": 2,
     "metadata": {},
     "output_type": "execute_result"
    }
   ],
   "source": [
    "data = pd.read_csv(\"./Train_rev1.zip\", compression='zip', index_col=None)\n",
    "data.shape"
   ]
  },
  {
   "cell_type": "code",
   "execution_count": 3,
   "metadata": {
    "execution": {
     "iopub.execute_input": "2024-10-01T15:04:36.406858Z",
     "iopub.status.busy": "2024-10-01T15:04:36.405534Z",
     "iopub.status.idle": "2024-10-01T15:04:36.473666Z",
     "shell.execute_reply": "2024-10-01T15:04:36.472383Z",
     "shell.execute_reply.started": "2024-10-01T15:04:36.406802Z"
    }
   },
   "outputs": [],
   "source": [
    "data['Log1pSalary'] = np.log1p(data['SalaryNormalized']).astype('float32')"
   ]
  },
  {
   "cell_type": "code",
   "execution_count": 4,
   "metadata": {
    "execution": {
     "iopub.execute_input": "2024-10-01T15:04:59.103686Z",
     "iopub.status.busy": "2024-10-01T15:04:59.102207Z",
     "iopub.status.idle": "2024-10-01T15:04:59.687693Z",
     "shell.execute_reply": "2024-10-01T15:04:59.686514Z",
     "shell.execute_reply.started": "2024-10-01T15:04:59.103634Z"
    }
   },
   "outputs": [
    {
     "data": {
      "text/html": [
       "<div>\n",
       "<style scoped>\n",
       "    .dataframe tbody tr th:only-of-type {\n",
       "        vertical-align: middle;\n",
       "    }\n",
       "\n",
       "    .dataframe tbody tr th {\n",
       "        vertical-align: top;\n",
       "    }\n",
       "\n",
       "    .dataframe thead th {\n",
       "        text-align: right;\n",
       "    }\n",
       "</style>\n",
       "<table border=\"1\" class=\"dataframe\">\n",
       "  <thead>\n",
       "    <tr style=\"text-align: right;\">\n",
       "      <th></th>\n",
       "      <th>Id</th>\n",
       "      <th>Title</th>\n",
       "      <th>FullDescription</th>\n",
       "      <th>LocationRaw</th>\n",
       "      <th>LocationNormalized</th>\n",
       "      <th>ContractType</th>\n",
       "      <th>ContractTime</th>\n",
       "      <th>Company</th>\n",
       "      <th>Category</th>\n",
       "      <th>SalaryRaw</th>\n",
       "      <th>SalaryNormalized</th>\n",
       "      <th>SourceName</th>\n",
       "      <th>Log1pSalary</th>\n",
       "    </tr>\n",
       "  </thead>\n",
       "  <tbody>\n",
       "    <tr>\n",
       "      <th>220653</th>\n",
       "      <td>72373179</td>\n",
       "      <td>Business Intelligence Analyst</td>\n",
       "      <td>Business Intelligence/BI/SAP BW/Analyst Our ho...</td>\n",
       "      <td>Gloucestershire Tetbury GL8 8</td>\n",
       "      <td>Long Furlong</td>\n",
       "      <td>NaN</td>\n",
       "      <td>permanent</td>\n",
       "      <td>Reed Technology   Bristol Permanents</td>\n",
       "      <td>IT Jobs</td>\n",
       "      <td>35000.00 - 45000.00 GBP Annual</td>\n",
       "      <td>40000</td>\n",
       "      <td>jobserve.com</td>\n",
       "      <td>10.596660</td>\n",
       "    </tr>\n",
       "    <tr>\n",
       "      <th>156028</th>\n",
       "      <td>71087949</td>\n",
       "      <td>Resoucing Manager  East London</td>\n",
       "      <td>Resourcing Manager required for large establis...</td>\n",
       "      <td>East London London South East</td>\n",
       "      <td>South East London</td>\n",
       "      <td>NaN</td>\n",
       "      <td>permanent</td>\n",
       "      <td>Amida Recruitment Limited</td>\n",
       "      <td>Trade &amp; Construction Jobs</td>\n",
       "      <td>25000 - 30000 per annum + Package</td>\n",
       "      <td>27500</td>\n",
       "      <td>careerstructure.com</td>\n",
       "      <td>10.221977</td>\n",
       "    </tr>\n",
       "    <tr>\n",
       "      <th>166242</th>\n",
       "      <td>71296561</td>\n",
       "      <td>Sponsorship Sales  IT &amp; Tech Conferences</td>\n",
       "      <td>We are looking for a consultative sponsorship ...</td>\n",
       "      <td>North London</td>\n",
       "      <td>North London</td>\n",
       "      <td>full_time</td>\n",
       "      <td>permanent</td>\n",
       "      <td>Gemini Search</td>\n",
       "      <td>Sales Jobs</td>\n",
       "      <td>25000 - 28000 per annum + Benefits + Great Com...</td>\n",
       "      <td>26500</td>\n",
       "      <td>mediaweekjobs.co.uk</td>\n",
       "      <td>10.184937</td>\n",
       "    </tr>\n",
       "  </tbody>\n",
       "</table>\n",
       "</div>"
      ],
      "text/plain": [
       "              Id  ... Log1pSalary\n",
       "220653  72373179  ...   10.596660\n",
       "156028  71087949  ...   10.221977\n",
       "166242  71296561  ...   10.184937\n",
       "\n",
       "[3 rows x 13 columns]"
      ]
     },
     "execution_count": 4,
     "metadata": {},
     "output_type": "execute_result"
    }
   ],
   "source": [
    "text_columns = [\"Title\", \"FullDescription\"]\n",
    "categorical_columns = [\"Category\", \"Company\", \"LocationNormalized\", \"ContractType\", \"ContractTime\"]\n",
    "TARGET_COLUMN = \"Log1pSalary\"\n",
    "\n",
    "data[categorical_columns] = data[categorical_columns].fillna('NaN') # cast missing values to string \"NaN\"\n",
    "\n",
    "data.sample(3)"
   ]
  },
  {
   "cell_type": "code",
   "execution_count": 5,
   "metadata": {
    "execution": {
     "iopub.execute_input": "2024-10-01T15:05:32.436023Z",
     "iopub.status.busy": "2024-10-01T15:05:32.434726Z",
     "iopub.status.idle": "2024-10-01T15:05:32.740637Z",
     "shell.execute_reply": "2024-10-01T15:05:32.739274Z",
     "shell.execute_reply.started": "2024-10-01T15:05:32.435968Z"
    }
   },
   "outputs": [],
   "source": [
    "data[text_columns] = data[text_columns].fillna(method=\"ffill\")"
   ]
  },
  {
   "cell_type": "code",
   "execution_count": 6,
   "metadata": {
    "execution": {
     "iopub.execute_input": "2024-10-01T15:05:55.866366Z",
     "iopub.status.busy": "2024-10-01T15:05:55.865370Z",
     "iopub.status.idle": "2024-10-01T15:06:30.462885Z",
     "shell.execute_reply": "2024-10-01T15:06:30.461543Z",
     "shell.execute_reply.started": "2024-10-01T15:05:55.866314Z"
    }
   },
   "outputs": [],
   "source": [
    "import nltk\n",
    "#TODO YOUR CODE HERE\n",
    "\n",
    "tokenizer = nltk.tokenize.WordPunctTokenizer()\n",
    "\n",
    "data[\"FullDescription\"] = data[\"FullDescription\"].apply(lambda descrp: ' '.join(tokenizer.tokenize(descrp.lower())))\n",
    "data[\"Title\"] = data[\"Title\"].apply(lambda title: ' '.join(tokenizer.tokenize(title.lower())))\n"
   ]
  },
  {
   "cell_type": "code",
   "execution_count": 8,
   "metadata": {
    "execution": {
     "iopub.execute_input": "2024-10-01T15:12:15.620777Z",
     "iopub.status.busy": "2024-10-01T15:12:15.619308Z",
     "iopub.status.idle": "2024-10-01T15:12:54.476062Z",
     "shell.execute_reply": "2024-10-01T15:12:54.474677Z",
     "shell.execute_reply.started": "2024-10-01T15:12:15.620732Z"
    }
   },
   "outputs": [],
   "source": [
    "from collections import Counter\n",
    "token_counts = Counter()\n",
    "\n",
    "# Count how many times does each token occur in both \"Title\" and \"FullDescription\" in total\n",
    "for index, row in data.iterrows():\n",
    "    token_counts.update(row['Title'].split())\n",
    "    token_counts.update(row['FullDescription'].split())"
   ]
  },
  {
   "cell_type": "code",
   "execution_count": 9,
   "metadata": {
    "execution": {
     "iopub.execute_input": "2024-10-01T15:12:58.837874Z",
     "iopub.status.busy": "2024-10-01T15:12:58.836192Z",
     "iopub.status.idle": "2024-10-01T15:12:58.899574Z",
     "shell.execute_reply": "2024-10-01T15:12:58.898291Z",
     "shell.execute_reply.started": "2024-10-01T15:12:58.837821Z"
    },
    "tags": []
   },
   "outputs": [],
   "source": [
    "min_count = 10\n",
    "\n",
    "# tokens from token_counts keys that had at least min_count occurrences throughout the dataset\n",
    "tokens = sorted(t for t, c in token_counts.items() if c >= min_count)#TODO<YOUR CODE HERE>\n",
    "\n",
    "# Add a special tokens for unknown and empty words\n",
    "UNK, PAD = \"UNK\", \"PAD\"\n",
    "tokens = [UNK, PAD] + tokens"
   ]
  },
  {
   "cell_type": "code",
   "execution_count": 13,
   "metadata": {
    "execution": {
     "iopub.execute_input": "2024-10-01T15:16:23.777903Z",
     "iopub.status.busy": "2024-10-01T15:16:23.776645Z",
     "iopub.status.idle": "2024-10-01T15:16:23.806057Z",
     "shell.execute_reply": "2024-10-01T15:16:23.804835Z",
     "shell.execute_reply.started": "2024-10-01T15:16:23.777862Z"
    },
    "tags": []
   },
   "outputs": [],
   "source": [
    "token_to_id = {token: idx for idx, token in enumerate(tokens)}"
   ]
  },
  {
   "cell_type": "code",
   "execution_count": 54,
   "metadata": {
    "execution": {
     "iopub.execute_input": "2024-10-01T16:17:56.063874Z",
     "iopub.status.busy": "2024-10-01T16:17:56.063022Z",
     "iopub.status.idle": "2024-10-01T16:17:56.082859Z",
     "shell.execute_reply": "2024-10-01T16:17:56.081713Z",
     "shell.execute_reply.started": "2024-10-01T16:17:56.063839Z"
    }
   },
   "outputs": [],
   "source": [
    "UNK_IX, PAD_IX = map(token_to_id.get, [UNK, PAD])\n",
    "\n",
    "def as_matrix(sequences, max_len=None, min_len=10):\n",
    "    \"\"\" Convert a list of tokens into a matrix with padding \"\"\"\n",
    "    if isinstance(sequences[0], str):\n",
    "        sequences = list(map(str.split, sequences))\n",
    "        \n",
    "    max_len = min(max(map(len, sequences)), max_len or float('inf'))\n",
    "    max_len = max(max_len, min_len)\n",
    "    matrix = np.full((len(sequences), max_len), np.int32(PAD_IX))\n",
    "    for i,seq in enumerate(sequences):\n",
    "        row_ix = [token_to_id.get(word, UNK_IX) for word in seq[:max_len]]\n",
    "        matrix[i, :len(row_ix)] = row_ix\n",
    "    \n",
    "    return matrix"
   ]
  },
  {
   "cell_type": "code",
   "execution_count": 15,
   "metadata": {
    "execution": {
     "iopub.execute_input": "2024-10-01T15:27:24.625658Z",
     "iopub.status.busy": "2024-10-01T15:27:24.624630Z",
     "iopub.status.idle": "2024-10-01T15:27:24.644737Z",
     "shell.execute_reply": "2024-10-01T15:27:24.643441Z",
     "shell.execute_reply.started": "2024-10-01T15:27:24.625621Z"
    }
   },
   "outputs": [
    {
     "data": {
      "text/plain": [
       "34158"
      ]
     },
     "execution_count": 15,
     "metadata": {},
     "output_type": "execute_result"
    }
   ],
   "source": [
    "len(token_to_id)"
   ]
  },
  {
   "cell_type": "code",
   "execution_count": 16,
   "metadata": {
    "execution": {
     "iopub.execute_input": "2024-10-01T15:28:10.838783Z",
     "iopub.status.busy": "2024-10-01T15:28:10.837400Z",
     "iopub.status.idle": "2024-10-01T15:34:28.816167Z",
     "shell.execute_reply": "2024-10-01T15:34:28.814914Z",
     "shell.execute_reply.started": "2024-10-01T15:28:10.838745Z"
    }
   },
   "outputs": [
    {
     "name": "stdout",
     "output_type": "stream",
     "text": [
      "[==================================================] 100.0% 958.5/958.4MB downloaded\n"
     ]
    }
   ],
   "source": [
    "import gensim.downloader \n",
    "embeddings = gensim.downloader.load(\"fasttext-wiki-news-subwords-300\")"
   ]
  },
  {
   "cell_type": "code",
   "execution_count": 19,
   "metadata": {
    "execution": {
     "iopub.execute_input": "2024-10-01T15:38:54.508817Z",
     "iopub.status.busy": "2024-10-01T15:38:54.507879Z",
     "iopub.status.idle": "2024-10-01T15:38:54.568858Z",
     "shell.execute_reply": "2024-10-01T15:38:54.567543Z",
     "shell.execute_reply.started": "2024-10-01T15:38:54.508780Z"
    },
    "tags": []
   },
   "outputs": [
    {
     "name": "stdout",
     "output_type": "stream",
     "text": [
      "9945\n"
     ]
    }
   ],
   "source": [
    "counter = 0\n",
    "for token in tokens:\n",
    "    if token not in embeddings:\n",
    "        counter += 1\n",
    "        \n",
    "print(counter)"
   ]
  },
  {
   "cell_type": "code",
   "execution_count": 25,
   "metadata": {
    "execution": {
     "iopub.execute_input": "2024-10-01T15:57:17.316207Z",
     "iopub.status.busy": "2024-10-01T15:57:17.315009Z",
     "iopub.status.idle": "2024-10-01T15:57:35.081642Z",
     "shell.execute_reply": "2024-10-01T15:57:35.080348Z",
     "shell.execute_reply.started": "2024-10-01T15:57:17.316170Z"
    },
    "tags": []
   },
   "outputs": [],
   "source": [
    "from gensim.models import KeyedVectors\n",
    "glove_embs = KeyedVectors.load_word2vec_format('glove.6B.50d.txt', binary=False, no_header=True)"
   ]
  },
  {
   "cell_type": "code",
   "execution_count": 27,
   "metadata": {
    "execution": {
     "iopub.execute_input": "2024-10-01T15:58:03.451184Z",
     "iopub.status.busy": "2024-10-01T15:58:03.449771Z",
     "iopub.status.idle": "2024-10-01T15:58:03.519655Z",
     "shell.execute_reply": "2024-10-01T15:58:03.518406Z",
     "shell.execute_reply.started": "2024-10-01T15:58:03.451128Z"
    },
    "tags": []
   },
   "outputs": [
    {
     "name": "stdout",
     "output_type": "stream",
     "text": [
      "7935\n"
     ]
    }
   ],
   "source": [
    "counter = 0\n",
    "for token in tokens:\n",
    "    if token not in glove_embs:\n",
    "        counter += 1\n",
    "        \n",
    "print(counter)"
   ]
  },
  {
   "cell_type": "code",
   "execution_count": 34,
   "metadata": {
    "execution": {
     "iopub.execute_input": "2024-10-01T16:09:25.750003Z",
     "iopub.status.busy": "2024-10-01T16:09:25.748788Z",
     "iopub.status.idle": "2024-10-01T16:09:25.773688Z",
     "shell.execute_reply": "2024-10-01T16:09:25.772489Z",
     "shell.execute_reply.started": "2024-10-01T16:09:25.749962Z"
    }
   },
   "outputs": [],
   "source": [
    "emb_util_lambda = lambda idx: glove_embs[tokens[idx]] if tokens[idx] in glove_embs else list(np.random.normal(size=50))"
   ]
  },
  {
   "cell_type": "code",
   "execution_count": 42,
   "metadata": {
    "execution": {
     "iopub.execute_input": "2024-10-01T16:11:32.227269Z",
     "iopub.status.busy": "2024-10-01T16:11:32.226449Z",
     "iopub.status.idle": "2024-10-01T16:11:32.896019Z",
     "shell.execute_reply": "2024-10-01T16:11:32.894817Z",
     "shell.execute_reply.started": "2024-10-01T16:11:32.227233Z"
    },
    "tags": []
   },
   "outputs": [
    {
     "name": "stderr",
     "output_type": "stream",
     "text": [
      "/tmp/ipykernel_3897/1962516131.py:1: UserWarning: Creating a tensor from a list of numpy.ndarrays is extremely slow. Please consider converting the list to a single numpy.ndarray with numpy.array() before converting to a tensor. (Triggered internally at ../torch/csrc/utils/tensor_new.cpp:245.)\n",
      "  embeddings_tensor_glove = torch.FloatTensor([emb_util_lambda(idx) for idx in range(len(tokens))])\n"
     ]
    }
   ],
   "source": [
    "embeddings_tensor_glove = torch.FloatTensor([emb_util_lambda(idx) for idx in range(len(tokens))])"
   ]
  },
  {
   "cell_type": "code",
   "execution_count": 50,
   "metadata": {
    "execution": {
     "iopub.execute_input": "2024-10-01T16:13:42.373743Z",
     "iopub.status.busy": "2024-10-01T16:13:42.372500Z",
     "iopub.status.idle": "2024-10-01T16:13:42.409304Z",
     "shell.execute_reply": "2024-10-01T16:13:42.407995Z",
     "shell.execute_reply.started": "2024-10-01T16:13:42.373699Z"
    },
    "tags": []
   },
   "outputs": [
    {
     "data": {
      "text/plain": [
       "torch.Size([34158, 50])"
      ]
     },
     "execution_count": 50,
     "metadata": {},
     "output_type": "execute_result"
    }
   ],
   "source": [
    "embeddings_tensor_glove.shape"
   ]
  },
  {
   "cell_type": "code",
   "execution_count": 51,
   "metadata": {
    "execution": {
     "iopub.execute_input": "2024-10-01T16:14:56.374124Z",
     "iopub.status.busy": "2024-10-01T16:14:56.372789Z",
     "iopub.status.idle": "2024-10-01T16:15:02.975986Z",
     "shell.execute_reply": "2024-10-01T16:15:02.974688Z",
     "shell.execute_reply.started": "2024-10-01T16:14:56.374084Z"
    }
   },
   "outputs": [
    {
     "data": {
      "text/html": [
       "<style>#sk-container-id-1 {color: black;background-color: white;}#sk-container-id-1 pre{padding: 0;}#sk-container-id-1 div.sk-toggleable {background-color: white;}#sk-container-id-1 label.sk-toggleable__label {cursor: pointer;display: block;width: 100%;margin-bottom: 0;padding: 0.3em;box-sizing: border-box;text-align: center;}#sk-container-id-1 label.sk-toggleable__label-arrow:before {content: \"▸\";float: left;margin-right: 0.25em;color: #696969;}#sk-container-id-1 label.sk-toggleable__label-arrow:hover:before {color: black;}#sk-container-id-1 div.sk-estimator:hover label.sk-toggleable__label-arrow:before {color: black;}#sk-container-id-1 div.sk-toggleable__content {max-height: 0;max-width: 0;overflow: hidden;text-align: left;background-color: #f0f8ff;}#sk-container-id-1 div.sk-toggleable__content pre {margin: 0.2em;color: black;border-radius: 0.25em;background-color: #f0f8ff;}#sk-container-id-1 input.sk-toggleable__control:checked~div.sk-toggleable__content {max-height: 200px;max-width: 100%;overflow: auto;}#sk-container-id-1 input.sk-toggleable__control:checked~label.sk-toggleable__label-arrow:before {content: \"▾\";}#sk-container-id-1 div.sk-estimator input.sk-toggleable__control:checked~label.sk-toggleable__label {background-color: #d4ebff;}#sk-container-id-1 div.sk-label input.sk-toggleable__control:checked~label.sk-toggleable__label {background-color: #d4ebff;}#sk-container-id-1 input.sk-hidden--visually {border: 0;clip: rect(1px 1px 1px 1px);clip: rect(1px, 1px, 1px, 1px);height: 1px;margin: -1px;overflow: hidden;padding: 0;position: absolute;width: 1px;}#sk-container-id-1 div.sk-estimator {font-family: monospace;background-color: #f0f8ff;border: 1px dotted black;border-radius: 0.25em;box-sizing: border-box;margin-bottom: 0.5em;}#sk-container-id-1 div.sk-estimator:hover {background-color: #d4ebff;}#sk-container-id-1 div.sk-parallel-item::after {content: \"\";width: 100%;border-bottom: 1px solid gray;flex-grow: 1;}#sk-container-id-1 div.sk-label:hover label.sk-toggleable__label {background-color: #d4ebff;}#sk-container-id-1 div.sk-serial::before {content: \"\";position: absolute;border-left: 1px solid gray;box-sizing: border-box;top: 0;bottom: 0;left: 50%;z-index: 0;}#sk-container-id-1 div.sk-serial {display: flex;flex-direction: column;align-items: center;background-color: white;padding-right: 0.2em;padding-left: 0.2em;position: relative;}#sk-container-id-1 div.sk-item {position: relative;z-index: 1;}#sk-container-id-1 div.sk-parallel {display: flex;align-items: stretch;justify-content: center;background-color: white;position: relative;}#sk-container-id-1 div.sk-item::before, #sk-container-id-1 div.sk-parallel-item::before {content: \"\";position: absolute;border-left: 1px solid gray;box-sizing: border-box;top: 0;bottom: 0;left: 50%;z-index: -1;}#sk-container-id-1 div.sk-parallel-item {display: flex;flex-direction: column;z-index: 1;position: relative;background-color: white;}#sk-container-id-1 div.sk-parallel-item:first-child::after {align-self: flex-end;width: 50%;}#sk-container-id-1 div.sk-parallel-item:last-child::after {align-self: flex-start;width: 50%;}#sk-container-id-1 div.sk-parallel-item:only-child::after {width: 0;}#sk-container-id-1 div.sk-dashed-wrapped {border: 1px dashed gray;margin: 0 0.4em 0.5em 0.4em;box-sizing: border-box;padding-bottom: 0.4em;background-color: white;}#sk-container-id-1 div.sk-label label {font-family: monospace;font-weight: bold;display: inline-block;line-height: 1.2em;}#sk-container-id-1 div.sk-label-container {text-align: center;}#sk-container-id-1 div.sk-container {/* jupyter's `normalize.less` sets `[hidden] { display: none; }` but bootstrap.min.css set `[hidden] { display: none !important; }` so we also need the `!important` here to be able to override the default hidden behavior on the sphinx rendered scikit-learn.org. See: https://github.com/scikit-learn/scikit-learn/issues/21755 */display: inline-block !important;position: relative;}#sk-container-id-1 div.sk-text-repr-fallback {display: none;}</style><div id=\"sk-container-id-1\" class=\"sk-top-container\"><div class=\"sk-text-repr-fallback\"><pre>DictVectorizer(dtype=&lt;class &#x27;numpy.float32&#x27;&gt;, sparse=False)</pre><b>In a Jupyter environment, please rerun this cell to show the HTML representation or trust the notebook. <br />On GitHub, the HTML representation is unable to render, please try loading this page with nbviewer.org.</b></div><div class=\"sk-container\" hidden><div class=\"sk-item\"><div class=\"sk-estimator sk-toggleable\"><input class=\"sk-toggleable__control sk-hidden--visually\" id=\"sk-estimator-id-1\" type=\"checkbox\" checked><label for=\"sk-estimator-id-1\" class=\"sk-toggleable__label sk-toggleable__label-arrow\">DictVectorizer</label><div class=\"sk-toggleable__content\"><pre>DictVectorizer(dtype=&lt;class &#x27;numpy.float32&#x27;&gt;, sparse=False)</pre></div></div></div></div></div>"
      ],
      "text/plain": [
       "DictVectorizer(dtype=<class 'numpy.float32'>, sparse=False)"
      ]
     },
     "execution_count": 51,
     "metadata": {},
     "output_type": "execute_result"
    }
   ],
   "source": [
    "from sklearn.feature_extraction import DictVectorizer\n",
    "\n",
    "# we only consider top-1k most frequent companies to minimize memory usage\n",
    "top_companies, top_counts = zip(*Counter(data['Company']).most_common(1000))\n",
    "recognized_companies = set(top_companies)\n",
    "data[\"Company\"] = data[\"Company\"].apply(lambda comp: comp if comp in recognized_companies else \"Other\")\n",
    "\n",
    "categorical_vectorizer = DictVectorizer(dtype=np.float32, sparse=False)\n",
    "categorical_vectorizer.fit(data[categorical_columns].apply(dict, axis=1))"
   ]
  },
  {
   "cell_type": "code",
   "execution_count": 52,
   "metadata": {
    "execution": {
     "iopub.execute_input": "2024-10-01T16:16:17.860042Z",
     "iopub.status.busy": "2024-10-01T16:16:17.858627Z",
     "iopub.status.idle": "2024-10-01T16:16:17.984503Z",
     "shell.execute_reply": "2024-10-01T16:16:17.982984Z",
     "shell.execute_reply.started": "2024-10-01T16:16:17.860003Z"
    }
   },
   "outputs": [
    {
     "name": "stdout",
     "output_type": "stream",
     "text": [
      "Train size =  195814\n",
      "Validation size =  48954\n"
     ]
    }
   ],
   "source": [
    "from sklearn.model_selection import train_test_split\n",
    "\n",
    "data_train, data_val = train_test_split(data, test_size=0.2, random_state=42)\n",
    "data_train.index = range(len(data_train))\n",
    "data_val.index = range(len(data_val))\n",
    "\n",
    "print(\"Train size = \", len(data_train))\n",
    "print(\"Validation size = \", len(data_val))"
   ]
  },
  {
   "cell_type": "code",
   "execution_count": 75,
   "metadata": {
    "execution": {
     "iopub.execute_input": "2024-10-01T18:07:30.761489Z",
     "iopub.status.busy": "2024-10-01T18:07:30.759706Z",
     "iopub.status.idle": "2024-10-01T18:07:30.803694Z",
     "shell.execute_reply": "2024-10-01T18:07:30.802566Z",
     "shell.execute_reply.started": "2024-10-01T18:07:30.761426Z"
    },
    "tags": []
   },
   "outputs": [],
   "source": [
    "import torch\n",
    "import torch.nn as nn\n",
    "import torch.nn.functional as F\n",
    "\n",
    "\n",
    "device = 'cuda' if torch.cuda.is_available() else 'cpu'\n",
    "\n",
    "\n",
    "def to_tensors(batch, device):\n",
    "    batch_tensors = dict()\n",
    "    for key, arr in batch.items():\n",
    "        if key in [\"FullDescription\", \"Title\"]:\n",
    "            batch_tensors[key] = torch.tensor(arr, device=device, dtype=torch.int64)\n",
    "        else:\n",
    "            batch_tensors[key] = torch.tensor(arr, device=device)\n",
    "    return batch_tensors\n",
    "\n",
    "\n",
    "def make_batch(data, max_len=None, word_dropout=0.1, device=device):\n",
    "    \"\"\"\n",
    "    Creates a keras-friendly dict from the batch data.\n",
    "    :param word_dropout: replaces token index with UNK_IX with this probability\n",
    "    :returns: a dict with {'title' : int64[batch, title_max_len]\n",
    "    \"\"\"\n",
    "    batch = {}\n",
    "    batch[\"Title\"] = as_matrix(data[\"Title\"].values, max_len)\n",
    "    batch[\"FullDescription\"] = as_matrix(data[\"FullDescription\"].values, max_len=20)\n",
    "    batch['Categorical'] = categorical_vectorizer.transform(data[categorical_columns].apply(dict, axis=1))\n",
    "    \n",
    "    if word_dropout != 0:\n",
    "        batch[\"FullDescription\"] = apply_word_dropout(batch[\"FullDescription\"], 1. - word_dropout)\n",
    "    \n",
    "    if TARGET_COLUMN in data.columns:\n",
    "        batch[TARGET_COLUMN] = data[TARGET_COLUMN].values\n",
    "    \n",
    "    return to_tensors(batch, device)\n",
    "\n",
    "def apply_word_dropout(matrix, keep_prop, replace_with=UNK_IX, pad_ix=PAD_IX,):\n",
    "    dropout_mask = np.random.choice(2, np.shape(matrix), p=[keep_prop, 1 - keep_prop])\n",
    "    dropout_mask &= matrix != pad_ix\n",
    "    return np.choose(dropout_mask, [matrix, np.full_like(matrix, replace_with)])"
   ]
  },
  {
   "cell_type": "code",
   "execution_count": 56,
   "metadata": {
    "execution": {
     "iopub.execute_input": "2024-10-01T16:18:34.040628Z",
     "iopub.status.busy": "2024-10-01T16:18:34.039299Z",
     "iopub.status.idle": "2024-10-01T16:18:35.045297Z",
     "shell.execute_reply": "2024-10-01T16:18:35.043985Z",
     "shell.execute_reply.started": "2024-10-01T16:18:34.040582Z"
    }
   },
   "outputs": [
    {
     "data": {
      "text/plain": [
       "{'Title': tensor([[27645, 29893, 33674,     1,     1,     1,     1,     1,     1,     1],\n",
       "         [29239,   197, 19175, 20042, 15554, 23162,  4051,     1,     1,     1],\n",
       "         [10609, 30412, 17746,    33,  8705, 29157,    65,     1,     1,     1]],\n",
       "        device='cuda:0'),\n",
       " 'FullDescription': tensor([[27645, 29893, 33674, 32939,   982, 27645, 29893, 33674, 16451, 32939],\n",
       "         [29239,   197, 19175, 20042, 15554, 23162,  4051, 25511,   907,    82],\n",
       "         [30746, 21956, 20601,  6409, 16451,  8165, 27493,   982, 30412, 17746]],\n",
       "        device='cuda:0'),\n",
       " 'Categorical': tensor([[0., 0., 0.,  ..., 0., 0., 0.],\n",
       "         [0., 0., 0.,  ..., 0., 0., 0.],\n",
       "         [0., 0., 0.,  ..., 0., 0., 0.]], device='cuda:0'),\n",
       " 'Log1pSalary': tensor([ 9.7115, 10.4631, 10.7144], device='cuda:0')}"
      ]
     },
     "execution_count": 56,
     "metadata": {},
     "output_type": "execute_result"
    }
   ],
   "source": [
    "make_batch(data_train[:3], max_len=10)"
   ]
  },
  {
   "cell_type": "code",
   "execution_count": 58,
   "metadata": {
    "execution": {
     "iopub.execute_input": "2024-10-01T17:33:37.509895Z",
     "iopub.status.busy": "2024-10-01T17:33:37.508805Z",
     "iopub.status.idle": "2024-10-01T17:33:37.526186Z",
     "shell.execute_reply": "2024-10-01T17:33:37.525128Z",
     "shell.execute_reply.started": "2024-10-01T17:33:37.509844Z"
    }
   },
   "outputs": [],
   "source": [
    "class ConvNextLikeBlock(nn.Module):\n",
    "    def __init__(self, dim, drop_rate=0.1):\n",
    "        super().__init__()\n",
    "        \n",
    "        self.depthwise_conv = nn.Conv1d(in_channels=dim, out_channels=dim, kernel_size=5, padding=2, groups=dim)  # depthwise conv 5x5, padding 2, dim->dim\n",
    "        \n",
    "        self.norm = nn.BatchNorm1d(dim)\n",
    "        \n",
    "        self.pointwise_conv1 = nn.Conv1d(in_channels=dim, out_channels=dim*4, kernel_size=1)  # 1x1 conv, dim -> dim*4  YOUR CODE\n",
    "\n",
    "        self.activation = nn.GELU()\n",
    "        \n",
    "        self.pointwise_conv2 = nn.Conv1d(in_channels=dim*4, out_channels=dim, kernel_size=1)  # 1x1 conv, 4*dim -> dim YOUR CODE\n",
    "\n",
    "        self.dropout = nn.Dropout(drop_rate)\n",
    "\n",
    "    def forward(self, x):\n",
    "        input = x\n",
    "        # YOUR CODE: sequentially apply to x: depthwise_conv + norm + pointwise_conv1 + activation + pointwise_conv2 + layer_scale\n",
    "        x = self.depthwise_conv(x)\n",
    "        x = self.norm(x)\n",
    "        x = self.pointwise_conv1(x)\n",
    "        x = self.activation(x)\n",
    "        x = self.pointwise_conv2(x)\n",
    "\n",
    "        x = input + self.dropout(x)\n",
    "        return x"
   ]
  },
  {
   "cell_type": "code",
   "execution_count": 70,
   "metadata": {
    "execution": {
     "iopub.execute_input": "2024-10-01T18:05:46.947476Z",
     "iopub.status.busy": "2024-10-01T18:05:46.946040Z",
     "iopub.status.idle": "2024-10-01T18:05:46.966230Z",
     "shell.execute_reply": "2024-10-01T18:05:46.965032Z",
     "shell.execute_reply.started": "2024-10-01T18:05:46.947422Z"
    },
    "tags": []
   },
   "outputs": [],
   "source": [
    "def create_stem(out_channels, in_channels=50):\n",
    "    return nn.Sequential(\n",
    "        nn.Conv1d(in_channels=in_channels, out_channels=out_channels, kernel_size=2, stride=2, padding=0), # YOUR CODE; conv 2x2, stride 2, padding 0\n",
    "        nn.BatchNorm1d(out_channels)\n",
    "    )\n",
    "\n",
    "def create_downscale_block(in_channels, out_channels):\n",
    "    return nn.Sequential(\n",
    "        nn.BatchNorm1d(in_channels),\n",
    "        nn.Conv1d(in_channels=in_channels, out_channels=out_channels, kernel_size=2, stride=2, padding=0)  # YOUR CODE: conv 2x2, stride 2, padding 0\n",
    "    )"
   ]
  },
  {
   "cell_type": "code",
   "execution_count": 94,
   "metadata": {
    "execution": {
     "iopub.execute_input": "2024-10-01T18:14:18.318591Z",
     "iopub.status.busy": "2024-10-01T18:14:18.317275Z",
     "iopub.status.idle": "2024-10-01T18:14:18.338114Z",
     "shell.execute_reply": "2024-10-01T18:14:18.336883Z",
     "shell.execute_reply.started": "2024-10-01T18:14:18.318548Z"
    },
    "tags": []
   },
   "outputs": [],
   "source": [
    "class GlobalAveragePool(nn.Module):\n",
    "    def __init__(self, dim):\n",
    "        super().__init__()\n",
    "        \n",
    "    def forward(self, x):\n",
    "        return torch.mean(x, dim=-1)\n",
    "\n",
    "class GlobalMaxPool(nn.Module):\n",
    "    def __init__(self):\n",
    "        super().__init__()\n",
    "        \n",
    "    def forward(self, x):\n",
    "        return x.max(dim=-1).values\n",
    "    \n",
    "class GlobalSoftmaxPool(nn.Module):\n",
    "    def __init__(self):\n",
    "        super().__init__()\n",
    "        self.sm = nn.Softmax(dim=-1)\n",
    "\n",
    "    def forward(self, x):\n",
    "        return torch.mean(x * self.sm(x), dim=-1)"
   ]
  },
  {
   "cell_type": "code",
   "execution_count": 100,
   "metadata": {
    "execution": {
     "iopub.execute_input": "2024-10-01T18:14:38.872963Z",
     "iopub.status.busy": "2024-10-01T18:14:38.871940Z",
     "iopub.status.idle": "2024-10-01T18:14:38.894985Z",
     "shell.execute_reply": "2024-10-01T18:14:38.893768Z",
     "shell.execute_reply.started": "2024-10-01T18:14:38.872927Z"
    },
    "tags": []
   },
   "outputs": [],
   "source": [
    "class TextEncoder(nn.Module):\n",
    "    def __init__(self, initial_embedding_weights=embeddings_tensor_glove, hid_size=50):\n",
    "        super().__init__()\n",
    "        self.main_part = nn.Sequential()\n",
    "        assert hid_size == initial_embedding_weights.shape[1]\n",
    "        self.emb = nn.Embedding.from_pretrained(initial_embedding_weights)\n",
    "        \n",
    "        self.main_part.add_module('stem', create_stem(64))\n",
    "        self.main_part.add_module('convnext1', ConvNextLikeBlock(64))\n",
    "        self.main_part.add_module('downscale1', create_downscale_block(64, 128))\n",
    "        \n",
    "        self.main_part.add_module('convnext2', ConvNextLikeBlock(128))\n",
    "        self.main_part.add_module('downscale2', create_downscale_block(128, 256))\n",
    "        \n",
    "        self.main_part.add_module('convnext3', ConvNextLikeBlock(256))\n",
    "        \n",
    "        self.maxpool = GlobalMaxPool()\n",
    "        self.softmaxpool = GlobalSoftmaxPool()\n",
    "\n",
    "        self.maxpool_norm = nn.BatchNorm1d(256)\n",
    "        self.final_norm = nn.BatchNorm1d(512)\n",
    "        \n",
    "        self.linear = nn.Linear(512, 256)\n",
    "        self.relu = nn.ReLU()\n",
    "\n",
    "        \n",
    "    def forward(self, x):\n",
    "        x = self.emb(x)\n",
    "        x.swapaxes_(1, 2)\n",
    "        x = self.main_part(x)\n",
    "        maxpool_normed = self.maxpool_norm(self.maxpool(x))\n",
    "        softmaxpooled = self.softmaxpool(x)\n",
    "        x = self.final_norm(torch.cat((maxpool_normed, softmaxpooled), dim=1))\n",
    "        return self.relu(self.linear(x))\n",
    "\n",
    "    \n",
    "    "
   ]
  },
  {
   "cell_type": "code",
   "execution_count": 101,
   "metadata": {
    "execution": {
     "iopub.execute_input": "2024-10-01T18:14:39.080681Z",
     "iopub.status.busy": "2024-10-01T18:14:39.079255Z",
     "iopub.status.idle": "2024-10-01T18:14:39.115029Z",
     "shell.execute_reply": "2024-10-01T18:14:39.113833Z",
     "shell.execute_reply.started": "2024-10-01T18:14:39.080621Z"
    },
    "tags": []
   },
   "outputs": [],
   "source": [
    "class CategoricalEncoder(nn.Module):\n",
    "    def __init__(self, features_num, last_size=256):\n",
    "        super().__init__()\n",
    "        self.mlp_block = nn.Sequential()\n",
    "        self.mlp_block.add_module('linear_1', nn.Linear(features_num, 1024))\n",
    "        self.mlp_block.add_module('relu_1', nn.ReLU())\n",
    "        self.mlp_block.add_module('linear_2', nn.Linear(1024, 512))\n",
    "        self.mlp_block.add_module('relu_2', nn.ReLU())\n",
    "        self.mlp_block.add_module('linear_3', nn.Linear(512, last_size))\n",
    "        self.mlp_block.add_module('relu_3', nn.ReLU())\n",
    "        \n",
    "    def forward(self, x):\n",
    "        return self.mlp_block(x)"
   ]
  },
  {
   "cell_type": "code",
   "execution_count": 102,
   "metadata": {
    "execution": {
     "iopub.execute_input": "2024-10-01T18:14:39.381743Z",
     "iopub.status.busy": "2024-10-01T18:14:39.380404Z",
     "iopub.status.idle": "2024-10-01T18:14:39.401551Z",
     "shell.execute_reply": "2024-10-01T18:14:39.400283Z",
     "shell.execute_reply.started": "2024-10-01T18:14:39.381692Z"
    },
    "tags": []
   },
   "outputs": [],
   "source": [
    "class SalaryPredictor(nn.Module):\n",
    "    def __init__(self, n_tokens=len(tokens), n_cat_features=len(categorical_vectorizer.vocabulary_), hid_size=64, last_size_cat=256):\n",
    "        super().__init__()\n",
    "        #  YOUR CODE HERE\n",
    "        self.title_enc = TextEncoder()\n",
    "        self.full_desc_enc = TextEncoder()\n",
    "        self.cat_enc = CategoricalEncoder(n_cat_features)\n",
    "        self.mlp_block = nn.Sequential(\n",
    "            nn.Linear(512 + last_size_cat, 1024),\n",
    "            nn.ReLU(),\n",
    "            nn.BatchNorm1d(1024),\n",
    "            nn.Linear(1024, 256),\n",
    "            nn.ReLU(),\n",
    "            nn.BatchNorm1d(256),\n",
    "            nn.Linear(256, 1),\n",
    "        )\n",
    "\n",
    "        \n",
    "    def forward(self, batch):\n",
    "        # YOUR CODE HERE\n",
    "        title_processed = self.title_enc(batch['Title'])\n",
    "        full_desc_processed = self.full_desc_enc(batch['FullDescription'])\n",
    "        cat_features_processed = self.cat_enc(batch['Categorical'])\n",
    "        concated = torch.cat((title_processed, full_desc_processed, cat_features_processed), 1)\n",
    "        return self.mlp_block(concated)\n",
    "\n",
    "        \n",
    "        "
   ]
  },
  {
   "cell_type": "code",
   "execution_count": 103,
   "metadata": {
    "execution": {
     "iopub.execute_input": "2024-10-01T18:14:39.607157Z",
     "iopub.status.busy": "2024-10-01T18:14:39.606202Z",
     "iopub.status.idle": "2024-10-01T18:14:39.748023Z",
     "shell.execute_reply": "2024-10-01T18:14:39.746822Z",
     "shell.execute_reply.started": "2024-10-01T18:14:39.607103Z"
    },
    "tags": []
   },
   "outputs": [],
   "source": [
    "model = SalaryPredictor()"
   ]
  },
  {
   "cell_type": "code",
   "execution_count": 104,
   "metadata": {
    "execution": {
     "iopub.execute_input": "2024-10-01T18:14:40.094984Z",
     "iopub.status.busy": "2024-10-01T18:14:40.094067Z",
     "iopub.status.idle": "2024-10-01T18:14:40.485808Z",
     "shell.execute_reply": "2024-10-01T18:14:40.484544Z",
     "shell.execute_reply.started": "2024-10-01T18:14:40.094949Z"
    },
    "tags": []
   },
   "outputs": [
    {
     "name": "stdout",
     "output_type": "stream",
     "text": [
      "torch.Size([100])\n"
     ]
    }
   ],
   "source": [
    "model = SalaryPredictor().to(device)\n",
    "batch = make_batch(data_train[:100], device=device)\n",
    "criterion = nn.MSELoss()\n",
    "\n",
    "dummy_pred = model(batch)\n",
    "dummy_loss = criterion(dummy_pred.squeeze_(1), batch[TARGET_COLUMN])\n",
    "print(dummy_pred.shape)\n",
    "assert dummy_pred.shape == torch.Size([100])\n",
    "assert len(torch.unique(dummy_pred)) > 20, \"model returns suspiciously few unique outputs. Check your initialization\"\n",
    "assert dummy_loss.ndim == 0 and 0. <= dummy_loss <= 250., \"make sure you minimize MSE\""
   ]
  },
  {
   "cell_type": "code",
   "execution_count": 105,
   "metadata": {
    "execution": {
     "iopub.execute_input": "2024-10-01T18:17:04.955748Z",
     "iopub.status.busy": "2024-10-01T18:17:04.954244Z",
     "iopub.status.idle": "2024-10-01T18:17:04.983354Z",
     "shell.execute_reply": "2024-10-01T18:17:04.982138Z",
     "shell.execute_reply.started": "2024-10-01T18:17:04.955688Z"
    }
   },
   "outputs": [],
   "source": [
    "def iterate_minibatches(data, batch_size=256, shuffle=True, cycle=False, device=device, **kwargs):\n",
    "    \"\"\" iterates minibatches of data in random order \"\"\"\n",
    "    while True:\n",
    "        indices = np.arange(len(data))\n",
    "        if shuffle:\n",
    "            indices = np.random.permutation(indices)\n",
    "\n",
    "        for start in range(0, len(indices), batch_size):\n",
    "            batch = make_batch(data.iloc[indices[start : start + batch_size]], device=device, **kwargs)\n",
    "            yield batch\n",
    "        \n",
    "        if not cycle: break"
   ]
  },
  {
   "cell_type": "code",
   "execution_count": 106,
   "metadata": {
    "execution": {
     "iopub.execute_input": "2024-10-01T18:17:05.431057Z",
     "iopub.status.busy": "2024-10-01T18:17:05.430084Z",
     "iopub.status.idle": "2024-10-01T18:17:05.459744Z",
     "shell.execute_reply": "2024-10-01T18:17:05.458583Z",
     "shell.execute_reply.started": "2024-10-01T18:17:05.431021Z"
    }
   },
   "outputs": [],
   "source": [
    "from tqdm.auto import tqdm\n",
    "\n",
    "BATCH_SIZE = 16\n",
    "EPOCHS = 5"
   ]
  },
  {
   "cell_type": "code",
   "execution_count": 107,
   "metadata": {
    "execution": {
     "iopub.execute_input": "2024-10-01T18:17:05.927634Z",
     "iopub.status.busy": "2024-10-01T18:17:05.926666Z",
     "iopub.status.idle": "2024-10-01T18:17:05.949152Z",
     "shell.execute_reply": "2024-10-01T18:17:05.947924Z",
     "shell.execute_reply.started": "2024-10-01T18:17:05.927567Z"
    }
   },
   "outputs": [],
   "source": [
    "def print_metrics(model, data, batch_size=BATCH_SIZE, name=\"\", device=torch.device('cpu'), **kw):\n",
    "    squared_error = abs_error = num_samples = 0.0\n",
    "    model.eval()\n",
    "    with torch.no_grad():\n",
    "        for batch in iterate_minibatches(data, batch_size=batch_size, shuffle=False, device=device, **kw):\n",
    "            batch_pred = model(batch)\n",
    "            batch_pred.squeeze_(1)\n",
    "            squared_error += torch.sum(torch.square(batch_pred - batch[TARGET_COLUMN]))\n",
    "            abs_error += torch.sum(torch.abs(batch_pred - batch[TARGET_COLUMN]))\n",
    "            num_samples += len(batch_pred)\n",
    "    mse = squared_error.detach().cpu().numpy() / num_samples\n",
    "    mae = abs_error.detach().cpu().numpy() / num_samples\n",
    "    print(\"%s results:\" % (name or \"\"))\n",
    "    print(\"Mean square error: %.5f\" % mse)\n",
    "    print(\"Mean absolute error: %.5f\" % mae)\n",
    "    return mse, mae\n"
   ]
  },
  {
   "cell_type": "code",
   "execution_count": 108,
   "metadata": {
    "execution": {
     "iopub.execute_input": "2024-10-01T18:17:07.041955Z",
     "iopub.status.busy": "2024-10-01T18:17:07.040888Z",
     "iopub.status.idle": "2024-10-01T18:46:42.352925Z",
     "shell.execute_reply": "2024-10-01T18:46:42.351668Z",
     "shell.execute_reply.started": "2024-10-01T18:17:07.041913Z"
    }
   },
   "outputs": [
    {
     "name": "stdout",
     "output_type": "stream",
     "text": [
      "epoch: 0\n"
     ]
    },
    {
     "name": "stderr",
     "output_type": "stream",
     "text": [
      "12239it [05:21, 38.02it/s]                           \n"
     ]
    },
    {
     "name": "stdout",
     "output_type": "stream",
     "text": [
      " results:\n",
      "Mean square error: 0.11732\n",
      "Mean absolute error: 0.26378\n",
      "epoch: 1\n"
     ]
    },
    {
     "name": "stderr",
     "output_type": "stream",
     "text": [
      "12239it [05:19, 38.25it/s]                           \n"
     ]
    },
    {
     "name": "stdout",
     "output_type": "stream",
     "text": [
      " results:\n",
      "Mean square error: 0.10971\n",
      "Mean absolute error: 0.25240\n",
      "epoch: 2\n"
     ]
    },
    {
     "name": "stderr",
     "output_type": "stream",
     "text": [
      "12239it [05:18, 38.37it/s]                           \n"
     ]
    },
    {
     "name": "stdout",
     "output_type": "stream",
     "text": [
      " results:\n",
      "Mean square error: 0.10554\n",
      "Mean absolute error: 0.24821\n",
      "epoch: 3\n"
     ]
    },
    {
     "name": "stderr",
     "output_type": "stream",
     "text": [
      "12239it [05:19, 38.25it/s]                           \n"
     ]
    },
    {
     "name": "stdout",
     "output_type": "stream",
     "text": [
      " results:\n",
      "Mean square error: 0.09817\n",
      "Mean absolute error: 0.23713\n",
      "epoch: 4\n"
     ]
    },
    {
     "name": "stderr",
     "output_type": "stream",
     "text": [
      "12239it [05:19, 38.28it/s]                           \n"
     ]
    },
    {
     "name": "stdout",
     "output_type": "stream",
     "text": [
      " results:\n",
      "Mean square error: 0.09462\n",
      "Mean absolute error: 0.23155\n"
     ]
    }
   ],
   "source": [
    "model = SalaryPredictor().to(device)\n",
    "criterion = nn.MSELoss(reduction='sum')\n",
    "optimizer = torch.optim.Adam(model.parameters(), lr=1e-4)\n",
    "\n",
    "for epoch in range(EPOCHS):\n",
    "    print(f\"epoch: {epoch}\")\n",
    "    model.train()\n",
    "    for i, batch in tqdm(enumerate(\n",
    "            iterate_minibatches(data_train, batch_size=BATCH_SIZE, device=device)),\n",
    "            total=len(data_train) // BATCH_SIZE\n",
    "        ):\n",
    "        pred = model(batch)\n",
    "        pred.squeeze_(1)\n",
    "\n",
    "        loss = criterion(pred, batch[TARGET_COLUMN])\n",
    "        optimizer.zero_grad()\n",
    "        loss.backward()\n",
    "        optimizer.step()\n",
    "        \n",
    "    print_metrics(model, data_val, device=device)\n",
    "\n",
    "      "
   ]
  },
  {
   "cell_type": "markdown",
   "metadata": {},
   "source": [
    "### A short report\n",
    "\n",
    "Please tell us what you did and how did it work.\n",
    "\n",
    "`<YOUR_TEXT_HERE>`, i guess..."
   ]
  },
  {
   "cell_type": "markdown",
   "metadata": {},
   "source": [
    "## Recommended options\n",
    "\n",
    "#### A) CNN architecture\n",
    "\n",
    "All the tricks you know about dense and convolutional neural networks apply here as well.\n",
    "* Dropout. Nuff said.\n",
    "* Batch Norm. This time it's `nn.BatchNorm*`/`L.BatchNormalization`\n",
    "* Parallel convolution layers. The idea is that you apply several nn.Conv1d to the same embeddings and concatenate output channels.\n",
    "* More layers, more neurons, ya know...\n",
    "\n",
    "\n",
    "#### B) Play with pooling\n",
    "\n",
    "There's more than one way to perform pooling:\n",
    "* Max over time (independently for each feature)\n",
    "* Average over time (excluding PAD)\n",
    "* Softmax-pooling:\n",
    "$$ out_{i, t} = \\sum_t {h_{i,t} \\cdot {{e ^ {h_{i, t}}} \\over \\sum_\\tau e ^ {h_{j, \\tau}} } }$$\n",
    "\n",
    "* Attentive pooling\n",
    "$$ out_{i, t} = \\sum_t {h_{i,t} \\cdot Attn(h_t)}$$\n",
    "\n",
    ", where $$ Attn(h_t) = {{e ^ {NN_{attn}(h_t)}} \\over \\sum_\\tau e ^ {NN_{attn}(h_\\tau)}}  $$\n",
    "and $NN_{attn}$ is a dense layer.\n",
    "\n",
    "The optimal score is usually achieved by concatenating several different poolings, including several attentive pooling with different $NN_{attn}$ (aka multi-headed attention).\n",
    "\n",
    "The catch is that keras layers do not inlude those toys. You will have to [write your own keras layer](https://keras.io/layers/writing-your-own-keras-layers/). Or use pure tensorflow, it might even be easier :)\n",
    "\n",
    "#### C) Fun with words\n",
    "\n",
    "It's not always a good idea to train embeddings from scratch. Here's a few tricks:\n",
    "\n",
    "* Use a pre-trained embeddings from `gensim.downloader.load`. See last lecture.\n",
    "* Start with pre-trained embeddings, then fine-tune them with gradient descent. You may or may not download pre-trained embeddings from [here](http://nlp.stanford.edu/data/glove.6B.zip) and follow this [manual](https://keras.io/examples/nlp/pretrained_word_embeddings/) to initialize your Keras embedding layer with downloaded weights.\n",
    "* Use the same embedding matrix in title and desc vectorizer\n",
    "\n",
    "\n",
    "#### D) Going recurrent\n",
    "\n",
    "We've already learned that recurrent networks can do cool stuff in sequence modelling. Turns out, they're not useless for classification as well. With some tricks of course..\n",
    "\n",
    "* Like convolutional layers, LSTM should be pooled into a fixed-size vector with some of the poolings.\n",
    "* Since you know all the text in advance, use bidirectional RNN\n",
    "  * Run one LSTM from left to right\n",
    "  * Run another in parallel from right to left \n",
    "  * Concatenate their output sequences along unit axis (dim=-1)\n",
    "\n",
    "* It might be good idea to mix convolutions and recurrent layers differently for title and description\n",
    "\n",
    "\n",
    "#### E) Optimizing seriously\n",
    "\n",
    "* You don't necessarily need 100 epochs. Use early stopping. If you've never done this before, take a look at [early stopping callback(keras)](https://keras.io/callbacks/#earlystopping) or in [pytorch(lightning)](https://pytorch-lightning.readthedocs.io/en/latest/common/early_stopping.html).\n",
    "  * In short, train until you notice that validation\n",
    "  * Maintain the best-on-validation snapshot via `model.save(file_name)`\n",
    "  * Plotting learning curves is usually a good idea\n",
    "  \n",
    "Good luck! And may the force be with you!"
   ]
  },
  {
   "cell_type": "code",
   "execution_count": null,
   "metadata": {},
   "outputs": [],
   "source": []
  }
 ],
 "metadata": {
  "kernelspec": {
   "display_name": "DataSphere Kernel",
   "language": "python",
   "name": "python3"
  },
  "language_info": {
   "codemirror_mode": {
    "name": "ipython",
    "version": 3
   },
   "file_extension": ".py",
   "mimetype": "text/x-python",
   "name": "python",
   "nbconvert_exporter": "python",
   "pygments_lexer": "ipython3",
   "version": "3.10.12"
  }
 },
 "nbformat": 4,
 "nbformat_minor": 4
}

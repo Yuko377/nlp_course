{
 "cells": [
  {
   "cell_type": "markdown",
   "metadata": {},
   "source": [
    "### Salary prediction, episode II: make it actually work (4 points)\n",
    "\n",
    "Your main task is to use some of the tricks you've learned on the network and analyze if you can improve __validation MAE__. Try __at least 3 options__ from the list below for a passing grade. Write a short report about what you have tried. More ideas = more bonus points. \n",
    "\n",
    "__Please be serious:__ \" plot learning curves in MAE/epoch, compare models based on optimal performance, test one change at a time. You know the drill :)\n",
    "\n",
    "You can use either __pytorch__ or __tensorflow__ or any other framework (e.g. pure __keras__). Feel free to adapt the seminar code for your needs. For tensorflow version, consider `seminar_tf2.ipynb` as a starting point.\n"
   ]
  },
  {
   "cell_type": "code",
   "execution_count": 1,
   "metadata": {
    "execution": {
     "iopub.execute_input": "2024-10-03T11:25:49.455953Z",
     "iopub.status.busy": "2024-10-03T11:25:49.454958Z",
     "iopub.status.idle": "2024-10-03T11:25:49.562186Z",
     "shell.execute_reply": "2024-10-03T11:25:49.561382Z",
     "shell.execute_reply.started": "2024-10-03T11:25:49.455908Z"
    },
    "tags": []
   },
   "outputs": [],
   "source": [
    "# < A whole lot of your code > - models, charts, analysis\n",
    "import numpy as np\n",
    "import pandas as pd\n",
    "import matplotlib.pyplot as plt\n",
    "%matplotlib inline"
   ]
  },
  {
   "cell_type": "code",
   "execution_count": 2,
   "metadata": {
    "execution": {
     "iopub.execute_input": "2024-10-03T11:27:17.689584Z",
     "iopub.status.busy": "2024-10-03T11:27:17.688467Z",
     "iopub.status.idle": "2024-10-03T11:27:25.441989Z",
     "shell.execute_reply": "2024-10-03T11:27:25.441200Z",
     "shell.execute_reply.started": "2024-10-03T11:27:17.689540Z"
    },
    "tags": []
   },
   "outputs": [],
   "source": [
    "import torch"
   ]
  },
  {
   "cell_type": "code",
   "execution_count": 3,
   "metadata": {
    "execution": {
     "iopub.execute_input": "2024-10-03T11:27:25.444263Z",
     "iopub.status.busy": "2024-10-03T11:27:25.443603Z",
     "iopub.status.idle": "2024-10-03T11:27:33.584644Z",
     "shell.execute_reply": "2024-10-03T11:27:33.583835Z",
     "shell.execute_reply.started": "2024-10-03T11:27:25.444225Z"
    },
    "tags": []
   },
   "outputs": [
    {
     "data": {
      "text/plain": [
       "(244768, 12)"
      ]
     },
     "execution_count": 3,
     "metadata": {},
     "output_type": "execute_result"
    }
   ],
   "source": [
    "data = pd.read_csv(\"./Train_rev1.zip\", compression='zip', index_col=None)\n",
    "data.shape"
   ]
  },
  {
   "cell_type": "code",
   "execution_count": 4,
   "metadata": {
    "execution": {
     "iopub.execute_input": "2024-10-03T11:27:33.586526Z",
     "iopub.status.busy": "2024-10-03T11:27:33.585708Z",
     "iopub.status.idle": "2024-10-03T11:27:33.616709Z",
     "shell.execute_reply": "2024-10-03T11:27:33.615931Z",
     "shell.execute_reply.started": "2024-10-03T11:27:33.586490Z"
    },
    "tags": []
   },
   "outputs": [],
   "source": [
    "data['Log1pSalary'] = np.log1p(data['SalaryNormalized']).astype('float32')"
   ]
  },
  {
   "cell_type": "code",
   "execution_count": 5,
   "metadata": {
    "execution": {
     "iopub.execute_input": "2024-10-03T11:27:33.619440Z",
     "iopub.status.busy": "2024-10-03T11:27:33.618512Z",
     "iopub.status.idle": "2024-10-03T11:27:33.982517Z",
     "shell.execute_reply": "2024-10-03T11:27:33.981676Z",
     "shell.execute_reply.started": "2024-10-03T11:27:33.619400Z"
    },
    "tags": []
   },
   "outputs": [
    {
     "data": {
      "text/html": [
       "<div>\n",
       "<style scoped>\n",
       "    .dataframe tbody tr th:only-of-type {\n",
       "        vertical-align: middle;\n",
       "    }\n",
       "\n",
       "    .dataframe tbody tr th {\n",
       "        vertical-align: top;\n",
       "    }\n",
       "\n",
       "    .dataframe thead th {\n",
       "        text-align: right;\n",
       "    }\n",
       "</style>\n",
       "<table border=\"1\" class=\"dataframe\">\n",
       "  <thead>\n",
       "    <tr style=\"text-align: right;\">\n",
       "      <th></th>\n",
       "      <th>Id</th>\n",
       "      <th>Title</th>\n",
       "      <th>FullDescription</th>\n",
       "      <th>LocationRaw</th>\n",
       "      <th>LocationNormalized</th>\n",
       "      <th>ContractType</th>\n",
       "      <th>ContractTime</th>\n",
       "      <th>Company</th>\n",
       "      <th>Category</th>\n",
       "      <th>SalaryRaw</th>\n",
       "      <th>SalaryNormalized</th>\n",
       "      <th>SourceName</th>\n",
       "      <th>Log1pSalary</th>\n",
       "    </tr>\n",
       "  </thead>\n",
       "  <tbody>\n",
       "    <tr>\n",
       "      <th>217623</th>\n",
       "      <td>72287751</td>\n",
       "      <td>Senior Digital Designer  Digital Creative Agency</td>\n",
       "      <td>Senior Digital Designer  Digital Creative Agen...</td>\n",
       "      <td>London</td>\n",
       "      <td>London</td>\n",
       "      <td>full_time</td>\n",
       "      <td>NaN</td>\n",
       "      <td>RecruitmentRevolution.com</td>\n",
       "      <td>IT Jobs</td>\n",
       "      <td>35000</td>\n",
       "      <td>35000</td>\n",
       "      <td>careerbuilder.com</td>\n",
       "      <td>10.463132</td>\n",
       "    </tr>\n",
       "    <tr>\n",
       "      <th>38030</th>\n",
       "      <td>68299153</td>\n",
       "      <td>Sister / Charge Nurse (Unit Manager)  Banbridge</td>\n",
       "      <td>I am currently recruiting for an exceptional o...</td>\n",
       "      <td>Banbridge</td>\n",
       "      <td>Banbridge</td>\n",
       "      <td>full_time</td>\n",
       "      <td>NaN</td>\n",
       "      <td>Recruiting for Care</td>\n",
       "      <td>Healthcare &amp; Nursing Jobs</td>\n",
       "      <td>13,500 - 14,000/Year</td>\n",
       "      <td>13750</td>\n",
       "      <td>staffnurse.com</td>\n",
       "      <td>9.528867</td>\n",
       "    </tr>\n",
       "    <tr>\n",
       "      <th>142780</th>\n",
       "      <td>70607679</td>\n",
       "      <td>Electrical Maintenance Engineer South West ****K</td>\n",
       "      <td>Another great offering from the team here at R...</td>\n",
       "      <td>Plymouth, Devon</td>\n",
       "      <td>UK</td>\n",
       "      <td>NaN</td>\n",
       "      <td>permanent</td>\n",
       "      <td>Ripe 4</td>\n",
       "      <td>Engineering Jobs</td>\n",
       "      <td>25000 - 29000/annum</td>\n",
       "      <td>27000</td>\n",
       "      <td>cv-library.co.uk</td>\n",
       "      <td>10.203629</td>\n",
       "    </tr>\n",
       "  </tbody>\n",
       "</table>\n",
       "</div>"
      ],
      "text/plain": [
       "              Id  ... Log1pSalary\n",
       "217623  72287751  ...   10.463132\n",
       "38030   68299153  ...    9.528867\n",
       "142780  70607679  ...   10.203629\n",
       "\n",
       "[3 rows x 13 columns]"
      ]
     },
     "execution_count": 5,
     "metadata": {},
     "output_type": "execute_result"
    }
   ],
   "source": [
    "text_columns = [\"Title\", \"FullDescription\"]\n",
    "categorical_columns = [\"Category\", \"Company\", \"LocationNormalized\", \"ContractType\", \"ContractTime\"]\n",
    "TARGET_COLUMN = \"Log1pSalary\"\n",
    "\n",
    "data[categorical_columns] = data[categorical_columns].fillna('NaN') # cast missing values to string \"NaN\"\n",
    "\n",
    "data.sample(3)"
   ]
  },
  {
   "cell_type": "code",
   "execution_count": 6,
   "metadata": {
    "execution": {
     "iopub.execute_input": "2024-10-03T11:27:33.984005Z",
     "iopub.status.busy": "2024-10-03T11:27:33.983471Z",
     "iopub.status.idle": "2024-10-03T11:27:34.152767Z",
     "shell.execute_reply": "2024-10-03T11:27:34.151798Z",
     "shell.execute_reply.started": "2024-10-03T11:27:33.983971Z"
    },
    "tags": []
   },
   "outputs": [],
   "source": [
    "data[text_columns] = data[text_columns].fillna(method=\"ffill\")"
   ]
  },
  {
   "cell_type": "code",
   "execution_count": 7,
   "metadata": {
    "execution": {
     "iopub.execute_input": "2024-10-03T11:27:35.365416Z",
     "iopub.status.busy": "2024-10-03T11:27:35.364411Z",
     "iopub.status.idle": "2024-10-03T11:27:58.370230Z",
     "shell.execute_reply": "2024-10-03T11:27:58.369404Z",
     "shell.execute_reply.started": "2024-10-03T11:27:35.365373Z"
    },
    "tags": []
   },
   "outputs": [],
   "source": [
    "import nltk\n",
    "#TODO YOUR CODE HERE\n",
    "\n",
    "tokenizer = nltk.tokenize.WordPunctTokenizer()\n",
    "\n",
    "data[\"FullDescription\"] = data[\"FullDescription\"].apply(lambda descrp: ' '.join(tokenizer.tokenize(descrp.lower())))\n",
    "data[\"Title\"] = data[\"Title\"].apply(lambda title: ' '.join(tokenizer.tokenize(title.lower())))\n"
   ]
  },
  {
   "cell_type": "code",
   "execution_count": 8,
   "metadata": {
    "execution": {
     "iopub.execute_input": "2024-10-03T11:27:58.374481Z",
     "iopub.status.busy": "2024-10-03T11:27:58.371730Z",
     "iopub.status.idle": "2024-10-03T11:28:19.435546Z",
     "shell.execute_reply": "2024-10-03T11:28:19.434762Z",
     "shell.execute_reply.started": "2024-10-03T11:27:58.374437Z"
    },
    "tags": []
   },
   "outputs": [],
   "source": [
    "from collections import Counter\n",
    "token_counts = Counter()\n",
    "\n",
    "# Count how many times does each token occur in both \"Title\" and \"FullDescription\" in total\n",
    "for index, row in data.iterrows():\n",
    "    token_counts.update(row['Title'].split())\n",
    "    token_counts.update(row['FullDescription'].split())"
   ]
  },
  {
   "cell_type": "code",
   "execution_count": 9,
   "metadata": {
    "execution": {
     "iopub.execute_input": "2024-10-03T11:28:19.440053Z",
     "iopub.status.busy": "2024-10-03T11:28:19.436799Z",
     "iopub.status.idle": "2024-10-03T11:28:19.527337Z",
     "shell.execute_reply": "2024-10-03T11:28:19.526557Z",
     "shell.execute_reply.started": "2024-10-03T11:28:19.440014Z"
    },
    "tags": []
   },
   "outputs": [],
   "source": [
    "min_count = 10\n",
    "\n",
    "# tokens from token_counts keys that had at least min_count occurrences throughout the dataset\n",
    "tokens = sorted(t for t, c in token_counts.items() if c >= min_count)#TODO<YOUR CODE HERE>\n",
    "\n",
    "# Add a special tokens for unknown and empty words\n",
    "UNK, PAD = \"UNK\", \"PAD\"\n",
    "tokens = [UNK, PAD] + tokens"
   ]
  },
  {
   "cell_type": "code",
   "execution_count": 10,
   "metadata": {
    "execution": {
     "iopub.execute_input": "2024-10-03T11:28:19.532854Z",
     "iopub.status.busy": "2024-10-03T11:28:19.529386Z",
     "iopub.status.idle": "2024-10-03T11:28:19.563039Z",
     "shell.execute_reply": "2024-10-03T11:28:19.562201Z",
     "shell.execute_reply.started": "2024-10-03T11:28:19.532810Z"
    },
    "tags": []
   },
   "outputs": [],
   "source": [
    "token_to_id = {token: idx for idx, token in enumerate(tokens)}"
   ]
  },
  {
   "cell_type": "code",
   "execution_count": 44,
   "metadata": {
    "execution": {
     "iopub.execute_input": "2024-10-03T13:28:25.605088Z",
     "iopub.status.busy": "2024-10-03T13:28:25.603996Z",
     "iopub.status.idle": "2024-10-03T13:28:25.633660Z",
     "shell.execute_reply": "2024-10-03T13:28:25.632858Z",
     "shell.execute_reply.started": "2024-10-03T13:28:25.605045Z"
    },
    "tags": []
   },
   "outputs": [],
   "source": [
    "UNK_IX, PAD_IX = map(token_to_id.get, [UNK, PAD])\n",
    "\n",
    "def as_matrix(sequences, max_len=None, min_len=20):\n",
    "    \"\"\" Convert a list of tokens into a matrix with padding \"\"\"\n",
    "    if isinstance(sequences[0], str):\n",
    "        sequences = list(map(str.split, sequences))\n",
    "        \n",
    "    max_len = min(max(map(len, sequences)), max_len or float('inf'))\n",
    "    max_len = max(max_len, min_len)\n",
    "    matrix = np.full((len(sequences), max_len), np.int32(PAD_IX))\n",
    "    for i,seq in enumerate(sequences):\n",
    "        row_ix = [token_to_id.get(word, UNK_IX) for word in seq[:max_len]]\n",
    "        matrix[i, :len(row_ix)] = row_ix\n",
    "    \n",
    "    return matrix"
   ]
  },
  {
   "cell_type": "code",
   "execution_count": 13,
   "metadata": {
    "execution": {
     "iopub.execute_input": "2024-10-02T16:08:14.543795Z",
     "iopub.status.busy": "2024-10-02T16:08:14.543216Z",
     "iopub.status.idle": "2024-10-02T16:08:14.581103Z",
     "shell.execute_reply": "2024-10-02T16:08:14.580087Z",
     "shell.execute_reply.started": "2024-10-02T16:08:14.543760Z"
    },
    "tags": []
   },
   "outputs": [
    {
     "data": {
      "text/plain": [
       "34158"
      ]
     },
     "execution_count": 13,
     "metadata": {},
     "output_type": "execute_result"
    }
   ],
   "source": [
    "len(token_to_id)"
   ]
  },
  {
   "cell_type": "code",
   "execution_count": 16,
   "metadata": {
    "execution": {
     "iopub.execute_input": "2024-10-01T15:28:10.838783Z",
     "iopub.status.busy": "2024-10-01T15:28:10.837400Z",
     "iopub.status.idle": "2024-10-01T15:34:28.816167Z",
     "shell.execute_reply": "2024-10-01T15:34:28.814914Z",
     "shell.execute_reply.started": "2024-10-01T15:28:10.838745Z"
    }
   },
   "outputs": [
    {
     "name": "stdout",
     "output_type": "stream",
     "text": [
      "[==================================================] 100.0% 958.5/958.4MB downloaded\n"
     ]
    }
   ],
   "source": [
    "import gensim.downloader \n",
    "# embeddings = gensim.downloader.load(\"fasttext-wiki-news-subwords-300\")"
   ]
  },
  {
   "cell_type": "code",
   "execution_count": 19,
   "metadata": {
    "execution": {
     "iopub.execute_input": "2024-10-01T15:38:54.508817Z",
     "iopub.status.busy": "2024-10-01T15:38:54.507879Z",
     "iopub.status.idle": "2024-10-01T15:38:54.568858Z",
     "shell.execute_reply": "2024-10-01T15:38:54.567543Z",
     "shell.execute_reply.started": "2024-10-01T15:38:54.508780Z"
    },
    "tags": []
   },
   "outputs": [
    {
     "name": "stdout",
     "output_type": "stream",
     "text": [
      "9945\n"
     ]
    }
   ],
   "source": [
    "counter = 0\n",
    "for token in tokens:\n",
    "    if token not in embeddings:\n",
    "        counter += 1\n",
    "        \n",
    "print(counter)"
   ]
  },
  {
   "cell_type": "code",
   "execution_count": 12,
   "metadata": {
    "execution": {
     "iopub.execute_input": "2024-10-03T11:28:19.618092Z",
     "iopub.status.busy": "2024-10-03T11:28:19.615952Z",
     "iopub.status.idle": "2024-10-03T11:29:02.640602Z",
     "shell.execute_reply": "2024-10-03T11:29:02.639701Z",
     "shell.execute_reply.started": "2024-10-03T11:28:19.618051Z"
    },
    "tags": []
   },
   "outputs": [],
   "source": [
    "from gensim.models import KeyedVectors\n",
    "glove_embs = KeyedVectors.load_word2vec_format('glove.6B.100d.txt', binary=False, no_header=True)"
   ]
  },
  {
   "cell_type": "code",
   "execution_count": 13,
   "metadata": {
    "execution": {
     "iopub.execute_input": "2024-10-03T11:29:02.643982Z",
     "iopub.status.busy": "2024-10-03T11:29:02.642676Z",
     "iopub.status.idle": "2024-10-03T11:29:02.690307Z",
     "shell.execute_reply": "2024-10-03T11:29:02.689518Z",
     "shell.execute_reply.started": "2024-10-03T11:29:02.643940Z"
    },
    "tags": []
   },
   "outputs": [
    {
     "name": "stdout",
     "output_type": "stream",
     "text": [
      "7935\n"
     ]
    }
   ],
   "source": [
    "counter = 0\n",
    "for token in tokens:\n",
    "    if token not in glove_embs:\n",
    "        counter += 1\n",
    "        \n",
    "print(counter)"
   ]
  },
  {
   "cell_type": "code",
   "execution_count": 14,
   "metadata": {
    "execution": {
     "iopub.execute_input": "2024-10-03T11:29:02.691877Z",
     "iopub.status.busy": "2024-10-03T11:29:02.691260Z",
     "iopub.status.idle": "2024-10-03T11:29:02.731049Z",
     "shell.execute_reply": "2024-10-03T11:29:02.730235Z",
     "shell.execute_reply.started": "2024-10-03T11:29:02.691848Z"
    },
    "tags": []
   },
   "outputs": [],
   "source": [
    "emb_util_lambda = lambda idx: glove_embs[tokens[idx]] if tokens[idx] in glove_embs else list(np.random.normal(size=100))"
   ]
  },
  {
   "cell_type": "code",
   "execution_count": 15,
   "metadata": {
    "execution": {
     "iopub.execute_input": "2024-10-03T11:29:02.732619Z",
     "iopub.status.busy": "2024-10-03T11:29:02.731939Z",
     "iopub.status.idle": "2024-10-03T11:29:03.357912Z",
     "shell.execute_reply": "2024-10-03T11:29:03.357069Z",
     "shell.execute_reply.started": "2024-10-03T11:29:02.732586Z"
    },
    "tags": []
   },
   "outputs": [
    {
     "name": "stderr",
     "output_type": "stream",
     "text": [
      "/tmp/ipykernel_2902/1962516131.py:1: UserWarning: Creating a tensor from a list of numpy.ndarrays is extremely slow. Please consider converting the list to a single numpy.ndarray with numpy.array() before converting to a tensor. (Triggered internally at ../torch/csrc/utils/tensor_new.cpp:245.)\n",
      "  embeddings_tensor_glove = torch.FloatTensor([emb_util_lambda(idx) for idx in range(len(tokens))])\n"
     ]
    }
   ],
   "source": [
    "embeddings_tensor_glove = torch.FloatTensor([emb_util_lambda(idx) for idx in range(len(tokens))])"
   ]
  },
  {
   "cell_type": "code",
   "execution_count": 16,
   "metadata": {
    "execution": {
     "iopub.execute_input": "2024-10-03T11:29:03.360111Z",
     "iopub.status.busy": "2024-10-03T11:29:03.359058Z",
     "iopub.status.idle": "2024-10-03T11:29:03.418742Z",
     "shell.execute_reply": "2024-10-03T11:29:03.417898Z",
     "shell.execute_reply.started": "2024-10-03T11:29:03.360073Z"
    },
    "tags": []
   },
   "outputs": [
    {
     "data": {
      "text/plain": [
       "torch.Size([34158, 100])"
      ]
     },
     "execution_count": 16,
     "metadata": {},
     "output_type": "execute_result"
    }
   ],
   "source": [
    "embeddings_tensor_glove.shape"
   ]
  },
  {
   "cell_type": "code",
   "execution_count": 17,
   "metadata": {
    "execution": {
     "iopub.execute_input": "2024-10-03T11:29:03.420112Z",
     "iopub.status.busy": "2024-10-03T11:29:03.419635Z",
     "iopub.status.idle": "2024-10-03T11:29:07.757540Z",
     "shell.execute_reply": "2024-10-03T11:29:07.756737Z",
     "shell.execute_reply.started": "2024-10-03T11:29:03.420075Z"
    },
    "tags": []
   },
   "outputs": [
    {
     "data": {
      "text/html": [
       "<style>#sk-container-id-1 {color: black;background-color: white;}#sk-container-id-1 pre{padding: 0;}#sk-container-id-1 div.sk-toggleable {background-color: white;}#sk-container-id-1 label.sk-toggleable__label {cursor: pointer;display: block;width: 100%;margin-bottom: 0;padding: 0.3em;box-sizing: border-box;text-align: center;}#sk-container-id-1 label.sk-toggleable__label-arrow:before {content: \"▸\";float: left;margin-right: 0.25em;color: #696969;}#sk-container-id-1 label.sk-toggleable__label-arrow:hover:before {color: black;}#sk-container-id-1 div.sk-estimator:hover label.sk-toggleable__label-arrow:before {color: black;}#sk-container-id-1 div.sk-toggleable__content {max-height: 0;max-width: 0;overflow: hidden;text-align: left;background-color: #f0f8ff;}#sk-container-id-1 div.sk-toggleable__content pre {margin: 0.2em;color: black;border-radius: 0.25em;background-color: #f0f8ff;}#sk-container-id-1 input.sk-toggleable__control:checked~div.sk-toggleable__content {max-height: 200px;max-width: 100%;overflow: auto;}#sk-container-id-1 input.sk-toggleable__control:checked~label.sk-toggleable__label-arrow:before {content: \"▾\";}#sk-container-id-1 div.sk-estimator input.sk-toggleable__control:checked~label.sk-toggleable__label {background-color: #d4ebff;}#sk-container-id-1 div.sk-label input.sk-toggleable__control:checked~label.sk-toggleable__label {background-color: #d4ebff;}#sk-container-id-1 input.sk-hidden--visually {border: 0;clip: rect(1px 1px 1px 1px);clip: rect(1px, 1px, 1px, 1px);height: 1px;margin: -1px;overflow: hidden;padding: 0;position: absolute;width: 1px;}#sk-container-id-1 div.sk-estimator {font-family: monospace;background-color: #f0f8ff;border: 1px dotted black;border-radius: 0.25em;box-sizing: border-box;margin-bottom: 0.5em;}#sk-container-id-1 div.sk-estimator:hover {background-color: #d4ebff;}#sk-container-id-1 div.sk-parallel-item::after {content: \"\";width: 100%;border-bottom: 1px solid gray;flex-grow: 1;}#sk-container-id-1 div.sk-label:hover label.sk-toggleable__label {background-color: #d4ebff;}#sk-container-id-1 div.sk-serial::before {content: \"\";position: absolute;border-left: 1px solid gray;box-sizing: border-box;top: 0;bottom: 0;left: 50%;z-index: 0;}#sk-container-id-1 div.sk-serial {display: flex;flex-direction: column;align-items: center;background-color: white;padding-right: 0.2em;padding-left: 0.2em;position: relative;}#sk-container-id-1 div.sk-item {position: relative;z-index: 1;}#sk-container-id-1 div.sk-parallel {display: flex;align-items: stretch;justify-content: center;background-color: white;position: relative;}#sk-container-id-1 div.sk-item::before, #sk-container-id-1 div.sk-parallel-item::before {content: \"\";position: absolute;border-left: 1px solid gray;box-sizing: border-box;top: 0;bottom: 0;left: 50%;z-index: -1;}#sk-container-id-1 div.sk-parallel-item {display: flex;flex-direction: column;z-index: 1;position: relative;background-color: white;}#sk-container-id-1 div.sk-parallel-item:first-child::after {align-self: flex-end;width: 50%;}#sk-container-id-1 div.sk-parallel-item:last-child::after {align-self: flex-start;width: 50%;}#sk-container-id-1 div.sk-parallel-item:only-child::after {width: 0;}#sk-container-id-1 div.sk-dashed-wrapped {border: 1px dashed gray;margin: 0 0.4em 0.5em 0.4em;box-sizing: border-box;padding-bottom: 0.4em;background-color: white;}#sk-container-id-1 div.sk-label label {font-family: monospace;font-weight: bold;display: inline-block;line-height: 1.2em;}#sk-container-id-1 div.sk-label-container {text-align: center;}#sk-container-id-1 div.sk-container {/* jupyter's `normalize.less` sets `[hidden] { display: none; }` but bootstrap.min.css set `[hidden] { display: none !important; }` so we also need the `!important` here to be able to override the default hidden behavior on the sphinx rendered scikit-learn.org. See: https://github.com/scikit-learn/scikit-learn/issues/21755 */display: inline-block !important;position: relative;}#sk-container-id-1 div.sk-text-repr-fallback {display: none;}</style><div id=\"sk-container-id-1\" class=\"sk-top-container\"><div class=\"sk-text-repr-fallback\"><pre>DictVectorizer(dtype=&lt;class &#x27;numpy.float32&#x27;&gt;, sparse=False)</pre><b>In a Jupyter environment, please rerun this cell to show the HTML representation or trust the notebook. <br />On GitHub, the HTML representation is unable to render, please try loading this page with nbviewer.org.</b></div><div class=\"sk-container\" hidden><div class=\"sk-item\"><div class=\"sk-estimator sk-toggleable\"><input class=\"sk-toggleable__control sk-hidden--visually\" id=\"sk-estimator-id-1\" type=\"checkbox\" checked><label for=\"sk-estimator-id-1\" class=\"sk-toggleable__label sk-toggleable__label-arrow\">DictVectorizer</label><div class=\"sk-toggleable__content\"><pre>DictVectorizer(dtype=&lt;class &#x27;numpy.float32&#x27;&gt;, sparse=False)</pre></div></div></div></div></div>"
      ],
      "text/plain": [
       "DictVectorizer(dtype=<class 'numpy.float32'>, sparse=False)"
      ]
     },
     "execution_count": 17,
     "metadata": {},
     "output_type": "execute_result"
    }
   ],
   "source": [
    "from sklearn.feature_extraction import DictVectorizer\n",
    "\n",
    "# we only consider top-1k most frequent companies to minimize memory usage\n",
    "top_companies, top_counts = zip(*Counter(data['Company']).most_common(1000))\n",
    "recognized_companies = set(top_companies)\n",
    "data[\"Company\"] = data[\"Company\"].apply(lambda comp: comp if comp in recognized_companies else \"Other\")\n",
    "\n",
    "categorical_vectorizer = DictVectorizer(dtype=np.float32, sparse=False)\n",
    "categorical_vectorizer.fit(data[categorical_columns].apply(dict, axis=1))"
   ]
  },
  {
   "cell_type": "code",
   "execution_count": 18,
   "metadata": {
    "execution": {
     "iopub.execute_input": "2024-10-03T11:29:07.759824Z",
     "iopub.status.busy": "2024-10-03T11:29:07.758459Z",
     "iopub.status.idle": "2024-10-03T11:29:07.841465Z",
     "shell.execute_reply": "2024-10-03T11:29:07.840604Z",
     "shell.execute_reply.started": "2024-10-03T11:29:07.759783Z"
    },
    "tags": []
   },
   "outputs": [
    {
     "name": "stdout",
     "output_type": "stream",
     "text": [
      "Train size =  195814\n",
      "Validation size =  48954\n"
     ]
    }
   ],
   "source": [
    "from sklearn.model_selection import train_test_split\n",
    "\n",
    "data_train, data_val = train_test_split(data, test_size=0.2, random_state=42)\n",
    "data_train.index = range(len(data_train))\n",
    "data_val.index = range(len(data_val))\n",
    "\n",
    "print(\"Train size = \", len(data_train))\n",
    "print(\"Validation size = \", len(data_val))"
   ]
  },
  {
   "cell_type": "code",
   "execution_count": 19,
   "metadata": {
    "execution": {
     "iopub.execute_input": "2024-10-03T11:29:36.781064Z",
     "iopub.status.busy": "2024-10-03T11:29:36.779858Z",
     "iopub.status.idle": "2024-10-03T11:29:36.915094Z",
     "shell.execute_reply": "2024-10-03T11:29:36.914382Z",
     "shell.execute_reply.started": "2024-10-03T11:29:36.781019Z"
    },
    "tags": []
   },
   "outputs": [],
   "source": [
    "import torch\n",
    "import torch.nn as nn\n",
    "import torch.nn.functional as F\n",
    "\n",
    "\n",
    "device = 'cuda' if torch.cuda.is_available() else 'cpu'\n",
    "\n",
    "\n",
    "def to_tensors(batch, device):\n",
    "    batch_tensors = dict()\n",
    "    for key, arr in batch.items():\n",
    "        if key in [\"FullDescription\", \"Title\"]:\n",
    "            batch_tensors[key] = torch.tensor(arr, device=device, dtype=torch.int64)\n",
    "        else:\n",
    "            batch_tensors[key] = torch.tensor(arr, device=device)\n",
    "    return batch_tensors\n",
    "\n",
    "\n",
    "def make_batch(data, max_len=None, word_dropout=0.1, device=device):\n",
    "    \"\"\"\n",
    "    Creates a keras-friendly dict from the batch data.\n",
    "    :param word_dropout: replaces token index with UNK_IX with this probability\n",
    "    :returns: a dict with {'title' : int64[batch, title_max_len]\n",
    "    \"\"\"\n",
    "    batch = {}\n",
    "    batch[\"Title\"] = as_matrix(data[\"Title\"].values, max_len)\n",
    "    batch[\"FullDescription\"] = as_matrix(data[\"FullDescription\"].values, max_len)\n",
    "    batch['Categorical'] = categorical_vectorizer.transform(data[categorical_columns].apply(dict, axis=1))\n",
    "    \n",
    "    if word_dropout != 0:\n",
    "        batch[\"FullDescription\"] = apply_word_dropout(batch[\"FullDescription\"], 1. - word_dropout)\n",
    "    \n",
    "    if TARGET_COLUMN in data.columns:\n",
    "        batch[TARGET_COLUMN] = data[TARGET_COLUMN].values\n",
    "    \n",
    "    return to_tensors(batch, device)\n",
    "\n",
    "def apply_word_dropout(matrix, keep_prop, replace_with=UNK_IX, pad_ix=PAD_IX,):\n",
    "    dropout_mask = np.random.choice(2, np.shape(matrix), p=[keep_prop, 1 - keep_prop])\n",
    "    dropout_mask &= matrix != pad_ix\n",
    "    return np.choose(dropout_mask, [matrix, np.full_like(matrix, replace_with)])"
   ]
  },
  {
   "cell_type": "code",
   "execution_count": 20,
   "metadata": {
    "execution": {
     "iopub.execute_input": "2024-10-03T11:29:38.469321Z",
     "iopub.status.busy": "2024-10-03T11:29:38.468242Z",
     "iopub.status.idle": "2024-10-03T11:29:39.258528Z",
     "shell.execute_reply": "2024-10-03T11:29:39.257790Z",
     "shell.execute_reply.started": "2024-10-03T11:29:38.469277Z"
    },
    "tags": []
   },
   "outputs": [
    {
     "data": {
      "text/plain": [
       "{'Title': tensor([[27645, 29893, 33674,     1,     1,     1,     1,     1,     1,     1],\n",
       "         [29239,   197, 19175, 20042, 15554, 23162,  4051,     1,     1,     1],\n",
       "         [10609, 30412, 17746,    33,  8705, 29157,    65,     1,     1,     1]],\n",
       "        device='cuda:0'),\n",
       " 'FullDescription': tensor([[27645, 29893, 33674, 32939,   982, 27645,     0, 33674, 16451, 32939],\n",
       "         [29239,   197, 19175, 20042, 15554, 23162,  4051, 25511,   907,    82],\n",
       "         [30746, 21956, 20601,  6409, 16451,  8165, 27493,   982, 30412, 17746]],\n",
       "        device='cuda:0'),\n",
       " 'Categorical': tensor([[0., 0., 0.,  ..., 0., 0., 0.],\n",
       "         [0., 0., 0.,  ..., 0., 0., 0.],\n",
       "         [0., 0., 0.,  ..., 0., 0., 0.]], device='cuda:0'),\n",
       " 'Log1pSalary': tensor([ 9.7115, 10.4631, 10.7144], device='cuda:0')}"
      ]
     },
     "execution_count": 20,
     "metadata": {},
     "output_type": "execute_result"
    }
   ],
   "source": [
    "make_batch(data_train[:3], max_len=10)"
   ]
  },
  {
   "cell_type": "code",
   "execution_count": 21,
   "metadata": {
    "execution": {
     "iopub.execute_input": "2024-10-03T11:30:02.085420Z",
     "iopub.status.busy": "2024-10-03T11:30:02.084291Z",
     "iopub.status.idle": "2024-10-03T11:30:02.126083Z",
     "shell.execute_reply": "2024-10-03T11:30:02.125194Z",
     "shell.execute_reply.started": "2024-10-03T11:30:02.085377Z"
    },
    "tags": []
   },
   "outputs": [],
   "source": [
    "import torch\n",
    "import torch.nn as nn\n",
    "import torch.nn.functional as F"
   ]
  },
  {
   "cell_type": "markdown",
   "metadata": {},
   "source": [
    "## Various backbone blocks for text encoder"
   ]
  },
  {
   "cell_type": "code",
   "execution_count": 60,
   "metadata": {
    "execution": {
     "iopub.execute_input": "2024-10-03T16:01:50.187090Z",
     "iopub.status.busy": "2024-10-03T16:01:50.186409Z",
     "iopub.status.idle": "2024-10-03T16:01:50.210151Z",
     "shell.execute_reply": "2024-10-03T16:01:50.209325Z",
     "shell.execute_reply.started": "2024-10-03T16:01:50.187054Z"
    },
    "tags": []
   },
   "outputs": [],
   "source": [
    "def create_stem(out_channels, in_channels=100):\n",
    "    return nn.Sequential(\n",
    "        nn.Conv1d(in_channels=in_channels, out_channels=out_channels, kernel_size=2, stride=2, padding=0), # YOUR CODE; conv 2x2, stride 2, padding 0\n",
    "        nn.BatchNorm1d(out_channels)\n",
    "    )\n",
    "\n",
    "def create_downscale_block(in_channels, out_channels):\n",
    "    return nn.Sequential(\n",
    "        nn.BatchNorm1d(in_channels),\n",
    "        nn.Conv1d(in_channels=in_channels, out_channels=out_channels, kernel_size=2, stride=2, padding=0)  # YOUR CODE: conv 2x2, stride 2, padding 0\n",
    "    )\n",
    "\n",
    "\n",
    "class ConvNextLikeBlock(nn.Module):\n",
    "    def __init__(self, dim, drop_rate=0.1):\n",
    "        super().__init__()\n",
    "        \n",
    "        self.depthwise_conv = nn.Conv1d(in_channels=dim, out_channels=dim, kernel_size=5, padding=2, groups=dim)  # depthwise conv 5x5, padding 2, dim->dim\n",
    "        \n",
    "        self.norm = nn.BatchNorm1d(dim)\n",
    "        \n",
    "        self.pointwise_conv1 = nn.Conv1d(in_channels=dim, out_channels=dim*4, kernel_size=1)  # 1x1 conv, dim -> dim*4  YOUR CODE\n",
    "\n",
    "        self.activation = nn.GELU()\n",
    "        \n",
    "        self.pointwise_conv2 = nn.Conv1d(in_channels=dim*4, out_channels=dim, kernel_size=1)  # 1x1 conv, 4*dim -> dim YOUR CODE\n",
    "\n",
    "        self.dropout = nn.Dropout(drop_rate)\n",
    "\n",
    "    def forward(self, x):\n",
    "        input = x\n",
    "        # YOUR CODE: sequentially apply to x: depthwise_conv + norm + pointwise_conv1 + activation + pointwise_conv2 + layer_scale\n",
    "        x = self.depthwise_conv(x)\n",
    "        x = self.norm(x)\n",
    "        x = self.pointwise_conv1(x)\n",
    "        x = self.activation(x)\n",
    "        x = self.pointwise_conv2(x)\n",
    "\n",
    "        x = input + self.dropout(x)\n",
    "        return x\n",
    "    \n",
    "    \n",
    "def create_convnext_like_network(config=[[64] * 2, [256] * 2], use_bn=True, drop_rate=0.1):\n",
    "    \"\"\"\n",
    "    Creates ConvNeXt like network according to config\n",
    "    \"\"\"\n",
    "    model = nn.Sequential()\n",
    "\n",
    "    default_config = [[64] * 2, [128] * 2, [256] * 2, [1024] * 2]\n",
    "\n",
    "    config = config or default_config\n",
    "\n",
    "    stem_out_channels = config[0][0]\n",
    "    # YOUR CODE: create stem\n",
    "    model.add_module('stem', create_stem(stem_out_channels))\n",
    "\n",
    "    # progressivily increase drop rate from 0 to 'drop_rate' \n",
    "    # drop_rates = np.linspace(0, drop_rate, sum([len(e) for e in config])) if drop_rate is not None else None\n",
    "    \n",
    "    layer_index = 0\n",
    "    for block_index in range(len(config)):\n",
    "        for layer_index_in_block in range(len(config[block_index])):\n",
    "            out_channels = config[block_index][layer_index_in_block]\n",
    "            # layer_drop_rate = drop_rates[layer_index] if drop_rates is not None else None\n",
    "            \n",
    "            # YOUR CODE: add ConvNextBlock\n",
    "            model.add_module(f\"{block_index}_{layer_index_in_block}\", ConvNextLikeBlock(dim=out_channels, drop_rate=drop_rate))\n",
    "            layer_index += 1\n",
    "            \n",
    "        if block_index != len(config) - 1:\n",
    "            downscale_in_channels = out_channels\n",
    "            downscale_out_channels = config[block_index+1][0]\n",
    "            # YOUR CODE: add downscale block\n",
    "            model.add_module(f'downscale_{block_index}', create_downscale_block(downscale_in_channels, downscale_out_channels))\n",
    "            \n",
    "    return model"
   ]
  },
  {
   "cell_type": "code",
   "execution_count": 54,
   "metadata": {
    "execution": {
     "iopub.execute_input": "2024-10-03T14:49:21.335064Z",
     "iopub.status.busy": "2024-10-03T14:49:21.334015Z",
     "iopub.status.idle": "2024-10-03T14:49:21.364463Z",
     "shell.execute_reply": "2024-10-03T14:49:21.363598Z",
     "shell.execute_reply.started": "2024-10-03T14:49:21.335012Z"
    },
    "tags": []
   },
   "outputs": [],
   "source": [
    "class ResNetLikeBlock(nn.Module):\n",
    "    \"\"\"\n",
    "    Module implements the following function:\n",
    "    \n",
    "    output = relu(F(input) + Residual(input)), where: \n",
    "        Residual(x) = Conv + bn + relu + conv + bn\n",
    "        F(x) = x                                        , if in_channels == out_channels and stride == 1\n",
    "             = Conv1x1(in_channel, out_channel, stride) , otherwise\n",
    "    \"\"\"\n",
    "    def __init__(self, in_channels, out_channels, kernel_size=3, stride=1, padding='same'):\n",
    "        super().__init__()\n",
    "        # YOUR CODE: define conv1, bn1, relu1, conv2, bn2 for residual branch computation \n",
    "        self.conv1 = nn.Conv1d(in_channels, in_channels, kernel_size, stride, padding)\n",
    "        self.bn1 = nn.BatchNorm1d(in_channels)\n",
    "        self.relu1 = nn.ReLU()\n",
    "        \n",
    "        self.conv2 = nn.Conv1d(in_channels, out_channels, kernel_size, stride, padding)\n",
    "        self.bn2 = nn.BatchNorm1d(out_channels)\n",
    "        \n",
    "        self.relu2 = nn.ReLU()\n",
    "        \n",
    "        self.conv3 = None  # conv for main branch adopatation\n",
    "        if in_channels != out_channels or stride != 1:\n",
    "            self.conv3 = nn.Conv1d(in_channels, out_channels, 1, stride, padding=0)\n",
    "        \n",
    "    def forward(self, x):\n",
    "\n",
    "        residual = self.conv1(x)\n",
    "        residual = self.bn1(residual)\n",
    "        residual = self.relu1(residual)\n",
    "        \n",
    "        residual = self.conv2(residual)\n",
    "        residual = self.bn2(residual)     \n",
    "        \n",
    "        if self.conv3 is not None:\n",
    "            x = self.conv3(x)\n",
    "            \n",
    "        result = self.relu2(residual + x)\n",
    "        return result\n",
    "\n",
    "def create_resnet_like_network(blocks_config=[[128] * 2, [256] * 2]):\n",
    "    model = nn.Sequential()\n",
    "    \n",
    "    config = [[128] * 3, [256] * 3, [512] * 3, [1024] * 3] if blocks_config is None else blocks_config\n",
    "    \n",
    "    model.add_module('init_conv', nn.Conv1d(100, 128, kernel_size=7, stride=2, padding=3))\n",
    "    model.add_module('init_bn', nn.BatchNorm1d(128))\n",
    "\n",
    "    in_channels = 128\n",
    "    for i in range(len(config)):\n",
    "        for j in range(len(config[i])):\n",
    "            out_channels = config[i][j]\n",
    "            stride = 2 if i != 0 and j == 0 else 1\n",
    "            # YOUR CODE: add ResNetBlock2 module to model\n",
    "            model.add_module(f'resblock_{in_channels}_{out_channels}', ResNetLikeBlock(in_channels, out_channels)) \n",
    "            in_channels = out_channels\n",
    "\n",
    "    return model"
   ]
  },
  {
   "cell_type": "code",
   "execution_count": 24,
   "metadata": {
    "execution": {
     "iopub.execute_input": "2024-10-03T11:30:30.066346Z",
     "iopub.status.busy": "2024-10-03T11:30:30.065094Z",
     "iopub.status.idle": "2024-10-03T11:30:30.097035Z",
     "shell.execute_reply": "2024-10-03T11:30:30.096168Z",
     "shell.execute_reply.started": "2024-10-03T11:30:30.066303Z"
    },
    "tags": []
   },
   "outputs": [],
   "source": [
    "class ResNeXtLikeBlock(nn.Module):\n",
    "    def __init__(self, dim, drop_rate=0.1):\n",
    "        super().__init__()\n",
    "        \n",
    "        self.inp_conv = nn.Conv1d(in_channels=dim, out_channels=dim, kernel_size=1)\n",
    "        self.inp_bn = nn.BatchNorm1d(dim)\n",
    "        \n",
    "        # Define the first convolution layer\n",
    "        self.conv1 = nn.Conv1d(in_channels=dim, out_channels=dim*4, kernel_size=1, groups=dim / 4)\n",
    "        self.bn1 = nn.BatchNorm1d(dim*4)\n",
    "        \n",
    "        self.act1 = nn.GELU()\n",
    "        \n",
    "        # Define the second convolution layer\n",
    "        self.conv2 = nn.Conv1d(in_channels=dim*4, out_channels=dim*4, kernel_size=5, padding='same')\n",
    "        self.bn2 = nn.BatchNorm1d(dim*4)\n",
    "\n",
    "        self.act2 = nn.GELU()\n",
    "\n",
    "        # Define the shortcut connection\n",
    "        self.conv3 = nn.Conv1d(in_channels=dim*4, out_channels=dim, kernel_size=1)\n",
    "        self.bn3 = nn.BatchNorm1d(dim)\n",
    "        \n",
    "        self.dropout = nn.Dropout(drop_rate)\n",
    "        \n",
    "        self.act_fin = nn.GELU()\n",
    "\n",
    "    def forward(self, x):\n",
    "        inp = x\n",
    "        \n",
    "        x = self.act1(self.bn1(self.conv1(x)))\n",
    "        x = self.act2(self.bn2(self.conv2(x)))\n",
    "        x = self.bn3(self.conv3(x))\n",
    "\n",
    "        return self.act_fin(self.inp_bn(self.inp_conv(inp)) + self.dropout(x))\n"
   ]
  },
  {
   "cell_type": "code",
   "execution_count": 25,
   "metadata": {
    "execution": {
     "iopub.execute_input": "2024-10-03T11:30:32.013053Z",
     "iopub.status.busy": "2024-10-03T11:30:32.012348Z",
     "iopub.status.idle": "2024-10-03T11:30:32.041709Z",
     "shell.execute_reply": "2024-10-03T11:30:32.040944Z",
     "shell.execute_reply.started": "2024-10-03T11:30:32.013010Z"
    },
    "tags": []
   },
   "outputs": [],
   "source": [
    "class GlobalAveragePool(nn.Module):\n",
    "    def __init__(self):\n",
    "        super().__init__()\n",
    "        \n",
    "    def forward(self, x):\n",
    "        return torch.mean(x, dim=-1)\n",
    "\n",
    "class GlobalMaxPool(nn.Module):\n",
    "    def __init__(self):\n",
    "        super().__init__()\n",
    "        \n",
    "    def forward(self, x):\n",
    "        return x.max(dim=-1).values\n",
    "    \n",
    "class GlobalSoftmaxPool(nn.Module):\n",
    "    def __init__(self):\n",
    "        super().__init__()\n",
    "        self.sm = nn.Softmax(dim=-1)\n",
    "\n",
    "    def forward(self, x):\n",
    "        return torch.mean(x * self.sm(x), dim=-1)"
   ]
  },
  {
   "cell_type": "code",
   "execution_count": 26,
   "metadata": {
    "execution": {
     "iopub.execute_input": "2024-10-03T11:30:39.111977Z",
     "iopub.status.busy": "2024-10-03T11:30:39.110871Z",
     "iopub.status.idle": "2024-10-03T11:30:39.134174Z",
     "shell.execute_reply": "2024-10-03T11:30:39.133400Z",
     "shell.execute_reply.started": "2024-10-03T11:30:39.111935Z"
    },
    "tags": []
   },
   "outputs": [],
   "source": [
    "class TextEncoder(nn.Module):\n",
    "    def __init__(self, block_type='resnet', pooling_type='average', initial_embedding_weights=embeddings_tensor_glove, hid_size=100):\n",
    "        super().__init__()\n",
    "        hid_size = initial_embedding_weights.shape[1]\n",
    "\n",
    "        self.emb = nn.Embedding.from_pretrained(initial_embedding_weights)\n",
    "\n",
    "        self.main_part = None\n",
    "        if block_type == 'resnet':\n",
    "            self.main_part = create_resnet_like_network()\n",
    "        elif block_type == 'convnext':\n",
    "            self.main_part = create_convnext_like_network()\n",
    "        else:\n",
    "            raise ValueError\n",
    "            \n",
    "                \n",
    "        self.pool = None\n",
    "        \n",
    "        if pooling_type == 'average':\n",
    "            self.pool = GlobalAveragePool()\n",
    "        elif pooling_type == 'softmax':\n",
    "            self.pool = GlobalSoftmaxPool()\n",
    "        elif pooling_type == 'max':\n",
    "            self.pool = GlobalMaxPool()\n",
    "        else:\n",
    "            raise ValueError\n",
    "            \n",
    "        \n",
    "    def forward(self, x):\n",
    "        x = self.emb(x)\n",
    "        x.swapaxes_(1, 2)\n",
    "        x = self.main_part(x)\n",
    "        x = self.pool(x)\n",
    "        return x\n",
    "\n",
    "    \n",
    "    "
   ]
  },
  {
   "cell_type": "markdown",
   "metadata": {
    "jp-MarkdownHeadingCollapsed": true,
    "tags": []
   },
   "source": [
    "## Trash"
   ]
  },
  {
   "cell_type": "code",
   "execution_count": 38,
   "metadata": {
    "execution": {
     "iopub.execute_input": "2024-10-02T16:55:36.399092Z",
     "iopub.status.busy": "2024-10-02T16:55:36.398079Z",
     "iopub.status.idle": "2024-10-02T16:55:36.441563Z",
     "shell.execute_reply": "2024-10-02T16:55:36.440797Z",
     "shell.execute_reply.started": "2024-10-02T16:55:36.399051Z"
    },
    "tags": []
   },
   "outputs": [],
   "source": [
    "class TextEncoder_(nn.Module):\n",
    "    def __init__(self, initial_embedding_weights=embeddings_tensor_glove, hid_size=100):\n",
    "        super().__init__()\n",
    "        self.main_part = nn.Sequential()\n",
    "        assert hid_size == initial_embedding_weights.shape[1]\n",
    "        self.emb = nn.Embedding.from_pretrained(initial_embedding_weights)\n",
    "        \n",
    "        self.main_part.add_module('stem', create_stem(128))\n",
    "        \n",
    "        self.main_part.add_module('convnext1', ResNeXtLikeBlock(128))\n",
    "        self.main_part.add_module('downscale1', create_downscale_block(128, 256))\n",
    "        \n",
    "        self.main_part.add_module('convnext2', ResNeXtLikeBlock(256))\n",
    "        self.main_part.add_module('downscale2', create_downscale_block(256, 512))\n",
    "        \n",
    "        self.main_part.add_module('convnext3', ResNeXtLikeBlock(512))\n",
    "        \n",
    "        self.maxpool = GlobalMaxPool()\n",
    "        self.softmaxpool = GlobalSoftmaxPool()\n",
    "\n",
    "        self.maxpool_norm = nn.BatchNorm1d(512)\n",
    "        self.final_norm = nn.BatchNorm1d(1024)\n",
    "        \n",
    "        self.linear = nn.Linear(1024, 512)\n",
    "        self.relu = nn.ReLU()\n",
    "\n",
    "        \n",
    "    def forward(self, x):\n",
    "        x = self.emb(x)\n",
    "        x.swapaxes_(1, 2)\n",
    "        x = self.main_part(x)\n",
    "        maxpool_normed = self.maxpool_norm(self.maxpool(x))\n",
    "        softmaxpooled = self.softmaxpool(x)\n",
    "        x = self.final_norm(torch.cat((maxpool_normed, softmaxpooled), dim=1))\n",
    "        return self.relu(self.linear(x))\n",
    "\n",
    "    \n",
    "    "
   ]
  },
  {
   "cell_type": "code",
   "execution_count": 58,
   "metadata": {
    "execution": {
     "iopub.execute_input": "2024-10-02T12:28:40.828569Z",
     "iopub.status.busy": "2024-10-02T12:28:40.827314Z",
     "iopub.status.idle": "2024-10-02T12:28:40.883313Z",
     "shell.execute_reply": "2024-10-02T12:28:40.882422Z",
     "shell.execute_reply.started": "2024-10-02T12:28:40.828525Z"
    },
    "tags": []
   },
   "outputs": [],
   "source": [
    "class TextEncoder_v3(nn.Module):\n",
    "    def __init__(self, initial_embedding_weights=embeddings_tensor_glove, hid_size=100):\n",
    "        super().__init__()\n",
    "        assert hid_size == initial_embedding_weights.shape[1]\n",
    "        self.emb = nn.Embedding.from_pretrained(initial_embedding_weights)\n",
    "        \n",
    "        self.stem = create_stem(128)\n",
    "        self.main_part = create_resnet_like_network()\n",
    "        \n",
    "        self.maxpool = GlobalMaxPool()\n",
    "        self.softmaxpool = GlobalSoftmaxPool()\n",
    "\n",
    "        self.maxpool_norm = nn.BatchNorm1d(512)\n",
    "        self.final_norm = nn.BatchNorm1d(1024)\n",
    "        \n",
    "        self.linear = nn.Linear(1024, 512)\n",
    "        self.relu = nn.ReLU()\n",
    "\n",
    "        \n",
    "    def forward(self, x):\n",
    "        x = self.emb(x)\n",
    "        x.swapaxes_(1, 2)\n",
    "        x = self.stem(x)\n",
    "        x = self.main_part(x)\n",
    "        maxpool_normed = self.maxpool_norm(self.maxpool(x))\n",
    "        softmaxpooled = self.softmaxpool(x)\n",
    "        x = self.final_norm(torch.cat((maxpool_normed, softmaxpooled), dim=1))\n",
    "        return self.relu(self.linear(x))\n",
    "\n",
    "    \n",
    "    "
   ]
  },
  {
   "cell_type": "code",
   "execution_count": null,
   "metadata": {},
   "outputs": [],
   "source": [
    "class TextEncoder_v2(nn.Module):\n",
    "    def __init__(self, initial_embedding_weights=embeddings_tensor_glove, hid_size=100):\n",
    "        super().__init__()\n",
    "        self.main_part = nn.Sequential()\n",
    "        assert hid_size == initial_embedding_weights.shape[1]\n",
    "        self.emb = nn.Embedding.from_pretrained(initial_embedding_weights)\n",
    "        \n",
    "        self.main_part.add_module('stem', create_stem(128))\n",
    "        self.main_part.add_module('convnext1', ConvNextLikeBlock(128))\n",
    "        self.main_part.add_module('downscale1', create_downscale_block(128, 256))\n",
    "        \n",
    "        self.main_part.add_module('convnext2', ConvNextLikeBlock(256))\n",
    "        self.main_part.add_module('downscale2', create_downscale_block(256, 512))\n",
    "        \n",
    "        self.main_part.add_module('convnext3', ConvNextLikeBlock(512))\n",
    "        \n",
    "        self.maxpool = GlobalMaxPool()\n",
    "        self.softmaxpool = GlobalSoftmaxPool()\n",
    "\n",
    "        self.maxpool_norm = nn.BatchNorm1d(512)\n",
    "        self.final_norm = nn.BatchNorm1d(1024)\n",
    "        \n",
    "        self.linear = nn.Linear(1024, 512)\n",
    "        self.relu = nn.ReLU()\n",
    "\n",
    "        \n",
    "    def forward(self, x):\n",
    "        x = self.emb(x)\n",
    "        x.swapaxes_(1, 2)\n",
    "        x = self.main_part(x)\n",
    "        maxpool_normed = self.maxpool_norm(self.maxpool(x))\n",
    "        softmaxpooled = self.softmaxpool(x)\n",
    "        x = self.final_norm(torch.cat((maxpool_normed, softmaxpooled), dim=1))\n",
    "        return self.relu(self.linear(x))\n",
    "\n",
    "    \n",
    "    "
   ]
  },
  {
   "cell_type": "markdown",
   "metadata": {},
   "source": [
    "## Other"
   ]
  },
  {
   "cell_type": "code",
   "execution_count": 27,
   "metadata": {
    "execution": {
     "iopub.execute_input": "2024-10-03T11:30:42.874680Z",
     "iopub.status.busy": "2024-10-03T11:30:42.873528Z",
     "iopub.status.idle": "2024-10-03T11:30:42.889127Z",
     "shell.execute_reply": "2024-10-03T11:30:42.888262Z",
     "shell.execute_reply.started": "2024-10-03T11:30:42.874638Z"
    },
    "tags": []
   },
   "outputs": [],
   "source": [
    "class CategoricalEncoder(nn.Module):\n",
    "    def __init__(self, features_num, last_size=256):\n",
    "        super().__init__()\n",
    "        self.mlp_block = nn.Sequential()\n",
    "        self.mlp_block.add_module('linear_1', nn.Linear(features_num, 1024))\n",
    "        self.mlp_block.add_module('relu_1', nn.ReLU())\n",
    "        self.mlp_block.add_module('linear_2', nn.Linear(1024, 512))\n",
    "        self.mlp_block.add_module('relu_2', nn.ReLU())\n",
    "        self.mlp_block.add_module('linear_3', nn.Linear(512, last_size))\n",
    "        self.mlp_block.add_module('relu_3', nn.ReLU())\n",
    "        \n",
    "    def forward(self, x):\n",
    "        return self.mlp_block(x)"
   ]
  },
  {
   "cell_type": "code",
   "execution_count": 51,
   "metadata": {
    "execution": {
     "iopub.execute_input": "2024-10-03T14:13:01.697790Z",
     "iopub.status.busy": "2024-10-03T14:13:01.696820Z",
     "iopub.status.idle": "2024-10-03T14:13:01.751123Z",
     "shell.execute_reply": "2024-10-03T14:13:01.750347Z",
     "shell.execute_reply.started": "2024-10-03T14:13:01.697748Z"
    },
    "tags": []
   },
   "outputs": [],
   "source": [
    "class SalaryPredictor(nn.Module):\n",
    "    def __init__(self, block_type='resnet', pooling_type='average', n_tokens=len(tokens), n_cat_features=len(categorical_vectorizer.vocabulary_), hid_size=64, last_size_cat=256):\n",
    "        super().__init__()\n",
    "        #  YOUR CODE HERE\n",
    "        self.title_enc = TextEncoder(block_type, pooling_type)\n",
    "        self.full_desc_enc = TextEncoder(block_type, pooling_type)\n",
    "        self.cat_enc = CategoricalEncoder(n_cat_features)\n",
    "        self.mlp_block = nn.Sequential(\n",
    "            nn.Linear(256 * 2 + 256, 1024),\n",
    "            nn.ReLU(),\n",
    "            nn.BatchNorm1d(1024),\n",
    "            nn.Linear(1024, 1),\n",
    "        )\n",
    "\n",
    "        \n",
    "    def forward(self, batch):\n",
    "        # YOUR CODE HERE\n",
    "        title_processed = self.title_enc(batch['Title'])\n",
    "        full_desc_processed = self.full_desc_enc(batch['FullDescription'])\n",
    "        cat_features_processed = self.cat_enc(batch['Categorical'])\n",
    "        concated = torch.cat((title_processed, full_desc_processed, cat_features_processed), 1)\n",
    "        return self.mlp_block(concated)\n",
    "\n",
    "        \n",
    "        "
   ]
  },
  {
   "cell_type": "code",
   "execution_count": 56,
   "metadata": {
    "execution": {
     "iopub.execute_input": "2024-10-02T12:26:45.247872Z",
     "iopub.status.busy": "2024-10-02T12:26:45.246751Z",
     "iopub.status.idle": "2024-10-02T12:26:45.272330Z",
     "shell.execute_reply": "2024-10-02T12:26:45.271302Z",
     "shell.execute_reply.started": "2024-10-02T12:26:45.247828Z"
    },
    "tags": []
   },
   "outputs": [],
   "source": [
    "# class SalaryPredictor_v3(nn.Module):\n",
    "#     def __init__(self, n_tokens=len(tokens), n_cat_features=len(categorical_vectorizer.vocabulary_), hid_size=64, last_size_cat=256):\n",
    "#         super().__init__()\n",
    "#         #  YOUR CODE HERE\n",
    "#         self.title_enc = TextEncoder_v3()\n",
    "#         self.full_desc_enc = TextEncoder_v3()\n",
    "#         self.cat_enc = CategoricalEncoder(n_cat_features)\n",
    "#         self.mlp_block = nn.Sequential(\n",
    "#             nn.Linear(1024 + last_size_cat, 1024),\n",
    "#             nn.ReLU(),\n",
    "#             nn.BatchNorm1d(1024),\n",
    "#             nn.Linear(1024, 256),\n",
    "#             nn.ReLU(),\n",
    "#             nn.BatchNorm1d(256),\n",
    "#             nn.Linear(256, 1),\n",
    "#         )\n",
    "\n",
    "        \n",
    "#     def forward(self, batch):\n",
    "#         # YOUR CODE HERE\n",
    "#         title_processed = self.title_enc(batch['Title'])\n",
    "#         full_desc_processed = self.full_desc_enc(batch['FullDescription'])\n",
    "#         cat_features_processed = self.cat_enc(batch['Categorical'])\n",
    "#         concated = torch.cat((title_processed, full_desc_processed, cat_features_processed), 1)\n",
    "#         return self.mlp_block(concated)\n",
    "\n",
    "        \n",
    "        "
   ]
  },
  {
   "cell_type": "markdown",
   "metadata": {},
   "source": [
    "## Training models"
   ]
  },
  {
   "cell_type": "code",
   "execution_count": 29,
   "metadata": {
    "execution": {
     "iopub.execute_input": "2024-10-03T11:31:03.534646Z",
     "iopub.status.busy": "2024-10-03T11:31:03.533667Z",
     "iopub.status.idle": "2024-10-03T11:31:03.985164Z",
     "shell.execute_reply": "2024-10-03T11:31:03.984277Z",
     "shell.execute_reply.started": "2024-10-03T11:31:03.534605Z"
    },
    "tags": []
   },
   "outputs": [],
   "source": [
    "model = SalaryPredictor()"
   ]
  },
  {
   "cell_type": "code",
   "execution_count": 30,
   "metadata": {
    "execution": {
     "iopub.execute_input": "2024-10-03T11:31:04.793356Z",
     "iopub.status.busy": "2024-10-03T11:31:04.792160Z",
     "iopub.status.idle": "2024-10-03T11:31:08.093232Z",
     "shell.execute_reply": "2024-10-03T11:31:08.092352Z",
     "shell.execute_reply.started": "2024-10-03T11:31:04.793306Z"
    },
    "tags": []
   },
   "outputs": [
    {
     "name": "stdout",
     "output_type": "stream",
     "text": [
      "torch.Size([100])\n"
     ]
    }
   ],
   "source": [
    "model = SalaryPredictor().to(device)\n",
    "batch = make_batch(data_train[:100], device=device)\n",
    "criterion = nn.MSELoss()\n",
    "\n",
    "dummy_pred = model(batch)\n",
    "dummy_loss = criterion(dummy_pred.squeeze_(1), batch[TARGET_COLUMN])\n",
    "print(dummy_pred.shape)\n",
    "assert dummy_pred.shape == torch.Size([100])\n",
    "assert len(torch.unique(dummy_pred)) > 20, \"model returns suspiciously few unique outputs. Check your initialization\"\n",
    "assert dummy_loss.ndim == 0 and 0. <= dummy_loss <= 250., \"make sure you minimize MSE\""
   ]
  },
  {
   "cell_type": "code",
   "execution_count": 31,
   "metadata": {
    "execution": {
     "iopub.execute_input": "2024-10-03T11:31:12.098472Z",
     "iopub.status.busy": "2024-10-03T11:31:12.097422Z",
     "iopub.status.idle": "2024-10-03T11:31:12.124783Z",
     "shell.execute_reply": "2024-10-03T11:31:12.123820Z",
     "shell.execute_reply.started": "2024-10-03T11:31:12.098428Z"
    },
    "tags": []
   },
   "outputs": [],
   "source": [
    "def iterate_minibatches(data, batch_size=256, shuffle=True, cycle=False, device=device, **kwargs):\n",
    "    \"\"\" iterates minibatches of data in random order \"\"\"\n",
    "    while True:\n",
    "        indices = np.arange(len(data))\n",
    "        if shuffle:\n",
    "            indices = np.random.permutation(indices)\n",
    "\n",
    "        for start in range(0, len(indices), batch_size):\n",
    "            batch = make_batch(data.iloc[indices[start : start + batch_size]], device=device, **kwargs)\n",
    "            yield batch\n",
    "        \n",
    "        if not cycle: break"
   ]
  },
  {
   "cell_type": "code",
   "execution_count": 41,
   "metadata": {
    "execution": {
     "iopub.execute_input": "2024-10-03T13:26:16.116940Z",
     "iopub.status.busy": "2024-10-03T13:26:16.115803Z",
     "iopub.status.idle": "2024-10-03T13:26:16.140623Z",
     "shell.execute_reply": "2024-10-03T13:26:16.139864Z",
     "shell.execute_reply.started": "2024-10-03T13:26:16.116898Z"
    },
    "tags": []
   },
   "outputs": [],
   "source": [
    "from tqdm.auto import tqdm\n",
    "\n",
    "BATCH_SIZE = 16\n",
    "EPOCHS = 20"
   ]
  },
  {
   "cell_type": "code",
   "execution_count": 33,
   "metadata": {
    "execution": {
     "iopub.execute_input": "2024-10-03T11:31:39.195467Z",
     "iopub.status.busy": "2024-10-03T11:31:39.194529Z",
     "iopub.status.idle": "2024-10-03T11:31:39.230675Z",
     "shell.execute_reply": "2024-10-03T11:31:39.229850Z",
     "shell.execute_reply.started": "2024-10-03T11:31:39.195427Z"
    },
    "tags": []
   },
   "outputs": [],
   "source": [
    "def print_metrics(model, val_metrics, data, batch_size=BATCH_SIZE, name=\"\", device=torch.device('cpu'), **kw):\n",
    "    squared_error = abs_error = num_samples = 0.0\n",
    "    model.eval()\n",
    "    with torch.no_grad():\n",
    "        for batch in iterate_minibatches(data, batch_size=batch_size, shuffle=False, device=device, **kw):\n",
    "            batch_pred = model(batch)\n",
    "            batch_pred.squeeze_(1)\n",
    "            squared_error += torch.sum(torch.square(batch_pred - batch[TARGET_COLUMN]))\n",
    "            abs_error += torch.sum(torch.abs(batch_pred - batch[TARGET_COLUMN]))\n",
    "            num_samples += len(batch_pred)\n",
    "    mse = squared_error.detach().cpu().numpy() / num_samples\n",
    "    mae = abs_error.detach().cpu().numpy() / num_samples\n",
    "    val_metrics['mse_loss'].append(mse)\n",
    "    val_metrics['mae_loss'].append(mae)\n",
    "    print(\"%s results:\" % (name or \"\"))\n",
    "    print(\"Mean square error: %.5f\" % mse)\n",
    "    print(\"Mean absolute error: %.5f\" % mae)\n",
    "    return mse, mae\n"
   ]
  },
  {
   "cell_type": "code",
   "execution_count": 64,
   "metadata": {
    "execution": {
     "iopub.execute_input": "2024-10-03T16:22:42.318253Z",
     "iopub.status.busy": "2024-10-03T16:22:42.317164Z",
     "iopub.status.idle": "2024-10-03T16:22:42.353561Z",
     "shell.execute_reply": "2024-10-03T16:22:42.352653Z",
     "shell.execute_reply.started": "2024-10-03T16:22:42.318206Z"
    },
    "tags": []
   },
   "outputs": [],
   "source": [
    "from collections import defaultdict\n",
    "\n",
    "def model_train(model):\n",
    "    criterion = nn.MSELoss(reduction='sum')\n",
    "    optimizer = torch.optim.Adam(model.parameters(), lr=5e-5)\n",
    "    sched = torch.optim.lr_scheduler.CosineAnnealingLR(optimizer, T_max=20, eta_min=0, last_epoch=-1, verbose=False)\n",
    "    val_metrics = defaultdict(list)\n",
    "    for epoch in range(EPOCHS):\n",
    "        print(f\"epoch: {epoch}\")\n",
    "        model.train()\n",
    "        for i, batch in tqdm(enumerate(\n",
    "                iterate_minibatches(data_train, batch_size=BATCH_SIZE, device=device)),\n",
    "                total=len(data_train) // BATCH_SIZE\n",
    "            ):\n",
    "            pred = model(batch)\n",
    "            pred.squeeze_(1)\n",
    "\n",
    "            loss = criterion(pred, batch[TARGET_COLUMN])\n",
    "            optimizer.zero_grad()\n",
    "            loss.backward()\n",
    "            optimizer.step()\n",
    "        sched.step()\n",
    "\n",
    "        print_metrics(model, val_metrics, data_val, device=device)\n",
    "    return val_metrics"
   ]
  },
  {
   "cell_type": "code",
   "execution_count": 58,
   "metadata": {
    "execution": {
     "iopub.execute_input": "2024-10-03T14:57:29.100527Z",
     "iopub.status.busy": "2024-10-03T14:57:29.099780Z",
     "iopub.status.idle": "2024-10-03T14:57:29.129933Z",
     "shell.execute_reply": "2024-10-03T14:57:29.129159Z",
     "shell.execute_reply.started": "2024-10-03T14:57:29.100488Z"
    },
    "tags": []
   },
   "outputs": [],
   "source": [
    "validation_scores = {}"
   ]
  },
  {
   "cell_type": "code",
   "execution_count": 59,
   "metadata": {
    "execution": {
     "iopub.execute_input": "2024-10-03T14:57:29.395052Z",
     "iopub.status.busy": "2024-10-03T14:57:29.394075Z",
     "iopub.status.idle": "2024-10-03T16:01:50.064034Z",
     "shell.execute_reply": "2024-10-03T16:01:50.063226Z",
     "shell.execute_reply.started": "2024-10-03T14:57:29.395011Z"
    },
    "tags": []
   },
   "outputs": [
    {
     "name": "stdout",
     "output_type": "stream",
     "text": [
      "epoch: 0\n"
     ]
    },
    {
     "name": "stderr",
     "output_type": "stream",
     "text": [
      "12239it [02:57, 68.79it/s]                           \n"
     ]
    },
    {
     "name": "stdout",
     "output_type": "stream",
     "text": [
      " results:\n",
      "Mean square error: 0.13250\n",
      "Mean absolute error: 0.26833\n",
      "epoch: 1\n"
     ]
    },
    {
     "name": "stderr",
     "output_type": "stream",
     "text": [
      "12239it [02:59, 68.24it/s]                           \n"
     ]
    },
    {
     "name": "stdout",
     "output_type": "stream",
     "text": [
      " results:\n",
      "Mean square error: 0.09208\n",
      "Mean absolute error: 0.22663\n",
      "epoch: 2\n"
     ]
    },
    {
     "name": "stderr",
     "output_type": "stream",
     "text": [
      "12239it [02:58, 68.51it/s]                           \n"
     ]
    },
    {
     "name": "stdout",
     "output_type": "stream",
     "text": [
      " results:\n",
      "Mean square error: 0.18240\n",
      "Mean absolute error: 0.27066\n",
      "epoch: 3\n"
     ]
    },
    {
     "name": "stderr",
     "output_type": "stream",
     "text": [
      "12239it [02:58, 68.71it/s]                           \n"
     ]
    },
    {
     "name": "stdout",
     "output_type": "stream",
     "text": [
      " results:\n",
      "Mean square error: 0.08578\n",
      "Mean absolute error: 0.22101\n",
      "epoch: 4\n"
     ]
    },
    {
     "name": "stderr",
     "output_type": "stream",
     "text": [
      "12239it [02:59, 68.18it/s]                           \n"
     ]
    },
    {
     "name": "stdout",
     "output_type": "stream",
     "text": [
      " results:\n",
      "Mean square error: 0.09202\n",
      "Mean absolute error: 0.22878\n",
      "epoch: 5\n"
     ]
    },
    {
     "name": "stderr",
     "output_type": "stream",
     "text": [
      "12239it [02:59, 68.26it/s]                           \n"
     ]
    },
    {
     "name": "stdout",
     "output_type": "stream",
     "text": [
      " results:\n",
      "Mean square error: 0.12417\n",
      "Mean absolute error: 0.23068\n",
      "epoch: 6\n"
     ]
    },
    {
     "name": "stderr",
     "output_type": "stream",
     "text": [
      "12239it [02:59, 68.15it/s]                           \n"
     ]
    },
    {
     "name": "stdout",
     "output_type": "stream",
     "text": [
      " results:\n",
      "Mean square error: 0.08265\n",
      "Mean absolute error: 0.21382\n",
      "epoch: 7\n"
     ]
    },
    {
     "name": "stderr",
     "output_type": "stream",
     "text": [
      "12239it [02:59, 68.23it/s]                           \n"
     ]
    },
    {
     "name": "stdout",
     "output_type": "stream",
     "text": [
      " results:\n",
      "Mean square error: 0.07669\n",
      "Mean absolute error: 0.20428\n",
      "epoch: 8\n"
     ]
    },
    {
     "name": "stderr",
     "output_type": "stream",
     "text": [
      "12239it [02:59, 68.21it/s]                           \n"
     ]
    },
    {
     "name": "stdout",
     "output_type": "stream",
     "text": [
      " results:\n",
      "Mean square error: 0.07375\n",
      "Mean absolute error: 0.19980\n",
      "epoch: 9\n"
     ]
    },
    {
     "name": "stderr",
     "output_type": "stream",
     "text": [
      "12239it [02:57, 68.94it/s]                           \n"
     ]
    },
    {
     "name": "stdout",
     "output_type": "stream",
     "text": [
      " results:\n",
      "Mean square error: 0.07248\n",
      "Mean absolute error: 0.19849\n",
      "epoch: 10\n"
     ]
    },
    {
     "name": "stderr",
     "output_type": "stream",
     "text": [
      "12239it [02:58, 68.59it/s]                           \n"
     ]
    },
    {
     "name": "stdout",
     "output_type": "stream",
     "text": [
      " results:\n",
      "Mean square error: 0.08133\n",
      "Mean absolute error: 0.21687\n",
      "epoch: 11\n"
     ]
    },
    {
     "name": "stderr",
     "output_type": "stream",
     "text": [
      "12239it [03:01, 67.29it/s]                           \n"
     ]
    },
    {
     "name": "stdout",
     "output_type": "stream",
     "text": [
      " results:\n",
      "Mean square error: 0.07191\n",
      "Mean absolute error: 0.19694\n",
      "epoch: 12\n"
     ]
    },
    {
     "name": "stderr",
     "output_type": "stream",
     "text": [
      "12239it [03:01, 67.60it/s]                           \n"
     ]
    },
    {
     "name": "stdout",
     "output_type": "stream",
     "text": [
      " results:\n",
      "Mean square error: 0.07044\n",
      "Mean absolute error: 0.19453\n",
      "epoch: 13\n"
     ]
    },
    {
     "name": "stderr",
     "output_type": "stream",
     "text": [
      "12239it [02:58, 68.65it/s]                           \n"
     ]
    },
    {
     "name": "stdout",
     "output_type": "stream",
     "text": [
      " results:\n",
      "Mean square error: 0.07057\n",
      "Mean absolute error: 0.19454\n",
      "epoch: 14\n"
     ]
    },
    {
     "name": "stderr",
     "output_type": "stream",
     "text": [
      "12239it [02:57, 68.82it/s]                           \n"
     ]
    },
    {
     "name": "stdout",
     "output_type": "stream",
     "text": [
      " results:\n",
      "Mean square error: 0.07220\n",
      "Mean absolute error: 0.19809\n",
      "epoch: 15\n"
     ]
    },
    {
     "name": "stderr",
     "output_type": "stream",
     "text": [
      "12239it [02:58, 68.74it/s]                           \n"
     ]
    },
    {
     "name": "stdout",
     "output_type": "stream",
     "text": [
      " results:\n",
      "Mean square error: 0.07067\n",
      "Mean absolute error: 0.19473\n",
      "epoch: 16\n"
     ]
    },
    {
     "name": "stderr",
     "output_type": "stream",
     "text": [
      "12239it [02:58, 68.67it/s]                           \n"
     ]
    },
    {
     "name": "stdout",
     "output_type": "stream",
     "text": [
      " results:\n",
      "Mean square error: 0.07178\n",
      "Mean absolute error: 0.19764\n",
      "epoch: 17\n"
     ]
    },
    {
     "name": "stderr",
     "output_type": "stream",
     "text": [
      "12239it [02:56, 69.45it/s]                           \n"
     ]
    },
    {
     "name": "stdout",
     "output_type": "stream",
     "text": [
      " results:\n",
      "Mean square error: 0.06837\n",
      "Mean absolute error: 0.19073\n",
      "epoch: 18\n"
     ]
    },
    {
     "name": "stderr",
     "output_type": "stream",
     "text": [
      "12239it [02:56, 69.40it/s]                           \n"
     ]
    },
    {
     "name": "stdout",
     "output_type": "stream",
     "text": [
      " results:\n",
      "Mean square error: 0.06855\n",
      "Mean absolute error: 0.19111\n",
      "epoch: 19\n"
     ]
    },
    {
     "name": "stderr",
     "output_type": "stream",
     "text": [
      "12239it [02:59, 68.35it/s]                           \n"
     ]
    },
    {
     "name": "stdout",
     "output_type": "stream",
     "text": [
      " results:\n",
      "Mean square error: 0.07027\n",
      "Mean absolute error: 0.19381\n"
     ]
    }
   ],
   "source": [
    "model = SalaryPredictor('resnet', 'average').to(device)\n",
    "val_score = model_train(model)\n",
    "validation_scores['resnet_average'] = val_score"
   ]
  },
  {
   "cell_type": "code",
   "execution_count": null,
   "metadata": {},
   "outputs": [],
   "source": []
  },
  {
   "cell_type": "code",
   "execution_count": 65,
   "metadata": {
    "execution": {
     "iopub.execute_input": "2024-10-03T16:22:48.414557Z",
     "iopub.status.busy": "2024-10-03T16:22:48.413451Z",
     "iopub.status.idle": "2024-10-03T17:30:27.146988Z",
     "shell.execute_reply": "2024-10-03T17:30:27.146055Z",
     "shell.execute_reply.started": "2024-10-03T16:22:48.414514Z"
    },
    "tags": []
   },
   "outputs": [
    {
     "name": "stdout",
     "output_type": "stream",
     "text": [
      "epoch: 0\n"
     ]
    },
    {
     "name": "stderr",
     "output_type": "stream",
     "text": [
      "12239it [03:07, 65.30it/s]                           \n"
     ]
    },
    {
     "name": "stdout",
     "output_type": "stream",
     "text": [
      " results:\n",
      "Mean square error: 0.10267\n",
      "Mean absolute error: 0.24151\n",
      "epoch: 1\n"
     ]
    },
    {
     "name": "stderr",
     "output_type": "stream",
     "text": [
      "12239it [03:07, 65.21it/s]                           \n"
     ]
    },
    {
     "name": "stdout",
     "output_type": "stream",
     "text": [
      " results:\n",
      "Mean square error: 0.08603\n",
      "Mean absolute error: 0.21773\n",
      "epoch: 2\n"
     ]
    },
    {
     "name": "stderr",
     "output_type": "stream",
     "text": [
      "12239it [03:09, 64.65it/s]                           \n"
     ]
    },
    {
     "name": "stdout",
     "output_type": "stream",
     "text": [
      " results:\n",
      "Mean square error: 0.08671\n",
      "Mean absolute error: 0.22053\n",
      "epoch: 3\n"
     ]
    },
    {
     "name": "stderr",
     "output_type": "stream",
     "text": [
      "12239it [03:08, 65.04it/s]                           \n"
     ]
    },
    {
     "name": "stdout",
     "output_type": "stream",
     "text": [
      " results:\n",
      "Mean square error: 0.07560\n",
      "Mean absolute error: 0.20397\n",
      "epoch: 4\n"
     ]
    },
    {
     "name": "stderr",
     "output_type": "stream",
     "text": [
      "12239it [03:07, 65.12it/s]                           \n"
     ]
    },
    {
     "name": "stdout",
     "output_type": "stream",
     "text": [
      " results:\n",
      "Mean square error: 0.07688\n",
      "Mean absolute error: 0.20572\n",
      "epoch: 5\n"
     ]
    },
    {
     "name": "stderr",
     "output_type": "stream",
     "text": [
      "12239it [03:08, 64.84it/s]                           \n"
     ]
    },
    {
     "name": "stdout",
     "output_type": "stream",
     "text": [
      " results:\n",
      "Mean square error: 0.07216\n",
      "Mean absolute error: 0.19849\n",
      "epoch: 6\n"
     ]
    },
    {
     "name": "stderr",
     "output_type": "stream",
     "text": [
      "12239it [03:08, 64.81it/s]                           \n"
     ]
    },
    {
     "name": "stdout",
     "output_type": "stream",
     "text": [
      " results:\n",
      "Mean square error: 0.07337\n",
      "Mean absolute error: 0.20117\n",
      "epoch: 7\n"
     ]
    },
    {
     "name": "stderr",
     "output_type": "stream",
     "text": [
      "12239it [03:09, 64.69it/s]                           \n"
     ]
    },
    {
     "name": "stdout",
     "output_type": "stream",
     "text": [
      " results:\n",
      "Mean square error: 0.07080\n",
      "Mean absolute error: 0.19607\n",
      "epoch: 8\n"
     ]
    },
    {
     "name": "stderr",
     "output_type": "stream",
     "text": [
      "12239it [03:09, 64.74it/s]                           \n"
     ]
    },
    {
     "name": "stdout",
     "output_type": "stream",
     "text": [
      " results:\n",
      "Mean square error: 0.07419\n",
      "Mean absolute error: 0.20282\n",
      "epoch: 9\n"
     ]
    },
    {
     "name": "stderr",
     "output_type": "stream",
     "text": [
      "12239it [03:07, 65.13it/s]                           \n"
     ]
    },
    {
     "name": "stdout",
     "output_type": "stream",
     "text": [
      " results:\n",
      "Mean square error: 0.06848\n",
      "Mean absolute error: 0.19200\n",
      "epoch: 10\n"
     ]
    },
    {
     "name": "stderr",
     "output_type": "stream",
     "text": [
      "12239it [03:08, 64.89it/s]                           \n"
     ]
    },
    {
     "name": "stdout",
     "output_type": "stream",
     "text": [
      " results:\n",
      "Mean square error: 0.07520\n",
      "Mean absolute error: 0.20343\n",
      "epoch: 11\n"
     ]
    },
    {
     "name": "stderr",
     "output_type": "stream",
     "text": [
      "12239it [03:09, 64.44it/s]                           \n"
     ]
    },
    {
     "name": "stdout",
     "output_type": "stream",
     "text": [
      " results:\n",
      "Mean square error: 0.06907\n",
      "Mean absolute error: 0.19247\n",
      "epoch: 12\n"
     ]
    },
    {
     "name": "stderr",
     "output_type": "stream",
     "text": [
      "12239it [03:09, 64.62it/s]                           \n"
     ]
    },
    {
     "name": "stdout",
     "output_type": "stream",
     "text": [
      " results:\n",
      "Mean square error: 0.07172\n",
      "Mean absolute error: 0.19767\n",
      "epoch: 13\n"
     ]
    },
    {
     "name": "stderr",
     "output_type": "stream",
     "text": [
      "12239it [03:08, 64.80it/s]                           \n"
     ]
    },
    {
     "name": "stdout",
     "output_type": "stream",
     "text": [
      " results:\n",
      "Mean square error: 0.06774\n",
      "Mean absolute error: 0.19020\n",
      "epoch: 14\n"
     ]
    },
    {
     "name": "stderr",
     "output_type": "stream",
     "text": [
      "12239it [03:08, 64.90it/s]                           \n"
     ]
    },
    {
     "name": "stdout",
     "output_type": "stream",
     "text": [
      " results:\n",
      "Mean square error: 0.06682\n",
      "Mean absolute error: 0.18835\n",
      "epoch: 15\n"
     ]
    },
    {
     "name": "stderr",
     "output_type": "stream",
     "text": [
      "12239it [03:08, 64.95it/s]                           \n"
     ]
    },
    {
     "name": "stdout",
     "output_type": "stream",
     "text": [
      " results:\n",
      "Mean square error: 0.06877\n",
      "Mean absolute error: 0.19160\n",
      "epoch: 16\n"
     ]
    },
    {
     "name": "stderr",
     "output_type": "stream",
     "text": [
      "12239it [03:08, 64.88it/s]                           \n"
     ]
    },
    {
     "name": "stdout",
     "output_type": "stream",
     "text": [
      " results:\n",
      "Mean square error: 0.06624\n",
      "Mean absolute error: 0.18703\n",
      "epoch: 17\n"
     ]
    },
    {
     "name": "stderr",
     "output_type": "stream",
     "text": [
      "12239it [03:08, 65.00it/s]                           \n"
     ]
    },
    {
     "name": "stdout",
     "output_type": "stream",
     "text": [
      " results:\n",
      "Mean square error: 0.06697\n",
      "Mean absolute error: 0.18815\n",
      "epoch: 18\n"
     ]
    },
    {
     "name": "stderr",
     "output_type": "stream",
     "text": [
      "12239it [03:07, 65.23it/s]                           \n"
     ]
    },
    {
     "name": "stdout",
     "output_type": "stream",
     "text": [
      " results:\n",
      "Mean square error: 0.07207\n",
      "Mean absolute error: 0.19757\n",
      "epoch: 19\n"
     ]
    },
    {
     "name": "stderr",
     "output_type": "stream",
     "text": [
      "12239it [03:07, 65.42it/s]                           \n"
     ]
    },
    {
     "name": "stdout",
     "output_type": "stream",
     "text": [
      " results:\n",
      "Mean square error: 0.06838\n",
      "Mean absolute error: 0.19028\n"
     ]
    }
   ],
   "source": [
    "model = SalaryPredictor('convnext', 'average').to(device)\n",
    "val_score = model_train(model)\n",
    "validation_scores['convnext_average'] = val_score"
   ]
  },
  {
   "cell_type": "code",
   "execution_count": 66,
   "metadata": {
    "execution": {
     "iopub.execute_input": "2024-10-03T17:35:16.293976Z",
     "iopub.status.busy": "2024-10-03T17:35:16.292829Z",
     "iopub.status.idle": "2024-10-03T18:20:59.483855Z",
     "shell.execute_reply": "2024-10-03T18:20:59.479972Z",
     "shell.execute_reply.started": "2024-10-03T17:35:16.293933Z"
    },
    "tags": []
   },
   "outputs": [
    {
     "name": "stdout",
     "output_type": "stream",
     "text": [
      "epoch: 0\n"
     ]
    },
    {
     "name": "stderr",
     "output_type": "stream",
     "text": [
      "12239it [03:08, 65.09it/s]                           \n"
     ]
    },
    {
     "name": "stdout",
     "output_type": "stream",
     "text": [
      " results:\n",
      "Mean square error: 0.10213\n",
      "Mean absolute error: 0.24290\n",
      "epoch: 1\n"
     ]
    },
    {
     "name": "stderr",
     "output_type": "stream",
     "text": [
      "12239it [03:07, 65.14it/s]                           \n"
     ]
    },
    {
     "name": "stdout",
     "output_type": "stream",
     "text": [
      " results:\n",
      "Mean square error: 0.09814\n",
      "Mean absolute error: 0.23598\n",
      "epoch: 2\n"
     ]
    },
    {
     "name": "stderr",
     "output_type": "stream",
     "text": [
      "12239it [03:07, 65.28it/s]                           \n"
     ]
    },
    {
     "name": "stdout",
     "output_type": "stream",
     "text": [
      " results:\n",
      "Mean square error: 0.09052\n",
      "Mean absolute error: 0.22529\n",
      "epoch: 3\n"
     ]
    },
    {
     "name": "stderr",
     "output_type": "stream",
     "text": [
      "12239it [03:10, 64.08it/s]                           \n"
     ]
    },
    {
     "name": "stdout",
     "output_type": "stream",
     "text": [
      " results:\n",
      "Mean square error: 0.08730\n",
      "Mean absolute error: 0.22169\n",
      "epoch: 4\n"
     ]
    },
    {
     "name": "stderr",
     "output_type": "stream",
     "text": [
      "12239it [03:10, 64.16it/s]                           \n"
     ]
    },
    {
     "name": "stdout",
     "output_type": "stream",
     "text": [
      " results:\n",
      "Mean square error: 0.07958\n",
      "Mean absolute error: 0.21110\n",
      "epoch: 5\n"
     ]
    },
    {
     "name": "stderr",
     "output_type": "stream",
     "text": [
      "12239it [03:10, 64.35it/s]                           \n"
     ]
    },
    {
     "name": "stdout",
     "output_type": "stream",
     "text": [
      " results:\n",
      "Mean square error: 0.07637\n",
      "Mean absolute error: 0.20634\n",
      "epoch: 6\n"
     ]
    },
    {
     "name": "stderr",
     "output_type": "stream",
     "text": [
      "12239it [03:10, 64.18it/s]                           \n"
     ]
    },
    {
     "name": "stdout",
     "output_type": "stream",
     "text": [
      " results:\n",
      "Mean square error: 0.07696\n",
      "Mean absolute error: 0.20643\n",
      "epoch: 7\n"
     ]
    },
    {
     "name": "stderr",
     "output_type": "stream",
     "text": [
      "12239it [03:08, 64.76it/s]                           \n"
     ]
    },
    {
     "name": "stdout",
     "output_type": "stream",
     "text": [
      " results:\n",
      "Mean square error: 0.08008\n",
      "Mean absolute error: 0.21149\n",
      "epoch: 8\n"
     ]
    },
    {
     "name": "stderr",
     "output_type": "stream",
     "text": [
      "12239it [03:11, 63.75it/s]                           \n"
     ]
    },
    {
     "name": "stdout",
     "output_type": "stream",
     "text": [
      " results:\n",
      "Mean square error: 0.08195\n",
      "Mean absolute error: 0.21463\n",
      "epoch: 9\n"
     ]
    },
    {
     "name": "stderr",
     "output_type": "stream",
     "text": [
      "12239it [03:13, 63.30it/s]                           \n"
     ]
    },
    {
     "name": "stdout",
     "output_type": "stream",
     "text": [
      " results:\n",
      "Mean square error: 0.07650\n",
      "Mean absolute error: 0.20507\n",
      "epoch: 10\n"
     ]
    },
    {
     "name": "stderr",
     "output_type": "stream",
     "text": [
      "12239it [03:12, 63.73it/s]                           \n"
     ]
    },
    {
     "name": "stdout",
     "output_type": "stream",
     "text": [
      " results:\n",
      "Mean square error: 0.07244\n",
      "Mean absolute error: 0.20035\n",
      "epoch: 11\n"
     ]
    },
    {
     "name": "stderr",
     "output_type": "stream",
     "text": [
      "12239it [03:12, 63.63it/s]                           \n"
     ]
    },
    {
     "name": "stdout",
     "output_type": "stream",
     "text": [
      " results:\n",
      "Mean square error: 0.07924\n",
      "Mean absolute error: 0.21078\n",
      "epoch: 12\n"
     ]
    },
    {
     "name": "stderr",
     "output_type": "stream",
     "text": [
      "12239it [03:12, 63.57it/s]                           \n"
     ]
    },
    {
     "name": "stdout",
     "output_type": "stream",
     "text": [
      " results:\n",
      "Mean square error: 0.07184\n",
      "Mean absolute error: 0.19849\n",
      "epoch: 13\n"
     ]
    },
    {
     "name": "stderr",
     "output_type": "stream",
     "text": [
      " 41%|████      | 4993/12238 [01:18<01:53, 63.75it/s]\n"
     ]
    },
    {
     "ename": "KeyboardInterrupt",
     "evalue": "",
     "output_type": "error",
     "traceback": [
      "\u001b[0;31m---------------------------------------------------------------------------\u001b[0m",
      "\u001b[0;31mKeyboardInterrupt\u001b[0m                         Traceback (most recent call last)",
      "\u001b[0;32m/tmp/ipykernel_2902/2455875436.py\u001b[0m in \u001b[0;36m<cell line: 2>\u001b[0;34m()\u001b[0m\n\u001b[1;32m      1\u001b[0m \u001b[0mmodel\u001b[0m \u001b[0;34m=\u001b[0m \u001b[0mSalaryPredictor\u001b[0m\u001b[0;34m(\u001b[0m\u001b[0;34m'convnext'\u001b[0m\u001b[0;34m,\u001b[0m \u001b[0;34m'softmax'\u001b[0m\u001b[0;34m)\u001b[0m\u001b[0;34m.\u001b[0m\u001b[0mto\u001b[0m\u001b[0;34m(\u001b[0m\u001b[0mdevice\u001b[0m\u001b[0;34m)\u001b[0m\u001b[0;34m\u001b[0m\u001b[0;34m\u001b[0m\u001b[0m\n\u001b[0;32m----> 2\u001b[0;31m \u001b[0mval_score\u001b[0m \u001b[0;34m=\u001b[0m \u001b[0mmodel_train\u001b[0m\u001b[0;34m(\u001b[0m\u001b[0mmodel\u001b[0m\u001b[0;34m)\u001b[0m\u001b[0;34m\u001b[0m\u001b[0;34m\u001b[0m\u001b[0m\n\u001b[0m\u001b[1;32m      3\u001b[0m \u001b[0mvalidation_scores\u001b[0m\u001b[0;34m[\u001b[0m\u001b[0;34m'convnext_softmax'\u001b[0m\u001b[0;34m]\u001b[0m \u001b[0;34m=\u001b[0m \u001b[0mval_score\u001b[0m\u001b[0;34m\u001b[0m\u001b[0;34m\u001b[0m\u001b[0m\n",
      "\u001b[0;32m/tmp/ipykernel_2902/2059322775.py\u001b[0m in \u001b[0;36mmodel_train\u001b[0;34m(model)\u001b[0m\n\u001b[1;32m     19\u001b[0m             \u001b[0moptimizer\u001b[0m\u001b[0;34m.\u001b[0m\u001b[0mzero_grad\u001b[0m\u001b[0;34m(\u001b[0m\u001b[0;34m)\u001b[0m\u001b[0;34m\u001b[0m\u001b[0;34m\u001b[0m\u001b[0m\n\u001b[1;32m     20\u001b[0m             \u001b[0mloss\u001b[0m\u001b[0;34m.\u001b[0m\u001b[0mbackward\u001b[0m\u001b[0;34m(\u001b[0m\u001b[0;34m)\u001b[0m\u001b[0;34m\u001b[0m\u001b[0;34m\u001b[0m\u001b[0m\n\u001b[0;32m---> 21\u001b[0;31m             \u001b[0moptimizer\u001b[0m\u001b[0;34m.\u001b[0m\u001b[0mstep\u001b[0m\u001b[0;34m(\u001b[0m\u001b[0;34m)\u001b[0m\u001b[0;34m\u001b[0m\u001b[0;34m\u001b[0m\u001b[0m\n\u001b[0m\u001b[1;32m     22\u001b[0m         \u001b[0msched\u001b[0m\u001b[0;34m.\u001b[0m\u001b[0mstep\u001b[0m\u001b[0;34m(\u001b[0m\u001b[0;34m)\u001b[0m\u001b[0;34m\u001b[0m\u001b[0;34m\u001b[0m\u001b[0m\n\u001b[1;32m     23\u001b[0m \u001b[0;34m\u001b[0m\u001b[0m\n",
      "\u001b[0;32m/usr/local/lib/python3.10/dist-packages/torch/optim/lr_scheduler.py\u001b[0m in \u001b[0;36mwrapper\u001b[0;34m(*args, **kwargs)\u001b[0m\n\u001b[1;32m     67\u001b[0m                 \u001b[0minstance\u001b[0m\u001b[0;34m.\u001b[0m\u001b[0m_step_count\u001b[0m \u001b[0;34m+=\u001b[0m \u001b[0;36m1\u001b[0m\u001b[0;34m\u001b[0m\u001b[0;34m\u001b[0m\u001b[0m\n\u001b[1;32m     68\u001b[0m                 \u001b[0mwrapped\u001b[0m \u001b[0;34m=\u001b[0m \u001b[0mfunc\u001b[0m\u001b[0;34m.\u001b[0m\u001b[0m__get__\u001b[0m\u001b[0;34m(\u001b[0m\u001b[0minstance\u001b[0m\u001b[0;34m,\u001b[0m \u001b[0mcls\u001b[0m\u001b[0;34m)\u001b[0m\u001b[0;34m\u001b[0m\u001b[0;34m\u001b[0m\u001b[0m\n\u001b[0;32m---> 69\u001b[0;31m                 \u001b[0;32mreturn\u001b[0m \u001b[0mwrapped\u001b[0m\u001b[0;34m(\u001b[0m\u001b[0;34m*\u001b[0m\u001b[0margs\u001b[0m\u001b[0;34m,\u001b[0m \u001b[0;34m**\u001b[0m\u001b[0mkwargs\u001b[0m\u001b[0;34m)\u001b[0m\u001b[0;34m\u001b[0m\u001b[0;34m\u001b[0m\u001b[0m\n\u001b[0m\u001b[1;32m     70\u001b[0m \u001b[0;34m\u001b[0m\u001b[0m\n\u001b[1;32m     71\u001b[0m             \u001b[0;31m# Note that the returned function here is no longer a bound method,\u001b[0m\u001b[0;34m\u001b[0m\u001b[0;34m\u001b[0m\u001b[0m\n",
      "\u001b[0;32m/usr/local/lib/python3.10/dist-packages/torch/optim/optimizer.py\u001b[0m in \u001b[0;36mwrapper\u001b[0;34m(*args, **kwargs)\u001b[0m\n\u001b[1;32m    278\u001b[0m                                                f\"but got {result}.\")\n\u001b[1;32m    279\u001b[0m \u001b[0;34m\u001b[0m\u001b[0m\n\u001b[0;32m--> 280\u001b[0;31m                 \u001b[0mout\u001b[0m \u001b[0;34m=\u001b[0m \u001b[0mfunc\u001b[0m\u001b[0;34m(\u001b[0m\u001b[0;34m*\u001b[0m\u001b[0margs\u001b[0m\u001b[0;34m,\u001b[0m \u001b[0;34m**\u001b[0m\u001b[0mkwargs\u001b[0m\u001b[0;34m)\u001b[0m\u001b[0;34m\u001b[0m\u001b[0;34m\u001b[0m\u001b[0m\n\u001b[0m\u001b[1;32m    281\u001b[0m                 \u001b[0mself\u001b[0m\u001b[0;34m.\u001b[0m\u001b[0m_optimizer_step_code\u001b[0m\u001b[0;34m(\u001b[0m\u001b[0;34m)\u001b[0m\u001b[0;34m\u001b[0m\u001b[0;34m\u001b[0m\u001b[0m\n\u001b[1;32m    282\u001b[0m \u001b[0;34m\u001b[0m\u001b[0m\n",
      "\u001b[0;32m/usr/local/lib/python3.10/dist-packages/torch/optim/optimizer.py\u001b[0m in \u001b[0;36m_use_grad\u001b[0;34m(self, *args, **kwargs)\u001b[0m\n\u001b[1;32m     31\u001b[0m         \u001b[0;32mtry\u001b[0m\u001b[0;34m:\u001b[0m\u001b[0;34m\u001b[0m\u001b[0;34m\u001b[0m\u001b[0m\n\u001b[1;32m     32\u001b[0m             \u001b[0mtorch\u001b[0m\u001b[0;34m.\u001b[0m\u001b[0mset_grad_enabled\u001b[0m\u001b[0;34m(\u001b[0m\u001b[0mself\u001b[0m\u001b[0;34m.\u001b[0m\u001b[0mdefaults\u001b[0m\u001b[0;34m[\u001b[0m\u001b[0;34m'differentiable'\u001b[0m\u001b[0;34m]\u001b[0m\u001b[0;34m)\u001b[0m\u001b[0;34m\u001b[0m\u001b[0;34m\u001b[0m\u001b[0m\n\u001b[0;32m---> 33\u001b[0;31m             \u001b[0mret\u001b[0m \u001b[0;34m=\u001b[0m \u001b[0mfunc\u001b[0m\u001b[0;34m(\u001b[0m\u001b[0mself\u001b[0m\u001b[0;34m,\u001b[0m \u001b[0;34m*\u001b[0m\u001b[0margs\u001b[0m\u001b[0;34m,\u001b[0m \u001b[0;34m**\u001b[0m\u001b[0mkwargs\u001b[0m\u001b[0;34m)\u001b[0m\u001b[0;34m\u001b[0m\u001b[0;34m\u001b[0m\u001b[0m\n\u001b[0m\u001b[1;32m     34\u001b[0m         \u001b[0;32mfinally\u001b[0m\u001b[0;34m:\u001b[0m\u001b[0;34m\u001b[0m\u001b[0;34m\u001b[0m\u001b[0m\n\u001b[1;32m     35\u001b[0m             \u001b[0mtorch\u001b[0m\u001b[0;34m.\u001b[0m\u001b[0mset_grad_enabled\u001b[0m\u001b[0;34m(\u001b[0m\u001b[0mprev_grad\u001b[0m\u001b[0;34m)\u001b[0m\u001b[0;34m\u001b[0m\u001b[0;34m\u001b[0m\u001b[0m\n",
      "\u001b[0;32m/usr/local/lib/python3.10/dist-packages/torch/optim/adam.py\u001b[0m in \u001b[0;36mstep\u001b[0;34m(self, closure)\u001b[0m\n\u001b[1;32m    114\u001b[0m                 \u001b[0;32mand\u001b[0m \u001b[0mreturns\u001b[0m \u001b[0mthe\u001b[0m \u001b[0mloss\u001b[0m\u001b[0;34m.\u001b[0m\u001b[0;34m\u001b[0m\u001b[0;34m\u001b[0m\u001b[0m\n\u001b[1;32m    115\u001b[0m         \"\"\"\n\u001b[0;32m--> 116\u001b[0;31m         \u001b[0mself\u001b[0m\u001b[0;34m.\u001b[0m\u001b[0m_cuda_graph_capture_health_check\u001b[0m\u001b[0;34m(\u001b[0m\u001b[0;34m)\u001b[0m\u001b[0;34m\u001b[0m\u001b[0;34m\u001b[0m\u001b[0m\n\u001b[0m\u001b[1;32m    117\u001b[0m \u001b[0;34m\u001b[0m\u001b[0m\n\u001b[1;32m    118\u001b[0m         \u001b[0mloss\u001b[0m \u001b[0;34m=\u001b[0m \u001b[0;32mNone\u001b[0m\u001b[0;34m\u001b[0m\u001b[0;34m\u001b[0m\u001b[0m\n",
      "\u001b[0;32m/usr/local/lib/python3.10/dist-packages/torch/optim/optimizer.py\u001b[0m in \u001b[0;36m_cuda_graph_capture_health_check\u001b[0;34m(self)\u001b[0m\n\u001b[1;32m    227\u001b[0m     \u001b[0;31m# Currently needed by Adam and AdamW\u001b[0m\u001b[0;34m\u001b[0m\u001b[0;34m\u001b[0m\u001b[0m\n\u001b[1;32m    228\u001b[0m     \u001b[0;32mdef\u001b[0m \u001b[0m_cuda_graph_capture_health_check\u001b[0m\u001b[0;34m(\u001b[0m\u001b[0mself\u001b[0m\u001b[0;34m)\u001b[0m\u001b[0;34m:\u001b[0m\u001b[0;34m\u001b[0m\u001b[0;34m\u001b[0m\u001b[0m\n\u001b[0;32m--> 229\u001b[0;31m         \u001b[0;32mif\u001b[0m \u001b[0mtorch\u001b[0m\u001b[0;34m.\u001b[0m\u001b[0mhas_cuda\u001b[0m \u001b[0;32mand\u001b[0m \u001b[0mtorch\u001b[0m\u001b[0;34m.\u001b[0m\u001b[0mcuda\u001b[0m\u001b[0;34m.\u001b[0m\u001b[0mis_available\u001b[0m\u001b[0;34m(\u001b[0m\u001b[0;34m)\u001b[0m\u001b[0;34m:\u001b[0m\u001b[0;34m\u001b[0m\u001b[0;34m\u001b[0m\u001b[0m\n\u001b[0m\u001b[1;32m    230\u001b[0m             \u001b[0mcapturing\u001b[0m \u001b[0;34m=\u001b[0m \u001b[0mtorch\u001b[0m\u001b[0;34m.\u001b[0m\u001b[0mcuda\u001b[0m\u001b[0;34m.\u001b[0m\u001b[0mis_current_stream_capturing\u001b[0m\u001b[0;34m(\u001b[0m\u001b[0;34m)\u001b[0m\u001b[0;34m\u001b[0m\u001b[0;34m\u001b[0m\u001b[0m\n\u001b[1;32m    231\u001b[0m \u001b[0;34m\u001b[0m\u001b[0m\n",
      "\u001b[0;32m/usr/local/lib/python3.10/dist-packages/torch/cuda/__init__.py\u001b[0m in \u001b[0;36mis_available\u001b[0;34m()\u001b[0m\n\u001b[1;32m    105\u001b[0m         \u001b[0;31m# be initialized. This uses the CUDA Runtime API `cudaGetDeviceCount` which in turn initializes the CUDA Driver\u001b[0m\u001b[0;34m\u001b[0m\u001b[0;34m\u001b[0m\u001b[0m\n\u001b[1;32m    106\u001b[0m         \u001b[0;31m# API via `cuInit`\u001b[0m\u001b[0;34m\u001b[0m\u001b[0;34m\u001b[0m\u001b[0m\n\u001b[0;32m--> 107\u001b[0;31m         \u001b[0;32mreturn\u001b[0m \u001b[0mtorch\u001b[0m\u001b[0;34m.\u001b[0m\u001b[0m_C\u001b[0m\u001b[0;34m.\u001b[0m\u001b[0m_cuda_getDeviceCount\u001b[0m\u001b[0;34m(\u001b[0m\u001b[0;34m)\u001b[0m \u001b[0;34m>\u001b[0m \u001b[0;36m0\u001b[0m\u001b[0;34m\u001b[0m\u001b[0;34m\u001b[0m\u001b[0m\n\u001b[0m\u001b[1;32m    108\u001b[0m \u001b[0;34m\u001b[0m\u001b[0m\n\u001b[1;32m    109\u001b[0m \u001b[0;34m\u001b[0m\u001b[0m\n",
      "\u001b[0;31mKeyboardInterrupt\u001b[0m: "
     ]
    }
   ],
   "source": [
    "model = SalaryPredictor('convnext', 'softmax').to(device)\n",
    "val_score = model_train(model)\n",
    "validation_scores['convnext_softmax'] = val_score"
   ]
  },
  {
   "cell_type": "code",
   "execution_count": 69,
   "metadata": {
    "execution": {
     "iopub.execute_input": "2024-10-03T18:22:02.037689Z",
     "iopub.status.busy": "2024-10-03T18:22:02.036521Z",
     "iopub.status.idle": "2024-10-03T18:22:02.312516Z",
     "shell.execute_reply": "2024-10-03T18:22:02.311680Z",
     "shell.execute_reply.started": "2024-10-03T18:22:02.037648Z"
    },
    "tags": []
   },
   "outputs": [
    {
     "data": {
      "text/plain": [
       "(0.05, 0.11)"
      ]
     },
     "execution_count": 69,
     "metadata": {},
     "output_type": "execute_result"
    },
    {
     "data": {
      "image/png": "[encoded data removed]",
      "text/plain": [
       "<Figure size 640x480 with 1 Axes>"
      ]
     },
     "metadata": {},
     "output_type": "display_data"
    }
   ],
   "source": [
    "plt.plot(validation_scores['resnet_average']['mse_loss'], label='resnet_average')\n",
    "# plt.plot(validation_scores['resnet_softmax']['mse_loss'], label='resnet_softmax')\n",
    "plt.plot(validation_scores['convnext_average']['mse_loss'], label='convnext_average')\n",
    "# plt.plot(validation_scores['convnext_softmax']['mse_loss'], label='convnext_softmax')\n",
    "plt.title('MSE Loss')\n",
    "plt.grid()\n",
    "plt.legend(loc='best')\n",
    "plt.ylim([0.05, 0.11])"
   ]
  },
  {
   "cell_type": "code",
   "execution_count": 70,
   "metadata": {
    "execution": {
     "iopub.execute_input": "2024-10-03T18:22:11.005456Z",
     "iopub.status.busy": "2024-10-03T18:22:11.004530Z",
     "iopub.status.idle": "2024-10-03T18:22:11.316400Z",
     "shell.execute_reply": "2024-10-03T18:22:11.315492Z",
     "shell.execute_reply.started": "2024-10-03T18:22:11.005418Z"
    },
    "tags": []
   },
   "outputs": [
    {
     "data": {
      "text/plain": [
       "(0.17, 0.26)"
      ]
     },
     "execution_count": 70,
     "metadata": {},
     "output_type": "execute_result"
    },
    {
     "data": {
      "image/png": "[encoded data removed]",
      "text/plain": [
       "<Figure size 640x480 with 1 Axes>"
      ]
     },
     "metadata": {},
     "output_type": "display_data"
    }
   ],
   "source": [
    "plt.plot(validation_scores['resnet_average']['mae_loss'], label='resnet_average')\n",
    "# plt.plot(validation_scores['resnet_softmax']['mae_loss'], label='resnet_softmax')\n",
    "plt.plot(validation_scores['convnext_average']['mae_loss'], label='convnext_average')\n",
    "# plt.plot(validation_scores['convnext_softmax']['mae_loss'], label='convnext_softmax')\n",
    "plt.title('MAE Loss')\n",
    "plt.grid()\n",
    "plt.legend(loc='best')\n",
    "plt.ylim([0.17, 0.26])"
   ]
  },
  {
   "cell_type": "code",
   "execution_count": 52,
   "metadata": {
    "execution": {
     "iopub.execute_input": "2024-10-02T11:32:33.480068Z",
     "iopub.status.busy": "2024-10-02T11:32:33.479118Z",
     "iopub.status.idle": "2024-10-02T12:05:02.575906Z",
     "shell.execute_reply": "2024-10-02T12:05:02.575066Z",
     "shell.execute_reply.started": "2024-10-02T11:32:33.480031Z"
    },
    "tags": []
   },
   "outputs": [
    {
     "name": "stdout",
     "output_type": "stream",
     "text": [
      "epoch: 0\n"
     ]
    },
    {
     "name": "stderr",
     "output_type": "stream",
     "text": [
      "12239it [02:57, 68.81it/s]                           \n"
     ]
    },
    {
     "name": "stdout",
     "output_type": "stream",
     "text": [
      " results:\n",
      "Mean square error: 0.11752\n",
      "Mean absolute error: 0.26290\n",
      "epoch: 1\n"
     ]
    },
    {
     "name": "stderr",
     "output_type": "stream",
     "text": [
      "12239it [02:58, 68.59it/s]                           \n"
     ]
    },
    {
     "name": "stdout",
     "output_type": "stream",
     "text": [
      " results:\n",
      "Mean square error: 0.11864\n",
      "Mean absolute error: 0.26700\n",
      "epoch: 2\n"
     ]
    },
    {
     "name": "stderr",
     "output_type": "stream",
     "text": [
      "12239it [02:59, 68.21it/s]                           \n"
     ]
    },
    {
     "name": "stdout",
     "output_type": "stream",
     "text": [
      " results:\n",
      "Mean square error: 0.09423\n",
      "Mean absolute error: 0.23126\n",
      "epoch: 3\n"
     ]
    },
    {
     "name": "stderr",
     "output_type": "stream",
     "text": [
      "12239it [02:58, 68.50it/s]                           \n"
     ]
    },
    {
     "name": "stdout",
     "output_type": "stream",
     "text": [
      " results:\n",
      "Mean square error: 0.09835\n",
      "Mean absolute error: 0.23770\n",
      "epoch: 4\n"
     ]
    },
    {
     "name": "stderr",
     "output_type": "stream",
     "text": [
      "12239it [02:57, 68.85it/s]                           \n"
     ]
    },
    {
     "name": "stdout",
     "output_type": "stream",
     "text": [
      " results:\n",
      "Mean square error: 0.09332\n",
      "Mean absolute error: 0.23071\n",
      "epoch: 5\n"
     ]
    },
    {
     "name": "stderr",
     "output_type": "stream",
     "text": [
      "12239it [02:56, 69.31it/s]                           \n"
     ]
    },
    {
     "name": "stdout",
     "output_type": "stream",
     "text": [
      " results:\n",
      "Mean square error: 0.08951\n",
      "Mean absolute error: 0.22574\n",
      "epoch: 6\n"
     ]
    },
    {
     "name": "stderr",
     "output_type": "stream",
     "text": [
      "12239it [02:56, 69.32it/s]                           \n"
     ]
    },
    {
     "name": "stdout",
     "output_type": "stream",
     "text": [
      " results:\n",
      "Mean square error: 0.09001\n",
      "Mean absolute error: 0.22521\n",
      "epoch: 7\n"
     ]
    },
    {
     "name": "stderr",
     "output_type": "stream",
     "text": [
      "12239it [02:56, 69.45it/s]                           \n"
     ]
    },
    {
     "name": "stdout",
     "output_type": "stream",
     "text": [
      " results:\n",
      "Mean square error: 0.08691\n",
      "Mean absolute error: 0.21937\n",
      "epoch: 8\n"
     ]
    },
    {
     "name": "stderr",
     "output_type": "stream",
     "text": [
      "12239it [02:57, 68.93it/s]                           \n"
     ]
    },
    {
     "name": "stdout",
     "output_type": "stream",
     "text": [
      " results:\n",
      "Mean square error: 0.08315\n",
      "Mean absolute error: 0.21488\n",
      "epoch: 9\n"
     ]
    },
    {
     "name": "stderr",
     "output_type": "stream",
     "text": [
      "12239it [02:57, 69.13it/s]                           \n"
     ]
    },
    {
     "name": "stdout",
     "output_type": "stream",
     "text": [
      " results:\n",
      "Mean square error: 0.08267\n",
      "Mean absolute error: 0.21440\n"
     ]
    }
   ],
   "source": [
    "#convnext\n",
    "\n",
    "model = SalaryPredictor().to(device)\n",
    "criterion = nn.MSELoss(reduction='sum')\n",
    "optimizer = torch.optim.Adam(model.parameters(), lr=1e-4)\n",
    "\n",
    "for epoch in range(EPOCHS):\n",
    "    print(f\"epoch: {epoch}\")\n",
    "    model.train()\n",
    "    for i, batch in tqdm(enumerate(\n",
    "            iterate_minibatches(data_train, batch_size=BATCH_SIZE, device=device)),\n",
    "            total=len(data_train) // BATCH_SIZE\n",
    "        ):\n",
    "        pred = model(batch)\n",
    "        pred.squeeze_(1)\n",
    "\n",
    "        loss = criterion(pred, batch[TARGET_COLUMN])\n",
    "        optimizer.zero_grad()\n",
    "        loss.backward()\n",
    "        optimizer.step()\n",
    "        \n",
    "    print_metrics(model, data_val, device=device)\n",
    "\n",
    "      "
   ]
  },
  {
   "cell_type": "code",
   "execution_count": null,
   "metadata": {},
   "outputs": [],
   "source": []
  },
  {
   "cell_type": "code",
   "execution_count": null,
   "metadata": {
    "execution": {
     "iopub.execute_input": "2024-10-02T12:29:06.985938Z",
     "iopub.status.busy": "2024-10-02T12:29:06.984681Z"
    },
    "tags": []
   },
   "outputs": [
    {
     "name": "stdout",
     "output_type": "stream",
     "text": [
      "epoch: 0\n"
     ]
    },
    {
     "name": "stderr",
     "output_type": "stream",
     "text": [
      "12239it [04:01, 50.62it/s]                           \n"
     ]
    },
    {
     "name": "stdout",
     "output_type": "stream",
     "text": [
      " results:\n",
      "Mean square error: 0.11263\n",
      "Mean absolute error: 0.25654\n",
      "epoch: 1\n"
     ]
    },
    {
     "name": "stderr",
     "output_type": "stream",
     "text": [
      "12239it [04:02, 50.47it/s]                           \n"
     ]
    },
    {
     "name": "stdout",
     "output_type": "stream",
     "text": [
      " results:\n",
      "Mean square error: 0.11426\n",
      "Mean absolute error: 0.25767\n",
      "epoch: 2\n"
     ]
    },
    {
     "name": "stderr",
     "output_type": "stream",
     "text": [
      "12239it [04:03, 50.30it/s]                           \n"
     ]
    },
    {
     "name": "stdout",
     "output_type": "stream",
     "text": [
      " results:\n",
      "Mean square error: 0.09484\n",
      "Mean absolute error: 0.23251\n",
      "epoch: 3\n"
     ]
    },
    {
     "name": "stderr",
     "output_type": "stream",
     "text": [
      "12239it [03:58, 51.31it/s]                           \n"
     ]
    },
    {
     "name": "stdout",
     "output_type": "stream",
     "text": [
      " results:\n",
      "Mean square error: 0.11819\n",
      "Mean absolute error: 0.24753\n",
      "epoch: 4\n"
     ]
    },
    {
     "name": "stderr",
     "output_type": "stream",
     "text": [
      "12239it [04:00, 50.82it/s]                           \n"
     ]
    },
    {
     "name": "stdout",
     "output_type": "stream",
     "text": [
      " results:\n",
      "Mean square error: 0.08584\n",
      "Mean absolute error: 0.21607\n",
      "epoch: 9\n"
     ]
    },
    {
     "name": "stderr",
     "output_type": "stream",
     "text": [
      "12239it [04:00, 50.99it/s]                           \n"
     ]
    },
    {
     "name": "stdout",
     "output_type": "stream",
     "text": [
      " results:\n",
      "Mean square error: 0.79253\n",
      "Mean absolute error: 0.27940\n",
      "epoch: 10\n"
     ]
    },
    {
     "name": "stderr",
     "output_type": "stream",
     "text": [
      "12239it [04:00, 50.82it/s]                           \n"
     ]
    },
    {
     "name": "stdout",
     "output_type": "stream",
     "text": [
      " results:\n",
      "Mean square error: 0.08892\n",
      "Mean absolute error: 0.22173\n",
      "epoch: 11\n"
     ]
    },
    {
     "name": "stderr",
     "output_type": "stream",
     "text": [
      "12239it [04:01, 50.78it/s]                           \n"
     ]
    },
    {
     "name": "stdout",
     "output_type": "stream",
     "text": [
      " results:\n",
      "Mean square error: 0.08812\n",
      "Mean absolute error: 0.21759\n",
      "epoch: 12\n"
     ]
    },
    {
     "name": "stderr",
     "output_type": "stream",
     "text": [
      "12239it [03:59, 51.02it/s]                           \n"
     ]
    },
    {
     "name": "stdout",
     "output_type": "stream",
     "text": [
      " results:\n",
      "Mean square error: 0.08396\n",
      "Mean absolute error: 0.21523\n",
      "epoch: 13\n"
     ]
    },
    {
     "name": "stderr",
     "output_type": "stream",
     "text": [
      "12239it [04:00, 50.79it/s]                           \n"
     ]
    },
    {
     "name": "stdout",
     "output_type": "stream",
     "text": [
      " results:\n",
      "Mean square error: 0.08628\n",
      "Mean absolute error: 0.21434\n",
      "epoch: 14\n"
     ]
    },
    {
     "name": "stderr",
     "output_type": "stream",
     "text": [
      " 96%|█████████▌| 11776/12238 [03:50<00:09, 51.08it/s]"
     ]
    }
   ],
   "source": [
    "#resnet\n",
    "\n",
    "model = SalaryPredictor_v3().to(device)\n",
    "criterion = nn.MSELoss(reduction='sum')\n",
    "optimizer = torch.optim.AdamW(model.parameters(), lr=1e-4)\n",
    "\n",
    "for epoch in range(EPOCHS):\n",
    "    print(f\"epoch: {epoch}\")\n",
    "    model.train()\n",
    "    for i, batch in tqdm(enumerate(\n",
    "            iterate_minibatches(data_train, batch_size=BATCH_SIZE, device=device)),\n",
    "            total=len(data_train) // BATCH_SIZE\n",
    "        ):\n",
    "        pred = model(batch)\n",
    "        pred.squeeze_(1)\n",
    "\n",
    "        loss = criterion(pred, batch[TARGET_COLUMN])\n",
    "        optimizer.zero_grad()\n",
    "        loss.backward()\n",
    "        optimizer.step()\n",
    "        \n",
    "    print_metrics(model, data_val, device=device)\n",
    "\n",
    "      "
   ]
  },
  {
   "cell_type": "markdown",
   "metadata": {},
   "source": [
    "### A short report\n",
    "\n",
    "Please tell us what you did and how did it work.\n",
    "\n",
    "`<YOUR_TEXT_HERE>`, i guess..."
   ]
  },
  {
   "cell_type": "markdown",
   "metadata": {},
   "source": [
    "## Recommended options\n",
    "\n",
    "#### A) CNN architecture\n",
    "\n",
    "All the tricks you know about dense and convolutional neural networks apply here as well.\n",
    "* Dropout. Nuff said.\n",
    "* Batch Norm. This time it's `nn.BatchNorm*`/`L.BatchNormalization`\n",
    "* Parallel convolution layers. The idea is that you apply several nn.Conv1d to the same embeddings and concatenate output channels.\n",
    "* More layers, more neurons, ya know...\n",
    "\n",
    "\n",
    "#### B) Play with pooling\n",
    "\n",
    "There's more than one way to perform pooling:\n",
    "* Max over time (independently for each feature)\n",
    "* Average over time (excluding PAD)\n",
    "* Softmax-pooling:\n",
    "$$ out_{i, t} = \\sum_t {h_{i,t} \\cdot {{e ^ {h_{i, t}}} \\over \\sum_\\tau e ^ {h_{j, \\tau}} } }$$\n",
    "\n",
    "* Attentive pooling\n",
    "$$ out_{i, t} = \\sum_t {h_{i,t} \\cdot Attn(h_t)}$$\n",
    "\n",
    ", where $$ Attn(h_t) = {{e ^ {NN_{attn}(h_t)}} \\over \\sum_\\tau e ^ {NN_{attn}(h_\\tau)}}  $$\n",
    "and $NN_{attn}$ is a dense layer.\n",
    "\n",
    "The optimal score is usually achieved by concatenating several different poolings, including several attentive pooling with different $NN_{attn}$ (aka multi-headed attention).\n",
    "\n",
    "The catch is that keras layers do not inlude those toys. You will have to [write your own keras layer](https://keras.io/layers/writing-your-own-keras-layers/). Or use pure tensorflow, it might even be easier :)\n",
    "\n",
    "#### C) Fun with words\n",
    "\n",
    "It's not always a good idea to train embeddings from scratch. Here's a few tricks:\n",
    "\n",
    "* Use a pre-trained embeddings from `gensim.downloader.load`. See last lecture.\n",
    "* Start with pre-trained embeddings, then fine-tune them with gradient descent. You may or may not download pre-trained embeddings from [here](http://nlp.stanford.edu/data/glove.6B.zip) and follow this [manual](https://keras.io/examples/nlp/pretrained_word_embeddings/) to initialize your Keras embedding layer with downloaded weights.\n",
    "* Use the same embedding matrix in title and desc vectorizer\n",
    "\n",
    "\n",
    "#### D) Going recurrent\n",
    "\n",
    "We've already learned that recurrent networks can do cool stuff in sequence modelling. Turns out, they're not useless for classification as well. With some tricks of course..\n",
    "\n",
    "* Like convolutional layers, LSTM should be pooled into a fixed-size vector with some of the poolings.\n",
    "* Since you know all the text in advance, use bidirectional RNN\n",
    "  * Run one LSTM from left to right\n",
    "  * Run another in parallel from right to left \n",
    "  * Concatenate their output sequences along unit axis (dim=-1)\n",
    "\n",
    "* It might be good idea to mix convolutions and recurrent layers differently for title and description\n",
    "\n",
    "\n",
    "#### E) Optimizing seriously\n",
    "\n",
    "* You don't necessarily need 100 epochs. Use early stopping. If you've never done this before, take a look at [early stopping callback(keras)](https://keras.io/callbacks/#earlystopping) or in [pytorch(lightning)](https://pytorch-lightning.readthedocs.io/en/latest/common/early_stopping.html).\n",
    "  * In short, train until you notice that validation\n",
    "  * Maintain the best-on-validation snapshot via `model.save(file_name)`\n",
    "  * Plotting learning curves is usually a good idea\n",
    "  \n",
    "Good luck! And may the force be with you!"
   ]
  },
  {
   "cell_type": "code",
   "execution_count": null,
   "metadata": {},
   "outputs": [],
   "source": []
  }
 ],
 "metadata": {
  "kernelspec": {
   "display_name": "DataSphere Kernel",
   "language": "python",
   "name": "python3"
  },
  "language_info": {
   "codemirror_mode": {
    "name": "ipython",
    "version": 3
   },
   "file_extension": ".py",
   "mimetype": "text/x-python",
   "name": "python",
   "nbconvert_exporter": "python",
   "pygments_lexer": "ipython3",
   "version": "3.10.12"
  }
 },
 "nbformat": 4,
 "nbformat_minor": 4
}
